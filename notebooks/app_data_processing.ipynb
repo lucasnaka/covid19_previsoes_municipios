{
 "cells": [
  {
   "cell_type": "code",
   "execution_count": null,
   "source": [
    "# OS library\r\n",
    "import sys\r\n",
    "sys.path.append('../')\r\n",
    "\r\n",
    "import glob\r\n",
    "import pandas as pd\r\n",
    "import numpy as np\r\n",
    "\r\n",
    "# Magic to reload notebook\r\n",
    "%load_ext autoreload\r\n",
    "%autoreload 2\r\n",
    "pd.options.display.max_columns = 100"
   ],
   "outputs": [],
   "metadata": {
    "ExecuteTime": {
     "end_time": "2021-11-09T01:42:52.555907Z",
     "start_time": "2021-11-09T01:42:49.859046Z"
    }
   }
  },
  {
   "cell_type": "markdown",
   "source": [
    "# Covid Saúde"
   ],
   "metadata": {}
  },
  {
   "cell_type": "markdown",
   "source": [
    "Painel de casos de doença pelo coronavírus 2019 (COVID-19) no Brasil pelo Ministério da Saúde ([website](https://covid.saude.gov.br/))"
   ],
   "metadata": {}
  },
  {
   "cell_type": "code",
   "execution_count": null,
   "source": [
    "df_covid_saude = pd.read_parquet(\"../data/processed/covid_saude.parquet\")\r\n",
    "df_acoes = pd.read_csv('../data/raw/boletim_covid/acoes.csv', sep='\\t', encoding='latin-1')\r\n",
    "df_referencias = pd.read_csv('../data/raw/boletim_covid/referencias.csv', sep='\\t', encoding='latin-1')"
   ],
   "outputs": [],
   "metadata": {
    "ExecuteTime": {
     "end_time": "2021-11-09T02:12:08.020551Z",
     "start_time": "2021-11-09T02:12:06.526557Z"
    }
   }
  },
  {
   "cell_type": "code",
   "execution_count": null,
   "source": [
    "df_acoes['texto'] = df_acoes['texto'].str.replace('\\x93', '\"')\\\r\n",
    "                                     .str.replace('\\x94', '\"')\\\r\n",
    "                                     .str.replace('\\x91', \"'\")\\\r\n",
    "                                     .str.replace('\\x92', \"'\")\\\r\n",
    "                                     .str.replace('\\x85', '...')"
   ],
   "outputs": [],
   "metadata": {
    "ExecuteTime": {
     "end_time": "2021-11-09T02:12:50.005354Z",
     "start_time": "2021-11-09T02:12:49.810255Z"
    }
   }
  },
  {
   "cell_type": "code",
   "execution_count": null,
   "source": [
    "df_covid_saude_mun = df_covid_saude.loc[df_covid_saude['municipio'].notna()]\r\n",
    "\r\n",
    "df_covid_saude_mun = df_covid_saude_mun[['regiao', 'municipio', 'data', 'obitosNovos']]\r\n",
    "\r\n",
    "df_covid_saude_mun['data'] = pd.to_datetime(df_covid_saude_mun['data'])\r\n",
    "\r\n",
    "df_acoes['data'] = pd.to_datetime(df_acoes['data'], format='%d/%m/%y')\r\n",
    "\r\n",
    "df_acoes['texto'] = df_acoes['texto'].str.wrap(30)\r\n",
    "df_acoes['texto'] = df_acoes['texto'].apply(lambda x: x.replace('\\n', '<br>'))\r\n",
    "\r\n",
    "df_covid_saude_mun = df_covid_saude_mun.merge(df_acoes, how='left', on='data')\r\n",
    "\r\n",
    "df_depara_wn_day = df_covid_saude_mun[['data']].drop_duplicates()\r\n",
    "df_depara_wn_day['weekday'] = df_depara_wn_day['data'].dt.weekday\r\n",
    "df_depara_wn_day['week_number'] = 0\r\n",
    "df_depara_wn_day.loc[df_depara_wn_day['weekday'] == 0, 'week_number'] = 1\r\n",
    "df_depara_wn_day['gropuby_col'] = 1\r\n",
    "df_depara_wn_day['week_number'] = df_depara_wn_day.groupby('gropuby_col')['week_number'].cumsum()\r\n",
    "df_covid_saude_mun = df_covid_saude_mun.merge(df_depara_wn_day[['data', 'week_number']], how='left', on=['data'])\r\n",
    "\r\n",
    "df_covid_saude_mun.sort_values(by=['municipio', 'data'], ascending=[True, True], inplace=True)\r\n",
    "df_covid_saude_reg = df_covid_saude_mun[['regiao', 'week_number', 'data']].drop_duplicates(subset=['regiao', 'week_number'],\r\n",
    "                                                                           keep='first')\r\n",
    "df_weekly_deaths = df_covid_saude_mun.groupby(['week_number'])['obitosNovos'].sum().reset_index(name='new_deaths_week')\r\n",
    "df_weekly_deaths_region = df_covid_saude_mun.groupby(['regiao', 'week_number'])['obitosNovos'].sum().reset_index(\r\n",
    "    name='new_deaths_week_region')\r\n",
    "df_covid_saude_reg = df_covid_saude_reg.merge(df_weekly_deaths_region, how='left', on=['regiao', 'week_number']) \\\r\n",
    "    .merge(df_weekly_deaths, how='left', on=['week_number'])\r\n",
    "df_covid_saude_reg['percentage_deaths'] = df_covid_saude_reg['new_deaths_week_region'] / df_covid_saude_reg['new_deaths_week']\r\n",
    "df_covid_saude_reg.fillna(0, inplace=True)"
   ],
   "outputs": [],
   "metadata": {
    "ExecuteTime": {
     "end_time": "2021-11-09T02:13:25.459143Z",
     "start_time": "2021-11-09T02:13:15.622526Z"
    }
   }
  },
  {
   "cell_type": "code",
   "execution_count": null,
   "source": [
    "df_covid_saude_mun.to_parquet('../data/app/covid_saude_obito_municipio.parquet', index=False)\r\n",
    "df_covid_saude_reg.to_parquet('../data/app/covid_saude_obito_regiao.parquet', index=False)"
   ],
   "outputs": [],
   "metadata": {
    "ExecuteTime": {
     "end_time": "2021-11-09T02:13:31.958746Z",
     "start_time": "2021-11-09T02:13:25.462585Z"
    }
   }
  },
  {
   "cell_type": "markdown",
   "source": [
    "# Vacinação (processamento da base)"
   ],
   "metadata": {}
  },
  {
   "cell_type": "code",
   "execution_count": 45,
   "source": [
    "#Pacotes utilizados\r\n",
    "import pandas as pd #formatação de bases, nome de colunas\r\n",
    "from urllib.request import urlopen #abrir o url das features de estado\r\n",
    "import json #abrir o json\r\n",
    "import numpy as np #utilizo nas funções\r\n",
    "from IPython.core.display import display, HTML #atributos do plotly\r\n",
    "from ast import literal_eval #atributo para as funções\r\n",
    "import plotly.graph_objects as go #objeto go para criar o mapa\r\n",
    "import plotly #formatação dos maps\r\n",
    "from plotly.offline import iplot, init_notebook_mode #atributos para abrir o mapa \"offline\"\r\n",
    "import plotly.offline as off #abrir o mapa \"offline\"\r\n",
    "import plotly.express as px #atributo do mapa"
   ],
   "outputs": [],
   "metadata": {}
  },
  {
   "cell_type": "code",
   "execution_count": 10,
   "source": [
    "from pathlib import Path\r\n",
    "import pandas as pd\r\n",
    "\r\n",
    "data_dir = Path(r'C:\\Users\\mscamargo\\Desktop\\estudos\\my_proj\\covid19_previsoes_municipios\\data\\raw\\vacinacao')\r\n",
    "\r\n",
    "save = []\r\n",
    "for parquet_file in data_dir.glob('*.parquet'):\r\n",
    "    print(parquet_file)\r\n",
    "    a = pd.read_parquet(parquet_file)\r\n",
    "    a.columns = ['paciente_id', 'nrmunicipio','municipio', 'uf', 'data', 'desc' ]\r\n",
    "    full_df = a.groupby(['uf',  'data'])['paciente_id'].count().reset_index()\r\n",
    "    #print(full_df)\r\n",
    "    save.append(full_df)\r\n",
    "\r\n",
    "\r\n",
    "#full_df.to_csv('csv_file.csv')"
   ],
   "outputs": [
    {
     "output_type": "stream",
     "name": "stdout",
     "text": [
      "C:\\Users\\mscamargo\\Desktop\\estudos\\my_proj\\covid19_previsoes_municipios\\data\\raw\\vacinacao\\vacinacao_AC.parquet\n",
      "C:\\Users\\mscamargo\\Desktop\\estudos\\my_proj\\covid19_previsoes_municipios\\data\\raw\\vacinacao\\vacinacao_AL.parquet\n",
      "C:\\Users\\mscamargo\\Desktop\\estudos\\my_proj\\covid19_previsoes_municipios\\data\\raw\\vacinacao\\vacinacao_AM.parquet\n",
      "C:\\Users\\mscamargo\\Desktop\\estudos\\my_proj\\covid19_previsoes_municipios\\data\\raw\\vacinacao\\vacinacao_AP.parquet\n",
      "C:\\Users\\mscamargo\\Desktop\\estudos\\my_proj\\covid19_previsoes_municipios\\data\\raw\\vacinacao\\vacinacao_BA.parquet\n",
      "C:\\Users\\mscamargo\\Desktop\\estudos\\my_proj\\covid19_previsoes_municipios\\data\\raw\\vacinacao\\vacinacao_CE.parquet\n",
      "C:\\Users\\mscamargo\\Desktop\\estudos\\my_proj\\covid19_previsoes_municipios\\data\\raw\\vacinacao\\vacinacao_DF.parquet\n",
      "C:\\Users\\mscamargo\\Desktop\\estudos\\my_proj\\covid19_previsoes_municipios\\data\\raw\\vacinacao\\vacinacao_ES.parquet\n",
      "C:\\Users\\mscamargo\\Desktop\\estudos\\my_proj\\covid19_previsoes_municipios\\data\\raw\\vacinacao\\vacinacao_GO.parquet\n",
      "C:\\Users\\mscamargo\\Desktop\\estudos\\my_proj\\covid19_previsoes_municipios\\data\\raw\\vacinacao\\vacinacao_MA.parquet\n",
      "C:\\Users\\mscamargo\\Desktop\\estudos\\my_proj\\covid19_previsoes_municipios\\data\\raw\\vacinacao\\vacinacao_MG.parquet\n",
      "C:\\Users\\mscamargo\\Desktop\\estudos\\my_proj\\covid19_previsoes_municipios\\data\\raw\\vacinacao\\vacinacao_MS.parquet\n",
      "C:\\Users\\mscamargo\\Desktop\\estudos\\my_proj\\covid19_previsoes_municipios\\data\\raw\\vacinacao\\vacinacao_MT.parquet\n",
      "C:\\Users\\mscamargo\\Desktop\\estudos\\my_proj\\covid19_previsoes_municipios\\data\\raw\\vacinacao\\vacinacao_PA.parquet\n",
      "C:\\Users\\mscamargo\\Desktop\\estudos\\my_proj\\covid19_previsoes_municipios\\data\\raw\\vacinacao\\vacinacao_PB.parquet\n",
      "C:\\Users\\mscamargo\\Desktop\\estudos\\my_proj\\covid19_previsoes_municipios\\data\\raw\\vacinacao\\vacinacao_PE.parquet\n",
      "C:\\Users\\mscamargo\\Desktop\\estudos\\my_proj\\covid19_previsoes_municipios\\data\\raw\\vacinacao\\vacinacao_PI.parquet\n",
      "C:\\Users\\mscamargo\\Desktop\\estudos\\my_proj\\covid19_previsoes_municipios\\data\\raw\\vacinacao\\vacinacao_PR.parquet\n",
      "C:\\Users\\mscamargo\\Desktop\\estudos\\my_proj\\covid19_previsoes_municipios\\data\\raw\\vacinacao\\vacinacao_RJ.parquet\n",
      "C:\\Users\\mscamargo\\Desktop\\estudos\\my_proj\\covid19_previsoes_municipios\\data\\raw\\vacinacao\\vacinacao_RN.parquet\n",
      "C:\\Users\\mscamargo\\Desktop\\estudos\\my_proj\\covid19_previsoes_municipios\\data\\raw\\vacinacao\\vacinacao_RO.parquet\n",
      "C:\\Users\\mscamargo\\Desktop\\estudos\\my_proj\\covid19_previsoes_municipios\\data\\raw\\vacinacao\\vacinacao_RR.parquet\n",
      "C:\\Users\\mscamargo\\Desktop\\estudos\\my_proj\\covid19_previsoes_municipios\\data\\raw\\vacinacao\\vacinacao_RS.parquet\n",
      "C:\\Users\\mscamargo\\Desktop\\estudos\\my_proj\\covid19_previsoes_municipios\\data\\raw\\vacinacao\\vacinacao_SC.parquet\n",
      "C:\\Users\\mscamargo\\Desktop\\estudos\\my_proj\\covid19_previsoes_municipios\\data\\raw\\vacinacao\\vacinacao_SE.parquet\n",
      "C:\\Users\\mscamargo\\Desktop\\estudos\\my_proj\\covid19_previsoes_municipios\\data\\raw\\vacinacao\\vacinacao_SP.parquet\n",
      "C:\\Users\\mscamargo\\Desktop\\estudos\\my_proj\\covid19_previsoes_municipios\\data\\raw\\vacinacao\\vacinacao_TO.parquet\n"
     ]
    }
   ],
   "metadata": {}
  },
  {
   "cell_type": "code",
   "execution_count": 12,
   "source": [
    "full_df = pd.concat(save)"
   ],
   "outputs": [],
   "metadata": {}
  },
  {
   "cell_type": "code",
   "execution_count": 13,
   "source": [
    "df = pd.read_csv('covid_cases_mun_obit.csv')\r\n",
    "df = df.groupby('estado')['populacaoTCU2019'].sum().reset_index()"
   ],
   "outputs": [],
   "metadata": {}
  },
  {
   "cell_type": "code",
   "execution_count": 14,
   "source": [
    "full_df = full_df.merge(df[['estado', 'populacaoTCU2019']], right_on = 'estado', left_on= \"uf\")"
   ],
   "outputs": [],
   "metadata": {}
  },
  {
   "cell_type": "code",
   "execution_count": 15,
   "source": [
    "geo_caract = pd.read_csv('obito_table_uf.csv')\r\n",
    "geo_caract['Latitude'] = geo_caract['latitude']\r\n",
    "geo_caract['Longitude'] = geo_caract['longitude']\r\n",
    "geo_caract = geo_caract[['uf', 'Estado',\t'Latitude',\t'Longitude']]"
   ],
   "outputs": [],
   "metadata": {}
  },
  {
   "cell_type": "code",
   "execution_count": 16,
   "source": [
    "geo_caract"
   ],
   "outputs": [
    {
     "output_type": "execute_result",
     "data": {
      "text/html": [
       "<div>\n",
       "<style scoped>\n",
       "    .dataframe tbody tr th:only-of-type {\n",
       "        vertical-align: middle;\n",
       "    }\n",
       "\n",
       "    .dataframe tbody tr th {\n",
       "        vertical-align: top;\n",
       "    }\n",
       "\n",
       "    .dataframe thead th {\n",
       "        text-align: right;\n",
       "    }\n",
       "</style>\n",
       "<table border=\"1\" class=\"dataframe\">\n",
       "  <thead>\n",
       "    <tr style=\"text-align: right;\">\n",
       "      <th></th>\n",
       "      <th>uf</th>\n",
       "      <th>Estado</th>\n",
       "      <th>Latitude</th>\n",
       "      <th>Longitude</th>\n",
       "    </tr>\n",
       "  </thead>\n",
       "  <tbody>\n",
       "    <tr>\n",
       "      <th>0</th>\n",
       "      <td>AC</td>\n",
       "      <td>Acre</td>\n",
       "      <td>-8.77</td>\n",
       "      <td>-70.55</td>\n",
       "    </tr>\n",
       "    <tr>\n",
       "      <th>1</th>\n",
       "      <td>AL</td>\n",
       "      <td>Alagoas</td>\n",
       "      <td>-9.62</td>\n",
       "      <td>-36.82</td>\n",
       "    </tr>\n",
       "    <tr>\n",
       "      <th>2</th>\n",
       "      <td>AM</td>\n",
       "      <td>Amazonas</td>\n",
       "      <td>1.41</td>\n",
       "      <td>-51.77</td>\n",
       "    </tr>\n",
       "    <tr>\n",
       "      <th>3</th>\n",
       "      <td>AP</td>\n",
       "      <td>Amapá</td>\n",
       "      <td>-3.47</td>\n",
       "      <td>-65.10</td>\n",
       "    </tr>\n",
       "    <tr>\n",
       "      <th>4</th>\n",
       "      <td>BA</td>\n",
       "      <td>Bahia</td>\n",
       "      <td>-13.29</td>\n",
       "      <td>-41.71</td>\n",
       "    </tr>\n",
       "    <tr>\n",
       "      <th>5</th>\n",
       "      <td>CE</td>\n",
       "      <td>Ceará</td>\n",
       "      <td>-5.20</td>\n",
       "      <td>-39.53</td>\n",
       "    </tr>\n",
       "    <tr>\n",
       "      <th>6</th>\n",
       "      <td>DF</td>\n",
       "      <td>Distrito Federal</td>\n",
       "      <td>-15.83</td>\n",
       "      <td>-47.86</td>\n",
       "    </tr>\n",
       "    <tr>\n",
       "      <th>7</th>\n",
       "      <td>ES</td>\n",
       "      <td>Espírito Santo</td>\n",
       "      <td>-19.19</td>\n",
       "      <td>-40.34</td>\n",
       "    </tr>\n",
       "    <tr>\n",
       "      <th>8</th>\n",
       "      <td>GO</td>\n",
       "      <td>Goiás</td>\n",
       "      <td>-15.98</td>\n",
       "      <td>-49.86</td>\n",
       "    </tr>\n",
       "    <tr>\n",
       "      <th>9</th>\n",
       "      <td>MA</td>\n",
       "      <td>Maranhão</td>\n",
       "      <td>-5.42</td>\n",
       "      <td>-45.44</td>\n",
       "    </tr>\n",
       "    <tr>\n",
       "      <th>10</th>\n",
       "      <td>MG</td>\n",
       "      <td>Minas Gerais</td>\n",
       "      <td>-18.10</td>\n",
       "      <td>-44.38</td>\n",
       "    </tr>\n",
       "    <tr>\n",
       "      <th>11</th>\n",
       "      <td>MS</td>\n",
       "      <td>Mato Grosso do Sul</td>\n",
       "      <td>-20.51</td>\n",
       "      <td>-54.54</td>\n",
       "    </tr>\n",
       "    <tr>\n",
       "      <th>12</th>\n",
       "      <td>MT</td>\n",
       "      <td>Mato Grosso</td>\n",
       "      <td>-12.64</td>\n",
       "      <td>-55.42</td>\n",
       "    </tr>\n",
       "    <tr>\n",
       "      <th>13</th>\n",
       "      <td>PA</td>\n",
       "      <td>Pará</td>\n",
       "      <td>-3.79</td>\n",
       "      <td>-52.48</td>\n",
       "    </tr>\n",
       "    <tr>\n",
       "      <th>14</th>\n",
       "      <td>PB</td>\n",
       "      <td>Paraíba</td>\n",
       "      <td>-7.28</td>\n",
       "      <td>-36.72</td>\n",
       "    </tr>\n",
       "    <tr>\n",
       "      <th>15</th>\n",
       "      <td>PE</td>\n",
       "      <td>Pernambuco</td>\n",
       "      <td>-8.38</td>\n",
       "      <td>-37.86</td>\n",
       "    </tr>\n",
       "    <tr>\n",
       "      <th>16</th>\n",
       "      <td>PI</td>\n",
       "      <td>Piauí</td>\n",
       "      <td>-6.60</td>\n",
       "      <td>-42.28</td>\n",
       "    </tr>\n",
       "    <tr>\n",
       "      <th>17</th>\n",
       "      <td>PR</td>\n",
       "      <td>Paraná</td>\n",
       "      <td>-24.89</td>\n",
       "      <td>-51.55</td>\n",
       "    </tr>\n",
       "    <tr>\n",
       "      <th>18</th>\n",
       "      <td>RJ</td>\n",
       "      <td>Rio de Janeiro</td>\n",
       "      <td>-10.83</td>\n",
       "      <td>-63.34</td>\n",
       "    </tr>\n",
       "    <tr>\n",
       "      <th>19</th>\n",
       "      <td>RN</td>\n",
       "      <td>Rio Grande do Norte</td>\n",
       "      <td>-30.17</td>\n",
       "      <td>-53.50</td>\n",
       "    </tr>\n",
       "    <tr>\n",
       "      <th>20</th>\n",
       "      <td>RO</td>\n",
       "      <td>Rondônia</td>\n",
       "      <td>-5.81</td>\n",
       "      <td>-36.59</td>\n",
       "    </tr>\n",
       "    <tr>\n",
       "      <th>21</th>\n",
       "      <td>RR</td>\n",
       "      <td>Roraima</td>\n",
       "      <td>-22.25</td>\n",
       "      <td>-42.66</td>\n",
       "    </tr>\n",
       "    <tr>\n",
       "      <th>22</th>\n",
       "      <td>RS</td>\n",
       "      <td>Rio Grande do Sul</td>\n",
       "      <td>1.99</td>\n",
       "      <td>-61.33</td>\n",
       "    </tr>\n",
       "    <tr>\n",
       "      <th>23</th>\n",
       "      <td>SC</td>\n",
       "      <td>Santa Catarina</td>\n",
       "      <td>-27.45</td>\n",
       "      <td>-50.95</td>\n",
       "    </tr>\n",
       "    <tr>\n",
       "      <th>24</th>\n",
       "      <td>SE</td>\n",
       "      <td>Sergipe</td>\n",
       "      <td>-22.19</td>\n",
       "      <td>-48.79</td>\n",
       "    </tr>\n",
       "    <tr>\n",
       "      <th>25</th>\n",
       "      <td>SP</td>\n",
       "      <td>São Paulo</td>\n",
       "      <td>-10.57</td>\n",
       "      <td>-37.45</td>\n",
       "    </tr>\n",
       "    <tr>\n",
       "      <th>26</th>\n",
       "      <td>TO</td>\n",
       "      <td>Tocantins</td>\n",
       "      <td>-9.46</td>\n",
       "      <td>-48.26</td>\n",
       "    </tr>\n",
       "  </tbody>\n",
       "</table>\n",
       "</div>"
      ],
      "text/plain": [
       "    uf               Estado  Latitude  Longitude\n",
       "0   AC                 Acre     -8.77     -70.55\n",
       "1   AL              Alagoas     -9.62     -36.82\n",
       "2   AM             Amazonas      1.41     -51.77\n",
       "3   AP                Amapá     -3.47     -65.10\n",
       "4   BA                Bahia    -13.29     -41.71\n",
       "5   CE                Ceará     -5.20     -39.53\n",
       "6   DF     Distrito Federal    -15.83     -47.86\n",
       "7   ES       Espírito Santo    -19.19     -40.34\n",
       "8   GO                Goiás    -15.98     -49.86\n",
       "9   MA             Maranhão     -5.42     -45.44\n",
       "10  MG         Minas Gerais    -18.10     -44.38\n",
       "11  MS   Mato Grosso do Sul    -20.51     -54.54\n",
       "12  MT          Mato Grosso    -12.64     -55.42\n",
       "13  PA                 Pará     -3.79     -52.48\n",
       "14  PB              Paraíba     -7.28     -36.72\n",
       "15  PE           Pernambuco     -8.38     -37.86\n",
       "16  PI                Piauí     -6.60     -42.28\n",
       "17  PR               Paraná    -24.89     -51.55\n",
       "18  RJ       Rio de Janeiro    -10.83     -63.34\n",
       "19  RN  Rio Grande do Norte    -30.17     -53.50\n",
       "20  RO             Rondônia     -5.81     -36.59\n",
       "21  RR              Roraima    -22.25     -42.66\n",
       "22  RS    Rio Grande do Sul      1.99     -61.33\n",
       "23  SC       Santa Catarina    -27.45     -50.95\n",
       "24  SE              Sergipe    -22.19     -48.79\n",
       "25  SP            São Paulo    -10.57     -37.45\n",
       "26  TO            Tocantins     -9.46     -48.26"
      ]
     },
     "metadata": {},
     "execution_count": 16
    }
   ],
   "metadata": {}
  },
  {
   "cell_type": "code",
   "execution_count": 17,
   "source": [
    "df = full_df.merge(geo_caract, on = 'uf')"
   ],
   "outputs": [],
   "metadata": {}
  },
  {
   "cell_type": "code",
   "execution_count": 20,
   "source": [
    "df['ind'] = df['paciente_id']/df['populacaoTCU2019']"
   ],
   "outputs": [],
   "metadata": {}
  },
  {
   "cell_type": "code",
   "execution_count": null,
   "source": [],
   "outputs": [],
   "metadata": {}
  },
  {
   "cell_type": "code",
   "execution_count": 21,
   "source": [
    "df.to_parquet('C:/Users/mscamargo/Desktop/estudos/my_proj/covid19_previsoes_municipios/data/app/opendatasus_vacinacao.parquet', index=False)"
   ],
   "outputs": [],
   "metadata": {}
  }
 ],
 "metadata": {
  "kernelspec": {
   "name": "python3",
   "display_name": "Python 3.8.5 64-bit ('base': conda)"
  },
  "language_info": {
   "name": "python",
   "version": "3.8.5",
   "mimetype": "text/x-python",
   "codemirror_mode": {
    "name": "ipython",
    "version": 3
   },
   "pygments_lexer": "ipython3",
   "nbconvert_exporter": "python",
   "file_extension": ".py"
  },
  "toc": {
   "nav_menu": {},
   "number_sections": true,
   "sideBar": true,
   "skip_h1_title": false,
   "title_cell": "Table of Contents",
   "title_sidebar": "Contents",
   "toc_cell": false,
   "toc_position": {},
   "toc_section_display": true,
   "toc_window_display": false
  },
  "interpreter": {
   "hash": "934020936730698c014638e4b75149792c7a6427548645ef43bc066d5a0a6a34"
  }
 },
 "nbformat": 4,
 "nbformat_minor": 5
}