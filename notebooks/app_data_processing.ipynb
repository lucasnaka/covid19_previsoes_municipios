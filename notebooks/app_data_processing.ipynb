{
 "cells": [
  {
   "cell_type": "code",
   "execution_count": null,
   "id": "28a85109",
   "metadata": {
    "ExecuteTime": {
     "end_time": "2021-11-05T14:39:46.057336Z",
     "start_time": "2021-11-05T14:39:45.421001Z"
    }
   },
   "outputs": [],
   "source": [
    "# OS library\n",
    "import sys\n",
    "sys.path.append('../')\n",
    "\n",
    "import glob\n",
    "import pandas as pd\n",
    "import numpy as np\n",
    "\n",
    "# Magic to reload notebook\n",
    "%load_ext autoreload\n",
    "%autoreload 2\n",
    "pd.options.display.max_columns = 100"
   ]
  },
  {
   "cell_type": "markdown",
   "id": "a69867f2",
   "metadata": {},
   "source": [
    "# Covid Saúde"
   ]
  },
  {
   "cell_type": "markdown",
   "id": "7d0184ab",
   "metadata": {},
   "source": [
    "Painel de casos de doença pelo coronavírus 2019 (COVID-19) no Brasil pelo Ministério da Saúde ([website](https://covid.saude.gov.br/))"
   ]
  },
  {
   "cell_type": "code",
   "execution_count": null,
   "id": "733cf6a8",
   "metadata": {
    "ExecuteTime": {
     "end_time": "2021-11-05T14:41:50.337785Z",
     "start_time": "2021-11-05T14:41:49.503695Z"
    }
   },
   "outputs": [],
   "source": [
    "df_covid_saude = pd.read_parquet(\"../data/processed/covid_saude.parquet\")\n",
    "df_boletim_direitos = pd.read_csv('../data/raw/boletim_covid/boletim_direitos_covid.csv', encoding='latin-1')"
   ]
  },
  {
   "cell_type": "code",
   "execution_count": null,
   "id": "3094b389",
   "metadata": {
    "ExecuteTime": {
     "end_time": "2021-11-05T14:41:55.246693Z",
     "start_time": "2021-11-05T14:41:50.339779Z"
    }
   },
   "outputs": [],
   "source": [
    "df_covid_saude_mun = df_covid_saude.loc[df_covid_saude['municipio'].notna()]\n",
    "\n",
    "df_covid_saude_mun = df_covid_saude_mun[['regiao', 'municipio', 'data', 'obitosNovos']]\n",
    "\n",
    "df_covid_saude_mun['data'] = pd.to_datetime(df_covid_saude_mun['data'])\n",
    "\n",
    "df_boletim_direitos['data'] = pd.to_datetime(df_boletim_direitos['data'], format='%d/%m/%Y')\n",
    "\n",
    "df_boletim_direitos['event'] = df_boletim_direitos['event'].str.wrap(30)\n",
    "df_boletim_direitos['event'] = df_boletim_direitos['event'].apply(lambda x: x.replace('\\n', '<br>'))\n",
    "\n",
    "df_covid_saude_mun = df_covid_saude_mun.merge(df_boletim_direitos, how='left', on='data')\n",
    "\n",
    "df_depara_wn_day = df_covid_saude_mun[['data']].drop_duplicates()\n",
    "df_depara_wn_day['weekday'] = df_depara_wn_day['data'].dt.weekday\n",
    "df_depara_wn_day['week_number'] = 0\n",
    "df_depara_wn_day.loc[df_depara_wn_day['weekday'] == 0, 'week_number'] = 1\n",
    "df_depara_wn_day['gropuby_col'] = 1\n",
    "df_depara_wn_day['week_number'] = df_depara_wn_day.groupby('gropuby_col')['week_number'].cumsum()\n",
    "df_covid_saude_mun = df_covid_saude_mun.merge(df_depara_wn_day[['data', 'week_number']], how='left', on=['data'])\n",
    "\n",
    "df_covid_saude_mun.sort_values(by=['municipio', 'data'], ascending=[True, True], inplace=True)\n",
    "df_covid_saude_reg = df_covid_saude_mun[['regiao', 'week_number', 'data']].drop_duplicates(subset=['regiao', 'week_number'],\n",
    "                                                                           keep='first')\n",
    "df_weekly_deaths = df_covid_saude_mun.groupby(['week_number'])['obitosNovos'].sum().reset_index(name='new_deaths_week')\n",
    "df_weekly_deaths_region = df_covid_saude_mun.groupby(['regiao', 'week_number'])['obitosNovos'].sum().reset_index(\n",
    "    name='new_deaths_week_region')\n",
    "df_covid_saude_reg = df_covid_saude_reg.merge(df_weekly_deaths_region, how='left', on=['regiao', 'week_number']) \\\n",
    "    .merge(df_weekly_deaths, how='left', on=['week_number'])\n",
    "df_covid_saude_reg['percentage_deaths'] = df_covid_saude_reg['new_deaths_week_region'] / df_covid_saude_reg['new_deaths_week']\n",
    "df_covid_saude_reg.fillna(0, inplace=True)"
   ]
  },
  {
   "cell_type": "code",
   "execution_count": null,
   "id": "565161a3",
   "metadata": {
    "ExecuteTime": {
     "end_time": "2021-11-05T14:42:00.549815Z",
     "start_time": "2021-11-05T14:41:58.507272Z"
    }
   },
   "outputs": [],
   "source": [
    "df_covid_saude_mun.to_parquet('../data/app/covid_saude_obito_municipio.parquet', index=False)\n",
    "df_covid_saude_reg.to_parquet('../data/app/covid_saude_obito_regiao.parquet', index=False)"
   ]
  }
 ],
 "metadata": {
  "kernelspec": {
   "display_name": "Python 3 (ipykernel)",
   "language": "python",
   "name": "python3"
  },
  "language_info": {
   "codemirror_mode": {
    "name": "ipython",
    "version": 3
   },
   "file_extension": ".py",
   "mimetype": "text/x-python",
   "name": "python",
   "nbconvert_exporter": "python",
   "pygments_lexer": "ipython3",
   "version": "3.8.11"
  },
  "toc": {
   "nav_menu": {},
   "number_sections": true,
   "sideBar": true,
   "skip_h1_title": false,
   "title_cell": "Table of Contents",
   "title_sidebar": "Contents",
   "toc_cell": false,
   "toc_position": {},
   "toc_section_display": true,
   "toc_window_display": false
  }
 },
 "nbformat": 4,
 "nbformat_minor": 5
}
