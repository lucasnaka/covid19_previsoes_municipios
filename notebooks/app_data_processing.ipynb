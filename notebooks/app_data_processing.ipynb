{
 "cells": [
  {
   "cell_type": "code",
   "execution_count": null,
   "id": "28a85109",
   "metadata": {
    "ExecuteTime": {
     "end_time": "2021-10-06T23:06:54.514617Z",
     "start_time": "2021-10-06T23:06:53.470333Z"
    }
   },
   "outputs": [],
   "source": [
    "# OS library\n",
    "import sys\n",
    "sys.path.append('../')\n",
    "\n",
    "import glob\n",
    "import pandas as pd\n",
    "import numpy as np\n",
    "\n",
    "# Magic to reload notebook\n",
    "%load_ext autoreload\n",
    "%autoreload 2\n",
    "pd.options.display.max_columns = 100"
   ]
  },
  {
   "cell_type": "markdown",
   "id": "a69867f2",
   "metadata": {},
   "source": [
    "# Covid Saúde"
   ]
  },
  {
   "cell_type": "markdown",
   "id": "7d0184ab",
   "metadata": {},
   "source": [
    "Painel de casos de doença pelo coronavírus 2019 (COVID-19) no Brasil pelo Ministério da Saúde ([website](https://covid.saude.gov.br/))"
   ]
  },
  {
   "cell_type": "code",
   "execution_count": null,
   "id": "733cf6a8",
   "metadata": {
    "ExecuteTime": {
     "end_time": "2021-10-06T23:06:56.442022Z",
     "start_time": "2021-10-06T23:06:55.755832Z"
    }
   },
   "outputs": [],
   "source": [
    "# Do site exportam-se alguns arquivos .csv contendo as informações sobre o covid-19. É preciso concatená-los em 1 só dataframe\n",
    "files = glob.glob(\"../data/raw/covid_saude/*.csv\")\n",
    "dfs = [pd.read_csv(f, sep=';') for f in files]\n",
    "\n",
    "df_covid_saude = pd.concat(dfs)"
   ]
  },
  {
   "cell_type": "code",
   "execution_count": null,
   "id": "31b50ab5",
   "metadata": {
    "ExecuteTime": {
     "end_time": "2021-09-12T17:48:38.952685Z",
     "start_time": "2021-09-12T17:48:38.519839Z"
    }
   },
   "outputs": [],
   "source": [
    "df_covid_saude_mun = df_covid_saude.loc[df_covid_saude['municipio'].notna()]"
   ]
  },
  {
   "cell_type": "code",
   "execution_count": null,
   "id": "565161a3",
   "metadata": {
    "ExecuteTime": {
     "end_time": "2021-09-12T17:48:53.097243Z",
     "start_time": "2021-09-12T17:48:51.575804Z"
    }
   },
   "outputs": [],
   "source": [
    "df_covid_saude_mun = df_covid_saude_mun[['municipio', 'data', 'obitosNovos']]\n",
    "df_covid_saude_mun.to_parquet('../data/app/covid_saude_obito_municipio.parquet', index=False)"
   ]
  },
  {
   "cell_type": "markdown",
   "id": "20ecceac",
   "metadata": {},
   "source": [
    "# Vacinação"
   ]
  },
  {
   "cell_type": "code",
   "execution_count": null,
   "id": "edeae0dd",
   "metadata": {
    "ExecuteTime": {
     "end_time": "2021-09-06T12:56:01.391814Z",
     "start_time": "2021-09-06T12:55:53.830463Z"
    }
   },
   "outputs": [],
   "source": [
    "df_caso = pd.read_csv('../data/raw/brasil_io/caso.csv')"
   ]
  },
  {
   "cell_type": "code",
   "execution_count": null,
   "id": "0792e3a7",
   "metadata": {
    "ExecuteTime": {
     "end_time": "2021-09-06T12:56:01.485465Z",
     "start_time": "2021-09-06T12:56:01.398676Z"
    },
    "scrolled": true
   },
   "outputs": [],
   "source": [
    "df_caso"
   ]
  },
  {
   "cell_type": "code",
   "execution_count": null,
   "id": "48761222",
   "metadata": {
    "ExecuteTime": {
     "end_time": "2021-09-06T12:56:50.503726Z",
     "start_time": "2021-09-06T12:56:36.995363Z"
    }
   },
   "outputs": [],
   "source": [
    "df_caso_full = pd.read_csv('../data/raw/brasil_io/caso_full.csv')"
   ]
  },
  {
   "cell_type": "code",
   "execution_count": null,
   "id": "cbe6f13a",
   "metadata": {
    "ExecuteTime": {
     "end_time": "2021-09-06T12:56:50.672275Z",
     "start_time": "2021-09-06T12:56:50.509709Z"
    }
   },
   "outputs": [],
   "source": [
    "df_caso_full"
   ]
  },
  {
   "cell_type": "code",
   "execution_count": null,
   "id": "a6cacf52",
   "metadata": {
    "ExecuteTime": {
     "end_time": "2021-09-06T13:02:39.165477Z",
     "start_time": "2021-09-06T13:02:25.881812Z"
    }
   },
   "outputs": [],
   "source": [
    "df_vacinacao = pd.read_csv('../data/raw/part-00000-9bf0f6da-b13b-4025-9160-2dd9b163f3f3.c000.csv', sep=';')"
   ]
  },
  {
   "cell_type": "code",
   "execution_count": null,
   "id": "bf843c0b",
   "metadata": {
    "ExecuteTime": {
     "end_time": "2021-09-06T13:06:24.872509Z",
     "start_time": "2021-09-06T13:06:24.708943Z"
    }
   },
   "outputs": [],
   "source": [
    "df_vacinacao.columns"
   ]
  },
  {
   "cell_type": "code",
   "execution_count": null,
   "id": "a09252fb",
   "metadata": {
    "ExecuteTime": {
     "end_time": "2021-09-06T13:08:27.120675Z",
     "start_time": "2021-09-06T13:08:26.942154Z"
    }
   },
   "outputs": [],
   "source": [
    "df_vacinacao"
   ]
  },
  {
   "cell_type": "code",
   "execution_count": null,
   "id": "321bc52b",
   "metadata": {
    "ExecuteTime": {
     "end_time": "2021-09-06T13:12:15.007492Z",
     "start_time": "2021-09-06T13:12:12.336579Z"
    }
   },
   "outputs": [],
   "source": [
    "df_vacinacao[['paciente_datanascimento','paciente_endereco_coibgemunicipio', 'estabelecimento_municipio_codigo', 'vacina_fabricante_nome', 'vacina_dataaplicacao', 'vacina_descricao_dose', 'vacina_nome']].to_parquet('../data/raw/vacinacao_acre.parquet', index=False)"
   ]
  }
 ],
 "metadata": {
  "kernelspec": {
   "display_name": "Python 3 (ipykernel)",
   "language": "python",
   "name": "python3"
  },
  "language_info": {
   "codemirror_mode": {
    "name": "ipython",
    "version": 3
   },
   "file_extension": ".py",
   "mimetype": "text/x-python",
   "name": "python",
   "nbconvert_exporter": "python",
   "pygments_lexer": "ipython3",
   "version": "3.8.11"
  },
  "toc": {
   "nav_menu": {},
   "number_sections": true,
   "sideBar": true,
   "skip_h1_title": false,
   "title_cell": "Table of Contents",
   "title_sidebar": "Contents",
   "toc_cell": false,
   "toc_position": {},
   "toc_section_display": true,
   "toc_window_display": false
  }
 },
 "nbformat": 4,
 "nbformat_minor": 5
}
