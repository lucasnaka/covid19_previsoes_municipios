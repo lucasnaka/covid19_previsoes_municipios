{
 "cells": [
  {
   "cell_type": "code",
   "execution_count": 2,
   "metadata": {
    "ExecuteTime": {
     "end_time": "2021-12-05T18:17:37.484286Z",
     "start_time": "2021-12-05T18:17:36.960254Z"
    }
   },
   "outputs": [],
   "source": [
    "# OS library\n",
    "import sys\n",
    "sys.path.append('../')\n",
    "\n",
    "import glob\n",
    "import pandas as pd\n",
    "import numpy as np\n",
    "\n",
    "from urllib.request import urlopen\n",
    "import json\n",
    "\n",
    "# Magic to reload notebook\n",
    "%load_ext autoreload\n",
    "%autoreload 2\n",
    "pd.options.display.max_columns = 100"
   ]
  },
  {
   "cell_type": "markdown",
   "metadata": {},
   "source": [
    "# Covid Saúde"
   ]
  },
  {
   "cell_type": "markdown",
   "metadata": {},
   "source": [
    "Painel de casos de doença pelo coronavírus 2019 (COVID-19) no Brasil pelo Ministério da Saúde ([website](https://covid.saude.gov.br/))"
   ]
  },
  {
   "cell_type": "code",
   "execution_count": null,
   "metadata": {
    "ExecuteTime": {
     "end_time": "2021-12-03T11:39:51.594678Z",
     "start_time": "2021-12-03T11:39:43.795336Z"
    }
   },
   "outputs": [],
   "source": [
    "df_brasil = pd.read_csv('../data/app/results/df_brasil.csv')\n",
    "df_regional = pd.read_csv('../data/app/results/df_regional.csv')\n",
    "df_uf = pd.read_csv('../data/app/results/df_uf.csv')\n",
    "df_regional_saude = pd.read_csv('../data/app/results/df_regional_saude.csv')\n",
    "df_mun = pd.read_csv('../data/app/results/df_mun.csv')"
   ]
  },
  {
   "cell_type": "code",
   "execution_count": null,
   "metadata": {
    "ExecuteTime": {
     "end_time": "2021-12-03T11:39:52.280848Z",
     "start_time": "2021-12-03T11:39:51.600664Z"
    }
   },
   "outputs": [],
   "source": [
    "df_covid_saude = pd.concat([df_brasil, df_regional, df_uf, df_regional_saude, df_mun])\n",
    "del df_covid_saude['index']"
   ]
  },
  {
   "cell_type": "code",
   "execution_count": null,
   "metadata": {
    "ExecuteTime": {
     "end_time": "2021-12-03T11:39:59.923402Z",
     "start_time": "2021-12-03T11:39:59.780005Z"
    }
   },
   "outputs": [],
   "source": [
    "df_covid_saude.loc[df_covid_saude['obitosNovos']<0, 'obitosNovos'] = 0\n",
    "df_covid_saude.loc[df_covid_saude['obitosAcumulado']<0, 'obitosAcumulado'] = 0"
   ]
  },
  {
   "cell_type": "code",
   "execution_count": null,
   "metadata": {
    "ExecuteTime": {
     "end_time": "2021-12-02T23:11:21.164688Z",
     "start_time": "2021-12-02T23:11:20.218185Z"
    },
    "run_control": {
     "marked": false
    }
   },
   "outputs": [],
   "source": [
    "# df_covid_saude = pd.read_parquet(\"../data/processed/covid_saude.parquet\")\n",
    "df_acoes = pd.read_csv('../data/raw/boletim_covid/acoes.csv', sep='\\t', encoding='latin-1')\n",
    "df_referencias = pd.read_csv('../data/raw/boletim_covid/referencias.csv', sep='\\t', encoding='latin-1')\n",
    "df_death_predictions = pd.read_csv('../data/app/prediction_two_models.csv', encoding=\"ISO-8859-1\")\n",
    "df_predictions_waves = pd.read_csv('../data/app/ajusteSPondas.csv', encoding='latin-1')"
   ]
  },
  {
   "cell_type": "code",
   "execution_count": null,
   "metadata": {
    "ExecuteTime": {
     "end_time": "2021-12-03T11:40:38.148444Z",
     "start_time": "2021-12-03T11:40:37.936009Z"
    }
   },
   "outputs": [],
   "source": [
    "# df_covid_saude = pd.read_parquet(\"../data/processed/covid_saude.parquet\")\n",
    "df_acoes = pd.read_csv('../data/raw/boletim_covid/acoes.csv', sep='\\t', encoding='latin-1')\n",
    "df_referencias = pd.read_csv('../data/raw/boletim_covid/referencias.csv', sep='\\t', encoding='latin-1')\n",
    "df_death_predictions = pd.read_csv('../data/app/prediction_two_models.csv', encoding=\"ISO-8859-1\")"
   ]
  },
  {
   "cell_type": "code",
   "execution_count": null,
   "metadata": {
    "ExecuteTime": {
     "end_time": "2021-12-03T11:43:25.058393Z",
     "start_time": "2021-12-03T11:43:14.414758Z"
    }
   },
   "outputs": [],
   "source": [
    "df_death_predictions['data'] = pd.to_datetime(df_death_predictions['data'])\n",
    "\n",
    "df_covid_saude_mun = df_covid_saude.loc[df_covid_saude['municipio'].notna()]\n",
    "\n",
    "df_covid_saude_mun = df_covid_saude_mun[[\n",
    "    'regiao', 'estado', 'municipio', 'codmun', 'nomeRegiaoSaude',\n",
    "    'codRegiaoSaude', 'data', 'obitosNovos', 'obitosAcumulado'\n",
    "]]\n",
    "\n",
    "df_covid_saude_mun['data'] = pd.to_datetime(df_covid_saude_mun['data'])\n",
    "\n",
    "df_depara_wn_day = pd.concat([df_covid_saude_mun[['data']].drop_duplicates(), df_death_predictions[['data']].drop_duplicates()])\n",
    "df_covid_saude_mun['data'] = pd.to_datetime(df_covid_saude_mun['data'])\n",
    "df_depara_wn_day['weekday'] = df_depara_wn_day['data'].dt.weekday\n",
    "df_depara_wn_day['week_number'] = 0\n",
    "df_depara_wn_day.loc[df_depara_wn_day['weekday'] == 0, 'week_number'] = 1\n",
    "df_depara_wn_day['groupby_col'] = 1\n",
    "df_depara_wn_day['week_number'] = df_depara_wn_day.groupby(\n",
    "    'groupby_col')['week_number'].cumsum()\n",
    "df_depara_wn_day['week_number_day'] = df_depara_wn_day['week_number'] + df_depara_wn_day['weekday']/7 # used to plot\n",
    "df_death_predictions = df_death_predictions.merge(df_depara_wn_day[['data', 'week_number_day']], how='left', on='data')\n",
    "\n",
    "df_covid_saude_mun = df_covid_saude_mun.merge(\n",
    "    df_depara_wn_day[['data', 'week_number']], how='left', on=['data'])\n",
    "\n",
    "df_covid_saude_mun.sort_values(by=['municipio', 'data'],\n",
    "                               ascending=[True, True],\n",
    "                               inplace=True)\n",
    "df_covid_saude_br = df_covid_saude_mun[['week_number',\n",
    "                                        'data']].drop_duplicates(\n",
    "                                            subset=['week_number'],\n",
    "                                            keep='first')\n",
    "df_covid_saude_reg = df_covid_saude_mun[['regiao', 'week_number',\n",
    "                                         'data']].drop_duplicates(\n",
    "                                             subset=['regiao', 'week_number'],\n",
    "                                             keep='first')\n",
    "df_covid_saude_state = df_covid_saude_mun[[\n",
    "    'regiao', 'estado', 'week_number', 'data'\n",
    "]].drop_duplicates(subset=['estado', 'week_number'], keep='first')\n",
    "df_covid_saude_regsau = df_covid_saude_mun[[\n",
    "    'estado', 'nomeRegiaoSaude', 'codRegiaoSaude', 'week_number', 'data'\n",
    "]].drop_duplicates(subset=['nomeRegiaoSaude', 'codRegiaoSaude', 'week_number'],\n",
    "                   keep='first')\n",
    "df_covid_saude_city = df_covid_saude_mun[[\n",
    "    'nomeRegiaoSaude', 'municipio', 'codmun', 'week_number', 'data'\n",
    "]].drop_duplicates(subset=['municipio', 'codmun', 'week_number'], keep='first')\n",
    "\n",
    "df_weekly_deaths_level_up_br = df_covid_saude_mun.groupby(\n",
    "    ['week_number'])['obitosNovos'].sum().reset_index(name='new_deaths_week')\n",
    "df_weekly_deaths_level_up_reg = df_covid_saude_mun.groupby(\n",
    "    ['week_number'])['obitosNovos'].sum().reset_index(name='new_deaths_week')\n",
    "df_weekly_deaths_level_up_state = df_covid_saude_mun.groupby(\n",
    "    ['regiao', 'week_number'])['obitosNovos'].sum().reset_index(name='new_deaths_week')\n",
    "df_weekly_deaths_level_up_regsau = df_covid_saude_mun.groupby(\n",
    "    ['estado', 'week_number'])['obitosNovos'].sum().reset_index(name='new_deaths_week')\n",
    "df_weekly_deaths_level_up_city = df_covid_saude_mun.groupby(\n",
    "    ['nomeRegiaoSaude', 'week_number'])['obitosNovos'].sum().reset_index(name='new_deaths_week')\n",
    "\n",
    "df_weekly_deaths_br = df_covid_saude_mun.groupby([\n",
    "    'week_number'\n",
    "])['obitosNovos'].sum().reset_index(name='new_deaths_week_division')\n",
    "df_weekly_deaths_region = df_covid_saude_mun.groupby([\n",
    "    'regiao', 'week_number'\n",
    "])['obitosNovos'].sum().reset_index(name='new_deaths_week_division')\n",
    "df_weekly_deaths_state = df_covid_saude_mun.groupby([\n",
    "    'regiao', 'estado', 'week_number'\n",
    "])['obitosNovos'].sum().reset_index(name='new_deaths_week_division')\n",
    "df_weekly_deaths_regsau = df_covid_saude_mun.groupby([\n",
    "    'estado', 'nomeRegiaoSaude', 'codRegiaoSaude', 'week_number'\n",
    "])['obitosNovos'].sum().reset_index(name='new_deaths_week_division')\n",
    "df_weekly_deaths_city = df_covid_saude_mun.groupby([\n",
    "    'nomeRegiaoSaude', 'municipio', 'codmun', 'week_number'\n",
    "])['obitosNovos'].sum().reset_index(name='new_deaths_week_division')"
   ]
  },
  {
   "cell_type": "code",
   "execution_count": null,
   "metadata": {
    "ExecuteTime": {
     "end_time": "2021-12-03T11:40:56.042210Z",
     "start_time": "2021-12-03T11:40:52.826799Z"
    }
   },
   "outputs": [],
   "source": [
    "df_covid_saude_br = df_covid_saude_br.merge(df_weekly_deaths_br, how='left', on=['week_number']) \\\n",
    "    .merge(df_weekly_deaths_level_up_br, how='left', on=['week_number'])\n",
    "df_covid_saude_reg = df_covid_saude_reg.merge(df_weekly_deaths_region, how='left', on=['regiao', 'week_number']) \\\n",
    "    .merge(df_weekly_deaths_level_up_reg, how='left', on=['week_number'])\n",
    "df_covid_saude_state = df_covid_saude_state.merge(df_weekly_deaths_state, how='left', on=['regiao', 'estado', 'week_number']) \\\n",
    "    .merge(df_weekly_deaths_level_up_state, how='left', on=['regiao', 'week_number'])\n",
    "df_covid_saude_regsau = df_covid_saude_regsau.merge(df_weekly_deaths_regsau, how='left', on=['estado', 'nomeRegiaoSaude', 'codRegiaoSaude', 'week_number']) \\\n",
    "    .merge(df_weekly_deaths_level_up_regsau, how='left', on=['estado', 'week_number'])\n",
    "df_covid_saude_city = df_covid_saude_city.merge(df_weekly_deaths_city, how='left', on=['nomeRegiaoSaude', 'municipio', 'codmun', 'week_number']) \\\n",
    "    .merge(df_weekly_deaths_level_up_city, how='left', on=['nomeRegiaoSaude', 'week_number'])\n",
    "\n",
    "df_covid_saude_br['percentage_deaths'] = df_covid_saude_br[\n",
    "    'new_deaths_week_division'] / df_covid_saude_br['new_deaths_week']\n",
    "df_covid_saude_reg['percentage_deaths'] = df_covid_saude_reg[\n",
    "    'new_deaths_week_division'] / df_covid_saude_reg['new_deaths_week']\n",
    "df_covid_saude_state['percentage_deaths'] = df_covid_saude_state[\n",
    "    'new_deaths_week_division'] / df_covid_saude_state['new_deaths_week']\n",
    "df_covid_saude_regsau['percentage_deaths'] = df_covid_saude_regsau[\n",
    "    'new_deaths_week_division'] / df_covid_saude_regsau['new_deaths_week']\n",
    "df_covid_saude_city['percentage_deaths'] = df_covid_saude_city[\n",
    "    'new_deaths_week_division'] / df_covid_saude_city['new_deaths_week']\n",
    "\n",
    "df_covid_saude_br.fillna(0, inplace=True)\n",
    "df_covid_saude_reg.fillna(0, inplace=True)\n",
    "df_covid_saude_state.fillna(0, inplace=True)\n",
    "df_covid_saude_regsau.fillna(0, inplace=True)\n",
    "df_covid_saude_city.fillna(0, inplace=True)\n",
    "\n",
    "df_covid_saude_grouped = pd.concat([\n",
    "    df_covid_saude_city, df_covid_saude_regsau, df_covid_saude_state,\n",
    "    df_covid_saude_reg, df_covid_saude_br\n",
    "])\n",
    "\n",
    "##################################################################\n",
    "# Tratamento de dados das noticias\n",
    "##################################################################\n",
    "\n",
    "df_acoes['texto'] = df_acoes['texto'].str.replace('\\x93', '\"')\\\n",
    "                                     .str.replace('\\x94', '\"')\\\n",
    "                                     .str.replace('\\x91', \"'\")\\\n",
    "                                     .str.replace('\\x92', \"'\")\\\n",
    "                                     .str.replace('\\x85', '...')\n",
    "\n",
    "df_acoes['data'] = pd.to_datetime(df_acoes['data'], format='%d/%m/%y')\n",
    "\n",
    "df_acoes['texto'] = df_acoes['texto'].str.wrap(30)\n",
    "df_acoes['texto'] = df_acoes['texto'].apply(lambda x: x.replace('\\n', '<br>'))\n",
    "df_acoes = df_acoes.merge(df_depara_wn_day, how='left', on='data')\n",
    "\n",
    "df_acoes['noticia'] = '<b>Data: </b>' + df_acoes['data'].dt.strftime(\n",
    "    '%d/%m/%Y') + '<br><b>Tipo: </b>' + df_acoes['tipo'].astype(\n",
    "        str) + '<br><b>Notícia: </b>' + df_acoes['texto']\n",
    "\n",
    "df_noticias = df_acoes.groupby([\n",
    "    'week_number'\n",
    "])['noticia'].apply(lambda x: '<br><br>'.join(x)).reset_index()\n",
    "\n",
    "# df_noticias['noticia'] = '<div style=\"height:120px;width:120px;border:1px solid #ccc;font:16px/26px Georgia, Garamond, Serif;overflow:auto;\">' + df_noticias['noticia'] + '</div>'\n",
    "# df_noticias['noticia'] = '<p>' + df_noticias['noticia'] + '</p>'\n",
    "df_covid_saude_grouped = df_covid_saude_grouped.merge(df_noticias,\n",
    "                                                      how='left',\n",
    "                                                      on='week_number')\n",
    "\n",
    "df_covid_saude_grouped['noticia'] = df_covid_saude_grouped['noticia'].where(pd.notnull(df_covid_saude_grouped['noticia']), None)"
   ]
  },
  {
   "cell_type": "code",
   "execution_count": null,
   "metadata": {},
   "outputs": [],
   "source": [
    "# TREAT COVID DATA TO GET \"TIPO\" VARIABLE"
   ]
  },
  {
   "cell_type": "code",
   "execution_count": null,
   "metadata": {},
   "outputs": [],
   "source": [
    "import pandas as pd\n",
    "df_acoes = pd.read_csv('C:/Users/mscamargo/Desktop/estudos/my_proj/covid19_previsoes_municipios/data/raw/boletim_covid/acoes.csv', sep='\\t', encoding='latin-1')\n",
    "df_referencias = pd.read_csv('C:/Users/mscamargo/Desktop/estudos/my_proj/covid19_previsoes_municipios/data/raw/boletim_covid/referencias.csv', sep='\\t', encoding='latin-1')\n"
   ]
  },
  {
   "cell_type": "code",
   "execution_count": null,
   "metadata": {},
   "outputs": [],
   "source": [
    "df_acoes"
   ]
  },
  {
   "cell_type": "code",
   "execution_count": null,
   "metadata": {},
   "outputs": [],
   "source": [
    "df_acoes['data'] = pd.to_datetime(df_acoes['data'])\n",
    "df_acoes['weekday'] = df_acoes['data'].dt.weekday\n",
    "df_acoes['week_number'] = 0\n",
    "df_acoes.loc[df_acoes['weekday'] == 0, 'week_number'] = 1\n",
    "df_acoes['groupby_col'] = 1\n",
    "df_acoes['week_number'] = df_acoes.groupby(\n",
    "    'groupby_col')['week_number'].cumsum()\n",
    "df_acoes['week_number_day'] = df_acoes['week_number'] + df_acoes['weekday']/7 # used to plot"
   ]
  },
  {
   "cell_type": "code",
   "execution_count": null,
   "metadata": {},
   "outputs": [],
   "source": [
    "df_acoes"
   ]
  },
  {
   "cell_type": "code",
   "execution_count": null,
   "metadata": {},
   "outputs": [],
   "source": [
    "##################################################################\n",
    "# Tratamento de dados das noticias\n",
    "##################################################################\n",
    "\n",
    "df_acoes['texto'] = df_acoes['texto'].str.replace('\\x93', '\"')\\\n",
    "                                     .str.replace('\\x94', '\"')\\\n",
    "                                     .str.replace('\\x91', \"'\")\\\n",
    "                                     .str.replace('\\x92', \"'\")\\\n",
    "                                     .str.replace('\\x85', '...')\n",
    "\n",
    "df_acoes['data'] = pd.to_datetime(df_acoes['data'], format='%d/%m/%y')\n",
    "\n",
    "df_acoes['texto'] = df_acoes['texto'].str.wrap(30)\n",
    "df_acoes['texto'] = df_acoes['texto'].apply(lambda x: x.replace('\\n', '<br>'))\n",
    "#df_acoes = df_acoes.merge(df_depara_wn_day, how='left', on='data')\n",
    "\n",
    "df_acoes['noticia'] = '<b>Data: </b>' + df_acoes['data'].dt.strftime(\n",
    "    '%d/%m/%Y') + '<br><b>Tipo: </b>' + df_acoes['tipo'].astype(\n",
    "        str) + '<br><b>Notícia: </b>' + df_acoes['texto']\n",
    "\n",
    "df_noticias = df_acoes.groupby([\n",
    "    'data', 'tipo'\n",
    "])[['noticia']].apply(lambda x: '<br><br>'.join(x)).reset_index()\n",
    "\n",
    "# df_noticias['noticia'] = '<div style=\"height:120px;width:120px;border:1px solid #ccc;font:16px/26px Georgia, Garamond, Serif;overflow:auto;\">' + df_noticias['noticia'] + '</div>'\n",
    "# df_noticias['noticia'] = '<p>' + df_noticias['noticia'] + '</p>'\n"
   ]
  },
  {
   "cell_type": "code",
   "execution_count": null,
   "metadata": {},
   "outputs": [],
   "source": [
    "df = df_noticias[['data', 'tipo']].drop_duplicates()"
   ]
  },
  {
   "cell_type": "code",
   "execution_count": null,
   "metadata": {},
   "outputs": [],
   "source": [
    "df['tipo'].unique()"
   ]
  },
  {
   "cell_type": "code",
   "execution_count": null,
   "metadata": {},
   "outputs": [],
   "source": [
    "import numpy as np\n",
    "df['tipo'] = np.where(df['tipo'] == '0 Propaganda', 'Propaganda', df['tipo'])\n",
    "df['tipo'] = np.where(df['tipo'] == '1 Propaganda', 'Propaganda', df['tipo'])\n",
    "df['tipo'] = np.where(df['tipo'] == 'Atos de governo', 'Atos de Governo', df['tipo'])"
   ]
  },
  {
   "cell_type": "code",
   "execution_count": null,
   "metadata": {},
   "outputs": [],
   "source": [
    "df['tipo_at'] = df.groupby(['data'])['tipo'].transform(lambda x: ','.join(x))\n",
    "df_finally_not = df[['data','tipo_at']].drop_duplicates()"
   ]
  },
  {
   "cell_type": "code",
   "execution_count": null,
   "metadata": {},
   "outputs": [],
   "source": [
    "df_weekly_deaths = pd.read_parquet('C:/Users/mscamargo/Desktop/estudos/my_proj/covid19_previsoes_municipios/data/app/covid_saude_obito_grouped.parquet')\n"
   ]
  },
  {
   "cell_type": "code",
   "execution_count": null,
   "metadata": {},
   "outputs": [],
   "source": [
    "ok['tipo_at'].unique()"
   ]
  },
  {
   "cell_type": "code",
   "execution_count": null,
   "metadata": {},
   "outputs": [],
   "source": [
    "ok = df_weekly_deaths.merge(df_finally_not, on = 'week_number', how = 'left')\n",
    "ok.to_parquet('C:/Users/mscamargo/Desktop/estudos/my_proj/covid19_previsoes_municipios/data/app/covid_saude_obito_grouped_new.parquet', index=False)"
   ]
  },
  {
   "cell_type": "code",
   "execution_count": null,
   "metadata": {
    "ExecuteTime": {
     "end_time": "2021-12-03T11:41:21.171341Z",
     "start_time": "2021-12-03T11:41:15.888199Z"
    }
   },
   "outputs": [],
   "source": [
    "df_covid_saude_grouped.to_parquet('../data/app/covid_saude_obito_grouped_v3.parquet', index=False)"
   ]
  },
  {
   "cell_type": "code",
   "execution_count": null,
   "metadata": {
    "ExecuteTime": {
     "end_time": "2021-11-26T02:45:21.274939Z",
     "start_time": "2021-11-26T02:45:20.388011Z"
    }
   },
   "outputs": [],
   "source": [
    "df_death_predictions.to_parquet('../data/app/death_predictions.parquet', index=False)"
   ]
  },
  {
   "cell_type": "code",
   "execution_count": null,
   "metadata": {},
   "outputs": [],
   "source": [
    "df_teste = pd.read_parquet('../data/app/est_cidade.parquet')"
   ]
  },
  {
   "cell_type": "code",
   "execution_count": null,
   "metadata": {},
   "outputs": [],
   "source": [
    "df_teste.drop_duplicates().dropna().to_parquet('../data/app/est_cidade.parquet', index=False)"
   ]
  },
  {
   "cell_type": "code",
   "execution_count": null,
   "metadata": {
    "ExecuteTime": {
     "end_time": "2021-12-03T11:30:43.940141Z",
     "start_time": "2021-12-03T11:30:42.686942Z"
    }
   },
   "outputs": [],
   "source": [
    "df_predictions_waves = pd.read_csv('../data/app/ajusteSPondasTeste2.csv', encoding='latin-1')"
   ]
  },
  {
   "cell_type": "code",
   "execution_count": null,
   "metadata": {
    "ExecuteTime": {
     "end_time": "2021-12-03T11:31:09.056502Z",
     "start_time": "2021-12-03T11:31:08.982813Z"
    }
   },
   "outputs": [],
   "source": [
    "del df_predictions_waves['Unnamed: 0']"
   ]
  },
  {
   "cell_type": "code",
   "execution_count": null,
   "metadata": {
    "ExecuteTime": {
     "end_time": "2021-12-03T11:34:49.311499Z",
     "start_time": "2021-12-03T11:34:49.175859Z"
    }
   },
   "outputs": [],
   "source": [
    "df_predictions_waves = df_predictions_waves[(df_predictions_waves['obitosPreditos'].notna())]"
   ]
  },
  {
   "cell_type": "code",
   "execution_count": null,
   "metadata": {
    "ExecuteTime": {
     "end_time": "2021-12-03T11:36:03.671219Z",
     "start_time": "2021-12-03T11:36:03.588441Z"
    }
   },
   "outputs": [],
   "source": [
    "df_predictions_waves.rename(columns={'date':'data'}, inplace=True)"
   ]
  },
  {
   "cell_type": "code",
   "execution_count": null,
   "metadata": {
    "ExecuteTime": {
     "end_time": "2021-12-03T11:36:04.357389Z",
     "start_time": "2021-12-03T11:36:03.748014Z"
    }
   },
   "outputs": [],
   "source": [
    "df_predictions_waves.to_parquet('../data/app/ajusteSPondasTeste2.parquet', index=False)"
   ]
  },
  {
   "cell_type": "code",
   "execution_count": null,
   "metadata": {
    "ExecuteTime": {
     "end_time": "2021-12-03T11:56:04.409689Z",
     "start_time": "2021-12-03T11:56:04.329902Z"
    }
   },
   "outputs": [],
   "source": [
    "df_predictions_waves.loc[df_predictions_waves['obitosAcumPreditos.lower'].notna(), 'onda'].unique()"
   ]
  },
  {
   "cell_type": "code",
   "execution_count": null,
   "metadata": {
    "ExecuteTime": {
     "end_time": "2021-12-03T11:43:48.206369Z",
     "start_time": "2021-12-03T11:43:45.331779Z"
    }
   },
   "outputs": [],
   "source": [
    "df_covid_saude_mun.to_parquet('../data/app/covid_saude_obitos_diarios_v3.parquet', index=False)"
   ]
  },
  {
   "cell_type": "markdown",
   "metadata": {},
   "source": [
    "# To deploy"
   ]
  },
  {
   "cell_type": "code",
   "execution_count": 6,
   "metadata": {
    "ExecuteTime": {
     "end_time": "2021-12-05T18:18:42.136502Z",
     "start_time": "2021-12-05T18:18:41.273149Z"
    }
   },
   "outputs": [],
   "source": [
    "df_covid_saude = pd.read_parquet(\"../data/processed/covid_saude.parquet\")"
   ]
  },
  {
   "cell_type": "code",
   "execution_count": 11,
   "metadata": {
    "ExecuteTime": {
     "end_time": "2021-12-05T18:20:10.828615Z",
     "start_time": "2021-12-05T18:20:10.420702Z"
    }
   },
   "outputs": [],
   "source": [
    "list_cities_sp = list(df_covid_saude.loc[(df_covid_saude['codmun'].notna())&(df_covid_saude['estado']=='SP'), 'codmun'].unique())\n",
    "list_reg_saude_sp = list(df_covid_saude.loc[(df_covid_saude['codRegiaoSaude'].notna())&(df_covid_saude['estado']=='SP'), 'codRegiaoSaude'].unique())"
   ]
  },
  {
   "cell_type": "code",
   "execution_count": 3,
   "metadata": {
    "ExecuteTime": {
     "end_time": "2021-12-05T18:17:42.722255Z",
     "start_time": "2021-12-05T18:17:40.124190Z"
    },
    "code_folding": []
   },
   "outputs": [],
   "source": [
    "df_weekly_deaths = pd.read_parquet('../data/app/covid_saude_obito_grouped.parquet')\n",
    "df_daily_deaths = pd.read_parquet('../data/app/covid_saude_obitos_diarios.parquet')\n",
    "df_depara_levels = pd.read_parquet('../data/app/depara_levels.parquet')\n",
    "df_regional_clusters = pd.read_parquet('../data/app/clusters.parquet')\n",
    "df_death_predictions = pd.read_parquet('../data/app/death_predictions.parquet')\n",
    "df_predictions_waves = pd.read_parquet('../data/app/ajuste_ondas.parquet')"
   ]
  },
  {
   "cell_type": "code",
   "execution_count": 25,
   "metadata": {
    "ExecuteTime": {
     "end_time": "2021-12-05T18:25:17.983699Z",
     "start_time": "2021-12-05T18:25:17.893941Z"
    }
   },
   "outputs": [],
   "source": [
    "df_weekly_deaths = df_weekly_deaths.loc[(df_weekly_deaths['codmun'].isin(list_cities_sp))\n",
    "                     |(df_weekly_deaths['codRegiaoSaude'].isin(list_reg_saude_sp))\n",
    "                    |((df_weekly_deaths['codmun'].isna())\n",
    "                    &(df_weekly_deaths['codRegiaoSaude'].isna()))]"
   ]
  },
  {
   "cell_type": "code",
   "execution_count": 28,
   "metadata": {
    "ExecuteTime": {
     "end_time": "2021-12-05T18:25:43.842650Z",
     "start_time": "2021-12-05T18:25:43.647957Z"
    }
   },
   "outputs": [],
   "source": [
    "df_daily_deaths = df_daily_deaths.loc[(df_daily_deaths['codmun'].isin(list_cities_sp))\n",
    "                     |(df_daily_deaths['codRegiaoSaude'].isin(list_reg_saude_sp))\n",
    "                    |((df_daily_deaths['codmun'].isna())\n",
    "                    &(df_daily_deaths['codRegiaoSaude'].isna()))]"
   ]
  },
  {
   "cell_type": "code",
   "execution_count": 34,
   "metadata": {
    "ExecuteTime": {
     "end_time": "2021-12-05T18:26:51.630005Z",
     "start_time": "2021-12-05T18:26:51.560188Z"
    }
   },
   "outputs": [],
   "source": [
    "df_death_predictions = df_death_predictions.loc[df_death_predictions['codmun'].isin(list_cities_sp)]"
   ]
  },
  {
   "cell_type": "code",
   "execution_count": 35,
   "metadata": {
    "ExecuteTime": {
     "end_time": "2021-12-05T18:26:57.442188Z",
     "start_time": "2021-12-05T18:26:57.358142Z"
    }
   },
   "outputs": [
    {
     "data": {
      "text/html": [
       "<div>\n",
       "<style scoped>\n",
       "    .dataframe tbody tr th:only-of-type {\n",
       "        vertical-align: middle;\n",
       "    }\n",
       "\n",
       "    .dataframe tbody tr th {\n",
       "        vertical-align: top;\n",
       "    }\n",
       "\n",
       "    .dataframe thead th {\n",
       "        text-align: right;\n",
       "    }\n",
       "</style>\n",
       "<table border=\"1\" class=\"dataframe\">\n",
       "  <thead>\n",
       "    <tr style=\"text-align: right;\">\n",
       "      <th></th>\n",
       "      <th>estado</th>\n",
       "      <th>municipio</th>\n",
       "      <th>codmun</th>\n",
       "      <th>data</th>\n",
       "      <th>obitosPreditos</th>\n",
       "      <th>obitosAcumPreditos</th>\n",
       "      <th>onda</th>\n",
       "      <th>obitosPreditos.lower</th>\n",
       "      <th>obitosPreditos.upper</th>\n",
       "      <th>obitosAcumPreditos.lower</th>\n",
       "      <th>obitosAcumPreditos.upper</th>\n",
       "      <th>previsao</th>\n",
       "    </tr>\n",
       "  </thead>\n",
       "  <tbody>\n",
       "    <tr>\n",
       "      <th>0</th>\n",
       "      <td>SP</td>\n",
       "      <td>Adamantina</td>\n",
       "      <td>350010</td>\n",
       "      <td>2020-03-27</td>\n",
       "      <td>-0.086165</td>\n",
       "      <td>4.284133</td>\n",
       "      <td>1</td>\n",
       "      <td>NaN</td>\n",
       "      <td>NaN</td>\n",
       "      <td>NaN</td>\n",
       "      <td>NaN</td>\n",
       "      <td>NaN</td>\n",
       "    </tr>\n",
       "    <tr>\n",
       "      <th>1</th>\n",
       "      <td>SP</td>\n",
       "      <td>Adamantina</td>\n",
       "      <td>350010</td>\n",
       "      <td>2020-03-28</td>\n",
       "      <td>-0.085077</td>\n",
       "      <td>4.198509</td>\n",
       "      <td>1</td>\n",
       "      <td>NaN</td>\n",
       "      <td>NaN</td>\n",
       "      <td>NaN</td>\n",
       "      <td>NaN</td>\n",
       "      <td>NaN</td>\n",
       "    </tr>\n",
       "    <tr>\n",
       "      <th>2</th>\n",
       "      <td>SP</td>\n",
       "      <td>Adamantina</td>\n",
       "      <td>350010</td>\n",
       "      <td>2020-03-29</td>\n",
       "      <td>-0.083951</td>\n",
       "      <td>4.113992</td>\n",
       "      <td>1</td>\n",
       "      <td>NaN</td>\n",
       "      <td>NaN</td>\n",
       "      <td>NaN</td>\n",
       "      <td>NaN</td>\n",
       "      <td>NaN</td>\n",
       "    </tr>\n",
       "    <tr>\n",
       "      <th>3</th>\n",
       "      <td>SP</td>\n",
       "      <td>Adamantina</td>\n",
       "      <td>350010</td>\n",
       "      <td>2020-03-30</td>\n",
       "      <td>-0.082792</td>\n",
       "      <td>4.030618</td>\n",
       "      <td>1</td>\n",
       "      <td>NaN</td>\n",
       "      <td>NaN</td>\n",
       "      <td>NaN</td>\n",
       "      <td>NaN</td>\n",
       "      <td>NaN</td>\n",
       "    </tr>\n",
       "    <tr>\n",
       "      <th>4</th>\n",
       "      <td>SP</td>\n",
       "      <td>Adamantina</td>\n",
       "      <td>350010</td>\n",
       "      <td>2020-03-31</td>\n",
       "      <td>-0.081603</td>\n",
       "      <td>3.948419</td>\n",
       "      <td>1</td>\n",
       "      <td>NaN</td>\n",
       "      <td>NaN</td>\n",
       "      <td>NaN</td>\n",
       "      <td>NaN</td>\n",
       "      <td>NaN</td>\n",
       "    </tr>\n",
       "    <tr>\n",
       "      <th>...</th>\n",
       "      <td>...</td>\n",
       "      <td>...</td>\n",
       "      <td>...</td>\n",
       "      <td>...</td>\n",
       "      <td>...</td>\n",
       "      <td>...</td>\n",
       "      <td>...</td>\n",
       "      <td>...</td>\n",
       "      <td>...</td>\n",
       "      <td>...</td>\n",
       "      <td>...</td>\n",
       "      <td>...</td>\n",
       "    </tr>\n",
       "    <tr>\n",
       "      <th>903821</th>\n",
       "      <td>SP</td>\n",
       "      <td>Valentim Gentil</td>\n",
       "      <td>355610</td>\n",
       "      <td>2021-12-12</td>\n",
       "      <td>0.006282</td>\n",
       "      <td>50.441929</td>\n",
       "      <td>0</td>\n",
       "      <td>0.0</td>\n",
       "      <td>0.049319</td>\n",
       "      <td>39.739294</td>\n",
       "      <td>63.725204</td>\n",
       "      <td>1.0</td>\n",
       "    </tr>\n",
       "    <tr>\n",
       "      <th>903822</th>\n",
       "      <td>SP</td>\n",
       "      <td>Valentim Gentil</td>\n",
       "      <td>355610</td>\n",
       "      <td>2021-12-13</td>\n",
       "      <td>0.000000</td>\n",
       "      <td>50.437480</td>\n",
       "      <td>0</td>\n",
       "      <td>0.0</td>\n",
       "      <td>0.001390</td>\n",
       "      <td>39.768938</td>\n",
       "      <td>63.740109</td>\n",
       "      <td>1.0</td>\n",
       "    </tr>\n",
       "    <tr>\n",
       "      <th>903823</th>\n",
       "      <td>SP</td>\n",
       "      <td>Valentim Gentil</td>\n",
       "      <td>355610</td>\n",
       "      <td>2021-12-14</td>\n",
       "      <td>0.000000</td>\n",
       "      <td>50.501785</td>\n",
       "      <td>0</td>\n",
       "      <td>0.0</td>\n",
       "      <td>0.000000</td>\n",
       "      <td>39.856219</td>\n",
       "      <td>63.801437</td>\n",
       "      <td>1.0</td>\n",
       "    </tr>\n",
       "    <tr>\n",
       "      <th>903824</th>\n",
       "      <td>SP</td>\n",
       "      <td>Valentim Gentil</td>\n",
       "      <td>355610</td>\n",
       "      <td>2021-12-15</td>\n",
       "      <td>0.000000</td>\n",
       "      <td>50.584832</td>\n",
       "      <td>0</td>\n",
       "      <td>0.0</td>\n",
       "      <td>0.000000</td>\n",
       "      <td>39.934604</td>\n",
       "      <td>63.887926</td>\n",
       "      <td>1.0</td>\n",
       "    </tr>\n",
       "    <tr>\n",
       "      <th>903825</th>\n",
       "      <td>SP</td>\n",
       "      <td>Valentim Gentil</td>\n",
       "      <td>355610</td>\n",
       "      <td>2021-12-16</td>\n",
       "      <td>0.035266</td>\n",
       "      <td>50.624830</td>\n",
       "      <td>0</td>\n",
       "      <td>0.0</td>\n",
       "      <td>0.083971</td>\n",
       "      <td>39.937649</td>\n",
       "      <td>63.969188</td>\n",
       "      <td>1.0</td>\n",
       "    </tr>\n",
       "  </tbody>\n",
       "</table>\n",
       "<p>903826 rows × 12 columns</p>\n",
       "</div>"
      ],
      "text/plain": [
       "       estado        municipio  codmun        data  obitosPreditos  \\\n",
       "0          SP       Adamantina  350010  2020-03-27       -0.086165   \n",
       "1          SP       Adamantina  350010  2020-03-28       -0.085077   \n",
       "2          SP       Adamantina  350010  2020-03-29       -0.083951   \n",
       "3          SP       Adamantina  350010  2020-03-30       -0.082792   \n",
       "4          SP       Adamantina  350010  2020-03-31       -0.081603   \n",
       "...       ...              ...     ...         ...             ...   \n",
       "903821     SP  Valentim Gentil  355610  2021-12-12        0.006282   \n",
       "903822     SP  Valentim Gentil  355610  2021-12-13        0.000000   \n",
       "903823     SP  Valentim Gentil  355610  2021-12-14        0.000000   \n",
       "903824     SP  Valentim Gentil  355610  2021-12-15        0.000000   \n",
       "903825     SP  Valentim Gentil  355610  2021-12-16        0.035266   \n",
       "\n",
       "        obitosAcumPreditos  onda  obitosPreditos.lower  obitosPreditos.upper  \\\n",
       "0                 4.284133     1                   NaN                   NaN   \n",
       "1                 4.198509     1                   NaN                   NaN   \n",
       "2                 4.113992     1                   NaN                   NaN   \n",
       "3                 4.030618     1                   NaN                   NaN   \n",
       "4                 3.948419     1                   NaN                   NaN   \n",
       "...                    ...   ...                   ...                   ...   \n",
       "903821           50.441929     0                   0.0              0.049319   \n",
       "903822           50.437480     0                   0.0              0.001390   \n",
       "903823           50.501785     0                   0.0              0.000000   \n",
       "903824           50.584832     0                   0.0              0.000000   \n",
       "903825           50.624830     0                   0.0              0.083971   \n",
       "\n",
       "        obitosAcumPreditos.lower  obitosAcumPreditos.upper  previsao  \n",
       "0                            NaN                       NaN       NaN  \n",
       "1                            NaN                       NaN       NaN  \n",
       "2                            NaN                       NaN       NaN  \n",
       "3                            NaN                       NaN       NaN  \n",
       "4                            NaN                       NaN       NaN  \n",
       "...                          ...                       ...       ...  \n",
       "903821                 39.739294                 63.725204       1.0  \n",
       "903822                 39.768938                 63.740109       1.0  \n",
       "903823                 39.856219                 63.801437       1.0  \n",
       "903824                 39.934604                 63.887926       1.0  \n",
       "903825                 39.937649                 63.969188       1.0  \n",
       "\n",
       "[903826 rows x 12 columns]"
      ]
     },
     "execution_count": 35,
     "metadata": {},
     "output_type": "execute_result"
    }
   ],
   "source": [
    "df_predictions_waves"
   ]
  },
  {
   "cell_type": "code",
   "execution_count": 30,
   "metadata": {
    "ExecuteTime": {
     "end_time": "2021-12-05T18:25:53.499661Z",
     "start_time": "2021-12-05T18:25:53.414887Z"
    }
   },
   "outputs": [
    {
     "data": {
      "text/html": [
       "<div>\n",
       "<style scoped>\n",
       "    .dataframe tbody tr th:only-of-type {\n",
       "        vertical-align: middle;\n",
       "    }\n",
       "\n",
       "    .dataframe tbody tr th {\n",
       "        vertical-align: top;\n",
       "    }\n",
       "\n",
       "    .dataframe thead th {\n",
       "        text-align: right;\n",
       "    }\n",
       "</style>\n",
       "<table border=\"1\" class=\"dataframe\">\n",
       "  <thead>\n",
       "    <tr style=\"text-align: right;\">\n",
       "      <th></th>\n",
       "      <th>estado</th>\n",
       "      <th>municipio</th>\n",
       "      <th>data</th>\n",
       "      <th>obitosPreditos</th>\n",
       "      <th>lower</th>\n",
       "      <th>upper</th>\n",
       "      <th>codmun</th>\n",
       "      <th>week_number_day</th>\n",
       "    </tr>\n",
       "  </thead>\n",
       "  <tbody>\n",
       "    <tr>\n",
       "      <th>0</th>\n",
       "      <td>RO</td>\n",
       "      <td>Alta Floresta D'Oeste</td>\n",
       "      <td>2021-10-07</td>\n",
       "      <td>1</td>\n",
       "      <td>-0.453018</td>\n",
       "      <td>0.472176</td>\n",
       "      <td>110001</td>\n",
       "      <td>80.428571</td>\n",
       "    </tr>\n",
       "    <tr>\n",
       "      <th>1</th>\n",
       "      <td>RO</td>\n",
       "      <td>Alta Floresta D'Oeste</td>\n",
       "      <td>2021-10-08</td>\n",
       "      <td>1</td>\n",
       "      <td>-0.454492</td>\n",
       "      <td>0.471708</td>\n",
       "      <td>110001</td>\n",
       "      <td>80.571429</td>\n",
       "    </tr>\n",
       "    <tr>\n",
       "      <th>2</th>\n",
       "      <td>RO</td>\n",
       "      <td>Alta Floresta D'Oeste</td>\n",
       "      <td>2021-10-09</td>\n",
       "      <td>1</td>\n",
       "      <td>-0.455050</td>\n",
       "      <td>0.472266</td>\n",
       "      <td>110001</td>\n",
       "      <td>80.714286</td>\n",
       "    </tr>\n",
       "    <tr>\n",
       "      <th>3</th>\n",
       "      <td>RO</td>\n",
       "      <td>Alta Floresta D'Oeste</td>\n",
       "      <td>2021-10-10</td>\n",
       "      <td>1</td>\n",
       "      <td>-0.455608</td>\n",
       "      <td>0.472824</td>\n",
       "      <td>110001</td>\n",
       "      <td>80.857143</td>\n",
       "    </tr>\n",
       "    <tr>\n",
       "      <th>4</th>\n",
       "      <td>RO</td>\n",
       "      <td>Alta Floresta D'Oeste</td>\n",
       "      <td>2021-10-11</td>\n",
       "      <td>1</td>\n",
       "      <td>-0.456165</td>\n",
       "      <td>0.473381</td>\n",
       "      <td>110001</td>\n",
       "      <td>81.000000</td>\n",
       "    </tr>\n",
       "    <tr>\n",
       "      <th>...</th>\n",
       "      <td>...</td>\n",
       "      <td>...</td>\n",
       "      <td>...</td>\n",
       "      <td>...</td>\n",
       "      <td>...</td>\n",
       "      <td>...</td>\n",
       "      <td>...</td>\n",
       "      <td>...</td>\n",
       "    </tr>\n",
       "    <tr>\n",
       "      <th>167095</th>\n",
       "      <td>DF</td>\n",
       "      <td>Brasília</td>\n",
       "      <td>2021-11-01</td>\n",
       "      <td>12</td>\n",
       "      <td>-11.265490</td>\n",
       "      <td>31.493793</td>\n",
       "      <td>530010</td>\n",
       "      <td>84.000000</td>\n",
       "    </tr>\n",
       "    <tr>\n",
       "      <th>167096</th>\n",
       "      <td>DF</td>\n",
       "      <td>Brasília</td>\n",
       "      <td>2021-11-02</td>\n",
       "      <td>12</td>\n",
       "      <td>-11.643719</td>\n",
       "      <td>31.867547</td>\n",
       "      <td>530010</td>\n",
       "      <td>84.142857</td>\n",
       "    </tr>\n",
       "    <tr>\n",
       "      <th>167097</th>\n",
       "      <td>DF</td>\n",
       "      <td>Brasília</td>\n",
       "      <td>2021-11-03</td>\n",
       "      <td>12</td>\n",
       "      <td>-12.015981</td>\n",
       "      <td>32.238545</td>\n",
       "      <td>530010</td>\n",
       "      <td>84.285714</td>\n",
       "    </tr>\n",
       "    <tr>\n",
       "      <th>167098</th>\n",
       "      <td>DF</td>\n",
       "      <td>Brasília</td>\n",
       "      <td>2021-11-04</td>\n",
       "      <td>12</td>\n",
       "      <td>-12.381923</td>\n",
       "      <td>32.605302</td>\n",
       "      <td>530010</td>\n",
       "      <td>84.428571</td>\n",
       "    </tr>\n",
       "    <tr>\n",
       "      <th>167099</th>\n",
       "      <td>DF</td>\n",
       "      <td>Brasília</td>\n",
       "      <td>2021-11-05</td>\n",
       "      <td>11</td>\n",
       "      <td>-12.741660</td>\n",
       "      <td>32.966332</td>\n",
       "      <td>530010</td>\n",
       "      <td>84.571429</td>\n",
       "    </tr>\n",
       "  </tbody>\n",
       "</table>\n",
       "<p>167100 rows × 8 columns</p>\n",
       "</div>"
      ],
      "text/plain": [
       "       estado              municipio       data  obitosPreditos      lower  \\\n",
       "0          RO  Alta Floresta D'Oeste 2021-10-07               1  -0.453018   \n",
       "1          RO  Alta Floresta D'Oeste 2021-10-08               1  -0.454492   \n",
       "2          RO  Alta Floresta D'Oeste 2021-10-09               1  -0.455050   \n",
       "3          RO  Alta Floresta D'Oeste 2021-10-10               1  -0.455608   \n",
       "4          RO  Alta Floresta D'Oeste 2021-10-11               1  -0.456165   \n",
       "...       ...                    ...        ...             ...        ...   \n",
       "167095     DF               Brasília 2021-11-01              12 -11.265490   \n",
       "167096     DF               Brasília 2021-11-02              12 -11.643719   \n",
       "167097     DF               Brasília 2021-11-03              12 -12.015981   \n",
       "167098     DF               Brasília 2021-11-04              12 -12.381923   \n",
       "167099     DF               Brasília 2021-11-05              11 -12.741660   \n",
       "\n",
       "            upper  codmun  week_number_day  \n",
       "0        0.472176  110001        80.428571  \n",
       "1        0.471708  110001        80.571429  \n",
       "2        0.472266  110001        80.714286  \n",
       "3        0.472824  110001        80.857143  \n",
       "4        0.473381  110001        81.000000  \n",
       "...           ...     ...              ...  \n",
       "167095  31.493793  530010        84.000000  \n",
       "167096  31.867547  530010        84.142857  \n",
       "167097  32.238545  530010        84.285714  \n",
       "167098  32.605302  530010        84.428571  \n",
       "167099  32.966332  530010        84.571429  \n",
       "\n",
       "[167100 rows x 8 columns]"
      ]
     },
     "execution_count": 30,
     "metadata": {},
     "output_type": "execute_result"
    }
   ],
   "source": [
    "df_death_predictions"
   ]
  }
 ],
 "metadata": {
  "interpreter": {
   "hash": "934020936730698c014638e4b75149792c7a6427548645ef43bc066d5a0a6a34"
  },
  "kernelspec": {
   "display_name": "Python 3 (ipykernel)",
   "language": "python",
   "name": "python3"
  },
  "language_info": {
   "codemirror_mode": {
    "name": "ipython",
    "version": 3
   },
   "file_extension": ".py",
   "mimetype": "text/x-python",
   "name": "python",
   "nbconvert_exporter": "python",
   "pygments_lexer": "ipython3",
   "version": "3.8.11"
  },
  "toc": {
   "nav_menu": {},
   "number_sections": true,
   "sideBar": true,
   "skip_h1_title": false,
   "title_cell": "Table of Contents",
   "title_sidebar": "Contents",
   "toc_cell": false,
   "toc_position": {},
   "toc_section_display": true,
   "toc_window_display": false
  }
 },
 "nbformat": 4,
 "nbformat_minor": 2
}
