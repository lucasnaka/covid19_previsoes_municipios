{
 "cells": [
  {
   "cell_type": "code",
   "execution_count": 1,
   "metadata": {
    "ExecuteTime": {
     "end_time": "2021-11-19T19:26:40.864089Z",
     "start_time": "2021-11-19T19:26:40.313562Z"
    }
   },
   "outputs": [],
   "source": [
    "# OS library\n",
    "import sys\n",
    "sys.path.append('../')\n",
    "\n",
    "import glob\n",
    "import pandas as pd\n",
    "import numpy as np\n",
    "\n",
    "from urllib.request import urlopen\n",
    "import json\n",
    "\n",
    "# Magic to reload notebook\n",
    "%load_ext autoreload\n",
    "%autoreload 2\n",
    "pd.options.display.max_columns = 100"
   ]
  },
  {
   "cell_type": "markdown",
   "metadata": {},
   "source": [
    "# Covid Saúde"
   ]
  },
  {
   "cell_type": "markdown",
   "metadata": {},
   "source": [
    "Painel de casos de doença pelo coronavírus 2019 (COVID-19) no Brasil pelo Ministério da Saúde ([website](https://covid.saude.gov.br/))"
   ]
  },
  {
   "cell_type": "code",
   "execution_count": 2,
   "metadata": {
    "ExecuteTime": {
     "end_time": "2021-11-19T19:26:42.263956Z",
     "start_time": "2021-11-19T19:26:41.256604Z"
    }
   },
   "outputs": [],
   "source": [
    "df_covid_saude = pd.read_parquet(\"../data/processed/covid_saude.parquet\")\n",
    "df_acoes = pd.read_csv('../data/raw/boletim_covid/acoes.csv', sep='\\t', encoding='latin-1')\n",
    "df_referencias = pd.read_csv('../data/raw/boletim_covid/referencias.csv', sep='\\t', encoding='latin-1')"
   ]
  },
  {
   "cell_type": "code",
   "execution_count": null,
   "metadata": {
    "ExecuteTime": {
     "end_time": "2021-11-19T02:58:09.827522Z",
     "start_time": "2021-11-19T02:58:00.582981Z"
    }
   },
   "outputs": [],
   "source": [
    "df_covid_saude_mun = df_covid_saude.loc[df_covid_saude['municipio'].notna()]\n",
    "\n",
    "df_covid_saude_mun = df_covid_saude_mun[['regiao', 'estado', 'municipio', 'codmun', 'nomeRegiaoSaude', 'codRegiaoSaude', 'data', 'obitosNovos']]\n",
    "\n",
    "df_covid_saude_mun['data'] = pd.to_datetime(df_covid_saude_mun['data'])\n",
    "\n",
    "df_depara_wn_day = df_covid_saude_mun[['data']].drop_duplicates()\n",
    "df_depara_wn_day['weekday'] = df_depara_wn_day['data'].dt.weekday\n",
    "df_depara_wn_day['week_number'] = 0\n",
    "df_depara_wn_day.loc[df_depara_wn_day['weekday'] == 0, 'week_number'] = 1\n",
    "df_depara_wn_day['gropuby_col'] = 1\n",
    "df_depara_wn_day['week_number'] = df_depara_wn_day.groupby('gropuby_col')['week_number'].cumsum()\n",
    "df_covid_saude_mun = df_covid_saude_mun.merge(df_depara_wn_day[['data', 'week_number']], how='left', on=['data'])\n",
    "\n",
    "df_covid_saude_mun.sort_values(by=['municipio', 'data'], ascending=[True, True], inplace=True)\n",
    "df_covid_saude_br = df_covid_saude_mun[['week_number', 'data']].drop_duplicates(subset=['week_number'],\n",
    "                                                                           keep='first')\n",
    "df_covid_saude_reg = df_covid_saude_mun[['regiao', 'week_number', 'data']].drop_duplicates(subset=['regiao', 'week_number'],\n",
    "                                                                           keep='first')\n",
    "df_covid_saude_state = df_covid_saude_mun[['estado', 'week_number', 'data']].drop_duplicates(subset=['estado', 'week_number'],\n",
    "                                                                           keep='first')\n",
    "df_covid_saude_regsau = df_covid_saude_mun[['nomeRegiaoSaude', 'codRegiaoSaude', 'week_number', 'data']].drop_duplicates(subset=['nomeRegiaoSaude', 'codRegiaoSaude', 'week_number'],\n",
    "                                                                           keep='first')\n",
    "df_covid_saude_city = df_covid_saude_mun[['municipio', 'codmun', 'week_number', 'data']].drop_duplicates(subset=['municipio', 'codmun', 'week_number'],\n",
    "                                                                           keep='first')\n",
    "\n",
    "df_weekly_deaths = df_covid_saude_mun.groupby(['week_number'])['obitosNovos'].sum().reset_index(name='new_deaths_week')\n",
    "\n",
    "df_weekly_deaths_br = df_covid_saude_mun.groupby(['week_number'])['obitosNovos'].sum().reset_index(\n",
    "    name='new_deaths_week_division')\n",
    "df_weekly_deaths_region = df_covid_saude_mun.groupby(['regiao', 'week_number'])['obitosNovos'].sum().reset_index(\n",
    "    name='new_deaths_week_division')\n",
    "df_weekly_deaths_state = df_covid_saude_mun.groupby(['estado', 'week_number'])['obitosNovos'].sum().reset_index(\n",
    "    name='new_deaths_week_division')\n",
    "df_weekly_deaths_regsau = df_covid_saude_mun.groupby(['nomeRegiaoSaude', 'codRegiaoSaude', 'week_number'])['obitosNovos'].sum().reset_index(\n",
    "    name='new_deaths_week_division')\n",
    "df_weekly_deaths_city = df_covid_saude_mun.groupby(['municipio', 'codmun', 'week_number'])['obitosNovos'].sum().reset_index(\n",
    "    name='new_deaths_week_division')\n",
    "\n",
    "df_covid_saude_br = df_covid_saude_br.merge(df_weekly_deaths_br, how='left', on=['week_number']) \\\n",
    "    .merge(df_weekly_deaths, how='left', on=['week_number'])\n",
    "df_covid_saude_reg = df_covid_saude_reg.merge(df_weekly_deaths_region, how='left', on=['regiao', 'week_number']) \\\n",
    "    .merge(df_weekly_deaths, how='left', on=['week_number'])\n",
    "df_covid_saude_state = df_covid_saude_state.merge(df_weekly_deaths_state, how='left', on=['estado', 'week_number']) \\\n",
    "    .merge(df_weekly_deaths, how='left', on=['week_number'])\n",
    "df_covid_saude_regsau = df_covid_saude_regsau.merge(df_weekly_deaths_regsau, how='left', on=['nomeRegiaoSaude', 'codRegiaoSaude', 'week_number']) \\\n",
    "    .merge(df_weekly_deaths, how='left', on=['week_number'])\n",
    "df_covid_saude_city = df_covid_saude_city.merge(df_weekly_deaths_city, how='left', on=['municipio', 'codmun', 'week_number']) \\\n",
    "    .merge(df_weekly_deaths, how='left', on=['week_number'])\n",
    "\n",
    "df_covid_saude_br['percentage_deaths'] = df_covid_saude_br['new_deaths_week_division'] / df_covid_saude_br['new_deaths_week']\n",
    "df_covid_saude_reg['percentage_deaths'] = df_covid_saude_reg['new_deaths_week_division'] / df_covid_saude_reg['new_deaths_week']\n",
    "df_covid_saude_state['percentage_deaths'] = df_covid_saude_state['new_deaths_week_division'] / df_covid_saude_state['new_deaths_week']\n",
    "df_covid_saude_regsau['percentage_deaths'] = df_covid_saude_regsau['new_deaths_week_division'] / df_covid_saude_regsau['new_deaths_week']\n",
    "df_covid_saude_city['percentage_deaths'] = df_covid_saude_city['new_deaths_week_division'] / df_covid_saude_city['new_deaths_week']\n",
    "\n",
    "df_covid_saude_br.fillna(0, inplace=True)\n",
    "df_covid_saude_reg.fillna(0, inplace=True)\n",
    "df_covid_saude_state.fillna(0, inplace=True)\n",
    "df_covid_saude_regsau.fillna(0, inplace=True)\n",
    "df_covid_saude_city.fillna(0, inplace=True)\n",
    "\n",
    "df_covid_saude_grouped = pd.concat([df_covid_saude_city, df_covid_saude_regsau, df_covid_saude_state, df_covid_saude_reg, df_covid_saude_br])\n",
    "\n",
    "##################################################################\n",
    "# Tratamento de dados das noticias\n",
    "##################################################################\n",
    "\n",
    "df_acoes['texto'] = df_acoes['texto'].str.replace('\\x93', '\"')\\\n",
    "                                     .str.replace('\\x94', '\"')\\\n",
    "                                     .str.replace('\\x91', \"'\")\\\n",
    "                                     .str.replace('\\x92', \"'\")\\\n",
    "                                     .str.replace('\\x85', '...')\n",
    "\n",
    "df_acoes['data'] = pd.to_datetime(df_acoes['data'], format='%d/%m/%y')\n",
    "\n",
    "df_acoes['texto'] = df_acoes['texto'].str.wrap(30)\n",
    "df_acoes['texto'] = df_acoes['texto'].apply(lambda x: x.replace('\\n', '<br>'))\n",
    "df_acoes = df_acoes.merge(df_depara_wn_day, how='left', on='data')\n",
    "\n",
    "df_acoes['noticia'] = '<b>Data: </b>' + df_acoes['data'].dt.strftime('%d/%m/%Y') + '<br><b>Tipo: </b>' + df_acoes['tipo'].astype(str) + '<br><b>Notícia: </b>' + df_acoes['texto']\n",
    "\n",
    "df_noticias = df_acoes.groupby(['week_number'])['noticia'].apply(lambda x: '<br><br>'.join(x)).reset_index()\n",
    "\n",
    "# df_noticias['noticia'] = '<div style=\"height:120px;width:120px;border:1px solid #ccc;font:16px/26px Georgia, Garamond, Serif;overflow:auto;\">' + df_noticias['noticia'] + '</div>'\n",
    "# df_noticias['noticia'] = '<p>' + df_noticias['noticia'] + '</p>'\n",
    "df_covid_saude_grouped = df_covid_saude_grouped.merge(df_noticias, how='left', on='week_number')\n",
    "##################################################################"
   ]
  },
  {
   "cell_type": "code",
   "execution_count": null,
   "metadata": {
    "ExecuteTime": {
     "end_time": "2021-11-19T03:00:15.809177Z",
     "start_time": "2021-11-19T03:00:15.694466Z"
    }
   },
   "outputs": [],
   "source": [
    "df_covid_saude_grouped['noticia'].iloc[0]"
   ]
  },
  {
   "cell_type": "code",
   "execution_count": null,
   "metadata": {
    "ExecuteTime": {
     "end_time": "2021-11-19T02:58:13.072231Z",
     "start_time": "2021-11-19T02:58:09.831509Z"
    }
   },
   "outputs": [],
   "source": [
    "df_covid_saude_mun.to_parquet('../data/app/covid_saude_obito_municipio.parquet', index=False)\n",
    "df_covid_saude_grouped.to_parquet('../data/app/covid_saude_obito_grouped.parquet', index=False)"
   ]
  },
  {
   "cell_type": "code",
   "execution_count": null,
   "metadata": {
    "ExecuteTime": {
     "end_time": "2021-11-19T04:05:28.048505Z",
     "start_time": "2021-11-19T04:05:27.917731Z"
    }
   },
   "outputs": [],
   "source": [
    "df_covid_saude_grouped"
   ]
  },
  {
   "cell_type": "code",
   "execution_count": null,
   "metadata": {
    "ExecuteTime": {
     "end_time": "2021-11-19T03:31:03.131295Z",
     "start_time": "2021-11-19T03:31:01.872661Z"
    }
   },
   "outputs": [],
   "source": [
    "df_covid_saude_dp = df_covid_saude.loc[df_covid_saude['regiao']!='Brasil']\n",
    "df_covid_saude_dp[['regiao', 'estado', 'nomeRegiaoSaude', 'municipio']].drop_duplicates().to_parquet('../data/app/depara_levels.parquet', index=False)"
   ]
  },
  {
   "cell_type": "code",
   "execution_count": null,
   "metadata": {
    "ExecuteTime": {
     "end_time": "2021-11-19T03:30:53.623873Z",
     "start_time": "2021-11-19T03:30:53.503199Z"
    }
   },
   "outputs": [],
   "source": [
    "df_covid_saude_dp"
   ]
  },
  {
   "cell_type": "code",
   "execution_count": null,
   "metadata": {},
   "outputs": [],
   "source": [
    "\n",
    "with urlopen('https://raw.githubusercontent.com/codeforamerica/click_that_hood/master/public/data/brazil-states.geojson') as response:\n",
    "    Brasil = json.load(response)\n",
    "state_id_map = {}\n",
    "\n",
    "for feature in  Brasil[\"features\"]:\n",
    "    feature[\"id\"] = feature[\"properties\"][\"name\"]\n",
    "    state_id_map[feature[\"properties\"][\"sigla\"]] = feature[\"id\"] # definindo a informação do gráfico"
   ]
  },
  {
   "cell_type": "code",
   "execution_count": null,
   "metadata": {},
   "outputs": [],
   "source": [
    "df_teste = pd.read_parquet('../data/app/est_cidade.parquet')"
   ]
  },
  {
   "cell_type": "code",
   "execution_count": null,
   "metadata": {},
   "outputs": [],
   "source": [
    "df_teste.drop_duplicates().dropna().to_parquet('../data/app/est_cidade.parquet', index=False)"
   ]
  }
 ],
 "metadata": {
  "kernelspec": {
   "display_name": "Python 3 (ipykernel)",
   "language": "python",
   "name": "python3"
  },
  "language_info": {
   "codemirror_mode": {
    "name": "ipython",
    "version": 3
   },
   "file_extension": ".py",
   "mimetype": "text/x-python",
   "name": "python",
   "nbconvert_exporter": "python",
   "pygments_lexer": "ipython3",
   "version": "3.8.11"
  },
  "toc": {
   "nav_menu": {},
   "number_sections": true,
   "sideBar": true,
   "skip_h1_title": false,
   "title_cell": "Table of Contents",
   "title_sidebar": "Contents",
   "toc_cell": false,
   "toc_position": {},
   "toc_section_display": true,
   "toc_window_display": false
  }
 },
 "nbformat": 4,
 "nbformat_minor": 2
}
