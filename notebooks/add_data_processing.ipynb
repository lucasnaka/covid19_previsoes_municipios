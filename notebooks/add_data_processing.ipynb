{
 "cells": [
  {
   "cell_type": "code",
   "execution_count": null,
   "metadata": {
    "ExecuteTime": {
     "end_time": "2021-11-19T22:10:19.079725Z",
     "start_time": "2021-11-19T22:10:18.573077Z"
    }
   },
   "outputs": [],
   "source": [
    "# OS library\n",
    "import sys\n",
    "sys.path.append('../')\n",
    "\n",
    "import glob\n",
    "import pandas as pd\n",
    "import numpy as np\n",
    "\n",
    "from urllib.request import urlopen\n",
    "import json\n",
    "\n",
    "# Magic to reload notebook\n",
    "%load_ext autoreload\n",
    "%autoreload 2\n",
    "pd.options.display.max_columns = 100"
   ]
  },
  {
   "cell_type": "markdown",
   "metadata": {},
   "source": [
    "# Covid Saúde"
   ]
  },
  {
   "cell_type": "markdown",
   "metadata": {},
   "source": [
    "Painel de casos de doença pelo coronavírus 2019 (COVID-19) no Brasil pelo Ministério da Saúde ([website](https://covid.saude.gov.br/))"
   ]
  },
  {
   "cell_type": "code",
   "execution_count": null,
   "metadata": {
    "ExecuteTime": {
     "end_time": "2021-11-20T19:21:02.622167Z",
     "start_time": "2021-11-20T19:20:56.175980Z"
    }
   },
   "outputs": [],
   "source": [
    "df_covid_saude = pd.read_parquet(\"../data/processed/covid_saude.parquet\")\n",
    "df_acoes = pd.read_csv('../data/raw/boletim_covid/acoes.csv', sep='\\t', encoding='latin-1')\n",
    "df_referencias = pd.read_csv('../data/raw/boletim_covid/referencias.csv', sep='\\t', encoding='latin-1')"
   ]
  },
  {
   "cell_type": "code",
   "execution_count": null,
   "metadata": {
    "ExecuteTime": {
     "end_time": "2021-11-20T19:21:22.653537Z",
     "start_time": "2021-11-20T19:21:02.625260Z"
    }
   },
   "outputs": [],
   "source": [
    "df_covid_saude_mun = df_covid_saude.loc[df_covid_saude['municipio'].notna()]\n",
    "\n",
    "df_covid_saude_mun = df_covid_saude_mun[[\n",
    "    'regiao', 'estado', 'municipio', 'codmun', 'nomeRegiaoSaude',\n",
    "    'codRegiaoSaude', 'data', 'obitosNovos'\n",
    "]]\n",
    "\n",
    "df_covid_saude_mun['data'] = pd.to_datetime(df_covid_saude_mun['data'])\n",
    "\n",
    "df_depara_wn_day = df_covid_saude_mun[['data']].drop_duplicates()\n",
    "df_depara_wn_day['weekday'] = df_depara_wn_day['data'].dt.weekday\n",
    "df_depara_wn_day['week_number'] = 0\n",
    "df_depara_wn_day.loc[df_depara_wn_day['weekday'] == 0, 'week_number'] = 1\n",
    "df_depara_wn_day['gropuby_col'] = 1\n",
    "df_depara_wn_day['week_number'] = df_depara_wn_day.groupby(\n",
    "    'gropuby_col')['week_number'].cumsum()\n",
    "df_covid_saude_mun = df_covid_saude_mun.merge(\n",
    "    df_depara_wn_day[['data', 'week_number']], how='left', on=['data'])\n",
    "\n",
    "df_covid_saude_mun.sort_values(by=['municipio', 'data'],\n",
    "                               ascending=[True, True],\n",
    "                               inplace=True)\n",
    "df_covid_saude_br = df_covid_saude_mun[['week_number',\n",
    "                                        'data']].drop_duplicates(\n",
    "                                            subset=['week_number'],\n",
    "                                            keep='first')\n",
    "df_covid_saude_reg = df_covid_saude_mun[['regiao', 'week_number',\n",
    "                                         'data']].drop_duplicates(\n",
    "                                             subset=['regiao', 'week_number'],\n",
    "                                             keep='first')\n",
    "df_covid_saude_state = df_covid_saude_mun[[\n",
    "    'estado', 'week_number', 'data'\n",
    "]].drop_duplicates(subset=['estado', 'week_number'], keep='first')\n",
    "df_covid_saude_regsau = df_covid_saude_mun[[\n",
    "    'nomeRegiaoSaude', 'codRegiaoSaude', 'week_number', 'data'\n",
    "]].drop_duplicates(subset=['nomeRegiaoSaude', 'codRegiaoSaude', 'week_number'],\n",
    "                   keep='first')\n",
    "df_covid_saude_city = df_covid_saude_mun[[\n",
    "    'municipio', 'codmun', 'week_number', 'data'\n",
    "]].drop_duplicates(subset=['municipio', 'codmun', 'week_number'], keep='first')\n",
    "\n",
    "df_weekly_deaths = df_covid_saude_mun.groupby(\n",
    "    ['week_number'])['obitosNovos'].sum().reset_index(name='new_deaths_week')\n",
    "\n",
    "df_weekly_deaths_br = df_covid_saude_mun.groupby([\n",
    "    'week_number'\n",
    "])['obitosNovos'].sum().reset_index(name='new_deaths_week_division')\n",
    "df_weekly_deaths_region = df_covid_saude_mun.groupby([\n",
    "    'regiao', 'week_number'\n",
    "])['obitosNovos'].sum().reset_index(name='new_deaths_week_division')\n",
    "df_weekly_deaths_state = df_covid_saude_mun.groupby([\n",
    "    'estado', 'week_number'\n",
    "])['obitosNovos'].sum().reset_index(name='new_deaths_week_division')\n",
    "df_weekly_deaths_regsau = df_covid_saude_mun.groupby([\n",
    "    'nomeRegiaoSaude', 'codRegiaoSaude', 'week_number'\n",
    "])['obitosNovos'].sum().reset_index(name='new_deaths_week_division')\n",
    "df_weekly_deaths_city = df_covid_saude_mun.groupby([\n",
    "    'municipio', 'codmun', 'week_number'\n",
    "])['obitosNovos'].sum().reset_index(name='new_deaths_week_division')\n",
    "\n",
    "df_covid_saude_br = df_covid_saude_br.merge(df_weekly_deaths_br, how='left', on=['week_number']) \\\n",
    "    .merge(df_weekly_deaths, how='left', on=['week_number'])\n",
    "df_covid_saude_reg = df_covid_saude_reg.merge(df_weekly_deaths_region, how='left', on=['regiao', 'week_number']) \\\n",
    "    .merge(df_weekly_deaths, how='left', on=['week_number'])\n",
    "df_covid_saude_state = df_covid_saude_state.merge(df_weekly_deaths_state, how='left', on=['estado', 'week_number']) \\\n",
    "    .merge(df_weekly_deaths, how='left', on=['week_number'])\n",
    "df_covid_saude_regsau = df_covid_saude_regsau.merge(df_weekly_deaths_regsau, how='left', on=['nomeRegiaoSaude', 'codRegiaoSaude', 'week_number']) \\\n",
    "    .merge(df_weekly_deaths, how='left', on=['week_number'])\n",
    "df_covid_saude_city = df_covid_saude_city.merge(df_weekly_deaths_city, how='left', on=['municipio', 'codmun', 'week_number']) \\\n",
    "    .merge(df_weekly_deaths, how='left', on=['week_number'])\n",
    "\n",
    "df_covid_saude_br['percentage_deaths'] = df_covid_saude_br[\n",
    "    'new_deaths_week_division'] / df_covid_saude_br['new_deaths_week']\n",
    "df_covid_saude_reg['percentage_deaths'] = df_covid_saude_reg[\n",
    "    'new_deaths_week_division'] / df_covid_saude_reg['new_deaths_week']\n",
    "df_covid_saude_state['percentage_deaths'] = df_covid_saude_state[\n",
    "    'new_deaths_week_division'] / df_covid_saude_state['new_deaths_week']\n",
    "df_covid_saude_regsau['percentage_deaths'] = df_covid_saude_regsau[\n",
    "    'new_deaths_week_division'] / df_covid_saude_regsau['new_deaths_week']\n",
    "df_covid_saude_city['percentage_deaths'] = df_covid_saude_city[\n",
    "    'new_deaths_week_division'] / df_covid_saude_city['new_deaths_week']\n",
    "\n",
    "df_covid_saude_br.fillna(0, inplace=True)\n",
    "df_covid_saude_reg.fillna(0, inplace=True)\n",
    "df_covid_saude_state.fillna(0, inplace=True)\n",
    "df_covid_saude_regsau.fillna(0, inplace=True)\n",
    "df_covid_saude_city.fillna(0, inplace=True)\n",
    "\n",
    "df_covid_saude_grouped = pd.concat([\n",
    "    df_covid_saude_city, df_covid_saude_regsau, df_covid_saude_state,\n",
    "    df_covid_saude_reg, df_covid_saude_br\n",
    "])\n",
    "\n",
    "##################################################################\n",
    "# Tratamento de dados das noticias\n",
    "##################################################################\n",
    "\n",
    "df_acoes['texto'] = df_acoes['texto'].str.replace('\\x93', '\"')\\\n",
    "                                     .str.replace('\\x94', '\"')\\\n",
    "                                     .str.replace('\\x91', \"'\")\\\n",
    "                                     .str.replace('\\x92', \"'\")\\\n",
    "                                     .str.replace('\\x85', '...')\n",
    "\n",
    "df_acoes['data'] = pd.to_datetime(df_acoes['data'], format='%d/%m/%y')\n",
    "\n",
    "df_acoes['texto'] = df_acoes['texto'].str.wrap(30)\n",
    "df_acoes['texto'] = df_acoes['texto'].apply(lambda x: x.replace('\\n', '<br>'))\n",
    "df_acoes = df_acoes.merge(df_depara_wn_day, how='left', on='data')\n",
    "\n",
    "df_acoes['noticia'] = '<b>Data: </b>' + df_acoes['data'].dt.strftime(\n",
    "    '%d/%m/%Y') + '<br><b>Tipo: </b>' + df_acoes['tipo'].astype(\n",
    "        str) + '<br><b>Notícia: </b>' + df_acoes['texto']\n",
    "\n",
    "df_noticias = df_acoes.groupby([\n",
    "    'week_number'\n",
    "])['noticia'].apply(lambda x: '<br><br>'.join(x)).reset_index()\n",
    "\n",
    "# df_noticias['noticia'] = '<div style=\"height:120px;width:120px;border:1px solid #ccc;font:16px/26px Georgia, Garamond, Serif;overflow:auto;\">' + df_noticias['noticia'] + '</div>'\n",
    "# df_noticias['noticia'] = '<p>' + df_noticias['noticia'] + '</p>'\n",
    "df_covid_saude_grouped = df_covid_saude_grouped.merge(df_noticias,\n",
    "                                                      how='left',\n",
    "                                                      on='week_number')\n",
    "\n",
    "df_covid_saude_grouped['noticia'] = df_covid_saude_grouped['noticia'].where(pd.notnull(df_covid_saude_grouped['noticia']), None)"
   ]
  },
  {
   "cell_type": "code",
   "execution_count": null,
   "metadata": {
    "ExecuteTime": {
     "end_time": "2021-11-20T19:21:59.346614Z",
     "start_time": "2021-11-20T19:21:54.444327Z"
    }
   },
   "outputs": [],
   "source": [
    "# df_covid_saude_mun.to_parquet('../data/app/covid_saude_obito_municipio.parquet', index=False)\n",
    "df_covid_saude_grouped.to_parquet('../data/app/covid_saude_obito_grouped.parquet', index=False)"
   ]
  },
  {
   "cell_type": "code",
   "execution_count": null,
   "metadata": {},
   "outputs": [],
   "source": [
    "df_teste = pd.read_parquet('../data/app/est_cidade.parquet')"
   ]
  },
  {
   "cell_type": "code",
   "execution_count": null,
   "metadata": {},
   "outputs": [],
   "source": [
    "df_teste.drop_duplicates().dropna().to_parquet('../data/app/est_cidade.parquet', index=False)"
   ]
  }
 ],
 "metadata": {
  "kernelspec": {
   "display_name": "Python 3 (ipykernel)",
   "language": "python",
   "name": "python3"
  },
  "language_info": {
   "codemirror_mode": {
    "name": "ipython",
    "version": 3
   },
   "file_extension": ".py",
   "mimetype": "text/x-python",
   "name": "python",
   "nbconvert_exporter": "python",
   "pygments_lexer": "ipython3",
   "version": "3.8.11"
  },
  "toc": {
   "nav_menu": {},
   "number_sections": true,
   "sideBar": true,
   "skip_h1_title": false,
   "title_cell": "Table of Contents",
   "title_sidebar": "Contents",
   "toc_cell": false,
   "toc_position": {},
   "toc_section_display": true,
   "toc_window_display": false
  }
 },
 "nbformat": 4,
 "nbformat_minor": 2
}
