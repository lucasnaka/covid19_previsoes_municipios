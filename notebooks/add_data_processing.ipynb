{
 "cells": [
  {
   "cell_type": "code",
   "execution_count": null,
   "source": [
    "\r\n",
    "# OS library\r\n",
    "import sys\r\n",
    "sys.path.append('../')\r\n",
    "\r\n",
    "import glob\r\n",
    "import pandas as pd\r\n",
    "import numpy as np\r\n",
    "\r\n",
    "from urllib.request import urlopen\r\n",
    "import json\r\n",
    "\r\n",
    "# Magic to reload notebook\r\n",
    "%load_ext autoreload\r\n",
    "%autoreload 2\r\n",
    "pd.options.display.max_columns = 100"
   ],
   "outputs": [],
   "metadata": {}
  },
  {
   "cell_type": "markdown",
   "source": [
    "# Covid Saúde"
   ],
   "metadata": {}
  },
  {
   "cell_type": "markdown",
   "source": [
    "Painel de casos de doença pelo coronavírus 2019 (COVID-19) no Brasil pelo Ministério da Saúde ([website](https://covid.saude.gov.br/))"
   ],
   "metadata": {}
  },
  {
   "cell_type": "code",
   "execution_count": null,
   "source": [
    "df_covid_saude = pd.read_parquet(\"../data/processed/covid_saude.parquet\")\r\n",
    "df_acoes = pd.read_csv('../data/raw/boletim_covid/acoes.csv', sep='\\t', encoding='latin-1')\r\n",
    "df_referencias = pd.read_csv('../data/raw/boletim_covid/referencias.csv', sep='\\t', encoding='latin-1')"
   ],
   "outputs": [],
   "metadata": {}
  },
  {
   "cell_type": "code",
   "execution_count": null,
   "source": [
    "df_acoes['texto'] = df_acoes['texto'].str.replace('\\x93', '\"')\\\r\n",
    "                                     .str.replace('\\x94', '\"')\\\r\n",
    "                                     .str.replace('\\x91', \"'\")\\\r\n",
    "                                     .str.replace('\\x92', \"'\")\\\r\n",
    "                                     .str.replace('\\x85', '...')"
   ],
   "outputs": [],
   "metadata": {}
  },
  {
   "cell_type": "code",
   "execution_count": null,
   "source": [
    "df_covid_saude_mun = df_covid_saude.loc[df_covid_saude['municipio'].notna()]\r\n",
    "\r\n",
    "df_covid_saude_mun = df_covid_saude_mun[['regiao', 'municipio', 'codmun', 'data', 'obitosNovos']]\r\n",
    "\r\n",
    "df_covid_saude_mun['data'] = pd.to_datetime(df_covid_saude_mun['data'])\r\n",
    "\r\n",
    "df_acoes['data'] = pd.to_datetime(df_acoes['data'], format='%d/%m/%y')\r\n",
    "\r\n",
    "df_acoes['texto'] = df_acoes['texto'].str.wrap(30)\r\n",
    "df_acoes['texto'] = df_acoes['texto'].apply(lambda x: x.replace('\\n', '<br>'))\r\n",
    "\r\n",
    "df_covid_saude_mun = df_covid_saude_mun.merge(df_acoes, how='left', on='data')\r\n",
    "\r\n",
    "df_depara_wn_day = df_covid_saude_mun[['data']].drop_duplicates()\r\n",
    "df_depara_wn_day['weekday'] = df_depara_wn_day['data'].dt.weekday\r\n",
    "df_depara_wn_day['week_number'] = 0\r\n",
    "df_depara_wn_day.loc[df_depara_wn_day['weekday'] == 0, 'week_number'] = 1\r\n",
    "df_depara_wn_day['gropuby_col'] = 1\r\n",
    "df_depara_wn_day['week_number'] = df_depara_wn_day.groupby('gropuby_col')['week_number'].cumsum()\r\n",
    "df_covid_saude_mun = df_covid_saude_mun.merge(df_depara_wn_day[['data', 'week_number']], how='left', on=['data'])\r\n",
    "\r\n",
    "df_covid_saude_mun.sort_values(by=['municipio', 'data'], ascending=[True, True], inplace=True)\r\n",
    "df_covid_saude_reg = df_covid_saude_mun[['regiao', 'week_number', 'data']].drop_duplicates(subset=['regiao', 'week_number'],\r\n",
    "                                                                           keep='first')\r\n",
    "df_weekly_deaths = df_covid_saude_mun.groupby(['week_number'])['obitosNovos'].sum().reset_index(name='new_deaths_week')\r\n",
    "df_weekly_deaths_region = df_covid_saude_mun.groupby(['regiao', 'week_number'])['obitosNovos'].sum().reset_index(\r\n",
    "    name='new_deaths_week_region')\r\n",
    "df_covid_saude_reg = df_covid_saude_reg.merge(df_weekly_deaths_region, how='left', on=['regiao', 'week_number']) \\\r\n",
    "    .merge(df_weekly_deaths, how='left', on=['week_number'])\r\n",
    "df_covid_saude_reg['percentage_deaths'] = df_covid_saude_reg['new_deaths_week_region'] / df_covid_saude_reg['new_deaths_week']\r\n",
    "df_covid_saude_reg.fillna(0, inplace=True)"
   ],
   "outputs": [],
   "metadata": {}
  },
  {
   "cell_type": "code",
   "execution_count": null,
   "source": [
    "\r\n",
    "df_covid_saude_mun.to_parquet('../data/app/covid_saude_obito_municipio.parquet', index=False)\r\n",
    "df_covid_saude_reg.to_parquet('../data/app/covid_saude_obito_regiao.parquet', index=False)"
   ],
   "outputs": [],
   "metadata": {}
  },
  {
   "cell_type": "code",
   "execution_count": null,
   "source": [
    "\r\n",
    "with urlopen('https://raw.githubusercontent.com/codeforamerica/click_that_hood/master/public/data/brazil-states.geojson') as response:\r\n",
    "    Brasil = json.load(response)\r\n",
    "state_id_map = {}\r\n",
    "\r\n",
    "for feature in  Brasil[\"features\"]:\r\n",
    "    feature[\"id\"] = feature[\"properties\"][\"name\"]\r\n",
    "    state_id_map[feature[\"properties\"][\"sigla\"]] = feature[\"id\"] # definindo a informação do gráfico"
   ],
   "outputs": [],
   "metadata": {}
  },
  {
   "cell_type": "code",
   "execution_count": null,
   "source": [
    "df_teste = pd.read_parquet('../data/app/est_cidade.parquet')"
   ],
   "outputs": [],
   "metadata": {}
  },
  {
   "cell_type": "code",
   "execution_count": null,
   "source": [
    "df_teste.drop_duplicates().dropna().to_parquet('../data/app/est_cidade.parquet', index=False)"
   ],
   "outputs": [],
   "metadata": {}
  }
 ],
 "metadata": {
  "orig_nbformat": 4,
  "language_info": {
   "name": "python"
  }
 },
 "nbformat": 4,
 "nbformat_minor": 2
}