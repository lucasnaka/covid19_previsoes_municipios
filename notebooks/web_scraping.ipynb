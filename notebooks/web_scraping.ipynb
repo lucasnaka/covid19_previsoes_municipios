{
 "cells": [
  {
   "cell_type": "markdown",
   "id": "ba96bb57",
   "metadata": {},
   "source": [
    "# Imports"
   ]
  },
  {
   "cell_type": "code",
   "execution_count": null,
   "id": "5970cc66",
   "metadata": {
    "ExecuteTime": {
     "end_time": "2021-11-05T12:05:11.372816Z",
     "start_time": "2021-11-05T12:05:10.439150Z"
    }
   },
   "outputs": [],
   "source": [
    "import urllib.request\n",
    "import os\n",
    "import patoolib\n",
    "from selenium import webdriver\n",
    "from selenium.webdriver.firefox.options import Options\n",
    "import glob,os\n",
    "from selenium.webdriver.support import expected_conditions as EC\n",
    "import time\n",
    "import pandas as pd"
   ]
  },
  {
   "cell_type": "markdown",
   "id": "74db0ba5",
   "metadata": {},
   "source": [
    "# Selenium"
   ]
  },
  {
   "cell_type": "code",
   "execution_count": null,
   "id": "8c0f53ee",
   "metadata": {
    "ExecuteTime": {
     "end_time": "2021-10-07T01:01:47.049025Z",
     "start_time": "2021-10-07T01:01:25.689165Z"
    }
   },
   "outputs": [],
   "source": [
    "download_path = os.path.abspath(os.path.join(os.path.abspath(os.getcwd()), os.pardir)) + '\\\\data\\\\raw\\\\covid_saude'\n",
    "options = webdriver.ChromeOptions()\n",
    "prefs = {\"download.default_directory\" : download_path}\n",
    "options.add_experimental_option(\"prefs\", prefs)\n",
    "\n",
    "driver = webdriver.Chrome(executable_path='./chromedriver',chrome_options=options)\n",
    "\n",
    "try:\n",
    "    driver.get(\"https://covid.saude.gov.br/\")\n",
    "    # delay = 3 # seconds\n",
    "    # try:\n",
    "    #     myElem = WebDriverWait(browser, delay).until(EC.element_to_be_clickable((By.CLASS_NAME, \"btn-white.md.button.button-solid.button-has-icon-only.ion-activatable.ion-focusable.hydrated\")))\n",
    "    #     print(\"Page is ready!\")\n",
    "    # except Exception as e:\n",
    "    #     print(\"Loading took too much time!\")\n",
    "\n",
    "    button = driver.find_element_by_class_name(\"btn-white.md.button.button-solid.button-has-icon-only.ion-activatable.ion-focusable.hydrated\")\n",
    "    time.sleep(3)\n",
    "    button.click()\n",
    "    time.sleep(10)\n",
    "    driver.close()\n",
    "\n",
    "    # Delete old .csv files\n",
    "    dir_name = '../data/raw/covid_saude'\n",
    "\n",
    "    # Unzip files and delete zipped file\n",
    "    for item in os.listdir(dir_name): # loop through items in dir\n",
    "        if item.endswith('.rar'): # check for \".rar\" extension\n",
    "            file_name = os.path.abspath(item) # get full path of files\n",
    "            file_name = file_name.replace('notebooks', 'data\\\\raw\\\\covid_saude')\n",
    "            patoolib.extract_archive(file_name, outdir=\"../data/raw/covid_saude\")\n",
    "            time.sleep(3)\n",
    "            os.remove(file_name) # delete zipped file\n",
    "    \n",
    "except Exception as e:\n",
    "    print('Error:', e)"
   ]
  },
  {
   "cell_type": "markdown",
   "id": "835b4451",
   "metadata": {},
   "source": [
    "# Data Processing"
   ]
  },
  {
   "cell_type": "code",
   "execution_count": null,
   "id": "3d2a1183",
   "metadata": {
    "ExecuteTime": {
     "end_time": "2021-10-07T01:02:23.069527Z",
     "start_time": "2021-10-07T01:02:03.449617Z"
    }
   },
   "outputs": [],
   "source": [
    "list_dfs = []\n",
    "\n",
    "for item in os.listdir(dir_name): # loop through items in dir\n",
    "    if item.endswith('.csv'): # check for \".csv\" extension\n",
    "        list_dfs.append(pd.read_csv('../data/raw/covid_saude/' + item, sep=\";\"))\n",
    "        \n",
    "df_covid_saude = pd.concat(list_dfs)\n",
    "\n",
    "df_covid_saude.to_parquet(\"../data/processed/covid_saude.parquet\", index=False)\n",
    "\n",
    "for item in os.listdir(dir_name): # loop through items in dir\n",
    "    if item.endswith('.csv'): # check for \".csv\" extension\n",
    "        file_name = os.path.abspath(item) # get full path of files\n",
    "        file_name = file_name.replace('notebooks', 'data\\\\raw\\\\covid_saude')\n",
    "        os.remove(file_name) # delete zipped file"
   ]
  },
  {
   "cell_type": "code",
   "execution_count": null,
   "id": "d6033894",
   "metadata": {},
   "outputs": [],
   "source": []
  }
 ],
 "metadata": {
  "kernelspec": {
   "display_name": "Python 3 (ipykernel)",
   "language": "python",
   "name": "python3"
  },
  "language_info": {
   "codemirror_mode": {
    "name": "ipython",
    "version": 3
   },
   "file_extension": ".py",
   "mimetype": "text/x-python",
   "name": "python",
   "nbconvert_exporter": "python",
   "pygments_lexer": "ipython3",
   "version": "3.8.11"
  },
  "toc": {
   "nav_menu": {},
   "number_sections": true,
   "sideBar": true,
   "skip_h1_title": false,
   "title_cell": "Table of Contents",
   "title_sidebar": "Contents",
   "toc_cell": false,
   "toc_position": {},
   "toc_section_display": true,
   "toc_window_display": false
  }
 },
 "nbformat": 4,
 "nbformat_minor": 5
}
