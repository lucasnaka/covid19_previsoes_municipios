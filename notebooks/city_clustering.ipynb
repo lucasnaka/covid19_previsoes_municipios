{
 "cells": [
  {
   "cell_type": "markdown",
   "id": "00474828",
   "metadata": {},
   "source": [
    "# Imports"
   ]
  },
  {
   "cell_type": "code",
   "execution_count": null,
   "id": "c6e2f8ac",
   "metadata": {
    "ExecuteTime": {
     "end_time": "2021-11-11T22:55:18.244330Z",
     "start_time": "2021-11-11T22:55:17.732331Z"
    }
   },
   "outputs": [],
   "source": [
    "import pandas as pd\n",
    "import geopandas as gpd\n",
    "import numpy as np\n",
    "\n",
    "import plotly.express as px\n",
    "\n",
    "import seaborn as sns\n",
    "from matplotlib import pyplot as plt\n",
    "\n",
    "from scipy.cluster.hierarchy import dendrogram\n",
    "from scipy import stats\n",
    "from sklearn.cluster import AgglomerativeClustering\n",
    "from libpysal.weights import Queen, KNN\n",
    "from esda.moran import Moran\n",
    "from sklearn.preprocessing import MinMaxScaler\n",
    "from sklearn.preprocessing import robust_scale\n",
    "import urllib.request\n",
    "import gzip\n",
    "\n",
    "# Magic to reload notebook\n",
    "%load_ext autoreload\n",
    "%autoreload 2\n",
    "pd.options.display.max_columns = 100\n",
    "\n",
    "from tqdm import tqdm\n",
    "import warnings\n",
    "warnings.filterwarnings('ignore')"
   ]
  },
  {
   "cell_type": "markdown",
   "id": "72b79b5a",
   "metadata": {},
   "source": [
    "# Load Data"
   ]
  },
  {
   "cell_type": "code",
   "execution_count": null,
   "id": "0286592e",
   "metadata": {
    "ExecuteTime": {
     "end_time": "2021-11-11T21:38:34.019522Z",
     "start_time": "2021-11-11T21:38:25.594080Z"
    }
   },
   "outputs": [],
   "source": [
    "df_mun_malha = gpd.read_file('../data/raw/ibge/BR_Municipios_2020.shp')"
   ]
  },
  {
   "cell_type": "code",
   "execution_count": null,
   "id": "44731845",
   "metadata": {
    "ExecuteTime": {
     "end_time": "2021-11-11T21:40:49.605419Z",
     "start_time": "2021-11-11T21:38:34.025078Z"
    }
   },
   "outputs": [],
   "source": [
    "df_cidades = pd.ExcelFile('../data/raw/ibge/IBGE_CIDADES_5564.xls')"
   ]
  },
  {
   "cell_type": "code",
   "execution_count": null,
   "id": "b6984d9f",
   "metadata": {
    "ExecuteTime": {
     "end_time": "2021-11-11T21:40:50.140527Z",
     "start_time": "2021-11-11T21:40:49.609544Z"
    }
   },
   "outputs": [],
   "source": [
    "df_mun_infos = df_cidades.parse('Síntese das Informações')"
   ]
  },
  {
   "cell_type": "code",
   "execution_count": null,
   "id": "22c02592",
   "metadata": {
    "ExecuteTime": {
     "end_time": "2021-11-11T21:40:50.482125Z",
     "start_time": "2021-11-11T21:40:50.146357Z"
    }
   },
   "outputs": [],
   "source": [
    "df_mun_coord = pd.read_csv('../data/raw/municipios_coords.csv')"
   ]
  },
  {
   "cell_type": "code",
   "execution_count": null,
   "id": "f72e9217",
   "metadata": {
    "ExecuteTime": {
     "end_time": "2021-11-11T21:42:49.852862Z",
     "start_time": "2021-11-11T21:40:50.487530Z"
    }
   },
   "outputs": [],
   "source": [
    "df_mun_idh = pd.read_excel('../data/raw/atlas/Atlas 2013_municipal, estadual e Brasil.xlsx', sheet_name='MUN 91-00-10')"
   ]
  },
  {
   "cell_type": "code",
   "execution_count": null,
   "id": "d975e601",
   "metadata": {
    "ExecuteTime": {
     "end_time": "2021-11-11T21:42:50.805476Z",
     "start_time": "2021-11-11T21:42:49.860713Z"
    }
   },
   "outputs": [],
   "source": [
    "df_qtde_sus = pd.read_csv('../data/raw/datasus/cadastro_estabelecimentos_cnes.csv')"
   ]
  },
  {
   "cell_type": "code",
   "execution_count": null,
   "id": "ea33b13d",
   "metadata": {
    "ExecuteTime": {
     "end_time": "2021-11-11T21:42:54.335975Z",
     "start_time": "2021-11-11T21:42:50.809392Z"
    }
   },
   "outputs": [],
   "source": [
    "dados_covid = pd.read_parquet('../data/processed/covid_saude.parquet')\n",
    "dados_covid['data'] = pd.to_datetime(dados_covid['data'])"
   ]
  },
  {
   "cell_type": "markdown",
   "id": "6b6f7094",
   "metadata": {},
   "source": [
    "# Data processing"
   ]
  },
  {
   "cell_type": "markdown",
   "id": "5be1c552",
   "metadata": {
    "ExecuteTime": {
     "end_time": "2021-11-01T14:47:28.911462Z",
     "start_time": "2021-11-01T14:47:28.785799Z"
    }
   },
   "source": [
    "**Dados COVID**  \n",
    "```\n",
    "dados_covid_brasil  \n",
    "dados_covid_estados  \n",
    "dados_covid_cidades \n",
    "```"
   ]
  },
  {
   "cell_type": "code",
   "execution_count": null,
   "id": "cad49b9f",
   "metadata": {
    "ExecuteTime": {
     "end_time": "2021-11-11T21:42:55.778732Z",
     "start_time": "2021-11-11T21:42:54.337819Z"
    }
   },
   "outputs": [],
   "source": [
    "dados_covid.sort_values(by=['data'], inplace=True)"
   ]
  },
  {
   "cell_type": "code",
   "execution_count": null,
   "id": "46d3c4bb",
   "metadata": {
    "ExecuteTime": {
     "end_time": "2021-11-11T21:42:56.760652Z",
     "start_time": "2021-11-11T21:42:55.782512Z"
    }
   },
   "outputs": [],
   "source": [
    "dados_covid['year'] = dados_covid['data'].dt.year\n",
    "dados_covid['weekday'] = dados_covid['data'].dt.weekday\n",
    "dados_covid['week_number'] = 0\n",
    "dados_covid.loc[dados_covid['weekday']==0, 'week_number'] = 1"
   ]
  },
  {
   "cell_type": "code",
   "execution_count": null,
   "id": "5513cf9e",
   "metadata": {
    "ExecuteTime": {
     "end_time": "2021-11-11T21:42:58.863440Z",
     "start_time": "2021-11-11T21:42:56.766633Z"
    }
   },
   "outputs": [],
   "source": [
    "dados_covid_cidades = dados_covid.loc[dados_covid['regiao']!='Brasil']\n",
    "dados_covid_cidades = dados_covid_cidades[dados_covid_cidades['municipio'].notna()]\n",
    "dados_covid_cidades.reset_index(drop=True, inplace=True)"
   ]
  },
  {
   "cell_type": "code",
   "execution_count": null,
   "id": "fb37c851",
   "metadata": {
    "ExecuteTime": {
     "end_time": "2021-11-11T21:43:00.241223Z",
     "start_time": "2021-11-11T21:42:58.868486Z"
    }
   },
   "outputs": [],
   "source": [
    "dados_covid_estados = dados_covid.loc[dados_covid['regiao']!='Brasil']\n",
    "dados_covid_estados = dados_covid_estados[dados_covid_estados['municipio'].isna()]\n",
    "dados_covid_estados.reset_index(drop=True, inplace=True)"
   ]
  },
  {
   "cell_type": "code",
   "execution_count": null,
   "id": "1696eee5",
   "metadata": {
    "ExecuteTime": {
     "end_time": "2021-11-11T21:43:00.813697Z",
     "start_time": "2021-11-11T21:43:00.247154Z"
    }
   },
   "outputs": [],
   "source": [
    "dados_covid_brasil = dados_covid.loc[dados_covid['regiao']=='Brasil']\n",
    "dados_covid_brasil.reset_index(drop=True, inplace=True)"
   ]
  },
  {
   "cell_type": "code",
   "execution_count": null,
   "id": "b0de4eac",
   "metadata": {
    "ExecuteTime": {
     "end_time": "2021-11-11T21:43:01.281490Z",
     "start_time": "2021-11-11T21:43:00.815132Z"
    }
   },
   "outputs": [],
   "source": [
    "dados_covid_cidades['week_number'] = dados_covid_cidades.groupby('codmun')['week_number'].cumsum()\n",
    "dados_covid_estados['week_number'] = dados_covid_estados.groupby('estado')['week_number'].cumsum()\n",
    "dados_covid_brasil['week_number'] = dados_covid_brasil['week_number'].cumsum()"
   ]
  },
  {
   "cell_type": "code",
   "execution_count": null,
   "id": "ed3da0ae",
   "metadata": {
    "ExecuteTime": {
     "end_time": "2021-11-11T21:43:01.529280Z",
     "start_time": "2021-11-11T21:43:01.285404Z"
    }
   },
   "outputs": [],
   "source": [
    "df_mun_idh = df_mun_idh.loc[df_mun_idh['ANO']==2010]"
   ]
  },
  {
   "cell_type": "code",
   "execution_count": null,
   "id": "8e7cb8f1",
   "metadata": {
    "ExecuteTime": {
     "end_time": "2021-11-11T21:43:01.836399Z",
     "start_time": "2021-11-11T21:43:01.532935Z"
    }
   },
   "outputs": [],
   "source": [
    "df_mun_infos.rename(columns={'Código IBGE do Município':'codigo_ibge_2'}, inplace=True)\n",
    "df_mun_idh.rename(columns={'Codmun6':'codigo_ibge_2', \n",
    "                           'Codmun7':'codigo_ibge_1'}, inplace=True)\n",
    "df_mun_malha.rename(columns={'CD_MUN':'codigo_ibge_1'}, inplace=True)\n",
    "df_mun_coord.rename(columns={'codigo_ibge':'codigo_ibge_1'}, inplace=True)"
   ]
  },
  {
   "cell_type": "code",
   "execution_count": null,
   "id": "bac677e0",
   "metadata": {
    "ExecuteTime": {
     "end_time": "2021-11-11T21:43:01.988907Z",
     "start_time": "2021-11-11T21:43:01.838493Z"
    }
   },
   "outputs": [],
   "source": [
    "df_mun_malha['codigo_ibge_1'] = df_mun_malha['codigo_ibge_1'].astype(int)"
   ]
  },
  {
   "cell_type": "code",
   "execution_count": null,
   "id": "045c82b2",
   "metadata": {
    "ExecuteTime": {
     "end_time": "2021-11-11T21:43:02.230083Z",
     "start_time": "2021-11-11T21:43:01.992527Z"
    }
   },
   "outputs": [],
   "source": [
    "df_mun_infos = df_mun_infos.merge(df_mun_idh[['codigo_ibge_2','codigo_ibge_1', 'Município']], how='left', on='codigo_ibge_2')"
   ]
  },
  {
   "cell_type": "code",
   "execution_count": null,
   "id": "95a04ec1",
   "metadata": {
    "ExecuteTime": {
     "end_time": "2021-11-11T21:43:02.464766Z",
     "start_time": "2021-11-11T21:43:02.233099Z"
    }
   },
   "outputs": [],
   "source": [
    "df_mun_infos = df_mun_malha[['codigo_ibge_1', 'AREA_KM2', 'geometry']].merge(df_mun_infos, how='left', on='codigo_ibge_1')"
   ]
  },
  {
   "cell_type": "code",
   "execution_count": null,
   "id": "23afe6fd",
   "metadata": {
    "ExecuteTime": {
     "end_time": "2021-11-01T21:41:38.092883Z",
     "start_time": "2021-11-01T21:41:37.956941Z"
    }
   },
   "outputs": [],
   "source": [
    "# df_mun_infos['Nome da Microregião'] = df_mun_infos['Nome da Microregião'].str.normalize('NFKD').str.encode('ascii', errors='ignore').str.decode('utf-8')\n",
    "# df_mun_coord['nome'] = df_mun_coord['nome'].str.normalize('NFKD').str.encode('ascii', errors='ignore').str.decode('utf-8')"
   ]
  },
  {
   "cell_type": "code",
   "execution_count": null,
   "id": "a0bfc338",
   "metadata": {
    "ExecuteTime": {
     "end_time": "2021-11-01T21:41:38.235233Z",
     "start_time": "2021-11-01T21:41:38.093574Z"
    }
   },
   "outputs": [],
   "source": [
    "R = 6371 # The approximate radius of Earth (in Km)\n",
    "\n",
    "df_mun_coord['coord_x'] = R * np.cos(df_mun_coord['latitude']) * np.cos(df_mun_coord['longitude'])\n",
    "df_mun_coord['coord_y'] = R * np.cos(df_mun_coord['latitude']) * np.sin(df_mun_coord['longitude'])\n",
    "df_mun_coord['coord_z'] = R * np.sin(df_mun_coord['latitude'])"
   ]
  },
  {
   "cell_type": "code",
   "execution_count": null,
   "id": "b4a04661",
   "metadata": {
    "ExecuteTime": {
     "end_time": "2021-11-01T21:41:38.377962Z",
     "start_time": "2021-11-01T21:41:38.237193Z"
    }
   },
   "outputs": [],
   "source": [
    "df_mun_infos = df_mun_infos.merge(df_mun_coord[['codigo_ibge_1', 'coord_x', 'coord_y', 'coord_z']], how='left', on='codigo_ibge_1')"
   ]
  },
  {
   "cell_type": "code",
   "execution_count": null,
   "id": "9e485421",
   "metadata": {
    "ExecuteTime": {
     "end_time": "2021-11-01T21:41:38.521264Z",
     "start_time": "2021-11-01T21:41:38.378995Z"
    }
   },
   "outputs": [],
   "source": [
    "df_features = df_mun_infos[['codigo_ibge_1',\n",
    "                            'Município',\n",
    "                            'geometry',\n",
    "                            'Estabelecimentos de Saúde SUS',\n",
    "                            'AREA_KM2',\n",
    "                            'Índice de Desenvolvimento Humano Municipal - 2010 (IDHM 2010)',\n",
    "                            'PIB per capita a preços correntes',\n",
    "                            'População residente',\n",
    "                            'coord_x', \n",
    "                            'coord_y', \n",
    "                            'coord_z']]\n",
    "\n",
    "# Reduzir número de variáveis (variáveis correlacionadas) <- olhar multicolinearidade\n",
    "# Clima\n",
    "# Altitude\n",
    "# Considerar características que mudam ao longo do tempo e têm relação com a doença (estações do ano influenciam)"
   ]
  },
  {
   "cell_type": "code",
   "execution_count": null,
   "id": "9dac78bc",
   "metadata": {
    "ExecuteTime": {
     "end_time": "2021-11-01T21:41:38.677033Z",
     "start_time": "2021-11-01T21:41:38.523445Z"
    }
   },
   "outputs": [],
   "source": [
    "# df_features = df_features.merge(df_mun_coord[['codigo_ibge', 'nome', 'latitude', 'longitude']], how='left', left_on='Nome da Microregião', right_on='nome')"
   ]
  },
  {
   "cell_type": "markdown",
   "id": "246d2d7d",
   "metadata": {
    "heading_collapsed": true
   },
   "source": [
    "# Checking missing data in cities"
   ]
  },
  {
   "cell_type": "markdown",
   "id": "76c8bba3",
   "metadata": {
    "hidden": true
   },
   "source": [
    "We have to define what are the cities with missing data. A city can have only 1 ou 2 deaths accumulated in 2 years or is this indicative of missing data? Let's check this now!"
   ]
  },
  {
   "cell_type": "code",
   "execution_count": null,
   "id": "e3a24232",
   "metadata": {
    "ExecuteTime": {
     "end_time": "2021-11-01T21:41:38.880978Z",
     "start_time": "2021-11-01T21:41:38.679027Z"
    },
    "hidden": true
   },
   "outputs": [],
   "source": [
    "print('Number of cities with covid data =', dados_covid_cidades['codmun'].nunique())"
   ]
  },
  {
   "cell_type": "markdown",
   "id": "cbc396cf",
   "metadata": {
    "hidden": true
   },
   "source": [
    "It seems that our covid dataset has all Brazilian cities (5570). Let's check the number of deaths accumulated in each city until today."
   ]
  },
  {
   "cell_type": "code",
   "execution_count": null,
   "id": "47bead2c",
   "metadata": {
    "ExecuteTime": {
     "end_time": "2021-11-01T21:53:52.201466Z",
     "start_time": "2021-11-01T21:53:51.931186Z"
    },
    "hidden": true
   },
   "outputs": [],
   "source": [
    "df_cities_last_date = dados_covid_cidades.drop_duplicates(subset=['codmun'], keep='last').sort_values(by=['obitosAcumulado'], ascending=True)"
   ]
  },
  {
   "cell_type": "code",
   "execution_count": null,
   "id": "a33056d5",
   "metadata": {
    "ExecuteTime": {
     "end_time": "2021-11-01T21:53:52.356050Z",
     "start_time": "2021-11-01T21:53:52.208446Z"
    },
    "hidden": true
   },
   "outputs": [],
   "source": [
    "df_cities_last_date[['obitosAcumulado']].describe()"
   ]
  },
  {
   "cell_type": "markdown",
   "id": "7f504307",
   "metadata": {
    "hidden": true
   },
   "source": [
    "Some metropolitan cities had an exuberant number of deaths, let's remove the outliers to not impact our analysis."
   ]
  },
  {
   "cell_type": "code",
   "execution_count": null,
   "id": "2953b822",
   "metadata": {
    "ExecuteTime": {
     "end_time": "2021-11-01T21:53:52.528606Z",
     "start_time": "2021-11-01T21:53:52.407911Z"
    },
    "hidden": true
   },
   "outputs": [],
   "source": [
    "df_cities_last_date_no_outlier = df_cities_last_date[(np.abs(stats.zscore(df_cities_last_date[['obitosAcumulado']])) < 3).all(axis=1)]"
   ]
  },
  {
   "cell_type": "code",
   "execution_count": null,
   "id": "b4fbd257",
   "metadata": {
    "ExecuteTime": {
     "end_time": "2021-11-01T21:53:52.670227Z",
     "start_time": "2021-11-01T21:53:52.546555Z"
    },
    "hidden": true
   },
   "outputs": [],
   "source": [
    "df_cities_last_date_no_outlier[['obitosAcumulado']].describe()"
   ]
  },
  {
   "cell_type": "code",
   "execution_count": null,
   "id": "f9358b78",
   "metadata": {
    "ExecuteTime": {
     "end_time": "2021-11-01T21:53:53.466096Z",
     "start_time": "2021-11-01T21:53:52.887650Z"
    },
    "hidden": true
   },
   "outputs": [],
   "source": [
    "df_cities_last_date_no_outlier[['obitosAcumulado']].hist()"
   ]
  },
  {
   "cell_type": "markdown",
   "id": "21e6009d",
   "metadata": {
    "hidden": true
   },
   "source": [
    "We can see that almost half of the cities had less than 20 deaths registered until the 6th october 2021. To check if this is a low number or an indication of missing data, let's compare it with the population size in each city."
   ]
  },
  {
   "cell_type": "code",
   "execution_count": null,
   "id": "be3e0c03",
   "metadata": {
    "ExecuteTime": {
     "end_time": "2021-11-01T21:53:53.605055Z",
     "start_time": "2021-11-01T21:53:53.468090Z"
    },
    "hidden": true
   },
   "outputs": [],
   "source": [
    "df_cities_last_date_no_outlier = df_cities_last_date_no_outlier.merge(\n",
    "    df_mun_infos[['codigo_ibge_2', 'População residente']],\n",
    "    how='left',\n",
    "    left_on='codmun',\n",
    "    right_on='codigo_ibge_2')"
   ]
  },
  {
   "cell_type": "code",
   "execution_count": null,
   "id": "3c1960e1",
   "metadata": {
    "ExecuteTime": {
     "end_time": "2021-11-01T21:53:53.760391Z",
     "start_time": "2021-11-01T21:53:53.631337Z"
    },
    "hidden": true
   },
   "outputs": [],
   "source": [
    "df_cities_last_date_no_outlier['deaths/population'] = df_cities_last_date_no_outlier['obitosAcumulado']/df_cities_last_date_no_outlier['População residente']"
   ]
  },
  {
   "cell_type": "code",
   "execution_count": null,
   "id": "feb0e34b",
   "metadata": {
    "ExecuteTime": {
     "end_time": "2021-11-01T21:53:54.198516Z",
     "start_time": "2021-11-01T21:53:54.058984Z"
    },
    "hidden": true
   },
   "outputs": [],
   "source": [
    "df_cities_last_date_no_outlier[['deaths/population']].describe()"
   ]
  },
  {
   "cell_type": "markdown",
   "id": "6f7a564a",
   "metadata": {
    "hidden": true
   },
   "source": [
    "Let's check for negative data"
   ]
  },
  {
   "cell_type": "code",
   "execution_count": null,
   "id": "51ba5711",
   "metadata": {
    "ExecuteTime": {
     "end_time": "2021-11-01T21:54:27.993745Z",
     "start_time": "2021-11-01T21:54:27.810166Z"
    },
    "hidden": true
   },
   "outputs": [],
   "source": [
    "dados_covid_cidades['obitosNovos'].describe()"
   ]
  },
  {
   "cell_type": "code",
   "execution_count": null,
   "id": "b02d6d29",
   "metadata": {
    "ExecuteTime": {
     "end_time": "2021-11-01T21:56:47.839288Z",
     "start_time": "2021-11-01T21:56:47.695669Z"
    },
    "hidden": true
   },
   "outputs": [],
   "source": [
    "dados_covid_cidades.loc[dados_covid_cidades['obitosNovos']<0, 'codmun'].nunique()"
   ]
  },
  {
   "cell_type": "markdown",
   "id": "ccd0a021",
   "metadata": {},
   "source": [
    "# Modeling"
   ]
  },
  {
   "cell_type": "markdown",
   "id": "ca8d6c83",
   "metadata": {
    "ExecuteTime": {
     "end_time": "2021-10-17T17:07:25.401914Z",
     "start_time": "2021-10-17T17:07:25.263286Z"
    }
   },
   "source": [
    "Seguiremos a seguir o desenvolvimento de clusterização descrito em: [geographicdata.science](https://geographicdata.science/book/notebooks/10_clustering_and_regionalization.html#introduction)"
   ]
  },
  {
   "cell_type": "code",
   "execution_count": null,
   "id": "4ce4ea91",
   "metadata": {
    "ExecuteTime": {
     "end_time": "2021-11-11T21:43:46.815011Z",
     "start_time": "2021-11-11T21:43:46.466934Z"
    }
   },
   "outputs": [],
   "source": [
    "cluster_variables = ['Estabelecimentos de Saúde SUS',\n",
    "                     'AREA_KM2',\n",
    "                     'Índice de Desenvolvimento Humano Municipal - 2010 (IDHM 2010)',\n",
    "                     'PIB per capita a preços correntes',\n",
    "#                      'População residente'\n",
    "                    ]"
   ]
  },
  {
   "cell_type": "code",
   "execution_count": null,
   "id": "0252212c",
   "metadata": {
    "ExecuteTime": {
     "end_time": "2021-11-11T21:43:47.390444Z",
     "start_time": "2021-11-11T21:43:47.122258Z"
    }
   },
   "outputs": [],
   "source": [
    "df_mun_infos = gpd.GeoDataFrame(df_mun_infos)"
   ]
  },
  {
   "cell_type": "code",
   "execution_count": null,
   "id": "30f5619d",
   "metadata": {
    "ExecuteTime": {
     "end_time": "2021-11-11T21:43:48.141512Z",
     "start_time": "2021-11-11T21:43:47.796541Z"
    }
   },
   "outputs": [],
   "source": [
    "df_mun_infos[cluster_variables] = df_mun_infos[cluster_variables].fillna(df_mun_infos[cluster_variables].median())"
   ]
  },
  {
   "cell_type": "markdown",
   "id": "687e6b0a",
   "metadata": {},
   "source": [
    "Spatial distribution of each variable alone"
   ]
  },
  {
   "cell_type": "code",
   "execution_count": null,
   "id": "f6a0d551",
   "metadata": {
    "ExecuteTime": {
     "end_time": "2021-11-11T21:44:29.091204Z",
     "start_time": "2021-11-11T21:43:48.774869Z"
    }
   },
   "outputs": [],
   "source": [
    "f, axs = plt.subplots(nrows=len(cluster_variables), ncols=1, figsize=(30, 30))\n",
    "# Make the axes accessible with single indexing\n",
    "axs = axs.flatten()\n",
    "# Start a loop over all the variables of interest\n",
    "for i, col in enumerate(cluster_variables):\n",
    "    # select the axis where the map will go\n",
    "    ax = axs[i]\n",
    "    # Plot the map\n",
    "    df_mun_infos.plot(\n",
    "        column=col, \n",
    "        ax=ax,\n",
    "        scheme='Quantiles', \n",
    "        linewidth=0,\n",
    "        cmap='RdPu',\n",
    "        legend=True\n",
    "    )\n",
    "    # Remove axis clutter\n",
    "    ax.set_axis_off()\n",
    "    # Set the axis title to the name of variable being plotted\n",
    "    ax.set_title(col)\n",
    "# Display the figure\n",
    "plt.show()"
   ]
  },
  {
   "cell_type": "markdown",
   "id": "3a041766",
   "metadata": {},
   "source": [
    "Podemos observar que:\n",
    "- A **quantidade de estabelecimentos de saúde SUS** e a **população residente** em cada município são bem distribuídas ao longo de todo território brasileiro\n",
    "- Os maiores **IDHs** se concentram nas regiões centro-oeste, sudeste e sul\n",
    "- Os municípios de maior **área** se concentram nas regiões norte, centro-oeste e interior do nordeste\n",
    "- Os municípios de maior **PIB** se concentram nas regiões centro-oeste, sudeste e sul"
   ]
  },
  {
   "cell_type": "markdown",
   "id": "b5661e9f",
   "metadata": {},
   "source": [
    "\"Now let’s calculate Moran’s I for the variables being used. This will measure the extent to which each variable contains spatial structure:\""
   ]
  },
  {
   "cell_type": "code",
   "execution_count": null,
   "id": "36cd8b0d",
   "metadata": {
    "ExecuteTime": {
     "end_time": "2021-10-27T22:07:11.337169Z",
     "start_time": "2021-10-27T22:07:10.901375Z"
    }
   },
   "outputs": [],
   "source": [
    "# # Set seed for reproducibility\n",
    "# np.random.seed(42)\n",
    "# # Calculate Moran's I for each variable\n",
    "# mi_results = [Moran(df_mun_infos[variable], w) for variable in cluster_variables]\n",
    "# # Structure results as a list of tuples\n",
    "# mi_results = [\n",
    "#     (variable, res.I, res.p_sim) for variable,res in zip(cluster_variables, mi_results)\n",
    "# ]\n",
    "# # Display on table\n",
    "# table = pd.DataFrame(\n",
    "#     mi_results,\n",
    "#     columns=['Variable', \"Moran's I\", 'P-value']\n",
    "# ).set_index('Variable')\n",
    "# table"
   ]
  },
  {
   "cell_type": "markdown",
   "id": "d0b89773",
   "metadata": {},
   "source": [
    "\"Each of the variables displays significant positive spatial autocorrelation, suggesting clear spatial structure in the socioeconomic geography of Brazil. This means it is likely the clusters we find will have a non random spatial distribution.\""
   ]
  },
  {
   "cell_type": "markdown",
   "id": "5e047ae6",
   "metadata": {},
   "source": [
    "\"To explore cross-attribute relationships, we need to consider the spatial correlation between variables.\""
   ]
  },
  {
   "cell_type": "code",
   "execution_count": null,
   "id": "e41b1874",
   "metadata": {
    "ExecuteTime": {
     "end_time": "2021-10-27T22:07:48.418052Z",
     "start_time": "2021-10-27T22:07:14.385517Z"
    }
   },
   "outputs": [],
   "source": [
    "_ = sns.pairplot(df_mun_infos[cluster_variables], kind='reg', diag_kind='kde')"
   ]
  },
  {
   "cell_type": "code",
   "execution_count": null,
   "id": "b882d1dc",
   "metadata": {
    "ExecuteTime": {
     "end_time": "2021-10-27T22:07:48.931959Z",
     "start_time": "2021-10-27T22:07:48.427519Z"
    }
   },
   "outputs": [],
   "source": [
    "df_mun_infos[cluster_variables].corr()"
   ]
  },
  {
   "cell_type": "markdown",
   "id": "56811199",
   "metadata": {},
   "source": [
    "Analisando as distribuições univariadas dos valores de cada variável, observam-se algumas variáveis assimétricas positivas (estabelecimentos SUS, área, PIB e população), enquanto o IDH se demonstra centralizado com 2 picos."
   ]
  },
  {
   "cell_type": "code",
   "execution_count": null,
   "id": "d21baba6",
   "metadata": {
    "ExecuteTime": {
     "end_time": "2021-11-11T22:00:01.513504Z",
     "start_time": "2021-11-11T22:00:01.197371Z"
    }
   },
   "outputs": [],
   "source": [
    "drop_columns = ['Município', 'geometry', 'codigo_ibge_1', 'codigo_ibge_2']"
   ]
  },
  {
   "cell_type": "code",
   "execution_count": null,
   "id": "65971a6f",
   "metadata": {
    "ExecuteTime": {
     "end_time": "2021-11-12T11:15:23.126731Z",
     "start_time": "2021-11-12T11:15:22.752964Z"
    }
   },
   "outputs": [],
   "source": [
    "df = df_mun_infos[cluster_variables+drop_columns]"
   ]
  },
  {
   "cell_type": "markdown",
   "id": "a917e812",
   "metadata": {},
   "source": [
    "\"A clustering algorithm that uses distance to determine classifications may be affected by outliers. Therefore, as a rule, we standardize our data when clustering.\""
   ]
  },
  {
   "cell_type": "code",
   "execution_count": null,
   "id": "c114dd20",
   "metadata": {
    "ExecuteTime": {
     "end_time": "2021-10-27T21:36:53.532105Z",
     "start_time": "2021-10-27T21:36:53.532105Z"
    }
   },
   "outputs": [],
   "source": [
    "df[cluster_variables] = robust_scale(df[cluster_variables])"
   ]
  },
  {
   "cell_type": "code",
   "execution_count": null,
   "id": "280d1de3",
   "metadata": {
    "ExecuteTime": {
     "end_time": "2021-10-27T21:36:53.534102Z",
     "start_time": "2021-10-27T21:36:53.534102Z"
    }
   },
   "outputs": [],
   "source": [
    "scaler = MinMaxScaler()"
   ]
  },
  {
   "cell_type": "code",
   "execution_count": null,
   "id": "7c5af033",
   "metadata": {
    "ExecuteTime": {
     "end_time": "2021-10-27T21:36:53.537093Z",
     "start_time": "2021-10-27T21:36:53.537093Z"
    }
   },
   "outputs": [],
   "source": [
    "scaler.fit(df[cluster_variables])"
   ]
  },
  {
   "cell_type": "code",
   "execution_count": null,
   "id": "156fc22b",
   "metadata": {
    "ExecuteTime": {
     "end_time": "2021-10-27T21:36:53.540086Z",
     "start_time": "2021-10-27T21:36:53.540086Z"
    }
   },
   "outputs": [],
   "source": [
    "df[cluster_variables] = scaler.transform(df[cluster_variables])"
   ]
  },
  {
   "cell_type": "code",
   "execution_count": null,
   "id": "2bc9da3b",
   "metadata": {
    "ExecuteTime": {
     "end_time": "2021-10-27T21:36:53.543077Z",
     "start_time": "2021-10-27T21:36:53.543077Z"
    }
   },
   "outputs": [],
   "source": [
    "df.describe()"
   ]
  },
  {
   "cell_type": "code",
   "execution_count": null,
   "id": "c80c5110",
   "metadata": {
    "ExecuteTime": {
     "end_time": "2021-10-27T21:36:53.546069Z",
     "start_time": "2021-10-27T21:36:53.546069Z"
    }
   },
   "outputs": [],
   "source": [
    "def plot_dendrogram(model, **kwargs):\n",
    "    # Create linkage matrix and then plot the dendrogram\n",
    "\n",
    "    # create the counts of samples under each node\n",
    "    counts = np.zeros(model.children_.shape[0])\n",
    "    n_samples = len(model.labels_)\n",
    "    for i, merge in enumerate(model.children_):\n",
    "        current_count = 0\n",
    "        for child_idx in merge:\n",
    "            if child_idx < n_samples:\n",
    "                current_count += 1  # leaf node\n",
    "            else:\n",
    "                current_count += counts[child_idx - n_samples]\n",
    "        counts[i] = current_count\n",
    "\n",
    "    linkage_matrix = np.column_stack([model.children_, model.distances_,\n",
    "                                      counts]).astype(float)\n",
    "\n",
    "    # Plot the corresponding dendrogram\n",
    "    dendrogram(linkage_matrix, **kwargs)"
   ]
  },
  {
   "cell_type": "code",
   "execution_count": null,
   "id": "8083522e",
   "metadata": {
    "ExecuteTime": {
     "end_time": "2021-10-27T21:36:53.549060Z",
     "start_time": "2021-10-27T21:36:53.549060Z"
    }
   },
   "outputs": [],
   "source": [
    "# setting distance_threshold=0 ensures we compute the full tree.\n",
    "model = AgglomerativeClustering(distance_threshold=0, n_clusters=None)\n",
    "\n",
    "model = model.fit(df.drop(columns=drop_columns))\n",
    "plt.figure(figsize=(15,8))\n",
    "plt.title('Hierarchical Clustering Dendrogram')\n",
    "# plot the top three levels of the dendrogram\n",
    "plot_dendrogram(model, truncate_mode='level', p=5)\n",
    "plt.xlabel(\"Number of points in node (or index of point if no parenthesis).\")\n",
    "plt.show()"
   ]
  },
  {
   "cell_type": "code",
   "execution_count": null,
   "id": "62ded0db",
   "metadata": {
    "ExecuteTime": {
     "end_time": "2021-10-27T21:36:53.551056Z",
     "start_time": "2021-10-27T21:36:53.551056Z"
    }
   },
   "outputs": [],
   "source": [
    "df_mun_infos.loc[df_mun_infos.index.isin([3242,3829,949,2309,2162,5569,111,4005,3479,5417,1596])]"
   ]
  },
  {
   "cell_type": "markdown",
   "id": "1bfe92e4",
   "metadata": {},
   "source": [
    "Pelo dendrograma observa-se que logo na primeira divisão já são separadas 2 cidades (3242 SP e 3829 RJ) das 5568 demais. Vamos tentar remover as capitais e plotar o dendrograma novamente."
   ]
  },
  {
   "cell_type": "code",
   "execution_count": null,
   "id": "0a3df40a",
   "metadata": {
    "ExecuteTime": {
     "end_time": "2021-10-27T21:36:53.553304Z",
     "start_time": "2021-10-27T21:36:53.553304Z"
    }
   },
   "outputs": [],
   "source": [
    "df_no_capitals = df.loc[~df['codigo_ibge_1'].isin([1100205,1302603,1200401,5002704,1600303,5300108,1400100,5103403,1721000,3550308,2211001,3304557,1501402,5208707,4205407,2111300,2704302,4314902,4106902,3106200,2304400,2611606,2507507,2800308,2408102,3205309])]"
   ]
  },
  {
   "cell_type": "code",
   "execution_count": null,
   "id": "835dd467",
   "metadata": {
    "ExecuteTime": {
     "end_time": "2021-10-27T21:36:53.555299Z",
     "start_time": "2021-10-27T21:36:53.555299Z"
    }
   },
   "outputs": [],
   "source": [
    "# setting distance_threshold=0 ensures we compute the full tree.\n",
    "model = AgglomerativeClustering(distance_threshold=0, n_clusters=None)\n",
    "\n",
    "model = model.fit(df_no_capitals.drop(columns=drop_columns))\n",
    "plt.figure(figsize=(15,8))\n",
    "plt.title('Hierarchical Clustering Dendrogram')\n",
    "# plot the top three levels of the dendrogram\n",
    "plot_dendrogram(model, truncate_mode='level', p=10)\n",
    "plt.xlabel(\"Number of points in node (or index of point if no parenthesis).\")\n",
    "plt.show()"
   ]
  },
  {
   "cell_type": "markdown",
   "id": "1a194800",
   "metadata": {},
   "source": [
    "Já temos clusters melhores dividos e não tão influenciados pelas capitais. Vamos testar agora removendo os outliers do dataset completo"
   ]
  },
  {
   "cell_type": "code",
   "execution_count": null,
   "id": "68105263",
   "metadata": {
    "ExecuteTime": {
     "end_time": "2021-11-11T22:00:05.951102Z",
     "start_time": "2021-11-11T22:00:05.668442Z"
    }
   },
   "outputs": [],
   "source": [
    "df_no_outlier = df[(np.abs(stats.zscore(df[cluster_variables])) < 3).all(axis=1)]"
   ]
  },
  {
   "cell_type": "code",
   "execution_count": null,
   "id": "8247c418",
   "metadata": {
    "ExecuteTime": {
     "end_time": "2021-10-27T21:36:53.560287Z",
     "start_time": "2021-10-27T21:36:53.560287Z"
    }
   },
   "outputs": [],
   "source": [
    "# setting distance_threshold=0 ensures we compute the full tree.\n",
    "model = AgglomerativeClustering(distance_threshold=0, n_clusters=None)\n",
    "\n",
    "model = model.fit(df_no_outlier.drop(columns=drop_columns))\n",
    "plt.figure(figsize=(15,8))\n",
    "plt.title('Hierarchical Clustering Dendrogram')\n",
    "# plot the top three levels of the dendrogram\n",
    "plot_dendrogram(model, truncate_mode='level', p=10)\n",
    "plt.xlabel(\"Number of points in node (or index of point if no parenthesis).\")\n",
    "plt.show()"
   ]
  },
  {
   "cell_type": "markdown",
   "id": "b4dd4559",
   "metadata": {},
   "source": [
    "Removendo os outliers a quantidade de municípios em cada cluster é muito mais balanceada. Vamos continuar a clusterização com o dataset sem outlier e depois definiremos o cluster das demais 207 cidades"
   ]
  },
  {
   "cell_type": "code",
   "execution_count": null,
   "id": "7669d368",
   "metadata": {
    "ExecuteTime": {
     "end_time": "2021-10-27T21:36:53.562281Z",
     "start_time": "2021-10-27T21:36:53.562281Z"
    }
   },
   "outputs": [],
   "source": [
    "# Suppose 15 clusters (5 features classified as low, medium or high)\n",
    "model = AgglomerativeClustering(linkage='ward', n_clusters=15)\n",
    "\n",
    "model = model.fit(df_no_outlier.drop(columns=drop_columns))\n",
    "\n",
    "# Assign labels to main data table\n",
    "df_no_outlier['cluster'] = model.labels_\n",
    "\n",
    "# Euclidian, average\n",
    "df_no_outlier[['geometry', 'cluster']].plot(column='cluster', figsize=(13,13), categorical=True, legend=True)\n",
    "plt.title('Clusters shapes')\n",
    "plt.show()"
   ]
  },
  {
   "cell_type": "code",
   "execution_count": null,
   "id": "da9b1361",
   "metadata": {
    "ExecuteTime": {
     "end_time": "2021-10-27T21:36:53.564498Z",
     "start_time": "2021-10-27T21:36:53.564498Z"
    }
   },
   "outputs": [],
   "source": [
    "cluster_means = df_no_outlier.groupby('cluster')[cluster_variables].mean()\n",
    "cluster_means.T.round(3)"
   ]
  },
  {
   "cell_type": "code",
   "execution_count": null,
   "id": "b341224b",
   "metadata": {
    "ExecuteTime": {
     "end_time": "2021-10-27T21:36:53.568274Z",
     "start_time": "2021-10-27T21:36:53.568274Z"
    }
   },
   "outputs": [],
   "source": [
    "# Index db on cluster ID\n",
    "tidy_df = df_no_outlier.set_index('cluster')\n",
    "# Keep only variables used for clustering\n",
    "tidy_df = tidy_df[cluster_variables]\n",
    "# Stack column names into a column, obtaining \n",
    "# a \"long\" version of the dataset\n",
    "tidy_df = tidy_df.stack()\n",
    "# Take indices into proper columns\n",
    "tidy_df = tidy_df.reset_index()\n",
    "# Rename column names\n",
    "tidy_df = tidy_df.rename(\n",
    "    columns={'level_1': 'Attribute', 0: 'Values'}\n",
    ")\n",
    "# Check out result\n",
    "tidy_df.head()"
   ]
  },
  {
   "cell_type": "code",
   "execution_count": null,
   "id": "64713e58",
   "metadata": {
    "ExecuteTime": {
     "end_time": "2021-10-27T21:36:53.570259Z",
     "start_time": "2021-10-27T21:36:53.570259Z"
    }
   },
   "outputs": [],
   "source": [
    "# Setup the facets\n",
    "facets = sns.FacetGrid(\n",
    "    data=tidy_df,\n",
    "    col='Attribute',\n",
    "    hue='cluster', \n",
    "    sharey=False,\n",
    "    sharex=False,\n",
    "    aspect=2,\n",
    "    col_wrap=3\n",
    ")\n",
    "# Build the plot as a `sns.kdeplot`\n",
    "facets.map(sns.kdeplot, 'Values', shade=True).add_legend();"
   ]
  },
  {
   "cell_type": "markdown",
   "id": "0b5c7a42",
   "metadata": {},
   "source": [
    "## Regionalisation: Spatially Constrained Hierarchical Clustering"
   ]
  },
  {
   "cell_type": "markdown",
   "id": "877594f6",
   "metadata": {},
   "source": [
    "### Contiguity constraint"
   ]
  },
  {
   "cell_type": "markdown",
   "id": "e7648348",
   "metadata": {},
   "source": [
    "\"Moran’s I is a commonly used measure for global spatial autocorrelation. We can use it to formalise some of the intuitions built from the maps. We will need to represent the spatial configuration of the data points through a spatial weights matrix. We will start with queen contiguity:\""
   ]
  },
  {
   "cell_type": "code",
   "execution_count": null,
   "id": "2893498a",
   "metadata": {
    "ExecuteTime": {
     "end_time": "2021-10-27T21:36:53.571277Z",
     "start_time": "2021-10-27T21:36:53.571277Z"
    }
   },
   "outputs": [],
   "source": [
    "w = Queen.from_dataframe(df_no_outlier)"
   ]
  },
  {
   "cell_type": "code",
   "execution_count": null,
   "id": "36a2f957",
   "metadata": {
    "ExecuteTime": {
     "end_time": "2021-10-27T21:36:53.574249Z",
     "start_time": "2021-10-27T21:36:53.574249Z"
    }
   },
   "outputs": [],
   "source": [
    "# Set the seed for reproducibility\n",
    "np.random.seed(42)\n",
    "# Specify cluster model with spatial constraint\n",
    "model = AgglomerativeClustering(\n",
    "    linkage='ward', connectivity=w.sparse, n_clusters=15\n",
    ")\n",
    "# Fit algorithm to the data\n",
    "model.fit(df_no_outlier.drop(columns=drop_columns))\n",
    "\n",
    "# Assign labels to main data table\n",
    "df_no_outlier['cluster'] = model.labels_\n",
    "\n",
    "# Euclidian, average\n",
    "df_no_outlier[['geometry', 'cluster']].plot(column='cluster', figsize=(13,13), categorical=True, legend=True)\n",
    "plt.title('Clusters shapes')\n",
    "plt.show()"
   ]
  },
  {
   "cell_type": "markdown",
   "id": "ac602a03",
   "metadata": {},
   "source": [
    "### Changing the spatial constraint"
   ]
  },
  {
   "cell_type": "code",
   "execution_count": null,
   "id": "7dd45b75",
   "metadata": {
    "ExecuteTime": {
     "end_time": "2021-10-27T21:36:53.575358Z",
     "start_time": "2021-10-27T21:36:53.575358Z"
    }
   },
   "outputs": [],
   "source": [
    "df_no_outlier.drop(columns=drop_columns)"
   ]
  },
  {
   "cell_type": "code",
   "execution_count": null,
   "id": "bfd65eb1",
   "metadata": {
    "ExecuteTime": {
     "end_time": "2021-11-11T22:00:37.667268Z",
     "start_time": "2021-11-11T22:00:37.354360Z"
    }
   },
   "outputs": [],
   "source": [
    "df_geometry = df[['Estabelecimentos de Saúde SUS',\n",
    "                         'AREA_KM2',\n",
    "                         'Índice de Desenvolvimento Humano Municipal - 2010 (IDHM 2010)',\n",
    "                         'PIB per capita a preços correntes',\n",
    "#                          'População residente',\n",
    "                         'geometry']]"
   ]
  },
  {
   "cell_type": "code",
   "execution_count": null,
   "id": "437de768",
   "metadata": {
    "ExecuteTime": {
     "end_time": "2021-11-11T22:00:39.587637Z",
     "start_time": "2021-11-11T22:00:37.923847Z"
    }
   },
   "outputs": [],
   "source": [
    "w_knn = KNN.from_dataframe(df_geometry, k=4)"
   ]
  },
  {
   "cell_type": "code",
   "execution_count": null,
   "id": "eaf87f77",
   "metadata": {
    "ExecuteTime": {
     "end_time": "2021-11-12T11:44:35.893890Z",
     "start_time": "2021-11-12T11:44:23.045110Z"
    },
    "scrolled": false
   },
   "outputs": [],
   "source": [
    "# Set the seed for reproducibility\n",
    "np.random.seed(42)\n",
    "# Specify cluster model with spatial constraint\n",
    "model = AgglomerativeClustering(\n",
    "    linkage='ward', connectivity=w_knn.sparse, n_clusters=500\n",
    ")\n",
    "# Fit algorithm to the data\n",
    "model.fit(df.drop(columns=drop_columns))\n",
    "\n",
    "# Assign labels to main data table\n",
    "df['cluster'] = model.labels_\n",
    "\n",
    "# Euclidian, average\n",
    "df[['geometry', 'cluster']].plot(column='cluster', figsize=(13,13), categorical=True)\n",
    "plt.title('Clusters shapes')\n",
    "plt.show()"
   ]
  },
  {
   "cell_type": "code",
   "execution_count": null,
   "id": "f8cb2674",
   "metadata": {
    "ExecuteTime": {
     "end_time": "2021-11-12T11:40:07.351748Z",
     "start_time": "2021-11-12T11:40:07.007447Z"
    }
   },
   "outputs": [],
   "source": [
    "codigo_uf = [11,12,13,14,15,16,17,21,22,23,24,25,26,27,28,29,31,32,33,35,41,42,43,50,51,52,53]\n",
    "unidade_uf = ['Rondônia','Acre','Amazonas','Roraima','Pará','Amapá','Tocantins','Maranhão','Piauí','Ceará','Rio Grande do Norte','Paraíba','Pernambuco','Alagoas','Sergipe','Bahia','Minas Gerais','Espírito Santo','Rio de Janeiro','São Paulo','Paraná','Santa Catarina','Rio Grande do Sul','Mato Grosso do Sul','Mato Grosso','Goiás','Distrito Federal']\n",
    "uf = ['RO','AC','AM','RR','PA','AP','TO','MA','PI','CE','RN','PB','PE','AL','SE','BA','MG','ES','RJ','SP','PR','SC','RS','MS','MT','GO','DF']\n",
    "\n",
    "df_codigo_uf = pd.DataFrame(\n",
    "    {'codigo_uf': codigo_uf,\n",
    "     'unidade_da_federacao': unidade_uf,\n",
    "     'uf': uf\n",
    "    })"
   ]
  },
  {
   "cell_type": "code",
   "execution_count": null,
   "id": "910d0b1f",
   "metadata": {
    "ExecuteTime": {
     "end_time": "2021-11-12T11:42:38.415036Z",
     "start_time": "2021-11-12T11:42:14.952040Z"
    },
    "scrolled": true
   },
   "outputs": [],
   "source": [
    "i = 0\n",
    "dict_shape_cities = {'type': 'FeatureCollection', 'features':[]}\n",
    "for cod_ibge in tqdm(df_codigo_uf['codigo_uf'].unique()):\n",
    "    with urllib.request.urlopen(f\"https://servicodados.ibge.gov.br/api/v2/malhas/{cod_ibge}?resolucao=5&formato=application/vnd.geo+json\") as url:\n",
    "        try:\n",
    "            s = gzip.decompress(url.read())\n",
    "        except Exception as e:\n",
    "            s = url.read()\n",
    "        try:\n",
    "            json_city = json.loads(s)\n",
    "            dict_shape_cities['features'].extend(json_city['features'])\n",
    "        except Exception as e:\n",
    "            print(cod_ibge)\n",
    "            print(s)"
   ]
  },
  {
   "cell_type": "code",
   "execution_count": null,
   "id": "4e13b021",
   "metadata": {
    "ExecuteTime": {
     "end_time": "2021-11-12T11:55:00.520484Z",
     "start_time": "2021-11-12T11:54:55.890301Z"
    }
   },
   "outputs": [],
   "source": [
    "for idx, city in enumerate(dict_shape_cities['features']):\n",
    "    cluster = df.loc[df['codarea']==city['properties']['codarea'], 'cluster'].iloc[0]\n",
    "    dict_shape_cities['features'][idx]['properties']['cluster'] = cluster"
   ]
  },
  {
   "cell_type": "code",
   "execution_count": null,
   "id": "0fbf030a",
   "metadata": {
    "ExecuteTime": {
     "end_time": "2021-11-12T11:57:27.961360Z",
     "start_time": "2021-11-12T11:57:27.641221Z"
    }
   },
   "outputs": [],
   "source": [
    "dict_shape_cities['features'][0]"
   ]
  },
  {
   "cell_type": "code",
   "execution_count": null,
   "id": "4a9f936c",
   "metadata": {
    "ExecuteTime": {
     "end_time": "2021-11-12T11:15:31.898695Z",
     "start_time": "2021-11-12T11:15:31.454138Z"
    }
   },
   "outputs": [],
   "source": [
    "df['codarea'] = df['codigo_ibge_1']\n",
    "df['codarea'] = df['codarea'].astype(str)"
   ]
  },
  {
   "cell_type": "code",
   "execution_count": null,
   "id": "6fa4dedd",
   "metadata": {
    "ExecuteTime": {
     "end_time": "2021-11-12T11:56:12.715232Z",
     "start_time": "2021-11-12T11:56:12.388705Z"
    }
   },
   "outputs": [],
   "source": [
    "df.loc['']"
   ]
  },
  {
   "cell_type": "code",
   "execution_count": null,
   "id": "2cf03235",
   "metadata": {
    "ExecuteTime": {
     "end_time": "2021-11-12T12:07:31.895039Z",
     "start_time": "2021-11-12T12:07:31.702177Z"
    }
   },
   "outputs": [],
   "source": [
    "# Filter python objects with list comprehensions\n",
    "cities_filtered_list = [x for x in dict_shape_cities['features'] if x['properties']['cluster'] == 495]\n",
    "dict_shape_cities_plot = {'type': 'FeatureCollection', 'features':cities_filtered_list}\n",
    "# # Transform python object back into json\n",
    "# output_json = json.dumps(output_dict)"
   ]
  },
  {
   "cell_type": "code",
   "execution_count": null,
   "id": "676011dd",
   "metadata": {
    "ExecuteTime": {
     "end_time": "2021-11-12T12:07:38.064938Z",
     "start_time": "2021-11-12T12:07:37.799648Z"
    }
   },
   "outputs": [],
   "source": [
    "fig = px.choropleth_mapbox(\n",
    "    df.loc[df['cluster']==495], # banco de dados da soja\n",
    "    locations=\"codarea\", # definindo os limites no mapa\n",
    "    featureidkey=\"properties.codarea\",\n",
    "    geojson=dict_shape_cities_plot, # definindo as delimitações geográficas\n",
    "#     color=\"cluster\", # definindo a cor através da base de dados\n",
    "    hover_name=\"Município\", # pontos que você quer mostrar na caixinha de informação\n",
    "    hover_data=[ 'Município',  'cluster'],\n",
    "    title='Indice de Letalitade por Região',\n",
    "    mapbox_style=\"carto-positron\", # Definindo novo estilo de mapa, o de satélite\n",
    "    zoom=3,  # o tamanho do gráfico\n",
    "    opacity=0.5, # opacidade da cor do map\n",
    "    center={\"lat\": -14, \"lon\": -55},\n",
    "    width=1000, height=900,)\n",
    "\n",
    "fig.show()"
   ]
  },
  {
   "cell_type": "code",
   "execution_count": null,
   "id": "e91eb3f7",
   "metadata": {
    "ExecuteTime": {
     "end_time": "2021-11-11T22:01:05.271909Z",
     "start_time": "2021-11-11T22:01:04.971327Z"
    }
   },
   "outputs": [],
   "source": [
    "cluster_size = df.groupby('cluster').size()"
   ]
  },
  {
   "cell_type": "code",
   "execution_count": null,
   "id": "1f4a74b1",
   "metadata": {
    "ExecuteTime": {
     "end_time": "2021-11-11T22:01:08.521489Z",
     "start_time": "2021-11-11T22:01:08.290037Z"
    }
   },
   "outputs": [],
   "source": [
    "cluster_size.describe()"
   ]
  },
  {
   "cell_type": "code",
   "execution_count": null,
   "id": "6cd880a4",
   "metadata": {
    "ExecuteTime": {
     "end_time": "2021-11-11T22:01:14.421613Z",
     "start_time": "2021-11-11T22:01:12.898155Z"
    }
   },
   "outputs": [],
   "source": [
    "cluster_size.hist()"
   ]
  },
  {
   "cell_type": "code",
   "execution_count": null,
   "id": "5e068741",
   "metadata": {
    "ExecuteTime": {
     "end_time": "2021-10-27T21:36:53.592165Z",
     "start_time": "2021-10-27T21:36:53.592165Z"
    }
   },
   "outputs": [],
   "source": [
    "cluster_size.plot.box()"
   ]
  },
  {
   "cell_type": "code",
   "execution_count": null,
   "id": "f437a04f",
   "metadata": {
    "ExecuteTime": {
     "end_time": "2021-10-27T21:36:53.595157Z",
     "start_time": "2021-10-27T21:36:53.595157Z"
    }
   },
   "outputs": [],
   "source": [
    "cluster_size"
   ]
  },
  {
   "cell_type": "code",
   "execution_count": null,
   "id": "384cf838",
   "metadata": {
    "ExecuteTime": {
     "end_time": "2021-10-17T22:35:09.213895Z",
     "start_time": "2021-10-17T22:35:08.846852Z"
    }
   },
   "outputs": [],
   "source": [
    "cluster_size = df_no_outlier.groupby('cluster').size()\n",
    "cluster_size"
   ]
  },
  {
   "cell_type": "markdown",
   "id": "8099c7be",
   "metadata": {},
   "source": [
    "# Verify cluster coherence"
   ]
  },
  {
   "cell_type": "code",
   "execution_count": null,
   "id": "bfce38a9",
   "metadata": {
    "ExecuteTime": {
     "end_time": "2021-10-22T00:52:59.661688Z",
     "start_time": "2021-10-22T00:52:58.224532Z"
    }
   },
   "outputs": [],
   "source": [
    "dados_covid = pd.read_parquet('../data/processed/covid_saude.parquet')\n",
    "dados_covid['data'] = pd.to_datetime(dados_covid['data'])"
   ]
  },
  {
   "cell_type": "code",
   "execution_count": null,
   "id": "855e874f",
   "metadata": {
    "ExecuteTime": {
     "end_time": "2021-10-22T00:53:10.208486Z",
     "start_time": "2021-10-22T00:53:09.419614Z"
    }
   },
   "outputs": [],
   "source": [
    "dados_covid.sort_values(by=['data'], inplace=True)"
   ]
  },
  {
   "cell_type": "code",
   "execution_count": null,
   "id": "435c68a4",
   "metadata": {
    "ExecuteTime": {
     "end_time": "2021-10-22T00:53:13.943499Z",
     "start_time": "2021-10-22T00:53:13.354072Z"
    }
   },
   "outputs": [],
   "source": [
    "dados_covid['year'] = dados_covid['data'].dt.year\n",
    "dados_covid['weekday'] = dados_covid['data'].dt.weekday\n",
    "dados_covid['week_number'] = 0\n",
    "dados_covid.loc[dados_covid['weekday']==0, 'week_number'] = 1"
   ]
  },
  {
   "cell_type": "code",
   "execution_count": null,
   "id": "9e454eec",
   "metadata": {
    "ExecuteTime": {
     "end_time": "2021-10-22T00:55:41.515495Z",
     "start_time": "2021-10-22T00:55:39.044104Z"
    }
   },
   "outputs": [],
   "source": [
    "dados_covid = dados_covid.merge(df[['codigo_ibge_1', 'cluster']], how='left', left_on='codmun', right_on='codigo_ibge_1')"
   ]
  },
  {
   "cell_type": "code",
   "execution_count": null,
   "id": "37fde2f2",
   "metadata": {
    "ExecuteTime": {
     "end_time": "2021-10-22T00:55:43.277781Z",
     "start_time": "2021-10-22T00:55:41.521480Z"
    }
   },
   "outputs": [],
   "source": [
    "dados_covid_cidades = dados_covid.loc[dados_covid['regiao']!='Brasil']\n",
    "dados_covid_cidades = dados_covid_cidades[dados_covid_cidades['municipio'].notna()]\n",
    "dados_covid_cidades.reset_index(drop=True, inplace=True)"
   ]
  },
  {
   "cell_type": "code",
   "execution_count": null,
   "id": "3ad88653",
   "metadata": {
    "ExecuteTime": {
     "end_time": "2021-10-22T00:55:44.266138Z",
     "start_time": "2021-10-22T00:55:43.278779Z"
    }
   },
   "outputs": [],
   "source": [
    "dados_covid_estados = dados_covid.loc[dados_covid['regiao']!='Brasil']\n",
    "dados_covid_estados = dados_covid_estados[dados_covid_estados['municipio'].isna()]\n",
    "dados_covid_estados.reset_index(drop=True, inplace=True)"
   ]
  },
  {
   "cell_type": "code",
   "execution_count": null,
   "id": "75eb2cf9",
   "metadata": {
    "ExecuteTime": {
     "end_time": "2021-10-22T00:55:44.564345Z",
     "start_time": "2021-10-22T00:55:44.268133Z"
    }
   },
   "outputs": [],
   "source": [
    "dados_covid_brasil = dados_covid.loc[dados_covid['regiao']=='Brasil']\n",
    "dados_covid_brasil.reset_index(drop=True, inplace=True)"
   ]
  },
  {
   "cell_type": "code",
   "execution_count": null,
   "id": "78887fae",
   "metadata": {
    "ExecuteTime": {
     "end_time": "2021-10-22T00:55:44.847588Z",
     "start_time": "2021-10-22T00:55:44.568331Z"
    }
   },
   "outputs": [],
   "source": [
    "dados_covid_cidades['week_number'] = dados_covid_cidades.groupby('codmun')['week_number'].cumsum()\n",
    "dados_covid_estados['week_number'] = dados_covid_estados.groupby('estado')['week_number'].cumsum()\n",
    "dados_covid_brasil['week_number'] = dados_covid_brasil['week_number'].cumsum()"
   ]
  },
  {
   "cell_type": "code",
   "execution_count": null,
   "id": "dab1817a",
   "metadata": {
    "ExecuteTime": {
     "end_time": "2021-10-22T00:55:45.022653Z",
     "start_time": "2021-10-22T00:55:44.853570Z"
    }
   },
   "outputs": [],
   "source": [
    "dados_covid_cidades"
   ]
  },
  {
   "cell_type": "code",
   "execution_count": null,
   "id": "60152f2b",
   "metadata": {},
   "outputs": [],
   "source": []
  }
 ],
 "metadata": {
  "kernelspec": {
   "display_name": "Python 3 (ipykernel)",
   "language": "python",
   "name": "python3"
  },
  "language_info": {
   "codemirror_mode": {
    "name": "ipython",
    "version": 3
   },
   "file_extension": ".py",
   "mimetype": "text/x-python",
   "name": "python",
   "nbconvert_exporter": "python",
   "pygments_lexer": "ipython3",
   "version": "3.8.11"
  },
  "toc": {
   "nav_menu": {},
   "number_sections": true,
   "sideBar": true,
   "skip_h1_title": false,
   "title_cell": "Table of Contents",
   "title_sidebar": "Contents",
   "toc_cell": false,
   "toc_position": {},
   "toc_section_display": true,
   "toc_window_display": false
  }
 },
 "nbformat": 4,
 "nbformat_minor": 5
}
