{
 "cells": [
  {
   "cell_type": "markdown",
   "id": "00474828",
   "metadata": {},
   "source": [
    "# Imports"
   ]
  },
  {
   "cell_type": "code",
   "execution_count": null,
   "id": "c6e2f8ac",
   "metadata": {
    "ExecuteTime": {
     "end_time": "2021-10-17T23:10:00.197639Z",
     "start_time": "2021-10-17T23:09:59.962268Z"
    }
   },
   "outputs": [],
   "source": [
    "import pandas as pd\n",
    "import geopandas as gpd\n",
    "import numpy as np\n",
    "\n",
    "import seaborn as sns\n",
    "from matplotlib import pyplot as plt\n",
    "\n",
    "from scipy.cluster.hierarchy import dendrogram\n",
    "from scipy import stats\n",
    "from sklearn.cluster import AgglomerativeClustering\n",
    "from libpysal.weights import Queen, KNN\n",
    "from esda.moran import Moran\n",
    "from sklearn.preprocessing import MinMaxScaler\n",
    "from sklearn.preprocessing import robust_scale\n",
    "\n",
    "# Magic to reload notebook\n",
    "%load_ext autoreload\n",
    "%autoreload 2\n",
    "pd.options.display.max_columns = 100\n",
    "\n",
    "from tqdm import tqdm\n",
    "import warnings\n",
    "warnings.filterwarnings('ignore')"
   ]
  },
  {
   "cell_type": "markdown",
   "id": "72b79b5a",
   "metadata": {},
   "source": [
    "# Load Data"
   ]
  },
  {
   "cell_type": "code",
   "execution_count": null,
   "id": "0286592e",
   "metadata": {
    "ExecuteTime": {
     "end_time": "2021-10-22T00:57:19.376173Z",
     "start_time": "2021-10-22T00:57:15.395776Z"
    }
   },
   "outputs": [],
   "source": [
    "df_mun_malha = gpd.read_file('../data/raw/ibge/BR_Municipios_2020.shp')"
   ]
  },
  {
   "cell_type": "code",
   "execution_count": null,
   "id": "44731845",
   "metadata": {
    "ExecuteTime": {
     "end_time": "2021-10-22T00:58:19.399196Z",
     "start_time": "2021-10-22T00:57:19.382116Z"
    }
   },
   "outputs": [],
   "source": [
    "df_cidades = pd.ExcelFile('../data/raw/ibge/IBGE_CIDADES_5564.xls')"
   ]
  },
  {
   "cell_type": "code",
   "execution_count": null,
   "id": "b6984d9f",
   "metadata": {
    "ExecuteTime": {
     "end_time": "2021-10-22T00:58:19.746272Z",
     "start_time": "2021-10-22T00:58:19.401192Z"
    }
   },
   "outputs": [],
   "source": [
    "df_mun_infos = df_cidades.parse('Síntese das Informações')"
   ]
  },
  {
   "cell_type": "code",
   "execution_count": null,
   "id": "22c02592",
   "metadata": {
    "ExecuteTime": {
     "end_time": "2021-10-22T00:58:19.949724Z",
     "start_time": "2021-10-22T00:58:19.752254Z"
    }
   },
   "outputs": [],
   "source": [
    "df_mun_coord = pd.read_csv('../data/raw/municipios_coords.csv')"
   ]
  },
  {
   "cell_type": "code",
   "execution_count": null,
   "id": "f72e9217",
   "metadata": {
    "ExecuteTime": {
     "end_time": "2021-10-22T00:59:35.619025Z",
     "start_time": "2021-10-22T00:58:19.951719Z"
    }
   },
   "outputs": [],
   "source": [
    "df_mun_idh = pd.read_excel('../data/raw/atlas/Atlas 2013_municipal, estadual e Brasil.xlsx', sheet_name='MUN 91-00-10')"
   ]
  },
  {
   "cell_type": "code",
   "execution_count": null,
   "id": "d975e601",
   "metadata": {
    "ExecuteTime": {
     "end_time": "2021-10-22T00:59:36.106719Z",
     "start_time": "2021-10-22T00:59:35.622014Z"
    }
   },
   "outputs": [],
   "source": [
    "df_qtde_sus = pd.read_csv('../data/raw/datasus/cadastro_estabelecimentos_cnes.csv')"
   ]
  },
  {
   "cell_type": "markdown",
   "id": "6b6f7094",
   "metadata": {},
   "source": [
    "# Data processing"
   ]
  },
  {
   "cell_type": "code",
   "execution_count": null,
   "id": "ed3da0ae",
   "metadata": {
    "ExecuteTime": {
     "end_time": "2021-10-22T00:59:36.265298Z",
     "start_time": "2021-10-22T00:59:36.108710Z"
    }
   },
   "outputs": [],
   "source": [
    "df_mun_idh = df_mun_idh.loc[df_mun_idh['ANO']==2010]"
   ]
  },
  {
   "cell_type": "code",
   "execution_count": null,
   "id": "8e7cb8f1",
   "metadata": {
    "ExecuteTime": {
     "end_time": "2021-10-22T00:59:36.424868Z",
     "start_time": "2021-10-22T00:59:36.272276Z"
    }
   },
   "outputs": [],
   "source": [
    "df_mun_infos.rename(columns={'Código IBGE do Município':'codigo_ibge_2'}, inplace=True)\n",
    "df_mun_idh.rename(columns={'Codmun6':'codigo_ibge_2', \n",
    "                           'Codmun7':'codigo_ibge_1'}, inplace=True)\n",
    "df_mun_malha.rename(columns={'CD_MUN':'codigo_ibge_1'}, inplace=True)\n",
    "df_mun_coord.rename(columns={'codigo_ibge':'codigo_ibge_1'}, inplace=True)"
   ]
  },
  {
   "cell_type": "code",
   "execution_count": null,
   "id": "bac677e0",
   "metadata": {
    "ExecuteTime": {
     "end_time": "2021-10-22T00:59:36.566485Z",
     "start_time": "2021-10-22T00:59:36.425861Z"
    }
   },
   "outputs": [],
   "source": [
    "df_mun_malha['codigo_ibge_1'] = df_mun_malha['codigo_ibge_1'].astype(int)"
   ]
  },
  {
   "cell_type": "code",
   "execution_count": null,
   "id": "045c82b2",
   "metadata": {
    "ExecuteTime": {
     "end_time": "2021-10-22T00:59:36.741025Z",
     "start_time": "2021-10-22T00:59:36.570475Z"
    }
   },
   "outputs": [],
   "source": [
    "df_mun_infos = df_mun_infos.merge(df_mun_idh[['codigo_ibge_2','codigo_ibge_1', 'Município']], how='left', on='codigo_ibge_2')"
   ]
  },
  {
   "cell_type": "code",
   "execution_count": null,
   "id": "95a04ec1",
   "metadata": {
    "ExecuteTime": {
     "end_time": "2021-10-22T00:59:36.962430Z",
     "start_time": "2021-10-22T00:59:36.742016Z"
    }
   },
   "outputs": [],
   "source": [
    "df_mun_infos = df_mun_malha[['codigo_ibge_1', 'AREA_KM2', 'geometry']].merge(df_mun_infos, how='left', on='codigo_ibge_1')"
   ]
  },
  {
   "cell_type": "code",
   "execution_count": null,
   "id": "23afe6fd",
   "metadata": {
    "ExecuteTime": {
     "end_time": "2021-10-22T00:59:37.134965Z",
     "start_time": "2021-10-22T00:59:36.970410Z"
    }
   },
   "outputs": [],
   "source": [
    "# df_mun_infos['Nome da Microregião'] = df_mun_infos['Nome da Microregião'].str.normalize('NFKD').str.encode('ascii', errors='ignore').str.decode('utf-8')\n",
    "# df_mun_coord['nome'] = df_mun_coord['nome'].str.normalize('NFKD').str.encode('ascii', errors='ignore').str.decode('utf-8')"
   ]
  },
  {
   "cell_type": "code",
   "execution_count": null,
   "id": "a0bfc338",
   "metadata": {
    "ExecuteTime": {
     "end_time": "2021-10-22T00:59:37.307510Z",
     "start_time": "2021-10-22T00:59:37.136960Z"
    }
   },
   "outputs": [],
   "source": [
    "R = 6371 # The approximate radius of Earth (in Km)\n",
    "\n",
    "df_mun_coord['coord_x'] = R * np.cos(df_mun_coord['latitude']) * np.cos(df_mun_coord['longitude'])\n",
    "df_mun_coord['coord_y'] = R * np.cos(df_mun_coord['latitude']) * np.sin(df_mun_coord['longitude'])\n",
    "df_mun_coord['coord_z'] = R * np.sin(df_mun_coord['latitude'])"
   ]
  },
  {
   "cell_type": "code",
   "execution_count": null,
   "id": "b4a04661",
   "metadata": {
    "ExecuteTime": {
     "end_time": "2021-10-22T00:59:37.480048Z",
     "start_time": "2021-10-22T00:59:37.313491Z"
    }
   },
   "outputs": [],
   "source": [
    "df_mun_infos = df_mun_infos.merge(df_mun_coord[['codigo_ibge_1', 'coord_x', 'coord_y', 'coord_z']], how='left', on='codigo_ibge_1')"
   ]
  },
  {
   "cell_type": "code",
   "execution_count": null,
   "id": "9e485421",
   "metadata": {
    "ExecuteTime": {
     "end_time": "2021-10-22T00:59:37.639617Z",
     "start_time": "2021-10-22T00:59:37.484033Z"
    }
   },
   "outputs": [],
   "source": [
    "df_features = df_mun_infos[['codigo_ibge_1',\n",
    "                            'Município',\n",
    "                            'geometry',\n",
    "                            'Estabelecimentos de Saúde SUS',\n",
    "                            'AREA_KM2',\n",
    "                            'Índice de Desenvolvimento Humano Municipal - 2010 (IDHM 2010)',\n",
    "                            'PIB per capita a preços correntes',\n",
    "                            'População residente',\n",
    "                            'coord_x', \n",
    "                            'coord_y', \n",
    "                            'coord_z']]\n",
    "\n",
    "# Reduzir número de variáveis (variáveis correlacionadas) <- olhar multicolinearidade\n",
    "# Clima\n",
    "# Altitude\n",
    "# Considerar características que mudam ao longo do tempo e têm relação com a doença (estações do ano influenciam)"
   ]
  },
  {
   "cell_type": "code",
   "execution_count": null,
   "id": "9dac78bc",
   "metadata": {
    "ExecuteTime": {
     "end_time": "2021-10-22T00:59:37.783237Z",
     "start_time": "2021-10-22T00:59:37.643607Z"
    }
   },
   "outputs": [],
   "source": [
    "# df_features = df_features.merge(df_mun_coord[['codigo_ibge', 'nome', 'latitude', 'longitude']], how='left', left_on='Nome da Microregião', right_on='nome')"
   ]
  },
  {
   "cell_type": "markdown",
   "id": "ccd0a021",
   "metadata": {},
   "source": [
    "# Modeling"
   ]
  },
  {
   "cell_type": "markdown",
   "id": "ca8d6c83",
   "metadata": {
    "ExecuteTime": {
     "end_time": "2021-10-17T17:07:25.401914Z",
     "start_time": "2021-10-17T17:07:25.263286Z"
    }
   },
   "source": [
    "Seguiremos a seguir o desenvolvimento de clusterização descrito em: [geographicdata.science](https://geographicdata.science/book/notebooks/10_clustering_and_regionalization.html#introduction)"
   ]
  },
  {
   "cell_type": "code",
   "execution_count": null,
   "id": "4ce4ea91",
   "metadata": {
    "ExecuteTime": {
     "end_time": "2021-10-22T00:59:37.941811Z",
     "start_time": "2021-10-22T00:59:37.788220Z"
    }
   },
   "outputs": [],
   "source": [
    "cluster_variables = ['Estabelecimentos de Saúde SUS',\n",
    "                     'AREA_KM2',\n",
    "                     'Índice de Desenvolvimento Humano Municipal - 2010 (IDHM 2010)',\n",
    "                     'PIB per capita a preços correntes',\n",
    "                     'População residente'\n",
    "                    ]"
   ]
  },
  {
   "cell_type": "code",
   "execution_count": null,
   "id": "0252212c",
   "metadata": {
    "ExecuteTime": {
     "end_time": "2021-10-22T00:59:38.082437Z",
     "start_time": "2021-10-22T00:59:37.943802Z"
    }
   },
   "outputs": [],
   "source": [
    "df_mun_infos = gpd.GeoDataFrame(df_mun_infos)"
   ]
  },
  {
   "cell_type": "code",
   "execution_count": null,
   "id": "30f5619d",
   "metadata": {
    "ExecuteTime": {
     "end_time": "2021-10-22T00:59:38.238016Z",
     "start_time": "2021-10-22T00:59:38.087420Z"
    }
   },
   "outputs": [],
   "source": [
    "df_mun_infos[cluster_variables] = df_mun_infos[cluster_variables].fillna(df_mun_infos[cluster_variables].median())"
   ]
  },
  {
   "cell_type": "markdown",
   "id": "687e6b0a",
   "metadata": {},
   "source": [
    "Spatial distribution of each variable alone"
   ]
  },
  {
   "cell_type": "code",
   "execution_count": null,
   "id": "f6a0d551",
   "metadata": {
    "ExecuteTime": {
     "end_time": "2021-10-22T01:00:17.308100Z",
     "start_time": "2021-10-22T00:59:38.242006Z"
    }
   },
   "outputs": [],
   "source": [
    "f, axs = plt.subplots(nrows=len(cluster_variables), ncols=1, figsize=(30, 30))\n",
    "# Make the axes accessible with single indexing\n",
    "axs = axs.flatten()\n",
    "# Start a loop over all the variables of interest\n",
    "for i, col in enumerate(cluster_variables):\n",
    "    # select the axis where the map will go\n",
    "    ax = axs[i]\n",
    "    # Plot the map\n",
    "    df_mun_infos.plot(\n",
    "        column=col, \n",
    "        ax=ax,\n",
    "        scheme='Quantiles', \n",
    "        linewidth=0,\n",
    "        cmap='RdPu',\n",
    "        legend=True\n",
    "    )\n",
    "    # Remove axis clutter\n",
    "    ax.set_axis_off()\n",
    "    # Set the axis title to the name of variable being plotted\n",
    "    ax.set_title(col)\n",
    "# Display the figure\n",
    "plt.show()"
   ]
  },
  {
   "cell_type": "markdown",
   "id": "3a041766",
   "metadata": {},
   "source": [
    "Podemos observar que:\n",
    "- A **quantidade de estabelecimentos de saúde SUS** e a **população residente** em cada município são bem distribuídas ao longo de todo território brasileiro\n",
    "- Os maiores **IDHs** se concentram nas regiões centro-oeste, sudeste e sul\n",
    "- Os municípios de maior **área** se concentram nas regiões norte, centro-oeste e interior do nordeste\n",
    "- Os municípios de maior **PIB** se concentram nas regiões centro-oeste, sudeste e sul"
   ]
  },
  {
   "cell_type": "markdown",
   "id": "b5661e9f",
   "metadata": {},
   "source": [
    "\"Now let’s calculate Moran’s I for the variables being used. This will measure the extent to which each variable contains spatial structure:\""
   ]
  },
  {
   "cell_type": "code",
   "execution_count": null,
   "id": "36cd8b0d",
   "metadata": {
    "ExecuteTime": {
     "end_time": "2021-10-22T01:00:17.617273Z",
     "start_time": "2021-10-22T01:00:17.310094Z"
    }
   },
   "outputs": [],
   "source": [
    "# Set seed for reproducibility\n",
    "np.random.seed(42)\n",
    "# Calculate Moran's I for each variable\n",
    "mi_results = [Moran(df_mun_infos[variable], w) for variable in cluster_variables]\n",
    "# Structure results as a list of tuples\n",
    "mi_results = [\n",
    "    (variable, res.I, res.p_sim) for variable,res in zip(cluster_variables, mi_results)\n",
    "]\n",
    "# Display on table\n",
    "table = pd.DataFrame(\n",
    "    mi_results,\n",
    "    columns=['Variable', \"Moran's I\", 'P-value']\n",
    ").set_index('Variable')\n",
    "table"
   ]
  },
  {
   "cell_type": "markdown",
   "id": "d0b89773",
   "metadata": {},
   "source": [
    "\"Each of the variables displays significant positive spatial autocorrelation, suggesting clear spatial structure in the socioeconomic geography of Brazil. This means it is likely the clusters we find will have a non random spatial distribution.\""
   ]
  },
  {
   "cell_type": "markdown",
   "id": "5e047ae6",
   "metadata": {},
   "source": [
    "\"To explore cross-attribute relationships, we need to consider the spatial correlation between variables.\""
   ]
  },
  {
   "cell_type": "code",
   "execution_count": null,
   "id": "e41b1874",
   "metadata": {
    "ExecuteTime": {
     "end_time": "2021-10-22T01:00:17.620266Z",
     "start_time": "2021-10-22T01:00:17.620266Z"
    }
   },
   "outputs": [],
   "source": [
    "_ = sns.pairplot(df_mun_infos[cluster_variables], kind='reg', diag_kind='kde')"
   ]
  },
  {
   "cell_type": "code",
   "execution_count": null,
   "id": "b882d1dc",
   "metadata": {
    "ExecuteTime": {
     "end_time": "2021-10-22T01:00:17.622260Z",
     "start_time": "2021-10-22T01:00:17.622260Z"
    }
   },
   "outputs": [],
   "source": [
    "df_mun_infos[cluster_variables].corr()"
   ]
  },
  {
   "cell_type": "markdown",
   "id": "56811199",
   "metadata": {},
   "source": [
    "Analisando as distribuições univariadas dos valores de cada variável, observam-se algumas variáveis assimétricas positivas (estabelecimentos SUS, área, PIB e população), enquanto o IDH se demonstra centralizado com 2 picos."
   ]
  },
  {
   "cell_type": "code",
   "execution_count": null,
   "id": "d21baba6",
   "metadata": {
    "ExecuteTime": {
     "end_time": "2021-10-22T01:00:17.624254Z",
     "start_time": "2021-10-22T01:00:17.624254Z"
    }
   },
   "outputs": [],
   "source": [
    "drop_columns = ['Município', 'geometry', 'codigo_ibge_1', 'codigo_ibge_2']"
   ]
  },
  {
   "cell_type": "code",
   "execution_count": null,
   "id": "65971a6f",
   "metadata": {
    "ExecuteTime": {
     "end_time": "2021-10-22T01:00:17.625251Z",
     "start_time": "2021-10-22T01:00:17.625251Z"
    }
   },
   "outputs": [],
   "source": [
    "df = df_mun_infos[cluster_variables+drop_columns]"
   ]
  },
  {
   "cell_type": "markdown",
   "id": "a917e812",
   "metadata": {},
   "source": [
    "\"A clustering algorithm that uses distance to determine classifications may be affected by outliers. Therefore, as a rule, we standardize our data when clustering.\""
   ]
  },
  {
   "cell_type": "code",
   "execution_count": null,
   "id": "c114dd20",
   "metadata": {
    "ExecuteTime": {
     "end_time": "2021-10-22T01:00:17.627248Z",
     "start_time": "2021-10-22T01:00:17.627248Z"
    }
   },
   "outputs": [],
   "source": [
    "df[cluster_variables] = robust_scale(df[cluster_variables])"
   ]
  },
  {
   "cell_type": "code",
   "execution_count": null,
   "id": "280d1de3",
   "metadata": {
    "ExecuteTime": {
     "end_time": "2021-10-22T01:00:17.629241Z",
     "start_time": "2021-10-22T01:00:17.629241Z"
    }
   },
   "outputs": [],
   "source": [
    "scaler = MinMaxScaler()"
   ]
  },
  {
   "cell_type": "code",
   "execution_count": null,
   "id": "7c5af033",
   "metadata": {
    "ExecuteTime": {
     "end_time": "2021-10-22T01:00:17.631236Z",
     "start_time": "2021-10-22T01:00:17.631236Z"
    }
   },
   "outputs": [],
   "source": [
    "scaler.fit(df[cluster_variables])"
   ]
  },
  {
   "cell_type": "code",
   "execution_count": null,
   "id": "156fc22b",
   "metadata": {
    "ExecuteTime": {
     "end_time": "2021-10-22T01:00:17.632233Z",
     "start_time": "2021-10-22T01:00:17.632233Z"
    }
   },
   "outputs": [],
   "source": [
    "df[cluster_variables] = scaler.transform(df[cluster_variables])"
   ]
  },
  {
   "cell_type": "code",
   "execution_count": null,
   "id": "2bc9da3b",
   "metadata": {
    "ExecuteTime": {
     "end_time": "2021-10-22T01:00:17.634228Z",
     "start_time": "2021-10-22T01:00:17.634228Z"
    }
   },
   "outputs": [],
   "source": [
    "df.describe()"
   ]
  },
  {
   "cell_type": "code",
   "execution_count": null,
   "id": "c80c5110",
   "metadata": {
    "ExecuteTime": {
     "end_time": "2021-10-22T01:00:17.637221Z",
     "start_time": "2021-10-22T01:00:17.637221Z"
    }
   },
   "outputs": [],
   "source": [
    "def plot_dendrogram(model, **kwargs):\n",
    "    # Create linkage matrix and then plot the dendrogram\n",
    "\n",
    "    # create the counts of samples under each node\n",
    "    counts = np.zeros(model.children_.shape[0])\n",
    "    n_samples = len(model.labels_)\n",
    "    for i, merge in enumerate(model.children_):\n",
    "        current_count = 0\n",
    "        for child_idx in merge:\n",
    "            if child_idx < n_samples:\n",
    "                current_count += 1  # leaf node\n",
    "            else:\n",
    "                current_count += counts[child_idx - n_samples]\n",
    "        counts[i] = current_count\n",
    "\n",
    "    linkage_matrix = np.column_stack([model.children_, model.distances_,\n",
    "                                      counts]).astype(float)\n",
    "\n",
    "    # Plot the corresponding dendrogram\n",
    "    dendrogram(linkage_matrix, **kwargs)"
   ]
  },
  {
   "cell_type": "code",
   "execution_count": null,
   "id": "8083522e",
   "metadata": {
    "ExecuteTime": {
     "end_time": "2021-10-22T11:48:40.740748Z",
     "start_time": "2021-10-22T11:48:33.657454Z"
    }
   },
   "outputs": [],
   "source": [
    "# setting distance_threshold=0 ensures we compute the full tree.\n",
    "model = AgglomerativeClustering(distance_threshold=0, n_clusters=None)\n",
    "\n",
    "model = model.fit(df.drop(columns=drop_columns))\n",
    "plt.figure(figsize=(15,8))\n",
    "plt.title('Hierarchical Clustering Dendrogram')\n",
    "# plot the top three levels of the dendrogram\n",
    "plot_dendrogram(model, truncate_mode='level', p=5)\n",
    "plt.xlabel(\"Number of points in node (or index of point if no parenthesis).\")\n",
    "plt.show()"
   ]
  },
  {
   "cell_type": "code",
   "execution_count": null,
   "id": "62ded0db",
   "metadata": {
    "ExecuteTime": {
     "end_time": "2021-10-22T11:51:33.078713Z",
     "start_time": "2021-10-22T11:51:31.113875Z"
    }
   },
   "outputs": [],
   "source": [
    "df_mun_infos.loc[df_mun_infos.index.isin([3242,3829,949,2309,2162,5569,111,4005,3479,5417,1596])]"
   ]
  },
  {
   "cell_type": "markdown",
   "id": "1bfe92e4",
   "metadata": {},
   "source": [
    "Pelo dendrograma observa-se que logo na primeira divisão já são separadas 2 cidades (3242 SP e 3829 RJ) das 5568 demais. Vamos tentar remover as capitais e plotar o dendrograma novamente."
   ]
  },
  {
   "cell_type": "code",
   "execution_count": null,
   "id": "0a3df40a",
   "metadata": {
    "ExecuteTime": {
     "end_time": "2021-10-17T23:24:25.410808Z",
     "start_time": "2021-10-17T23:24:25.166463Z"
    }
   },
   "outputs": [],
   "source": [
    "df_no_capitals = df.loc[~df['codigo_ibge_1'].isin([1100205,1302603,1200401,5002704,1600303,5300108,1400100,5103403,1721000,3550308,2211001,3304557,1501402,5208707,4205407,2111300,2704302,4314902,4106902,3106200,2304400,2611606,2507507,2800308,2408102,3205309])]"
   ]
  },
  {
   "cell_type": "code",
   "execution_count": null,
   "id": "835dd467",
   "metadata": {
    "ExecuteTime": {
     "end_time": "2021-10-17T23:12:45.469702Z",
     "start_time": "2021-10-17T23:12:00.239424Z"
    }
   },
   "outputs": [],
   "source": [
    "# setting distance_threshold=0 ensures we compute the full tree.\n",
    "model = AgglomerativeClustering(distance_threshold=0, n_clusters=None)\n",
    "\n",
    "model = model.fit(df_no_capitals.drop(columns=drop_columns))\n",
    "plt.figure(figsize=(15,8))\n",
    "plt.title('Hierarchical Clustering Dendrogram')\n",
    "# plot the top three levels of the dendrogram\n",
    "plot_dendrogram(model, truncate_mode='level', p=10)\n",
    "plt.xlabel(\"Number of points in node (or index of point if no parenthesis).\")\n",
    "plt.show()"
   ]
  },
  {
   "cell_type": "markdown",
   "id": "1a194800",
   "metadata": {},
   "source": [
    "Já temos clusters melhores dividos e não tão influenciados pelas capitais. Vamos testar agora removendo os outliers do dataset completo"
   ]
  },
  {
   "cell_type": "code",
   "execution_count": null,
   "id": "68105263",
   "metadata": {
    "ExecuteTime": {
     "end_time": "2021-10-17T23:24:27.512798Z",
     "start_time": "2021-10-17T23:24:27.257448Z"
    }
   },
   "outputs": [],
   "source": [
    "df_no_outlier = df[(np.abs(stats.zscore(df[cluster_variables])) < 3).all(axis=1)]"
   ]
  },
  {
   "cell_type": "code",
   "execution_count": null,
   "id": "8247c418",
   "metadata": {
    "ExecuteTime": {
     "end_time": "2021-10-17T23:13:47.125329Z",
     "start_time": "2021-10-17T23:12:45.781382Z"
    }
   },
   "outputs": [],
   "source": [
    "# setting distance_threshold=0 ensures we compute the full tree.\n",
    "model = AgglomerativeClustering(distance_threshold=0, n_clusters=None)\n",
    "\n",
    "model = model.fit(df_no_outlier.drop(columns=drop_columns))\n",
    "plt.figure(figsize=(15,8))\n",
    "plt.title('Hierarchical Clustering Dendrogram')\n",
    "# plot the top three levels of the dendrogram\n",
    "plot_dendrogram(model, truncate_mode='level', p=10)\n",
    "plt.xlabel(\"Number of points in node (or index of point if no parenthesis).\")\n",
    "plt.show()"
   ]
  },
  {
   "cell_type": "markdown",
   "id": "b4dd4559",
   "metadata": {},
   "source": [
    "Removendo os outliers a quantidade de municípios em cada cluster é muito mais balanceada. Vamos continuar a clusterização com o dataset sem outlier e depois definiremos o cluster das demais 207 cidades"
   ]
  },
  {
   "cell_type": "code",
   "execution_count": null,
   "id": "7669d368",
   "metadata": {
    "ExecuteTime": {
     "end_time": "2021-10-17T23:13:56.818305Z",
     "start_time": "2021-10-17T23:13:47.129323Z"
    }
   },
   "outputs": [],
   "source": [
    "# Suppose 15 clusters (5 features classified as low, medium or high)\n",
    "model = AgglomerativeClustering(linkage='ward', n_clusters=15)\n",
    "\n",
    "model = model.fit(df_no_outlier.drop(columns=drop_columns))\n",
    "\n",
    "# Assign labels to main data table\n",
    "df_no_outlier['cluster'] = model.labels_\n",
    "\n",
    "# Euclidian, average\n",
    "df_no_outlier[['geometry', 'cluster']].plot(column='cluster', figsize=(13,13), categorical=True, legend=True)\n",
    "plt.title('Clusters shapes')\n",
    "plt.show()"
   ]
  },
  {
   "cell_type": "code",
   "execution_count": null,
   "id": "da9b1361",
   "metadata": {
    "ExecuteTime": {
     "end_time": "2021-10-17T23:13:57.427187Z",
     "start_time": "2021-10-17T23:13:57.120011Z"
    }
   },
   "outputs": [],
   "source": [
    "cluster_means = df_no_outlier.groupby('cluster')[cluster_variables].mean()\n",
    "cluster_means.T.round(3)"
   ]
  },
  {
   "cell_type": "code",
   "execution_count": null,
   "id": "b341224b",
   "metadata": {
    "ExecuteTime": {
     "end_time": "2021-10-17T23:25:25.015005Z",
     "start_time": "2021-10-17T23:25:24.522321Z"
    }
   },
   "outputs": [],
   "source": [
    "# Index db on cluster ID\n",
    "tidy_df = df_no_outlier.set_index('cluster')\n",
    "# Keep only variables used for clustering\n",
    "tidy_df = tidy_df[cluster_variables]\n",
    "# Stack column names into a column, obtaining \n",
    "# a \"long\" version of the dataset\n",
    "tidy_df = tidy_df.stack()\n",
    "# Take indices into proper columns\n",
    "tidy_df = tidy_df.reset_index()\n",
    "# Rename column names\n",
    "tidy_df = tidy_df.rename(\n",
    "    columns={'level_1': 'Attribute', 0: 'Values'}\n",
    ")\n",
    "# Check out result\n",
    "tidy_df.head()"
   ]
  },
  {
   "cell_type": "code",
   "execution_count": null,
   "id": "64713e58",
   "metadata": {
    "ExecuteTime": {
     "end_time": "2021-10-17T23:25:31.096013Z",
     "start_time": "2021-10-17T23:25:25.020987Z"
    }
   },
   "outputs": [],
   "source": [
    "# Setup the facets\n",
    "facets = sns.FacetGrid(\n",
    "    data=tidy_df,\n",
    "    col='Attribute',\n",
    "    hue='cluster', \n",
    "    sharey=False,\n",
    "    sharex=False,\n",
    "    aspect=2,\n",
    "    col_wrap=3\n",
    ")\n",
    "# Build the plot as a `sns.kdeplot`\n",
    "facets.map(sns.kdeplot, 'Values', shade=True).add_legend();"
   ]
  },
  {
   "cell_type": "markdown",
   "id": "0b5c7a42",
   "metadata": {},
   "source": [
    "## Regionalisation: Spatially Constrained Hierarchical Clustering"
   ]
  },
  {
   "cell_type": "markdown",
   "id": "877594f6",
   "metadata": {},
   "source": [
    "### Contiguity constraint"
   ]
  },
  {
   "cell_type": "markdown",
   "id": "e7648348",
   "metadata": {},
   "source": [
    "\"Moran’s I is a commonly used measure for global spatial autocorrelation. We can use it to formalise some of the intuitions built from the maps. We will need to represent the spatial configuration of the data points through a spatial weights matrix. We will start with queen contiguity:\""
   ]
  },
  {
   "cell_type": "code",
   "execution_count": null,
   "id": "2893498a",
   "metadata": {
    "ExecuteTime": {
     "end_time": "2021-10-17T23:16:41.003147Z",
     "start_time": "2021-10-17T23:14:02.278914Z"
    }
   },
   "outputs": [],
   "source": [
    "w = Queen.from_dataframe(df_no_outlier)"
   ]
  },
  {
   "cell_type": "code",
   "execution_count": null,
   "id": "36a2f957",
   "metadata": {
    "ExecuteTime": {
     "end_time": "2021-10-17T23:16:48.216093Z",
     "start_time": "2021-10-17T23:16:41.007138Z"
    }
   },
   "outputs": [],
   "source": [
    "# Set the seed for reproducibility\n",
    "np.random.seed(42)\n",
    "# Specify cluster model with spatial constraint\n",
    "model = AgglomerativeClustering(\n",
    "    linkage='ward', connectivity=w.sparse, n_clusters=15\n",
    ")\n",
    "# Fit algorithm to the data\n",
    "model.fit(df_no_outlier.drop(columns=drop_columns))\n",
    "\n",
    "# Assign labels to main data table\n",
    "df_no_outlier['cluster'] = model.labels_\n",
    "\n",
    "# Euclidian, average\n",
    "df_no_outlier[['geometry', 'cluster']].plot(column='cluster', figsize=(13,13), categorical=True, legend=True)\n",
    "plt.title('Clusters shapes')\n",
    "plt.show()"
   ]
  },
  {
   "cell_type": "markdown",
   "id": "ac602a03",
   "metadata": {},
   "source": [
    "### Changing the spatial constraint"
   ]
  },
  {
   "cell_type": "code",
   "execution_count": null,
   "id": "7dd45b75",
   "metadata": {
    "ExecuteTime": {
     "end_time": "2021-10-17T23:16:48.508869Z",
     "start_time": "2021-10-17T23:16:48.219086Z"
    }
   },
   "outputs": [],
   "source": [
    "df_no_outlier.drop(columns=drop_columns)"
   ]
  },
  {
   "cell_type": "code",
   "execution_count": null,
   "id": "bfd65eb1",
   "metadata": {
    "ExecuteTime": {
     "end_time": "2021-10-22T01:00:17.638218Z",
     "start_time": "2021-10-22T01:00:17.638218Z"
    }
   },
   "outputs": [],
   "source": [
    "df_geometry = df[['Estabelecimentos de Saúde SUS',\n",
    "                         'AREA_KM2',\n",
    "                         'Índice de Desenvolvimento Humano Municipal - 2010 (IDHM 2010)',\n",
    "                         'PIB per capita a preços correntes',\n",
    "#                          'População residente',\n",
    "                         'geometry']]"
   ]
  },
  {
   "cell_type": "code",
   "execution_count": null,
   "id": "437de768",
   "metadata": {
    "ExecuteTime": {
     "end_time": "2021-10-22T01:00:17.640212Z",
     "start_time": "2021-10-22T01:00:17.640212Z"
    }
   },
   "outputs": [],
   "source": [
    "w_knn = KNN.from_dataframe(df_geometry, k=4)"
   ]
  },
  {
   "cell_type": "code",
   "execution_count": null,
   "id": "eaf87f77",
   "metadata": {
    "ExecuteTime": {
     "end_time": "2021-10-22T01:00:17.642207Z",
     "start_time": "2021-10-22T01:00:17.642207Z"
    },
    "scrolled": false
   },
   "outputs": [],
   "source": [
    "# Set the seed for reproducibility\n",
    "np.random.seed(42)\n",
    "# Specify cluster model with spatial constraint\n",
    "model = AgglomerativeClustering(\n",
    "    linkage='ward', connectivity=w_knn.sparse, n_clusters=500\n",
    ")\n",
    "# Fit algorithm to the data\n",
    "model.fit(df.drop(columns=drop_columns).drop(columns=['População residente']))\n",
    "\n",
    "# Assign labels to main data table\n",
    "df['cluster'] = model.labels_\n",
    "\n",
    "# Euclidian, average\n",
    "df[['geometry', 'cluster']].plot(column='cluster', figsize=(13,13), categorical=True)\n",
    "plt.title('Clusters shapes')\n",
    "plt.show()"
   ]
  },
  {
   "cell_type": "code",
   "execution_count": null,
   "id": "1f4a74b1",
   "metadata": {
    "ExecuteTime": {
     "end_time": "2021-10-22T00:51:38.294280Z",
     "start_time": "2021-10-22T00:51:38.151662Z"
    }
   },
   "outputs": [],
   "source": [
    "cluster_size.describe()"
   ]
  },
  {
   "cell_type": "code",
   "execution_count": null,
   "id": "e91eb3f7",
   "metadata": {
    "ExecuteTime": {
     "end_time": "2021-10-22T00:51:08.420469Z",
     "start_time": "2021-10-22T00:51:08.271868Z"
    }
   },
   "outputs": [],
   "source": [
    "cluster_size = df.groupby('cluster').size()\n",
    "cluster_size"
   ]
  },
  {
   "cell_type": "code",
   "execution_count": null,
   "id": "6cd880a4",
   "metadata": {
    "ExecuteTime": {
     "end_time": "2021-10-22T00:51:08.685760Z",
     "start_time": "2021-10-22T00:51:08.422465Z"
    }
   },
   "outputs": [],
   "source": [
    "cluster_size.hist()"
   ]
  },
  {
   "cell_type": "code",
   "execution_count": null,
   "id": "5e068741",
   "metadata": {
    "ExecuteTime": {
     "end_time": "2021-10-22T00:51:08.917145Z",
     "start_time": "2021-10-22T00:51:08.687755Z"
    }
   },
   "outputs": [],
   "source": [
    "cluster_size.plot.box()"
   ]
  },
  {
   "cell_type": "code",
   "execution_count": null,
   "id": "f437a04f",
   "metadata": {
    "ExecuteTime": {
     "end_time": "2021-10-17T23:22:07.541613Z",
     "start_time": "2021-10-17T23:22:07.206507Z"
    }
   },
   "outputs": [],
   "source": [
    "cluster_size"
   ]
  },
  {
   "cell_type": "code",
   "execution_count": null,
   "id": "384cf838",
   "metadata": {
    "ExecuteTime": {
     "end_time": "2021-10-17T22:35:09.213895Z",
     "start_time": "2021-10-17T22:35:08.846852Z"
    }
   },
   "outputs": [],
   "source": [
    "cluster_size = df_no_outlier.groupby('cluster').size()\n",
    "cluster_size"
   ]
  },
  {
   "cell_type": "markdown",
   "id": "8099c7be",
   "metadata": {},
   "source": [
    "# Verify cluster coherence"
   ]
  },
  {
   "cell_type": "code",
   "execution_count": null,
   "id": "bfce38a9",
   "metadata": {
    "ExecuteTime": {
     "end_time": "2021-10-22T00:52:59.661688Z",
     "start_time": "2021-10-22T00:52:58.224532Z"
    }
   },
   "outputs": [],
   "source": [
    "dados_covid = pd.read_parquet('../data/processed/covid_saude.parquet')\n",
    "dados_covid['data'] = pd.to_datetime(dados_covid['data'])"
   ]
  },
  {
   "cell_type": "code",
   "execution_count": null,
   "id": "855e874f",
   "metadata": {
    "ExecuteTime": {
     "end_time": "2021-10-22T00:53:10.208486Z",
     "start_time": "2021-10-22T00:53:09.419614Z"
    }
   },
   "outputs": [],
   "source": [
    "dados_covid.sort_values(by=['data'], inplace=True)"
   ]
  },
  {
   "cell_type": "code",
   "execution_count": null,
   "id": "435c68a4",
   "metadata": {
    "ExecuteTime": {
     "end_time": "2021-10-22T00:53:13.943499Z",
     "start_time": "2021-10-22T00:53:13.354072Z"
    }
   },
   "outputs": [],
   "source": [
    "dados_covid['year'] = dados_covid['data'].dt.year\n",
    "dados_covid['weekday'] = dados_covid['data'].dt.weekday\n",
    "dados_covid['week_number'] = 0\n",
    "dados_covid.loc[dados_covid['weekday']==0, 'week_number'] = 1"
   ]
  },
  {
   "cell_type": "code",
   "execution_count": null,
   "id": "9e454eec",
   "metadata": {
    "ExecuteTime": {
     "end_time": "2021-10-22T00:55:41.515495Z",
     "start_time": "2021-10-22T00:55:39.044104Z"
    }
   },
   "outputs": [],
   "source": [
    "dados_covid = dados_covid.merge(df[['codigo_ibge_1', 'cluster']], how='left', left_on='codmun', right_on='codigo_ibge_1')"
   ]
  },
  {
   "cell_type": "code",
   "execution_count": null,
   "id": "37fde2f2",
   "metadata": {
    "ExecuteTime": {
     "end_time": "2021-10-22T00:55:43.277781Z",
     "start_time": "2021-10-22T00:55:41.521480Z"
    }
   },
   "outputs": [],
   "source": [
    "dados_covid_cidades = dados_covid.loc[dados_covid['regiao']!='Brasil']\n",
    "dados_covid_cidades = dados_covid_cidades[dados_covid_cidades['municipio'].notna()]\n",
    "dados_covid_cidades.reset_index(drop=True, inplace=True)"
   ]
  },
  {
   "cell_type": "code",
   "execution_count": null,
   "id": "3ad88653",
   "metadata": {
    "ExecuteTime": {
     "end_time": "2021-10-22T00:55:44.266138Z",
     "start_time": "2021-10-22T00:55:43.278779Z"
    }
   },
   "outputs": [],
   "source": [
    "dados_covid_estados = dados_covid.loc[dados_covid['regiao']!='Brasil']\n",
    "dados_covid_estados = dados_covid_estados[dados_covid_estados['municipio'].isna()]\n",
    "dados_covid_estados.reset_index(drop=True, inplace=True)"
   ]
  },
  {
   "cell_type": "code",
   "execution_count": null,
   "id": "75eb2cf9",
   "metadata": {
    "ExecuteTime": {
     "end_time": "2021-10-22T00:55:44.564345Z",
     "start_time": "2021-10-22T00:55:44.268133Z"
    }
   },
   "outputs": [],
   "source": [
    "dados_covid_brasil = dados_covid.loc[dados_covid['regiao']=='Brasil']\n",
    "dados_covid_brasil.reset_index(drop=True, inplace=True)"
   ]
  },
  {
   "cell_type": "code",
   "execution_count": null,
   "id": "78887fae",
   "metadata": {
    "ExecuteTime": {
     "end_time": "2021-10-22T00:55:44.847588Z",
     "start_time": "2021-10-22T00:55:44.568331Z"
    }
   },
   "outputs": [],
   "source": [
    "dados_covid_cidades['week_number'] = dados_covid_cidades.groupby('codmun')['week_number'].cumsum()\n",
    "dados_covid_estados['week_number'] = dados_covid_estados.groupby('estado')['week_number'].cumsum()\n",
    "dados_covid_brasil['week_number'] = dados_covid_brasil['week_number'].cumsum()"
   ]
  },
  {
   "cell_type": "code",
   "execution_count": null,
   "id": "dab1817a",
   "metadata": {
    "ExecuteTime": {
     "end_time": "2021-10-22T00:55:45.022653Z",
     "start_time": "2021-10-22T00:55:44.853570Z"
    }
   },
   "outputs": [],
   "source": [
    "dados_covid_cidades"
   ]
  },
  {
   "cell_type": "code",
   "execution_count": null,
   "id": "60152f2b",
   "metadata": {},
   "outputs": [],
   "source": []
  }
 ],
 "metadata": {
  "kernelspec": {
   "display_name": "Python 3 (ipykernel)",
   "language": "python",
   "name": "python3"
  },
  "language_info": {
   "codemirror_mode": {
    "name": "ipython",
    "version": 3
   },
   "file_extension": ".py",
   "mimetype": "text/x-python",
   "name": "python",
   "nbconvert_exporter": "python",
   "pygments_lexer": "ipython3",
   "version": "3.8.11"
  },
  "toc": {
   "nav_menu": {},
   "number_sections": true,
   "sideBar": true,
   "skip_h1_title": false,
   "title_cell": "Table of Contents",
   "title_sidebar": "Contents",
   "toc_cell": false,
   "toc_position": {},
   "toc_section_display": true,
   "toc_window_display": false
  }
 },
 "nbformat": 4,
 "nbformat_minor": 5
}
