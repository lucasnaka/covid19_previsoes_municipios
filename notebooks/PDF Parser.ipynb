{
 "cells": [
  {
   "cell_type": "code",
   "execution_count": null,
   "id": "a9c64b19",
   "metadata": {
    "ExecuteTime": {
     "end_time": "2021-11-05T16:31:42.574616Z",
     "start_time": "2021-11-05T16:31:42.548652Z"
    }
   },
   "outputs": [],
   "source": [
    "import PyPDF2 as pypdf"
   ]
  },
  {
   "cell_type": "code",
   "execution_count": null,
   "id": "d241b710",
   "metadata": {
    "ExecuteTime": {
     "end_time": "2021-11-02T15:12:06.217734Z",
     "start_time": "2021-11-02T15:12:06.139768Z"
    }
   },
   "outputs": [],
   "source": [
    "def findInDict(needle, haystack):\n",
    "    for key in haystack.keys():\n",
    "        try:\n",
    "            value=haystack[key]\n",
    "        except:\n",
    "            continue\n",
    "        if key==needle:\n",
    "            return value\n",
    "        if isinstance(value,dict):            \n",
    "            x=findInDict(needle,value)            \n",
    "            if x is not None:\n",
    "                return x\n",
    "pdfobject=open('../data/raw/boletim_covid/boletim-direitos-na-pandemia.pdf','rb')\n",
    "pdf=pypdf.PdfFileReader(pdfobject)\n",
    "xfa=findInDict('/XFA',pdf.resolvedObjects)\n",
    "# xml=xfa[7].getObject().getData()"
   ]
  },
  {
   "cell_type": "code",
   "execution_count": null,
   "id": "b02fafd4",
   "metadata": {
    "ExecuteTime": {
     "end_time": "2021-11-02T15:34:40.404701Z",
     "start_time": "2021-11-02T15:34:40.128239Z"
    }
   },
   "outputs": [],
   "source": [
    "def text_extractor(path):\n",
    "    with open(path, 'rb') as f:\n",
    "        pdf = pypdf.PdfFileReader(f)\n",
    "        # get the first page\n",
    "        page = pdf.getPage(7)\n",
    "        print(page)\n",
    "        print('Page type: {}'.format(str(type(page))))\n",
    "        text = page.extractText()\n",
    "        print(text)\n",
    "if __name__ == '__main__':\n",
    "    path = '../data/raw/boletim_covid/boletim-direitos-na-pandemia.pdf'\n",
    "    text_extractor(path)"
   ]
  },
  {
   "cell_type": "markdown",
   "id": "4d0bef39",
   "metadata": {},
   "source": [
    "## Tika"
   ]
  },
  {
   "cell_type": "code",
   "execution_count": null,
   "id": "f90613e5",
   "metadata": {
    "ExecuteTime": {
     "end_time": "2021-11-05T16:31:47.785244Z",
     "start_time": "2021-11-05T16:31:47.015917Z"
    }
   },
   "outputs": [],
   "source": [
    "# import parser object from tika\n",
    "from tika import parser"
   ]
  },
  {
   "cell_type": "code",
   "execution_count": null,
   "id": "b90443d1",
   "metadata": {
    "ExecuteTime": {
     "end_time": "2021-11-05T16:32:09.038308Z",
     "start_time": "2021-11-05T16:31:47.788242Z"
    }
   },
   "outputs": [],
   "source": [
    "# opening pdf file\n",
    "parsed_pdf = parser.from_file(\"../data/raw/boletim_covid/CEPEDISA-USP-Linha-do-Tempo-Maio-2021_v3.pdf\")"
   ]
  },
  {
   "cell_type": "code",
   "execution_count": null,
   "id": "b6fefbd9",
   "metadata": {
    "ExecuteTime": {
     "end_time": "2021-11-05T16:32:09.053271Z",
     "start_time": "2021-11-05T16:32:09.040302Z"
    }
   },
   "outputs": [],
   "source": [
    "covid_events = parsed_pdf['content'].split('\\n\\n \\n\\n \\n\\n \\n\\nFEVEREIRO DE 2020 \\n\\n \\n\\n \\n\\n')[1].split('\\n\\n \\n\\n \\n\\n \\n\\n \\n\\nÍNDICE REMISSIVO \\n\\n \\n\\n \\n\\n')[0]"
   ]
  },
  {
   "cell_type": "code",
   "execution_count": null,
   "id": "77c4fec4",
   "metadata": {
    "ExecuteTime": {
     "end_time": "2021-11-05T16:32:09.069226Z",
     "start_time": "2021-11-05T16:32:09.058257Z"
    }
   },
   "outputs": [],
   "source": [
    "import re"
   ]
  },
  {
   "cell_type": "code",
   "execution_count": null,
   "id": "78023e0e",
   "metadata": {
    "ExecuteTime": {
     "end_time": "2021-11-05T16:32:17.049631Z",
     "start_time": "2021-11-05T16:32:17.019759Z"
    }
   },
   "outputs": [],
   "source": [
    "match = re.split(r'(\\d+/\\d+/\\d+)\\s(\\bAtos normativos\\b|\\bAtos de governo\\b|\\bPropaganda\\b)', covid_events)"
   ]
  },
  {
   "cell_type": "code",
   "execution_count": null,
   "id": "f7bbe3e6",
   "metadata": {
    "ExecuteTime": {
     "end_time": "2021-11-04T00:56:34.483485Z",
     "start_time": "2021-11-04T00:56:34.416591Z"
    }
   },
   "outputs": [],
   "source": [
    "match"
   ]
  },
  {
   "cell_type": "code",
   "execution_count": null,
   "id": "252f1294",
   "metadata": {},
   "outputs": [],
   "source": [
    "MARÇO DE 2020 \\n\\n \\n\\n \\n\\n \\n\\n \\n\\n\n",
    "ABRIL DE 2020 \\n\\n \\n \\n\\n\n",
    "MAIO DE 2020 \\n\\n \\n\\n',"
   ]
  },
  {
   "cell_type": "code",
   "execution_count": null,
   "id": "83f9a34e",
   "metadata": {
    "ExecuteTime": {
     "end_time": "2021-11-04T01:18:08.261705Z",
     "start_time": "2021-11-04T01:18:08.253700Z"
    }
   },
   "outputs": [],
   "source": [
    "a = ' \\n\\n \\n\\n3. Ministério da Saúde apresenta Plano de Contingência Nacional para Infecção \\n\\nHumana pelo novo Coronavírus que estipula os seguintes eixos de atuação: \\n\\nvigilância, suporte laboratorial,  medidas de controle de infecção,   assistência \\n\\nfarmacêutica, vigilância sanitária, medidas de saúde em pontos de entrada \\n\\n(portos, aeroportos e passagens de fronteiras), comunicação de risco e \\n\\ngestão30. No eixo de comunicação de risco, o referido plano detalha quatorze \\n\\nações voltadas à prevenção que serão iniciadas mas abandonadas nos meses \\n\\nseguintes (ver §§ 76, 131, 200, 221 e 229). Em 26/02/20, é confirmado o \\n\\nprimeiro caso de Covid-19 no Brasil. Trata-se de um homem de 61 anos \\n\\ncom histórico de viagem para Itália, região da Lombardia31. \\n\\n \\n\\n \\n\\n                                                 \\n30 Disponível em: https://portalarquivos2.saude.gov.br/images/pdf/2020/fevereiro/13/plano-\\n\\ncontingencia-coronavirus-COVID19.pdf  \\n31 “Coronavírus: Brasil confirma primeiro caso da doença”, UMA-SUS. Disponível em: \\n\\nhttps://www.unasus.gov.br/noticia/coronavirus-brasil-confirma-primeiro-caso-da-doenca  \\n\\nSemana epidemiológica 9, 25-29/02/20 \\n\\n \\n\\nCasos de Covid-19 acumulados – 2 \\n\\nÓbitos por Covid-19 acumulados – 0 \\n\\n \\n\\nhttps://portalarquivos2.saude.gov.br/images/pdf/2020/fevereiro/13/plano-contingencia-coronavirus-COVID19.pdf\\nhttps://portalarquivos2.saude.gov.br/images/pdf/2020/fevereiro/13/plano-contingencia-coronavirus-COVID19.pdf\\nhttps://www.unasus.gov.br/noticia/coronavirus-brasil-confirma-primeiro-caso-da-doenca\\n\\n\\n31 \\n\\n  \\n \\n\\n \\n\\n \\n\\n \\n\\n \\n\\nMARÇO DE 2020 \\n\\n \\n\\n \\n\\n \\n\\n \\n\\n'"
   ]
  },
  {
   "cell_type": "code",
   "execution_count": null,
   "id": "06260de6",
   "metadata": {
    "ExecuteTime": {
     "end_time": "2021-11-04T01:21:45.232183Z",
     "start_time": "2021-11-04T01:21:45.218195Z"
    }
   },
   "outputs": [],
   "source": [
    "event = re.split(r'\\s{49}', a)\n",
    "if len(event) > 1:\n",
    "    event"
   ]
  },
  {
   "cell_type": "code",
   "execution_count": null,
   "id": "15234386",
   "metadata": {
    "ExecuteTime": {
     "end_time": "2021-11-05T16:32:44.675456Z",
     "start_time": "2021-11-05T16:32:44.624581Z"
    }
   },
   "outputs": [],
   "source": [
    "aux = 1\n",
    "for i in range(1, len(match)):\n",
    "    if aux == 1:\n",
    "        date = match[i]\n",
    "    elif aux == 2:\n",
    "        event_type = match[i]\n",
    "    else:\n",
    "        aux = 1\n",
    "#         event = re.sub(r'\\n', '', match[i])\n",
    "#         event = re.split(r'\\s{49}', '', match[i])\n",
    "        event = re.sub(r'\\n\\n\\n(\\d+) \\n\\n  \\n \\n\\n \\n\\n \\n\\n \\n\\n \\n\\n', '', match[i])\n",
    "#         event = re.sub(r')\n",
    "        print(match[i])\n",
    "        continue\n",
    "    aux = aux + 1"
   ]
  },
  {
   "cell_type": "markdown",
   "id": "4c51c518",
   "metadata": {},
   "source": [
    "## PDF Miner"
   ]
  },
  {
   "cell_type": "code",
   "execution_count": null,
   "id": "2da93a29",
   "metadata": {
    "ExecuteTime": {
     "end_time": "2021-11-02T17:36:41.306302Z",
     "start_time": "2021-11-02T17:36:41.046992Z"
    }
   },
   "outputs": [],
   "source": [
    "import io\n",
    "from pdfminer.converter import TextConverter\n",
    "from pdfminer.pdfinterp import PDFPageInterpreter\n",
    "from pdfminer.pdfinterp import PDFResourceManager\n",
    "from pdfminer.pdfpage import PDFPage"
   ]
  },
  {
   "cell_type": "code",
   "execution_count": null,
   "id": "3853db3f",
   "metadata": {
    "ExecuteTime": {
     "end_time": "2021-11-02T17:36:46.103157Z",
     "start_time": "2021-11-02T17:36:46.094181Z"
    }
   },
   "outputs": [],
   "source": [
    "def extract_text_from_pdf(pdf_path):\n",
    "    resource_manager = PDFResourceManager()\n",
    "    fake_file_handle = io.StringIO()\n",
    "    converter = TextConverter(resource_manager, fake_file_handle)\n",
    "    page_interpreter = PDFPageInterpreter(resource_manager, converter)\n",
    "    \n",
    "    with open(pdf_path, 'rb') as fh:\n",
    "        for page in PDFPage.get_pages(fh, \n",
    "                                      caching=True,\n",
    "                                      check_extractable=True):\n",
    "            page_interpreter.process_page(page)\n",
    "            \n",
    "        text = fake_file_handle.getvalue()\n",
    "    \n",
    "    # close open handles\n",
    "    converter.close()\n",
    "    fake_file_handle.close()\n",
    "    \n",
    "    if text:\n",
    "        return text"
   ]
  },
  {
   "cell_type": "code",
   "execution_count": null,
   "id": "05ec4f0b",
   "metadata": {
    "ExecuteTime": {
     "end_time": "2021-11-02T17:37:07.090036Z",
     "start_time": "2021-11-02T17:37:02.292398Z"
    }
   },
   "outputs": [],
   "source": [
    "if __name__ == '__main__':\n",
    "    print(extract_text_from_pdf('../data/raw/boletim_covid/boletim-direitos-na-pandemia.pdf'))"
   ]
  },
  {
   "cell_type": "code",
   "execution_count": null,
   "id": "a1d5a8f5",
   "metadata": {
    "ExecuteTime": {
     "end_time": "2021-11-02T17:43:47.824861Z",
     "start_time": "2021-11-02T17:43:47.807945Z"
    }
   },
   "outputs": [],
   "source": [
    "import pdfminer\n",
    "from pdfminer.high_level import extract_pages"
   ]
  },
  {
   "cell_type": "code",
   "execution_count": null,
   "id": "9274feef",
   "metadata": {},
   "outputs": [],
   "source": [
    "for page_layout in extract_pages(\"../data/raw/boletim_covid/boletim-direitos-na-pandemia.pdf\"):\n",
    "    for element in page_layout:\n",
    "        print(element)"
   ]
  },
  {
   "cell_type": "markdown",
   "id": "db434586",
   "metadata": {},
   "source": [
    "# TESTES"
   ]
  },
  {
   "cell_type": "code",
   "execution_count": null,
   "id": "a05b7076",
   "metadata": {
    "ExecuteTime": {
     "end_time": "2021-11-02T18:09:05.416837Z",
     "start_time": "2021-11-02T18:09:04.699149Z"
    }
   },
   "outputs": [],
   "source": [
    "import pandas as pd"
   ]
  },
  {
   "cell_type": "code",
   "execution_count": null,
   "id": "3d667c00",
   "metadata": {
    "ExecuteTime": {
     "end_time": "2021-11-02T19:53:19.625574Z",
     "start_time": "2021-11-02T19:53:18.633436Z"
    }
   },
   "outputs": [],
   "source": [
    "df_casos = pd.read_parquet('../data/app/covid_saude_obito_municipio.parquet')\n",
    "df_casos['data'] = pd.to_datetime(df_casos['data'])\n",
    "\n",
    "df_boletim_direitos = pd.read_csv('../data/raw/boletim_covid/boletim_direitos_covid.csv', encoding='latin-1')\n",
    "df_boletim_direitos['data'] = pd.to_datetime(df_boletim_direitos['data'], format='%d/%m/%Y')\n",
    "\n",
    "df_boletim_direitos['noticia'] = df_boletim_direitos['noticia'].str.wrap(30)\n",
    "df_boletim_direitos['noticia'] = df_boletim_direitos['noticia'].apply(lambda x: x.replace('\\n', '<br>'))\n",
    "\n",
    "df_casos = df_casos.merge(df_boletim_direitos, how='left', on='data')"
   ]
  },
  {
   "cell_type": "code",
   "execution_count": null,
   "id": "6d279f55",
   "metadata": {
    "ExecuteTime": {
     "end_time": "2021-11-02T19:53:24.861550Z",
     "start_time": "2021-11-02T19:53:24.532855Z"
    }
   },
   "outputs": [],
   "source": [
    "df_casos.loc[(df_casos['municipio']=='São Paulo')&(df_casos['noticia'].notna())]"
   ]
  },
  {
   "cell_type": "code",
   "execution_count": null,
   "id": "aa896971",
   "metadata": {
    "ExecuteTime": {
     "end_time": "2021-11-02T19:57:47.561428Z",
     "start_time": "2021-11-02T19:57:47.415523Z"
    }
   },
   "outputs": [],
   "source": [
    "import plotly.express as px\n",
    "import plotly.graph_objects as go"
   ]
  },
  {
   "cell_type": "code",
   "execution_count": null,
   "id": "10a4a304",
   "metadata": {
    "ExecuteTime": {
     "end_time": "2021-11-02T19:58:47.075313Z",
     "start_time": "2021-11-02T19:58:46.909752Z"
    }
   },
   "outputs": [],
   "source": [
    "df_casos = df_casos.loc[df_casos['municipio']=='São Paulo']"
   ]
  },
  {
   "cell_type": "code",
   "execution_count": null,
   "id": "1a198b4f",
   "metadata": {
    "ExecuteTime": {
     "end_time": "2021-11-02T20:03:43.180220Z",
     "start_time": "2021-11-02T20:03:43.110194Z"
    }
   },
   "outputs": [],
   "source": [
    "fig = go.Figure()\n",
    "\n",
    "fig.add_trace(go.Scatter(x=df_casos[\"data\"], \n",
    "                         y=df_casos[\"obitosNovos\"], \n",
    "                         text=df_casos['noticia'],\n",
    "                         hoverinfo='text',\n",
    "                         mode='lines+markers',\n",
    "                         marker = dict(size=list(map(SetNewsSize, df_casos['noticia'])),\n",
    "                                       color=['orange']*df_casos.shape[0])\n",
    "                         )\n",
    "             )\n",
    "\n",
    "fig.show()"
   ]
  },
  {
   "cell_type": "code",
   "execution_count": null,
   "id": "deed869e",
   "metadata": {
    "ExecuteTime": {
     "end_time": "2021-11-02T19:59:16.630012Z",
     "start_time": "2021-11-02T19:59:16.611064Z"
    }
   },
   "outputs": [],
   "source": [
    "df_casos.loc[df_casos['noticia'].notna()]"
   ]
  },
  {
   "cell_type": "code",
   "execution_count": null,
   "id": "4eb5148f",
   "metadata": {},
   "outputs": [],
   "source": []
  },
  {
   "cell_type": "code",
   "execution_count": null,
   "id": "9f843be0",
   "metadata": {},
   "outputs": [],
   "source": []
  },
  {
   "cell_type": "code",
   "execution_count": null,
   "id": "2a62111c",
   "metadata": {},
   "outputs": [],
   "source": []
  },
  {
   "cell_type": "code",
   "execution_count": null,
   "id": "45a710b6",
   "metadata": {},
   "outputs": [],
   "source": []
  }
 ],
 "metadata": {
  "kernelspec": {
   "display_name": "Python 3 (ipykernel)",
   "language": "python",
   "name": "python3"
  },
  "language_info": {
   "codemirror_mode": {
    "name": "ipython",
    "version": 3
   },
   "file_extension": ".py",
   "mimetype": "text/x-python",
   "name": "python",
   "nbconvert_exporter": "python",
   "pygments_lexer": "ipython3",
   "version": "3.8.11"
  },
  "toc": {
   "nav_menu": {},
   "number_sections": true,
   "sideBar": true,
   "skip_h1_title": false,
   "title_cell": "Table of Contents",
   "title_sidebar": "Contents",
   "toc_cell": false,
   "toc_position": {},
   "toc_section_display": true,
   "toc_window_display": false
  }
 },
 "nbformat": 4,
 "nbformat_minor": 5
}
