{
 "cells": [
  {
   "cell_type": "markdown",
   "metadata": {},
   "source": [
    "# Imports"
   ]
  },
  {
   "cell_type": "code",
   "execution_count": null,
   "metadata": {
    "ExecuteTime": {
     "end_time": "2021-11-01T14:45:50.182734Z",
     "start_time": "2021-11-01T14:45:46.230306Z"
    },
    "colab": {
     "base_uri": "https://localhost:8080/"
    },
    "id": "3m60uNmH0Igs",
    "outputId": "924884ee-975f-4d7b-9df0-b3b87a8f43d7",
    "run_control": {
     "marked": false
    }
   },
   "outputs": [],
   "source": [
    "import pandas as pd\n",
    "import numpy as np\n",
    "import matplotlib.pyplot as plt\n",
    "import seaborn as sns\n",
    "\n",
    "import epyestim\n",
    "import epyestim.covid19 as covid19\n",
    "\n",
    "from fbprophet import Prophet\n",
    "\n",
    "from statsmodels.tsa.seasonal import seasonal_decompose\n",
    "from statsmodels.graphics.tsaplots import plot_acf, plot_pacf\n",
    "from statsmodels.tsa.arima.model import ARIMA\n",
    "import itertools\n",
    "import statsmodels.api as sm\n",
    "\n",
    "from statsmodels.tsa.stattools import acf\n",
    "import pmdarima as pm\n",
    "\n",
    "from tqdm import tqdm\n",
    "\n",
    "import warnings\n",
    "warnings.filterwarnings(\"ignore\")"
   ]
  },
  {
   "cell_type": "markdown",
   "metadata": {},
   "source": [
    "# Load Data"
   ]
  },
  {
   "cell_type": "code",
   "execution_count": null,
   "metadata": {
    "ExecuteTime": {
     "end_time": "2021-11-01T14:45:52.154461Z",
     "start_time": "2021-11-01T14:45:50.190714Z"
    },
    "colab": {
     "base_uri": "https://localhost:8080/",
     "height": 197
    },
    "id": "TJKW0QBv0cNx",
    "outputId": "ca14b0f6-7b50-4784-a223-f49b3dc7dfa6",
    "run_control": {
     "marked": false
    }
   },
   "outputs": [],
   "source": [
    "dados_covid = pd.read_parquet('../data/processed/covid_saude.parquet')\n",
    "dados_covid['data'] = pd.to_datetime(dados_covid['data'])\n",
    "dados_covid.head()"
   ]
  },
  {
   "cell_type": "code",
   "execution_count": null,
   "metadata": {
    "ExecuteTime": {
     "end_time": "2021-10-27T22:58:49.374090Z",
     "start_time": "2021-10-27T22:58:49.156672Z"
    },
    "run_control": {
     "marked": false
    }
   },
   "outputs": [],
   "source": [
    "df_vacinacao = pd.read_parquet('../data/processed/vacinacao_diaria_SP.parquet')"
   ]
  },
  {
   "cell_type": "code",
   "execution_count": null,
   "metadata": {
    "ExecuteTime": {
     "end_time": "2021-10-27T22:58:49.453884Z",
     "start_time": "2021-10-27T22:58:49.376085Z"
    },
    "run_control": {
     "marked": false
    }
   },
   "outputs": [],
   "source": [
    "df_vacinacao = df_vacinacao.loc[df_vacinacao['paciente_endereco_nmmunicipio']=='SAO PAULO']"
   ]
  },
  {
   "cell_type": "code",
   "execution_count": null,
   "metadata": {
    "ExecuteTime": {
     "end_time": "2021-10-27T22:58:49.468844Z",
     "start_time": "2021-10-27T22:58:49.454874Z"
    },
    "run_control": {
     "marked": false
    }
   },
   "outputs": [],
   "source": [
    "df_vacinacao_first = df_vacinacao.loc[df_vacinacao['vacina_descricao_dose'].isin(['1ª\\xa0Dose'])]\n",
    "df_vacinacao_second = df_vacinacao.loc[df_vacinacao['vacina_descricao_dose'].isin(['2ª\\xa0Dose'])]"
   ]
  },
  {
   "cell_type": "markdown",
   "metadata": {
    "id": "HIhciVoR1ZW-"
   },
   "source": [
    "## Separando a base de COVID entre BR, Estadual e Municipal"
   ]
  },
  {
   "cell_type": "markdown",
   "metadata": {
    "id": "rJTooTs73-wP"
   },
   "source": [
    "**Dados COVID**  \n",
    "```\n",
    "dados_covid_brasil  \n",
    "dados_covid_estados  \n",
    "dados_covid_cidades \n",
    "```"
   ]
  },
  {
   "cell_type": "code",
   "execution_count": null,
   "metadata": {
    "ExecuteTime": {
     "end_time": "2021-10-27T22:58:50.287182Z",
     "start_time": "2021-10-27T22:58:49.469835Z"
    },
    "run_control": {
     "marked": false
    }
   },
   "outputs": [],
   "source": [
    "dados_covid.sort_values(by=['data'], inplace=True)"
   ]
  },
  {
   "cell_type": "code",
   "execution_count": null,
   "metadata": {
    "ExecuteTime": {
     "end_time": "2021-10-27T22:58:50.901050Z",
     "start_time": "2021-10-27T22:58:50.291168Z"
    },
    "run_control": {
     "marked": false
    },
    "scrolled": true
   },
   "outputs": [],
   "source": [
    "dados_covid['year'] = dados_covid['data'].dt.year\n",
    "dados_covid['weekday'] = dados_covid['data'].dt.weekday\n",
    "dados_covid['week_number'] = 0\n",
    "dados_covid.loc[dados_covid['weekday']==0, 'week_number'] = 1"
   ]
  },
  {
   "cell_type": "code",
   "execution_count": null,
   "metadata": {
    "ExecuteTime": {
     "end_time": "2021-10-27T22:58:52.586615Z",
     "start_time": "2021-10-27T22:58:50.904043Z"
    },
    "colab": {
     "base_uri": "https://localhost:8080/",
     "height": 197
    },
    "id": "qJuENq2f094w",
    "outputId": "a930f2c7-6f19-421a-c2d4-7e7f762cf6eb",
    "run_control": {
     "marked": false
    }
   },
   "outputs": [],
   "source": [
    "dados_covid_cidades = dados_covid.loc[dados_covid['regiao']!='Brasil']\n",
    "dados_covid_cidades = dados_covid_cidades[dados_covid_cidades['municipio'].notna()]\n",
    "dados_covid_cidades.reset_index(drop=True, inplace=True)"
   ]
  },
  {
   "cell_type": "code",
   "execution_count": null,
   "metadata": {
    "ExecuteTime": {
     "end_time": "2021-10-27T22:58:53.708146Z",
     "start_time": "2021-10-27T22:58:52.588611Z"
    },
    "colab": {
     "base_uri": "https://localhost:8080/",
     "height": 406
    },
    "id": "mWHNQPY21dlK",
    "outputId": "f07609c3-11bf-4ca6-ca57-c0f8bacc0551",
    "run_control": {
     "marked": false
    }
   },
   "outputs": [],
   "source": [
    "dados_covid_estados = dados_covid.loc[dados_covid['regiao']!='Brasil']\n",
    "dados_covid_estados = dados_covid_estados[dados_covid_estados['municipio'].isna()]\n",
    "dados_covid_estados.reset_index(drop=True, inplace=True)"
   ]
  },
  {
   "cell_type": "code",
   "execution_count": null,
   "metadata": {
    "ExecuteTime": {
     "end_time": "2021-10-27T22:58:54.016345Z",
     "start_time": "2021-10-27T22:58:53.711139Z"
    },
    "colab": {
     "base_uri": "https://localhost:8080/",
     "height": 197
    },
    "id": "HNuHBC4F3bpM",
    "outputId": "ac8c97c3-f159-4227-9ec9-41a640dfc4c7",
    "run_control": {
     "marked": false
    }
   },
   "outputs": [],
   "source": [
    "dados_covid_brasil = dados_covid.loc[dados_covid['regiao']=='Brasil']\n",
    "dados_covid_brasil.reset_index(drop=True, inplace=True)"
   ]
  },
  {
   "cell_type": "code",
   "execution_count": null,
   "metadata": {
    "ExecuteTime": {
     "end_time": "2021-10-18T21:55:57.710922Z",
     "start_time": "2021-10-18T21:55:57.386821Z"
    },
    "run_control": {
     "marked": false
    }
   },
   "outputs": [],
   "source": [
    "dados_covid_cidades['week_number'] = dados_covid_cidades.groupby('codmun')['week_number'].cumsum()\n",
    "dados_covid_estados['week_number'] = dados_covid_estados.groupby('estado')['week_number'].cumsum()\n",
    "dados_covid_brasil['week_number'] = dados_covid_brasil['week_number'].cumsum()"
   ]
  },
  {
   "cell_type": "markdown",
   "metadata": {
    "id": "_flltJul6TLe"
   },
   "source": [
    "## São Paulo Exploration"
   ]
  },
  {
   "cell_type": "code",
   "execution_count": null,
   "metadata": {
    "ExecuteTime": {
     "end_time": "2021-10-18T21:55:58.240506Z",
     "start_time": "2021-10-18T21:55:57.715909Z"
    },
    "run_control": {
     "marked": false
    }
   },
   "outputs": [],
   "source": [
    "df_sp = dados_covid_cidades.loc[dados_covid_cidades['municipio']=='São Paulo']"
   ]
  },
  {
   "cell_type": "code",
   "execution_count": null,
   "metadata": {
    "ExecuteTime": {
     "end_time": "2021-10-18T21:55:58.870098Z",
     "start_time": "2021-10-18T21:55:58.243500Z"
    },
    "colab": {
     "base_uri": "https://localhost:8080/",
     "height": 387
    },
    "id": "yQLW5vok31dY",
    "outputId": "9f75e3bc-c745-4e7d-b1d3-c99e6ac45a9c",
    "run_control": {
     "marked": false
    }
   },
   "outputs": [],
   "source": [
    "plt.figure(figsize=(12,6))\n",
    "sns.lineplot(data=df_sp.groupby('week_number').sum(), x='week_number', y='obitosNovos')\n",
    "plt.show();"
   ]
  },
  {
   "cell_type": "markdown",
   "metadata": {
    "id": "3YGgJoQ8JbvD"
   },
   "source": [
    "### Grouping by epidemiological week"
   ]
  },
  {
   "cell_type": "code",
   "execution_count": null,
   "metadata": {
    "ExecuteTime": {
     "end_time": "2021-10-18T21:55:58.947887Z",
     "start_time": "2021-10-18T21:55:58.873087Z"
    },
    "colab": {
     "base_uri": "https://localhost:8080/",
     "height": 1000
    },
    "id": "gd6X2snYJLYA",
    "outputId": "b9a0f090-9c41-421a-864a-232063b223c5",
    "run_control": {
     "marked": false
    }
   },
   "outputs": [],
   "source": [
    "df_sp_week = df_sp.groupby('week_number').sum()\n",
    "df_sp_week['est_r'] = df_sp_week['obitosNovos'].divide(df_sp_week['obitosNovos'].shift(1))\n",
    "df_sp_week.head()"
   ]
  },
  {
   "cell_type": "code",
   "execution_count": null,
   "metadata": {
    "ExecuteTime": {
     "end_time": "2021-10-18T21:55:59.546322Z",
     "start_time": "2021-10-18T21:55:58.956866Z"
    },
    "colab": {
     "base_uri": "https://localhost:8080/",
     "height": 387
    },
    "id": "_OpRbd9qJwum",
    "outputId": "4b3348ca-5688-4dcd-c8b7-1b3793bea1eb",
    "run_control": {
     "marked": false
    }
   },
   "outputs": [],
   "source": [
    "plt.figure(figsize=(12,6))\n",
    "sns.lineplot(data=df_sp_week, x='week_number', y='obitosNovos')\n",
    "plt.show();"
   ]
  },
  {
   "cell_type": "code",
   "execution_count": null,
   "metadata": {
    "ExecuteTime": {
     "end_time": "2021-10-14T17:20:29.031919Z",
     "start_time": "2021-10-14T17:20:29.012923Z"
    },
    "id": "BXvfhy6Yf_Zs",
    "run_control": {
     "marked": false
    }
   },
   "outputs": [],
   "source": [
    "#adicionando infos de habitantes\n",
    "df_sp_week['populacao'] = 45919049\n",
    "df_sp_week['casos_p_habitante'] = df_sp_week['obitosNovos'] / df_sp_week['populacao']\n",
    "df_sp_week['casos_p_milhao'] = df_sp_week['obitosNovos'] / (df_sp_week['populacao'] / 1000000)"
   ]
  },
  {
   "cell_type": "markdown",
   "metadata": {
    "id": "AHOrvmqC4er3"
   },
   "source": [
    "##Calculando a Taxa de Reprodução estimada (Re)\n",
    "Utilizand método Bayesiano como citado nas referências. O estad do Espírito Santo possui alguma incongruência nos dados e foi deixado de fora."
   ]
  },
  {
   "cell_type": "code",
   "execution_count": null,
   "metadata": {
    "ExecuteTime": {
     "end_time": "2021-10-14T17:17:28.819182Z",
     "start_time": "2021-10-14T17:17:21.566236Z"
    },
    "id": "jHJiLYm-z4Er",
    "run_control": {
     "marked": false
    }
   },
   "outputs": [],
   "source": [
    "#calculando o R estimado por dia\n",
    "data_sp = df_sp[['data', 'obitosNovos']]\n",
    "data_sp.set_index('data', inplace=True)\n",
    "r_est_sp= covid19.r_covid(data_sp['obitosNovos'], r_window_size=3)"
   ]
  },
  {
   "cell_type": "code",
   "execution_count": null,
   "metadata": {
    "ExecuteTime": {
     "end_time": "2021-10-14T17:17:28.867198Z",
     "start_time": "2021-10-14T17:17:28.826702Z"
    },
    "colab": {
     "base_uri": "https://localhost:8080/"
    },
    "id": "GyAcrtt231KA",
    "outputId": "32694cee-0105-48b6-995c-c8844b04d55a",
    "run_control": {
     "marked": false
    }
   },
   "outputs": [],
   "source": [
    "#checando os dfs gerados\n",
    "\n",
    "print(r_est_sp.head())\n",
    "print('\\n')"
   ]
  },
  {
   "cell_type": "markdown",
   "metadata": {
    "id": "eBXdY37h4l4r"
   },
   "source": [
    "###Adicionando ao df"
   ]
  },
  {
   "cell_type": "code",
   "execution_count": null,
   "metadata": {
    "ExecuteTime": {
     "end_time": "2021-10-14T17:17:28.908092Z",
     "start_time": "2021-10-14T17:17:28.873906Z"
    },
    "id": "3-plLa5M5I5x",
    "run_control": {
     "marked": false
    }
   },
   "outputs": [],
   "source": [
    "r_est_sp = r_est_sp.reset_index().rename(columns={'index' : 'data'})\n",
    "df_sp = df_sp.merge(r_est_sp, on='data')"
   ]
  },
  {
   "cell_type": "markdown",
   "metadata": {
    "id": "v8VjsvAp8W5s"
   },
   "source": [
    "#Plotando o R estimado para São Paulo, Rio de Janeiro e Minas Gerais\n",
    "Dataframes:\n",
    "\n",
    "\n",
    "```\n",
    "dados_covid_sudeste_mg\n",
    "dados_covid_sudeste_sp\n",
    "dados_covid_sudeste_ej\n",
    "```\n",
    "\n"
   ]
  },
  {
   "cell_type": "markdown",
   "metadata": {
    "id": "AdXnD86Strs2"
   },
   "source": [
    "Como podemos ver nos gráficos abaixo, picos de Re maiores que 1,2 são suscedidos por picos de infectados. Dessa forma, podemos usar o pico de Re > 1,2 para prever picos de infectados no período seguinte."
   ]
  },
  {
   "cell_type": "code",
   "execution_count": null,
   "metadata": {
    "ExecuteTime": {
     "end_time": "2021-10-14T17:17:30.124664Z",
     "start_time": "2021-10-14T17:17:28.916900Z"
    },
    "colab": {
     "base_uri": "https://localhost:8080/",
     "height": 791
    },
    "id": "jqmlmz8g-lbQ",
    "outputId": "2dd31f10-c5ff-4d48-e68f-479ca2735314",
    "run_control": {
     "marked": false
    }
   },
   "outputs": [],
   "source": [
    "plt.figure(figsize=(12,6))\n",
    "ax = sns.lineplot(data=df_sp, x='data', y='R_mean')\n",
    "plt.title('R médio para o estado de São Paulo')\n",
    "plt.xlabel('Dia')\n",
    "plt.ylabel('R médio')\n",
    "ax.axhline(1, ls='--')\n",
    "ax;\n",
    "\n",
    "df = df_sp.groupby('data').sum()\n",
    "df['casosNovos_mediamovel'] = df['casosNovos'].rolling(7).mean() #criando as médias móveis\n",
    "\n",
    "plt.figure(figsize=(12,6))\n",
    "ax = sns.lineplot(data=df, x='data', y='casosNovos_mediamovel')\n",
    "plt.title('Casos novos (média móvel de 7 dias) para o estado de São Paulo')\n",
    "plt.xlabel('Dia')\n",
    "plt.ylabel('Casos Novos')\n",
    "ax;"
   ]
  },
  {
   "cell_type": "code",
   "execution_count": null,
   "metadata": {
    "ExecuteTime": {
     "end_time": "2021-10-18T21:58:04.821014Z",
     "start_time": "2021-10-18T21:58:04.801066Z"
    },
    "colab": {
     "base_uri": "https://localhost:8080/",
     "height": 547
    },
    "id": "zzENhnEFi18N",
    "outputId": "bda065f6-9e5e-4a0a-faf2-70f0a4d7b65a",
    "run_control": {
     "marked": false
    }
   },
   "outputs": [],
   "source": [
    "# Accuracy metrics\n",
    "def forecast_accuracy(forecast, actual):\n",
    "    actual_non_zero = actual[actual!=0]\n",
    "    forecast_non_zero = forecast.loc[forecast.index & actual_non_zero.index]\n",
    "    \n",
    "    mape = np.mean(np.abs(forecast_non_zero - actual_non_zero)/np.abs(actual_non_zero))  # MAPE\n",
    "    me = np.mean(forecast - actual)             # ME\n",
    "    mae = np.mean(np.abs(forecast - actual))    # MAE\n",
    "    mpe = np.mean((forecast_non_zero - actual_non_zero)/actual_non_zero)   # MPE\n",
    "    rmse = np.mean((forecast - actual)**2)**.5  # RMSE\n",
    "    corr = np.corrcoef(forecast, actual)[0,1]   # corr\n",
    "    mins = np.amin(np.hstack([forecast[:,None], \n",
    "                              actual[:,None]]), axis=1)\n",
    "    maxs = np.amax(np.hstack([forecast[:,None], \n",
    "                              actual[:,None]]), axis=1)\n",
    "    minmax = 1 - np.mean(mins/maxs)             # minmax\n",
    "    acf1 = acf(forecast-actual)[1]                      # ACF1\n",
    "    return({'mape':mape, 'me':me, 'mae': mae, \n",
    "            'mpe': mpe, 'rmse':rmse, 'acf1':acf1, \n",
    "            'corr':corr, 'minmax':minmax})"
   ]
  },
  {
   "cell_type": "markdown",
   "metadata": {
    "id": "Wr8-qdUZUIfC"
   },
   "source": [
    "# ARIMA"
   ]
  },
  {
   "cell_type": "markdown",
   "metadata": {
    "id": "KKUvLjoli170"
   },
   "source": [
    "## São Paulo"
   ]
  },
  {
   "cell_type": "code",
   "execution_count": null,
   "metadata": {
    "ExecuteTime": {
     "end_time": "2021-10-14T17:20:29.372492Z",
     "start_time": "2021-10-14T17:20:29.354656Z"
    },
    "colab": {
     "base_uri": "https://localhost:8080/"
    },
    "id": "4CEbkGpJi18J",
    "outputId": "f657eaa5-4a89-4367-9e53-63ab78a57ed2",
    "run_control": {
     "marked": false
    }
   },
   "outputs": [],
   "source": [
    "decomposicao = seasonal_decompose(df_sp[['data', 'obitosNovos']].set_index('data'))\n",
    "decomposicao"
   ]
  },
  {
   "cell_type": "code",
   "execution_count": null,
   "metadata": {
    "ExecuteTime": {
     "end_time": "2021-10-14T17:20:31.054009Z",
     "start_time": "2021-10-14T17:20:29.430613Z"
    },
    "colab": {
     "base_uri": "https://localhost:8080/",
     "height": 296
    },
    "id": "OCqSxZfji18K",
    "outputId": "8c13d606-2bbc-4576-a365-0024a6767d44",
    "run_control": {
     "marked": false
    }
   },
   "outputs": [],
   "source": [
    "decomposicao.plot(); #o erro foi menor no modelo aditivo"
   ]
  },
  {
   "cell_type": "code",
   "execution_count": null,
   "metadata": {
    "ExecuteTime": {
     "end_time": "2021-10-14T17:20:31.113673Z",
     "start_time": "2021-10-14T17:20:31.103951Z"
    },
    "run_control": {
     "marked": false
    }
   },
   "outputs": [],
   "source": [
    "df_sp.sort_values(by='data', inplace=True)"
   ]
  },
  {
   "cell_type": "code",
   "execution_count": null,
   "metadata": {
    "ExecuteTime": {
     "end_time": "2021-10-14T17:20:31.227978Z",
     "start_time": "2021-10-14T17:20:31.199446Z"
    },
    "run_control": {
     "marked": false
    }
   },
   "outputs": [],
   "source": [
    "df_sp['week_number'].describe()"
   ]
  },
  {
   "cell_type": "markdown",
   "metadata": {},
   "source": [
    "## Predição diária"
   ]
  },
  {
   "cell_type": "code",
   "execution_count": null,
   "metadata": {
    "ExecuteTime": {
     "end_time": "2021-10-18T22:28:11.313972Z",
     "start_time": "2021-10-18T22:28:11.291033Z"
    },
    "run_control": {
     "marked": false
    }
   },
   "outputs": [],
   "source": [
    "dados_treino = df_sp.loc[df_sp['week_number']<75]\n",
    "dados_teste = df_sp.loc[df_sp['week_number']>=75]"
   ]
  },
  {
   "cell_type": "code",
   "execution_count": null,
   "metadata": {
    "ExecuteTime": {
     "end_time": "2021-10-14T17:20:32.263494Z",
     "start_time": "2021-10-14T17:20:31.664585Z"
    },
    "run_control": {
     "marked": false
    }
   },
   "outputs": [],
   "source": [
    "plt.figure(figsize=(15,6))\n",
    "sns.lineplot(data=df_sp, x='data', y='obitosNovos')\n",
    "plt.show();"
   ]
  },
  {
   "cell_type": "code",
   "execution_count": null,
   "metadata": {
    "ExecuteTime": {
     "end_time": "2021-10-14T17:20:32.816716Z",
     "start_time": "2021-10-14T17:20:32.464989Z"
    },
    "colab": {
     "base_uri": "https://localhost:8080/",
     "height": 281
    },
    "id": "HKZmJw97i18L",
    "outputId": "8142ae4b-f64a-4bc9-bf9d-9d8b1ef9635c",
    "run_control": {
     "marked": false
    }
   },
   "outputs": [],
   "source": [
    "plot_acf(df_sp['obitosNovos']); #entendendo autocorrelação"
   ]
  },
  {
   "cell_type": "code",
   "execution_count": null,
   "metadata": {
    "ExecuteTime": {
     "end_time": "2021-10-14T17:20:33.190745Z",
     "start_time": "2021-10-14T17:20:32.870837Z"
    },
    "colab": {
     "base_uri": "https://localhost:8080/",
     "height": 281
    },
    "id": "21PCKJ4vi18M",
    "outputId": "d37ed308-257e-4d4c-da7e-7b46e22f51ed",
    "run_control": {
     "marked": false
    }
   },
   "outputs": [],
   "source": [
    "plot_pacf(df_sp['obitosNovos']); #entendendo autocorrelação parcial"
   ]
  },
  {
   "cell_type": "code",
   "execution_count": null,
   "metadata": {
    "ExecuteTime": {
     "end_time": "2021-10-14T17:44:46.831126Z",
     "start_time": "2021-10-14T17:20:33.535306Z"
    },
    "colab": {
     "base_uri": "https://localhost:8080/",
     "height": 547
    },
    "id": "zzENhnEFi18N",
    "outputId": "bda065f6-9e5e-4a0a-faf2-70f0a4d7b65a",
    "run_control": {
     "marked": false
    },
    "scrolled": true
   },
   "outputs": [],
   "source": [
    "dict_metrics = {\n",
    "    'p':[],\n",
    "    'd':[],\n",
    "    'q':[],\n",
    "    'mape':[],\n",
    "    'me':[],\n",
    "    'mae':[],\n",
    "    'mpe':[],\n",
    "    'rmse':[],\n",
    "    'acf1':[],\n",
    "    'corr':[],\n",
    "    'minmax':[]\n",
    "}\n",
    "\n",
    "i = 0\n",
    "\n",
    "for p in tqdm(range(10)):\n",
    "    for d in range(10):\n",
    "        for q in range(10):\n",
    "            try:\n",
    "                modelo_arima = ARIMA(dados_treino['obitosNovos'], order=[p,d,q])\n",
    "                modelo_arima_treinado = modelo_arima.fit()\n",
    "\n",
    "                # Forecast\n",
    "                fc = modelo_arima_treinado.forecast(dados_teste.shape[0], alpha=0.05)  # 95% conf\n",
    "\n",
    "                metrics = forecast_accuracy(fc, dados_teste['obitosNovos'])\n",
    "\n",
    "                dict_metrics['p'].append(p)\n",
    "                dict_metrics['d'].append(d)\n",
    "                dict_metrics['q'].append(q)\n",
    "                dict_metrics['mape'].append(metrics['mape'])\n",
    "                dict_metrics['me'].append(metrics['me'])\n",
    "                dict_metrics['mae'].append(metrics['mae'])\n",
    "                dict_metrics['mpe'].append(metrics['mpe'])\n",
    "                dict_metrics['rmse'].append(metrics['rmse'])\n",
    "                dict_metrics['acf1'].append(metrics['acf1'])\n",
    "                dict_metrics['corr'].append(metrics['corr'])\n",
    "                dict_metrics['minmax'].append(metrics['minmax'])\n",
    "\n",
    "            except Exception as e:\n",
    "                print('Error:', e, 'p:', p, 'd:', d, 'q:', q)"
   ]
  },
  {
   "cell_type": "code",
   "execution_count": null,
   "metadata": {
    "ExecuteTime": {
     "end_time": "2021-10-14T17:44:46.861049Z",
     "start_time": "2021-10-14T17:44:46.851074Z"
    },
    "run_control": {
     "marked": false
    }
   },
   "outputs": [],
   "source": [
    "correls = np.array(dict_metrics['corr'])\n",
    "mapes = np.array(dict_metrics['mape'])\n",
    "rmses = np.array(dict_metrics['rmse'])\n",
    "maes = np.array(dict_metrics['mae'])\n",
    "list_p = np.array(dict_metrics['p'])\n",
    "list_d = np.array(dict_metrics['d'])\n",
    "list_q = np.array(dict_metrics['q'])\n",
    "\n",
    "nan_indexes = np.argwhere(np.isnan(correls))\n",
    "correls = np.delete(correls, nan_indexes, axis=0)\n",
    "mapes = np.delete(mapes, nan_indexes, axis=0)\n",
    "rmses = np.delete(rmses, nan_indexes, axis=0)\n",
    "maes = np.delete(maes, nan_indexes, axis=0)\n",
    "list_p = np.delete(list_p, nan_indexes, axis=0)\n",
    "list_d = np.delete(list_d, nan_indexes, axis=0)\n",
    "list_q = np.delete(list_q, nan_indexes, axis=0)\n",
    "\n",
    "inv_mapes = np.reciprocal(mapes)\n",
    "inv_rmses = np.reciprocal(rmses)\n",
    "inv_maes = np.reciprocal(maes)\n",
    "\n",
    "result = np.multiply(np.multiply(np.multiply(inv_mapes,correls), inv_rmses), inv_maes)"
   ]
  },
  {
   "cell_type": "code",
   "execution_count": null,
   "metadata": {
    "ExecuteTime": {
     "end_time": "2021-10-14T17:44:46.923880Z",
     "start_time": "2021-10-14T17:44:46.904930Z"
    },
    "run_control": {
     "marked": false
    }
   },
   "outputs": [],
   "source": [
    "max_arg = result.argmax(axis=0)\n",
    "max_arg"
   ]
  },
  {
   "cell_type": "code",
   "execution_count": null,
   "metadata": {
    "ExecuteTime": {
     "end_time": "2021-10-14T17:44:46.971204Z",
     "start_time": "2021-10-14T17:44:46.958241Z"
    },
    "run_control": {
     "marked": false
    }
   },
   "outputs": [],
   "source": [
    "dict_metrics.keys()"
   ]
  },
  {
   "cell_type": "code",
   "execution_count": null,
   "metadata": {
    "ExecuteTime": {
     "end_time": "2021-10-14T17:44:47.082909Z",
     "start_time": "2021-10-14T17:44:47.067948Z"
    },
    "run_control": {
     "marked": false
    }
   },
   "outputs": [],
   "source": [
    "p_max = list_p[max_arg]\n",
    "d_max = list_d[max_arg]\n",
    "q_max = list_q[max_arg]"
   ]
  },
  {
   "cell_type": "code",
   "execution_count": null,
   "metadata": {
    "ExecuteTime": {
     "end_time": "2021-10-14T17:44:47.176688Z",
     "start_time": "2021-10-14T17:44:47.163690Z"
    },
    "run_control": {
     "marked": false
    }
   },
   "outputs": [],
   "source": [
    "p_max # 9"
   ]
  },
  {
   "cell_type": "code",
   "execution_count": null,
   "metadata": {
    "ExecuteTime": {
     "end_time": "2021-10-14T17:44:47.271402Z",
     "start_time": "2021-10-14T17:44:47.256444Z"
    },
    "run_control": {
     "marked": false
    }
   },
   "outputs": [],
   "source": [
    "d_max # 1"
   ]
  },
  {
   "cell_type": "code",
   "execution_count": null,
   "metadata": {
    "ExecuteTime": {
     "end_time": "2021-10-14T17:44:47.382106Z",
     "start_time": "2021-10-14T17:44:47.362162Z"
    },
    "run_control": {
     "marked": false
    }
   },
   "outputs": [],
   "source": [
    "q_max # 2"
   ]
  },
  {
   "cell_type": "code",
   "execution_count": null,
   "metadata": {
    "ExecuteTime": {
     "end_time": "2021-10-15T14:40:34.687640Z",
     "start_time": "2021-10-15T14:40:33.705698Z"
    },
    "run_control": {
     "marked": false
    }
   },
   "outputs": [],
   "source": [
    "# modelo_arima = ARIMA(dados_treino['obitosNovos'].values.astype('float32'), order=[p_max,d_max,q_max])\n",
    "modelo_arima = ARIMA(dados_treino['obitosNovos'].values.astype('float32'), order=[9,1,2])\n",
    "modelo_arima_treinado = modelo_arima.fit()\n",
    "forecast = modelo_arima_treinado.get_forecast(dados_teste.shape[0])\n",
    "\n",
    "fc = modelo_arima_treinado.forecast(dados_teste.shape[0], alpha=0.05)\n",
    "dados_teste['Previsao'] = fc\n",
    "# dados_teste['Previsao'] = forecast.predicted_mean\n",
    "\n",
    "# Get confidence intervals of forecasts\n",
    "confidence_intervals = forecast.conf_int()\n",
    "\n",
    "# make series for plotting purpose\n",
    "lower_series = pd.Series(confidence_intervals[:, 0], index=dados_teste.index)\n",
    "upper_series = pd.Series(confidence_intervals[:, 1], index=dados_teste.index)\n",
    "\n",
    "# Plot\n",
    "plt.figure(figsize=(15,6))\n",
    "plt.plot(dados_treino.loc[dados_treino['data']>='2021-06-01', 'obitosNovos'], label=\"Train\")\n",
    "plt.plot(dados_teste['obitosNovos'], color='orange', label=\"Test Real\")\n",
    "plt.plot(dados_teste['Previsao'], color='darkgreen', label=\"Test Forecast\")\n",
    "plt.fill_between(lower_series.index, \n",
    "                 lower_series, \n",
    "                 upper_series, \n",
    "                 color='k', alpha=.15)\n",
    "\n",
    "plt.legend()\n",
    "plt.title(\"Covid Forecasting - Deaths\")\n",
    "plt.show()\n",
    "\n",
    "# plt.figure(figsize=(12,6))\n",
    "# sns.lineplot(data=dados_treino[250:], x='data', y='obitosNovos')\n",
    "# sns.lineplot(data=dados_teste, x='data', y='obitosNovos')\n",
    "# sns.lineplot(data=dados_teste, x='data', y='Previsao')"
   ]
  },
  {
   "cell_type": "code",
   "execution_count": null,
   "metadata": {
    "ExecuteTime": {
     "end_time": "2021-10-14T21:49:24.722834Z",
     "start_time": "2021-10-14T21:49:24.709862Z"
    },
    "run_control": {
     "marked": false
    }
   },
   "outputs": [],
   "source": [
    "forecast_accuracy(dados_teste['Previsao'], dados_teste['obitosNovos'])"
   ]
  },
  {
   "cell_type": "markdown",
   "metadata": {},
   "source": [
    "### Predicting all dates"
   ]
  },
  {
   "cell_type": "code",
   "execution_count": null,
   "metadata": {
    "ExecuteTime": {
     "end_time": "2021-10-18T22:36:17.010865Z",
     "start_time": "2021-10-18T22:28:20.004480Z"
    },
    "run_control": {
     "marked": false
    },
    "scrolled": true
   },
   "outputs": [],
   "source": [
    "confidence_intervals = np.empty((0,2), int)\n",
    "predictions = []\n",
    "\n",
    "for data in df_sp.loc[df_sp['data']>='2020-05-01', 'data'].sort_values():\n",
    "    print(data)\n",
    "    dados_treino = df_sp.loc[df_sp['data']<data]\n",
    "    dados_teste = df_sp.loc[df_sp['data']==data]\n",
    "    \n",
    "#     modelo_arima = ARIMA(dados_treino['obitosNovos'].values, order=[p_max,d_max,q_max])\n",
    "    modelo_arima = ARIMA(dados_treino['obitosNovos'].values, order=[9,1,2])\n",
    "    modelo_arima_treinado = modelo_arima.fit()\n",
    "    forecast = modelo_arima_treinado.get_forecast(dados_teste.shape[0])\n",
    "\n",
    "    fc = modelo_arima_treinado.forecast(dados_teste.shape[0], alpha=0.05)\n",
    "    predictions.append(fc[0])\n",
    "    # dados_teste['Previsao'] = forecast.predicted_mean\n",
    "\n",
    "    # Get confidence intervals of forecasts\n",
    "    confidence_intervals = np.concatenate((confidence_intervals,[forecast.conf_int()[0]]))\n",
    "\n",
    "# # make series for plotting purpose\n",
    "# lower_series = pd.Series(confidence_intervals[:, 0], index=dados_teste.index)\n",
    "# upper_series = pd.Series(confidence_intervals[:, 1], index=dados_teste.index)\n",
    "\n",
    "# # Plot\n",
    "# plt.figure(figsize=(15,6))\n",
    "# plt.plot(dados_treino['obitosNovos'], label=\"Train\")\n",
    "# plt.plot(dados_teste['obitosNovos'], color='orange', label=\"Test Real\")\n",
    "# plt.plot(dados_teste['Previsao'], color='darkgreen', label=\"Test Forecast\")\n",
    "# plt.fill_between(lower_series.index, \n",
    "#                  lower_series, \n",
    "#                  upper_series, \n",
    "#                  color='k', alpha=.15)\n",
    "\n",
    "# plt.legend()\n",
    "# plt.title(\"Covid Forecasting - Deaths\")\n",
    "# plt.show()"
   ]
  },
  {
   "cell_type": "code",
   "execution_count": null,
   "metadata": {
    "ExecuteTime": {
     "end_time": "2021-10-18T22:36:17.026822Z",
     "start_time": "2021-10-18T22:36:17.013857Z"
    },
    "run_control": {
     "marked": false
    }
   },
   "outputs": [],
   "source": [
    "dados_teste = df_sp.loc[df_sp['data']>='2020-05-01']"
   ]
  },
  {
   "cell_type": "code",
   "execution_count": null,
   "metadata": {
    "ExecuteTime": {
     "end_time": "2021-10-18T22:36:17.042781Z",
     "start_time": "2021-10-18T22:36:17.028818Z"
    },
    "run_control": {
     "marked": false
    }
   },
   "outputs": [],
   "source": [
    "dados_teste.shape"
   ]
  },
  {
   "cell_type": "code",
   "execution_count": null,
   "metadata": {
    "ExecuteTime": {
     "end_time": "2021-10-18T22:36:17.057740Z",
     "start_time": "2021-10-18T22:36:17.046770Z"
    },
    "run_control": {
     "marked": false
    }
   },
   "outputs": [],
   "source": [
    "confidence_intervals.shape"
   ]
  },
  {
   "cell_type": "code",
   "execution_count": null,
   "metadata": {
    "ExecuteTime": {
     "end_time": "2021-10-18T22:36:17.349959Z",
     "start_time": "2021-10-18T22:36:17.059735Z"
    },
    "run_control": {
     "marked": false
    }
   },
   "outputs": [],
   "source": [
    "# make series for plotting purpose\n",
    "lower_series = pd.Series(confidence_intervals[:, 0], index=dados_teste.index)\n",
    "upper_series = pd.Series(confidence_intervals[:, 1], index=dados_teste.index)\n",
    "df_predictions = pd.Series(predictions, index=dados_teste.index)\n",
    "\n",
    "# Plot\n",
    "plt.figure(figsize=(15,6))\n",
    "plt.plot(dados_teste[300:400]['obitosNovos'], color='orange', label=\"Test Real\")\n",
    "plt.plot(df_predictions[300:400], color='darkgreen', label=\"Test Forecast\")\n",
    "plt.fill_between(lower_series[300:400].index, \n",
    "                 lower_series[300:400], \n",
    "                 upper_series[300:400], \n",
    "                 color='k', alpha=.15)\n",
    "\n",
    "plt.legend()\n",
    "plt.title(\"Covid Forecasting - Deaths\")\n",
    "plt.show()"
   ]
  },
  {
   "cell_type": "markdown",
   "metadata": {},
   "source": [
    "## Predição semanal"
   ]
  },
  {
   "cell_type": "code",
   "execution_count": null,
   "metadata": {
    "ExecuteTime": {
     "end_time": "2021-10-14T21:52:01.131926Z",
     "start_time": "2021-10-14T21:52:01.122931Z"
    },
    "run_control": {
     "marked": false
    }
   },
   "outputs": [],
   "source": [
    "df_sp_wk = df_sp.groupby(['week_number'])['obitosNovos'].sum().reset_index()"
   ]
  },
  {
   "cell_type": "code",
   "execution_count": null,
   "metadata": {
    "ExecuteTime": {
     "end_time": "2021-10-14T17:45:17.920439Z",
     "start_time": "2021-10-14T17:45:17.765904Z"
    },
    "run_control": {
     "marked": false
    }
   },
   "outputs": [],
   "source": [
    "plt.figure(figsize=(15,6))\n",
    "sns.lineplot(data=df_sp_wk, x='week_number', y='obitosNovos')\n",
    "plt.show();"
   ]
  },
  {
   "cell_type": "code",
   "execution_count": null,
   "metadata": {
    "ExecuteTime": {
     "end_time": "2021-10-14T17:45:18.077982Z",
     "start_time": "2021-10-14T17:45:17.957304Z"
    },
    "run_control": {
     "marked": false
    }
   },
   "outputs": [],
   "source": [
    "plot_acf(df_sp_wk['obitosNovos']); #entendendo autocorrelação"
   ]
  },
  {
   "cell_type": "code",
   "execution_count": null,
   "metadata": {
    "ExecuteTime": {
     "end_time": "2021-10-14T17:45:18.235592Z",
     "start_time": "2021-10-14T17:45:18.107903Z"
    },
    "run_control": {
     "marked": false
    }
   },
   "outputs": [],
   "source": [
    "plot_pacf(df_sp_wk['obitosNovos']); #entendendo autocorrelação"
   ]
  },
  {
   "cell_type": "code",
   "execution_count": null,
   "metadata": {
    "ExecuteTime": {
     "end_time": "2021-10-14T21:52:39.162950Z",
     "start_time": "2021-10-14T21:52:39.144003Z"
    },
    "run_control": {
     "marked": false
    }
   },
   "outputs": [],
   "source": [
    "dados_treino = df_sp_wk.loc[df_sp_wk['week_number']<75]\n",
    "dados_teste = df_sp_wk.loc[df_sp_wk['week_number']>=75]"
   ]
  },
  {
   "cell_type": "code",
   "execution_count": null,
   "metadata": {
    "ExecuteTime": {
     "end_time": "2021-10-14T17:51:24.811624Z",
     "start_time": "2021-10-14T17:45:18.287454Z"
    },
    "colab": {
     "base_uri": "https://localhost:8080/",
     "height": 547
    },
    "id": "zzENhnEFi18N",
    "outputId": "bda065f6-9e5e-4a0a-faf2-70f0a4d7b65a",
    "run_control": {
     "marked": false
    },
    "scrolled": true
   },
   "outputs": [],
   "source": [
    "dict_metrics = {\n",
    "    'p':[],\n",
    "    'd':[],\n",
    "    'q':[],\n",
    "    'mape':[],\n",
    "    'me':[],\n",
    "    'mae':[],\n",
    "    'mpe':[],\n",
    "    'rmse':[],\n",
    "    'acf1':[],\n",
    "    'corr':[],\n",
    "    'minmax':[]\n",
    "}\n",
    "\n",
    "i = 0\n",
    "\n",
    "for p in tqdm(range(10)):\n",
    "    for d in range(10):\n",
    "        for q in range(10):\n",
    "            try:\n",
    "                modelo_arima = ARIMA(dados_treino['obitosNovos'], order=[p,d,q])\n",
    "                modelo_arima_treinado = modelo_arima.fit()\n",
    "\n",
    "                # Forecast\n",
    "                fc = modelo_arima_treinado.forecast(dados_teste.shape[0], alpha=0.05)  # 95% conf\n",
    "\n",
    "                metrics = forecast_accuracy(fc, dados_teste['obitosNovos'])\n",
    "\n",
    "                dict_metrics['p'].append(p)\n",
    "                dict_metrics['d'].append(d)\n",
    "                dict_metrics['q'].append(q)\n",
    "                dict_metrics['mape'].append(metrics['mape'])\n",
    "                dict_metrics['me'].append(metrics['me'])\n",
    "                dict_metrics['mae'].append(metrics['mae'])\n",
    "                dict_metrics['mpe'].append(metrics['mpe'])\n",
    "                dict_metrics['rmse'].append(metrics['rmse'])\n",
    "                dict_metrics['acf1'].append(metrics['acf1'])\n",
    "                dict_metrics['corr'].append(metrics['corr'])\n",
    "                dict_metrics['minmax'].append(metrics['minmax'])\n",
    "\n",
    "            except Exception as e:\n",
    "                print('Error:', e, 'p:', p, 'd:', d, 'q:', q)"
   ]
  },
  {
   "cell_type": "code",
   "execution_count": null,
   "metadata": {
    "ExecuteTime": {
     "end_time": "2021-10-14T17:51:24.859498Z",
     "start_time": "2021-10-14T17:51:24.839515Z"
    },
    "run_control": {
     "marked": false
    }
   },
   "outputs": [],
   "source": [
    "correls = np.array(dict_metrics['corr'])\n",
    "mapes = np.array(dict_metrics['mape'])\n",
    "rmses = np.array(dict_metrics['rmse'])\n",
    "maes = np.array(dict_metrics['mae'])\n",
    "list_p = np.array(dict_metrics['p'])\n",
    "list_d = np.array(dict_metrics['d'])\n",
    "list_q = np.array(dict_metrics['q'])\n",
    "\n",
    "nan_indexes = np.argwhere(np.isnan(correls))\n",
    "correls = np.delete(correls, nan_indexes, axis=0)\n",
    "mapes = np.delete(mapes, nan_indexes, axis=0)\n",
    "rmses = np.delete(rmses, nan_indexes, axis=0)\n",
    "maes = np.delete(maes, nan_indexes, axis=0)\n",
    "list_p = np.delete(list_p, nan_indexes, axis=0)\n",
    "list_d = np.delete(list_d, nan_indexes, axis=0)\n",
    "list_q = np.delete(list_q, nan_indexes, axis=0)\n",
    "\n",
    "inv_mapes = np.reciprocal(mapes)\n",
    "inv_rmses = np.reciprocal(rmses)\n",
    "inv_maes = np.reciprocal(maes)\n",
    "\n",
    "result = np.multiply(np.multiply(np.multiply(inv_mapes,correls), inv_rmses), inv_maes)"
   ]
  },
  {
   "cell_type": "code",
   "execution_count": null,
   "metadata": {
    "ExecuteTime": {
     "end_time": "2021-10-14T17:51:24.875418Z",
     "start_time": "2021-10-14T17:51:24.867438Z"
    },
    "run_control": {
     "marked": false
    }
   },
   "outputs": [],
   "source": [
    "max_arg = result.argmax(axis=0)\n",
    "max_arg"
   ]
  },
  {
   "cell_type": "code",
   "execution_count": null,
   "metadata": {
    "ExecuteTime": {
     "end_time": "2021-10-14T17:51:24.922330Z",
     "start_time": "2021-10-14T17:51:24.903344Z"
    },
    "run_control": {
     "marked": false
    }
   },
   "outputs": [],
   "source": [
    "dict_metrics.keys()"
   ]
  },
  {
   "cell_type": "code",
   "execution_count": null,
   "metadata": {
    "ExecuteTime": {
     "end_time": "2021-10-14T17:51:24.969298Z",
     "start_time": "2021-10-14T17:51:24.961295Z"
    },
    "run_control": {
     "marked": false
    }
   },
   "outputs": [],
   "source": [
    "p_max = list_p[max_arg]\n",
    "d_max = list_d[max_arg]\n",
    "q_max = list_q[max_arg]"
   ]
  },
  {
   "cell_type": "code",
   "execution_count": null,
   "metadata": {
    "ExecuteTime": {
     "end_time": "2021-10-14T17:51:25.049061Z",
     "start_time": "2021-10-14T17:51:25.042120Z"
    },
    "run_control": {
     "marked": false
    }
   },
   "outputs": [],
   "source": [
    "p_max # 0"
   ]
  },
  {
   "cell_type": "code",
   "execution_count": null,
   "metadata": {
    "ExecuteTime": {
     "end_time": "2021-10-14T17:51:25.142841Z",
     "start_time": "2021-10-14T17:51:25.122864Z"
    },
    "run_control": {
     "marked": false
    }
   },
   "outputs": [],
   "source": [
    "d_max # 1"
   ]
  },
  {
   "cell_type": "code",
   "execution_count": null,
   "metadata": {
    "ExecuteTime": {
     "end_time": "2021-10-14T17:51:25.206669Z",
     "start_time": "2021-10-14T17:51:25.193674Z"
    },
    "run_control": {
     "marked": false
    }
   },
   "outputs": [],
   "source": [
    "q_max # 2"
   ]
  },
  {
   "cell_type": "code",
   "execution_count": null,
   "metadata": {
    "ExecuteTime": {
     "end_time": "2021-10-14T21:52:43.124652Z",
     "start_time": "2021-10-14T21:52:42.602050Z"
    },
    "run_control": {
     "marked": false
    }
   },
   "outputs": [],
   "source": [
    "# modelo_arima = ARIMA(dados_treino['obitosNovos'].values.astype('float32'), order=[p_max,d_max,q_max])\n",
    "modelo_arima = ARIMA(dados_treino['obitosNovos'].values.astype('float32'), order=[4,1,5])\n",
    "modelo_arima_treinado = modelo_arima.fit()\n",
    "forecast = modelo_arima_treinado.get_forecast(dados_teste.shape[0])\n",
    "\n",
    "fc = modelo_arima_treinado.forecast(dados_teste.shape[0], alpha=0.05)\n",
    "dados_teste['Previsao'] = fc\n",
    "# dados_teste['Previsao'] = forecast.predicted_mean\n",
    "\n",
    "# Get confidence intervals of forecasts\n",
    "confidence_intervals = forecast.conf_int()\n",
    "\n",
    "# make series for plotting purpose\n",
    "lower_series = pd.Series(confidence_intervals[:, 0], index=dados_teste.index)\n",
    "upper_series = pd.Series(confidence_intervals[:, 1], index=dados_teste.index)\n",
    "\n",
    "# Plot\n",
    "plt.figure(figsize=(15,6))\n",
    "plt.plot(dados_treino.loc[dados_treino['week_number']>=50, 'obitosNovos'], label=\"Train\")\n",
    "plt.plot(dados_teste['obitosNovos'], color='orange', label=\"Test Real\")\n",
    "plt.plot(dados_teste['Previsao'], color='darkgreen', label=\"Test Forecast\")\n",
    "plt.fill_between(lower_series.index, \n",
    "                 lower_series, \n",
    "                 upper_series, \n",
    "                 color='k', alpha=.15)\n",
    "\n",
    "plt.legend()\n",
    "plt.title(\"Covid Forecasting - Deaths\")\n",
    "plt.show()\n",
    "\n",
    "# plt.figure(figsize=(12,6))\n",
    "# sns.lineplot(data=dados_treino[250:], x='data', y='obitosNovos')\n",
    "# sns.lineplot(data=dados_teste, x='data', y='obitosNovos')\n",
    "# sns.lineplot(data=dados_teste, x='data', y='Previsao')"
   ]
  },
  {
   "cell_type": "code",
   "execution_count": null,
   "metadata": {
    "ExecuteTime": {
     "end_time": "2021-10-14T21:52:45.600036Z",
     "start_time": "2021-10-14T21:52:45.581087Z"
    },
    "run_control": {
     "marked": false
    }
   },
   "outputs": [],
   "source": [
    "forecast_accuracy(dados_teste['Previsao'], dados_teste['obitosNovos'])"
   ]
  },
  {
   "cell_type": "markdown",
   "metadata": {},
   "source": [
    "## Média móvel - diário"
   ]
  },
  {
   "cell_type": "code",
   "execution_count": null,
   "metadata": {
    "ExecuteTime": {
     "end_time": "2021-10-14T21:53:36.431969Z",
     "start_time": "2021-10-14T21:53:36.427008Z"
    },
    "run_control": {
     "marked": false
    }
   },
   "outputs": [],
   "source": [
    "dias_media_movel = 7\n",
    "\n",
    "df_sp['obitosNovosMA'] = df_sp['obitosNovos'].transform(lambda x: x.rolling(dias_media_movel, 1).mean())"
   ]
  },
  {
   "cell_type": "code",
   "execution_count": null,
   "metadata": {
    "ExecuteTime": {
     "end_time": "2021-10-14T17:51:25.850951Z",
     "start_time": "2021-10-14T17:51:25.616058Z"
    },
    "run_control": {
     "marked": false
    }
   },
   "outputs": [],
   "source": [
    "plt.figure(figsize=(15,6))\n",
    "sns.lineplot(data=df_sp, x='data', y='obitosNovosMA')\n",
    "plt.show();"
   ]
  },
  {
   "cell_type": "code",
   "execution_count": null,
   "metadata": {
    "ExecuteTime": {
     "end_time": "2021-10-14T17:51:25.992571Z",
     "start_time": "2021-10-14T17:51:25.857932Z"
    },
    "run_control": {
     "marked": false
    }
   },
   "outputs": [],
   "source": [
    "plot_acf(df_sp['obitosNovosMA']); #entendendo autocorrelação"
   ]
  },
  {
   "cell_type": "code",
   "execution_count": null,
   "metadata": {
    "ExecuteTime": {
     "end_time": "2021-10-14T17:51:26.182164Z",
     "start_time": "2021-10-14T17:51:26.040442Z"
    },
    "run_control": {
     "marked": false
    }
   },
   "outputs": [],
   "source": [
    "plot_pacf(df_sp['obitosNovosMA']); #entendendo autocorrelação"
   ]
  },
  {
   "cell_type": "code",
   "execution_count": null,
   "metadata": {
    "ExecuteTime": {
     "end_time": "2021-10-14T21:53:39.322371Z",
     "start_time": "2021-10-14T21:53:39.301428Z"
    },
    "run_control": {
     "marked": false
    }
   },
   "outputs": [],
   "source": [
    "dados_treino = df_sp.loc[df_sp['week_number']<75]\n",
    "dados_teste = df_sp.loc[df_sp['week_number']>=75]"
   ]
  },
  {
   "cell_type": "code",
   "execution_count": null,
   "metadata": {
    "ExecuteTime": {
     "end_time": "2021-10-14T18:15:34.431056Z",
     "start_time": "2021-10-14T17:51:26.228888Z"
    },
    "colab": {
     "base_uri": "https://localhost:8080/",
     "height": 547
    },
    "id": "zzENhnEFi18N",
    "outputId": "bda065f6-9e5e-4a0a-faf2-70f0a4d7b65a",
    "run_control": {
     "marked": false
    },
    "scrolled": true
   },
   "outputs": [],
   "source": [
    "dict_metrics = {\n",
    "    'p':[],\n",
    "    'd':[],\n",
    "    'q':[],\n",
    "    'mape':[],\n",
    "    'me':[],\n",
    "    'mae':[],\n",
    "    'mpe':[],\n",
    "    'rmse':[],\n",
    "    'acf1':[],\n",
    "    'corr':[],\n",
    "    'minmax':[]\n",
    "}\n",
    "\n",
    "i = 0\n",
    "\n",
    "for p in tqdm(range(10)):\n",
    "    for d in range(10):\n",
    "        for q in range(10):\n",
    "            try:\n",
    "                modelo_arima = ARIMA(dados_treino['obitosNovosMA'], order=[p,d,q])\n",
    "                modelo_arima_treinado = modelo_arima.fit()\n",
    "\n",
    "                # Forecast\n",
    "                fc = modelo_arima_treinado.forecast(dados_teste.shape[0], alpha=0.05)  # 95% conf\n",
    "\n",
    "                metrics = forecast_accuracy(fc, dados_teste['obitosNovosMA'])\n",
    "\n",
    "                dict_metrics['p'].append(p)\n",
    "                dict_metrics['d'].append(d)\n",
    "                dict_metrics['q'].append(q)\n",
    "                dict_metrics['mape'].append(metrics['mape'])\n",
    "                dict_metrics['me'].append(metrics['me'])\n",
    "                dict_metrics['mae'].append(metrics['mae'])\n",
    "                dict_metrics['mpe'].append(metrics['mpe'])\n",
    "                dict_metrics['rmse'].append(metrics['rmse'])\n",
    "                dict_metrics['acf1'].append(metrics['acf1'])\n",
    "                dict_metrics['corr'].append(metrics['corr'])\n",
    "                dict_metrics['minmax'].append(metrics['minmax'])\n",
    "\n",
    "            except Exception as e:\n",
    "                print('Error:', e, 'p:', p, 'd:', d, 'q:', q)"
   ]
  },
  {
   "cell_type": "code",
   "execution_count": null,
   "metadata": {
    "ExecuteTime": {
     "end_time": "2021-10-14T18:15:34.462971Z",
     "start_time": "2021-10-14T18:15:34.440029Z"
    },
    "run_control": {
     "marked": false
    }
   },
   "outputs": [],
   "source": [
    "correls = np.array(dict_metrics['corr'])\n",
    "mapes = np.array(dict_metrics['mape'])\n",
    "rmses = np.array(dict_metrics['rmse'])\n",
    "maes = np.array(dict_metrics['mae'])\n",
    "list_p = np.array(dict_metrics['p'])\n",
    "list_d = np.array(dict_metrics['d'])\n",
    "list_q = np.array(dict_metrics['q'])\n",
    "\n",
    "nan_indexes = np.argwhere(np.isnan(correls))\n",
    "correls = np.delete(correls, nan_indexes, axis=0)\n",
    "mapes = np.delete(mapes, nan_indexes, axis=0)\n",
    "rmses = np.delete(rmses, nan_indexes, axis=0)\n",
    "maes = np.delete(maes, nan_indexes, axis=0)\n",
    "list_p = np.delete(list_p, nan_indexes, axis=0)\n",
    "list_d = np.delete(list_d, nan_indexes, axis=0)\n",
    "list_q = np.delete(list_q, nan_indexes, axis=0)\n",
    "\n",
    "inv_mapes = np.reciprocal(mapes)\n",
    "inv_rmses = np.reciprocal(rmses)\n",
    "inv_maes = np.reciprocal(maes)\n",
    "\n",
    "result = np.multiply(np.multiply(np.multiply(inv_mapes,correls), inv_rmses), inv_maes)"
   ]
  },
  {
   "cell_type": "code",
   "execution_count": null,
   "metadata": {
    "ExecuteTime": {
     "end_time": "2021-10-14T18:15:34.477934Z",
     "start_time": "2021-10-14T18:15:34.469949Z"
    },
    "run_control": {
     "marked": false
    }
   },
   "outputs": [],
   "source": [
    "max_arg = result.argmax(axis=0)\n",
    "max_arg"
   ]
  },
  {
   "cell_type": "code",
   "execution_count": null,
   "metadata": {
    "ExecuteTime": {
     "end_time": "2021-10-14T18:15:34.492887Z",
     "start_time": "2021-10-14T18:15:34.482914Z"
    },
    "run_control": {
     "marked": false
    }
   },
   "outputs": [],
   "source": [
    "dict_metrics.keys()"
   ]
  },
  {
   "cell_type": "code",
   "execution_count": null,
   "metadata": {
    "ExecuteTime": {
     "end_time": "2021-10-14T18:15:34.508845Z",
     "start_time": "2021-10-14T18:15:34.497874Z"
    },
    "run_control": {
     "marked": false
    }
   },
   "outputs": [],
   "source": [
    "p_max = list_p[max_arg]\n",
    "d_max = list_d[max_arg]\n",
    "q_max = list_q[max_arg]"
   ]
  },
  {
   "cell_type": "code",
   "execution_count": null,
   "metadata": {
    "ExecuteTime": {
     "end_time": "2021-10-14T18:15:34.524802Z",
     "start_time": "2021-10-14T18:15:34.514829Z"
    },
    "run_control": {
     "marked": false
    }
   },
   "outputs": [],
   "source": [
    "p_max # 0"
   ]
  },
  {
   "cell_type": "code",
   "execution_count": null,
   "metadata": {
    "ExecuteTime": {
     "end_time": "2021-10-14T18:15:34.540759Z",
     "start_time": "2021-10-14T18:15:34.533779Z"
    },
    "run_control": {
     "marked": false
    }
   },
   "outputs": [],
   "source": [
    "d_max # 0"
   ]
  },
  {
   "cell_type": "code",
   "execution_count": null,
   "metadata": {
    "ExecuteTime": {
     "end_time": "2021-10-14T18:15:34.556717Z",
     "start_time": "2021-10-14T18:15:34.550733Z"
    },
    "run_control": {
     "marked": false
    }
   },
   "outputs": [],
   "source": [
    "q_max # 1"
   ]
  },
  {
   "cell_type": "code",
   "execution_count": null,
   "metadata": {
    "ExecuteTime": {
     "end_time": "2021-10-14T21:53:50.864233Z",
     "start_time": "2021-10-14T21:53:48.923420Z"
    },
    "run_control": {
     "marked": false
    }
   },
   "outputs": [],
   "source": [
    "# modelo_arima = ARIMA(dados_treino['obitosNovos'].values.astype('float32'), order=[p_max,d_max,q_max])\n",
    "modelo_arima = ARIMA(dados_treino['obitosNovosMA'].values.astype('float32'), order=[8,1,9])\n",
    "modelo_arima_treinado = modelo_arima.fit()\n",
    "forecast = modelo_arima_treinado.get_forecast(dados_teste.shape[0])\n",
    "\n",
    "fc = modelo_arima_treinado.forecast(dados_teste.shape[0], alpha=0.05)\n",
    "dados_teste['Previsao'] = fc\n",
    "# dados_teste['Previsao'] = forecast.predicted_mean\n",
    "\n",
    "# Get confidence intervals of forecasts\n",
    "confidence_intervals = forecast.conf_int()\n",
    "\n",
    "# make series for plotting purpose\n",
    "lower_series = pd.Series(confidence_intervals[:, 0], index=dados_teste.index)\n",
    "upper_series = pd.Series(confidence_intervals[:, 1], index=dados_teste.index)\n",
    "\n",
    "# Plot\n",
    "plt.figure(figsize=(15,6))\n",
    "plt.plot(dados_treino.loc[dados_treino['data']>='2021-06-01', 'obitosNovosMA'], label=\"Train\")\n",
    "plt.plot(dados_teste['obitosNovosMA'], color='orange', label=\"Test Real\")\n",
    "plt.plot(dados_teste['Previsao'], color='darkgreen', label=\"Test Forecast\")\n",
    "plt.fill_between(lower_series.index, \n",
    "                 lower_series, \n",
    "                 upper_series, \n",
    "                 color='k', alpha=.15)\n",
    "\n",
    "plt.legend()\n",
    "plt.title(\"Covid Forecasting - Deaths\")\n",
    "plt.show()\n",
    "\n",
    "# plt.figure(figsize=(12,6))\n",
    "# sns.lineplot(data=dados_treino[250:], x='data', y='obitosNovos')\n",
    "# sns.lineplot(data=dados_teste, x='data', y='obitosNovos')\n",
    "# sns.lineplot(data=dados_teste, x='data', y='Previsao')"
   ]
  },
  {
   "cell_type": "code",
   "execution_count": null,
   "metadata": {
    "ExecuteTime": {
     "end_time": "2021-10-14T21:53:55.761619Z",
     "start_time": "2021-10-14T21:53:55.749653Z"
    },
    "run_control": {
     "marked": false
    }
   },
   "outputs": [],
   "source": [
    "forecast_accuracy(dados_teste['Previsao'], dados_teste['obitosNovosMA'])"
   ]
  },
  {
   "cell_type": "markdown",
   "metadata": {
    "heading_collapsed": true,
    "id": "eaCIZVk5i18O"
   },
   "source": [
    "### AUTOARIMA"
   ]
  },
  {
   "cell_type": "code",
   "execution_count": null,
   "metadata": {
    "ExecuteTime": {
     "start_time": "2021-10-14T17:17:25.950Z"
    },
    "hidden": true,
    "run_control": {
     "marked": false
    }
   },
   "outputs": [],
   "source": [
    "test"
   ]
  },
  {
   "cell_type": "code",
   "execution_count": null,
   "metadata": {
    "ExecuteTime": {
     "end_time": "2021-10-07T02:41:50.104775Z",
     "start_time": "2021-10-07T02:41:49.948195Z"
    },
    "hidden": true,
    "run_control": {
     "marked": false
    }
   },
   "outputs": [],
   "source": [
    "df = pd.read_csv('https://raw.githubusercontent.com/selva86/datasets/master/wwwusage.csv', names=['value'], header=0)"
   ]
  },
  {
   "cell_type": "code",
   "execution_count": null,
   "metadata": {
    "ExecuteTime": {
     "end_time": "2021-10-07T01:43:43.055326Z",
     "start_time": "2021-10-07T01:43:43.055326Z"
    },
    "colab": {
     "base_uri": "https://localhost:8080/",
     "height": 547
    },
    "hidden": true,
    "id": "0UOFERGYi18P",
    "outputId": "6494c508-990f-48f8-cfa5-6fcd7a1e413e",
    "run_control": {
     "marked": false
    }
   },
   "outputs": [],
   "source": [
    "previsao_autoarima = modelo_autoarima.predict(n_periods=31)\n",
    "dados_teste['previsao_autoarima'] = previsao_autoarima\n",
    "\n",
    "plt.figure(figsize=(12,6))\n",
    "sns.lineplot(data=dados_treino, x='data', y='R_mean')\n",
    "sns.lineplot(data=dados_teste, x='data', y='R_mean')\n",
    "sns.lineplot(data=dados_teste, x='data', y='previsao_autoarima')"
   ]
  },
  {
   "cell_type": "markdown",
   "metadata": {
    "hidden": true,
    "id": "4JHCsAcIi18P"
   },
   "source": [
    "O modelo ARIMA se comportou melhor."
   ]
  },
  {
   "cell_type": "code",
   "execution_count": null,
   "metadata": {
    "ExecuteTime": {
     "end_time": "2021-10-07T01:43:43.060322Z",
     "start_time": "2021-10-07T01:43:43.059315Z"
    },
    "colab": {
     "base_uri": "https://localhost:8080/"
    },
    "hidden": true,
    "id": "QmGJ3IxOi18P",
    "outputId": "5b80c5d4-c251-4c60-8bee-c40e15014f0f",
    "run_control": {
     "marked": false
    }
   },
   "outputs": [],
   "source": [
    "modelo_arima = ARIMA(dados_treino['R_mean'].values.astype('float32'), order=[2,0,0])\n",
    "modelo_arima_treinado = modelo_arima.fit()\n",
    "previsao = modelo_arima_treinado.forecast(120)[0]"
   ]
  },
  {
   "cell_type": "code",
   "execution_count": null,
   "metadata": {
    "ExecuteTime": {
     "end_time": "2021-10-07T01:43:43.063721Z",
     "start_time": "2021-10-07T01:43:43.063721Z"
    },
    "colab": {
     "base_uri": "https://localhost:8080/",
     "height": 392
    },
    "hidden": true,
    "id": "lLRddIOIi18Q",
    "outputId": "8818ce15-0c40-4fa0-8e1a-01a3e40dd617",
    "run_control": {
     "marked": false
    }
   },
   "outputs": [],
   "source": [
    "plt.figure(figsize=(12,6))\n",
    "sns.lineplot(data=previsao)"
   ]
  },
  {
   "cell_type": "code",
   "execution_count": null,
   "metadata": {
    "ExecuteTime": {
     "end_time": "2021-10-07T01:43:43.067297Z",
     "start_time": "2021-10-07T01:43:43.067297Z"
    },
    "colab": {
     "base_uri": "https://localhost:8080/",
     "height": 392
    },
    "hidden": true,
    "id": "U9s9GFFJi18T",
    "outputId": "bb10996c-4270-40b9-ce19-e6277c9348b8",
    "run_control": {
     "marked": false
    }
   },
   "outputs": [],
   "source": [
    "previsao_autoarima = modelo_autoarima.predict(n_periods=120)\n",
    "\n",
    "plt.figure(figsize=(12,6))\n",
    "sns.lineplot(data=previsao_autoarima)"
   ]
  },
  {
   "cell_type": "markdown",
   "metadata": {
    "id": "U9J7wKpABhqx"
   },
   "source": [
    "# SARIMA"
   ]
  },
  {
   "cell_type": "markdown",
   "metadata": {
    "id": "PLXLUcljkFv1"
   },
   "source": [
    "## São Paulo"
   ]
  },
  {
   "cell_type": "markdown",
   "metadata": {},
   "source": [
    "## Predição diária"
   ]
  },
  {
   "cell_type": "code",
   "execution_count": null,
   "metadata": {
    "ExecuteTime": {
     "end_time": "2021-10-18T22:57:49.591298Z",
     "start_time": "2021-10-18T22:57:49.578333Z"
    },
    "run_control": {
     "marked": false
    }
   },
   "outputs": [],
   "source": [
    "dados_treino = df_sp.loc[df_sp['week_number']<75]\n",
    "dados_teste = df_sp.loc[df_sp['week_number']>=75]"
   ]
  },
  {
   "cell_type": "code",
   "execution_count": null,
   "metadata": {
    "ExecuteTime": {
     "end_time": "2021-10-18T21:56:48.368317Z",
     "start_time": "2021-10-18T21:56:47.415646Z"
    },
    "run_control": {
     "marked": false
    }
   },
   "outputs": [],
   "source": [
    "plt.figure(figsize=(15,6))\n",
    "sns.lineplot(data=df_sp, x='data', y='obitosNovos')\n",
    "plt.show();"
   ]
  },
  {
   "cell_type": "code",
   "execution_count": null,
   "metadata": {
    "ExecuteTime": {
     "end_time": "2021-10-18T22:57:49.790765Z",
     "start_time": "2021-10-18T22:57:49.769821Z"
    },
    "run_control": {
     "marked": false
    }
   },
   "outputs": [],
   "source": [
    "p = d = q = range(0, 5)\n",
    "pdq = list(itertools.product(p, d, q))\n",
    "seasonal_pdq = [(x[0], x[1], x[2], 7) for x in list(itertools.product(p, d, q))]\n",
    "print('Examples of parameter for SARIMA...')\n",
    "print('SARIMAX: {} x {}'.format(pdq[1], seasonal_pdq[1]))\n",
    "print('SARIMAX: {} x {}'.format(pdq[1], seasonal_pdq[2]))\n",
    "print('SARIMAX: {} x {}'.format(pdq[2], seasonal_pdq[3]))\n",
    "print('SARIMAX: {} x {}'.format(pdq[2], seasonal_pdq[4]))"
   ]
  },
  {
   "cell_type": "code",
   "execution_count": null,
   "metadata": {
    "ExecuteTime": {
     "end_time": "2021-10-16T02:15:31.500147Z",
     "start_time": "2021-10-15T15:10:23.734414Z"
    },
    "run_control": {
     "marked": false
    }
   },
   "outputs": [],
   "source": [
    "dict_metrics = {\n",
    "    'param':[],\n",
    "    'param_seasonal':[],\n",
    "    'mape':[],\n",
    "    'me':[],\n",
    "    'mae':[],\n",
    "    'mpe':[],\n",
    "    'rmse':[],\n",
    "    'acf1':[],\n",
    "    'corr':[],\n",
    "    'minmax':[],\n",
    "    'aic':[]\n",
    "}\n",
    "\n",
    "for param in tqdm(pdq):\n",
    "    for param_seasonal in seasonal_pdq:\n",
    "        try:\n",
    "            model = sm.tsa.statespace.SARIMAX(dados_treino['obitosNovos'].values,order=param,seasonal_order=param_seasonal,enforce_stationarity=False,enforce_invertibility=False)\n",
    "            results = model.fit()\n",
    "\n",
    "            # Forecast\n",
    "            fc = results.forecast(dados_teste.shape[0], alpha=0.05)  # 95% conf\n",
    "            fc = pd.Series(fc, index =dados_teste.index)\n",
    "            metrics = forecast_accuracy(fc, dados_teste['obitosNovos'])\n",
    "\n",
    "            dict_metrics['param'].append(param)\n",
    "            dict_metrics['param_seasonal'].append(param_seasonal)\n",
    "            dict_metrics['mape'].append(metrics['mape'])\n",
    "            dict_metrics['me'].append(metrics['me'])\n",
    "            dict_metrics['mae'].append(metrics['mae'])\n",
    "            dict_metrics['mpe'].append(metrics['mpe'])\n",
    "            dict_metrics['rmse'].append(metrics['rmse'])\n",
    "            dict_metrics['acf1'].append(metrics['acf1'])\n",
    "            dict_metrics['corr'].append(metrics['corr'])\n",
    "            dict_metrics['minmax'].append(metrics['minmax'])\n",
    "            dict_metrics['aic'].append(results.aic)\n",
    "\n",
    "        except Exception as e:\n",
    "            print('Error:', e, 'param:', param, 'param_seasonal:', param_seasonal)"
   ]
  },
  {
   "cell_type": "code",
   "execution_count": null,
   "metadata": {
    "ExecuteTime": {
     "end_time": "2021-10-16T02:15:35.615666Z",
     "start_time": "2021-10-16T02:15:35.583790Z"
    },
    "run_control": {
     "marked": false
    }
   },
   "outputs": [],
   "source": [
    "correls = np.array(dict_metrics['corr'])\n",
    "mapes = np.array(dict_metrics['mape'])\n",
    "rmses = np.array(dict_metrics['rmse'])\n",
    "maes = np.array(dict_metrics['mae'])\n",
    "list_param = np.array(dict_metrics['param'])\n",
    "list_param_seasonal = np.array(dict_metrics['param_seasonal'])\n",
    "list_aics = np.array(dict_metrics['aic'])\n",
    "\n",
    "nan_indexes = np.argwhere(np.isnan(correls))\n",
    "correls = np.delete(correls, nan_indexes, axis=0)\n",
    "mapes = np.delete(mapes, nan_indexes, axis=0)\n",
    "rmses = np.delete(rmses, nan_indexes, axis=0)\n",
    "maes = np.delete(maes, nan_indexes, axis=0)\n",
    "list_param = np.delete(list_param, nan_indexes, axis=0)\n",
    "list_param_seasonal = np.delete(list_param_seasonal, nan_indexes, axis=0)\n",
    "list_aics = np.delete(list_aics, nan_indexes, axis=0)\n",
    "\n",
    "inv_mapes = np.reciprocal(mapes)\n",
    "inv_rmses = np.reciprocal(rmses)\n",
    "inv_maes = np.reciprocal(maes)\n",
    "inv_aics = np.reciprocal(list_aics)\n",
    "\n",
    "result = np.multiply(np.multiply(np.multiply(np.multiply(inv_mapes,correls), inv_rmses), inv_maes),inv_aics)"
   ]
  },
  {
   "cell_type": "code",
   "execution_count": null,
   "metadata": {
    "ExecuteTime": {
     "end_time": "2021-10-16T02:15:36.420620Z",
     "start_time": "2021-10-16T02:15:36.409649Z"
    },
    "run_control": {
     "marked": false
    }
   },
   "outputs": [],
   "source": [
    "max_arg = result.argmax(axis=0)\n",
    "max_arg"
   ]
  },
  {
   "cell_type": "code",
   "execution_count": null,
   "metadata": {
    "ExecuteTime": {
     "end_time": "2021-10-16T02:15:37.110691Z",
     "start_time": "2021-10-16T02:15:37.099725Z"
    },
    "run_control": {
     "marked": false
    }
   },
   "outputs": [],
   "source": [
    "dict_metrics.keys()"
   ]
  },
  {
   "cell_type": "code",
   "execution_count": null,
   "metadata": {
    "ExecuteTime": {
     "end_time": "2021-10-16T02:15:38.244622Z",
     "start_time": "2021-10-16T02:15:38.227632Z"
    },
    "run_control": {
     "marked": false
    }
   },
   "outputs": [],
   "source": [
    "param_max = list_param[max_arg]\n",
    "param_seasonal_max = list_param_seasonal[max_arg]"
   ]
  },
  {
   "cell_type": "code",
   "execution_count": null,
   "metadata": {
    "ExecuteTime": {
     "end_time": "2021-10-16T02:15:39.170160Z",
     "start_time": "2021-10-16T02:15:39.165174Z"
    },
    "run_control": {
     "marked": false
    }
   },
   "outputs": [],
   "source": [
    "param_max # array([0, 1, 2])"
   ]
  },
  {
   "cell_type": "code",
   "execution_count": null,
   "metadata": {
    "ExecuteTime": {
     "end_time": "2021-10-16T02:15:39.809167Z",
     "start_time": "2021-10-16T02:15:39.793174Z"
    },
    "run_control": {
     "marked": false
    }
   },
   "outputs": [],
   "source": [
    "param_seasonal_max # array([3, 3, 2, 7])"
   ]
  },
  {
   "cell_type": "code",
   "execution_count": null,
   "metadata": {
    "ExecuteTime": {
     "end_time": "2021-10-21T12:51:30.161691Z",
     "start_time": "2021-10-21T12:51:30.026053Z"
    }
   },
   "outputs": [],
   "source": [
    "dados_teste"
   ]
  },
  {
   "cell_type": "code",
   "execution_count": null,
   "metadata": {
    "ExecuteTime": {
     "end_time": "2021-10-18T22:58:05.867290Z",
     "start_time": "2021-10-18T22:57:54.232084Z"
    },
    "run_control": {
     "marked": false
    }
   },
   "outputs": [],
   "source": [
    "# modelo_arima = ARIMA(dados_treino['obitosNovos'].values.astype('float32'), order=[p_max,d_max,q_max])\n",
    "# model = sm.tsa.statespace.SARIMAX(dados_treino['obitosNovos'].values,order=param_max,seasonal_order=param_seasonal_max,enforce_stationarity=False,enforce_invertibility=False)\n",
    "model = sm.tsa.statespace.SARIMAX(dados_treino['obitosNovos'].values,order=[0,1,2],seasonal_order=[3,3,2,7],enforce_stationarity=False,enforce_invertibility=False)\n",
    "results = model.fit()\n",
    "forecast = results.get_forecast(dados_teste.shape[0])\n",
    "\n",
    "fc = results.forecast(dados_teste.shape[0], alpha=0.05)\n",
    "dados_teste['Previsao'] = fc\n",
    "# dados_teste['Previsao'] = forecast.predicted_mean\n",
    "\n",
    "# Get confidence intervals of forecasts\n",
    "confidence_intervals = forecast.conf_int()\n",
    "\n",
    "# make series for plotting purpose\n",
    "lower_series = pd.Series(confidence_intervals[:, 0], index=dados_teste.index)\n",
    "upper_series = pd.Series(confidence_intervals[:, 1], index=dados_teste.index)\n",
    "\n",
    "# Plot\n",
    "plt.figure(figsize=(15,6))\n",
    "plt.plot(dados_treino.loc[dados_treino['data']>='2021-06-01', 'obitosNovos'], label=\"Train\")\n",
    "plt.plot(dados_teste['obitosNovos'], color='orange', label=\"Test Real\")\n",
    "plt.plot(dados_teste['Previsao'], color='darkgreen', label=\"Test Forecast\")\n",
    "plt.fill_between(lower_series.index, \n",
    "                 lower_series, \n",
    "                 upper_series, \n",
    "                 color='k', alpha=.15)\n",
    "\n",
    "plt.legend()\n",
    "plt.title(\"Covid Forecasting - Deaths\")\n",
    "plt.show()\n",
    "\n",
    "# plt.figure(figsize=(12,6))\n",
    "# sns.lineplot(data=dados_treino[250:], x='data', y='obitosNovos')\n",
    "# sns.lineplot(data=dados_teste, x='data', y='obitosNovos')\n",
    "# sns.lineplot(data=dados_teste, x='data', y='Previsao')"
   ]
  },
  {
   "cell_type": "code",
   "execution_count": null,
   "metadata": {
    "ExecuteTime": {
     "end_time": "2021-10-18T22:58:16.906836Z",
     "start_time": "2021-10-18T22:58:16.870933Z"
    }
   },
   "outputs": [],
   "source": [
    "results.summary()"
   ]
  },
  {
   "cell_type": "code",
   "execution_count": null,
   "metadata": {},
   "outputs": [],
   "source": [
    "# transformação de boxcox\n",
    "# série transformada, log por exemplo"
   ]
  },
  {
   "cell_type": "code",
   "execution_count": null,
   "metadata": {
    "ExecuteTime": {
     "end_time": "2021-10-18T22:19:25.411442Z",
     "start_time": "2021-10-18T22:19:25.380524Z"
    },
    "run_control": {
     "marked": false
    }
   },
   "outputs": [],
   "source": [
    "forecast_accuracy(dados_teste['Previsao'], dados_teste['obitosNovos'])"
   ]
  },
  {
   "cell_type": "markdown",
   "metadata": {},
   "source": [
    "### Predicting all dates"
   ]
  },
  {
   "cell_type": "code",
   "execution_count": null,
   "metadata": {
    "ExecuteTime": {
     "end_time": "2021-10-18T22:36:17.010865Z",
     "start_time": "2021-10-18T22:28:20.004480Z"
    },
    "run_control": {
     "marked": false
    },
    "scrolled": true
   },
   "outputs": [],
   "source": [
    "confidence_intervals = np.empty((0,2), int)\n",
    "predictions = []\n",
    "\n",
    "for data in df_sp.loc[df_sp['data']>='2020-05-01', 'data'].sort_values():\n",
    "    print(data)\n",
    "    dados_treino = df_sp.loc[df_sp['data']<data]\n",
    "    dados_teste = df_sp.loc[df_sp['data']==data]\n",
    "    \n",
    "#     modelo_arima = ARIMA(dados_treino['obitosNovos'].values, order=[p_max,d_max,q_max])\n",
    "    model = sm.tsa.statespace.SARIMAX(dados_treino['obitosNovos'].values,order=[0,1,2],seasonal_order=[3,3,2,7],enforce_stationarity=False,enforce_invertibility=False)\n",
    "    results = model.fit()\n",
    "    forecast = results.get_forecast(dados_teste.shape[0])\n",
    "\n",
    "    fc = results.forecast(dados_teste.shape[0], alpha=0.05)\n",
    "    predictions.append(fc[0])\n",
    "    # dados_teste['Previsao'] = forecast.predicted_mean\n",
    "\n",
    "    # Get confidence intervals of forecasts\n",
    "    confidence_intervals = np.concatenate((confidence_intervals,[forecast.conf_int()[0]]))\n",
    "\n",
    "# # make series for plotting purpose\n",
    "# lower_series = pd.Series(confidence_intervals[:, 0], index=dados_teste.index)\n",
    "# upper_series = pd.Series(confidence_intervals[:, 1], index=dados_teste.index)\n",
    "\n",
    "# # Plot\n",
    "# plt.figure(figsize=(15,6))\n",
    "# plt.plot(dados_treino['obitosNovos'], label=\"Train\")\n",
    "# plt.plot(dados_teste['obitosNovos'], color='orange', label=\"Test Real\")\n",
    "# plt.plot(dados_teste['Previsao'], color='darkgreen', label=\"Test Forecast\")\n",
    "# plt.fill_between(lower_series.index, \n",
    "#                  lower_series, \n",
    "#                  upper_series, \n",
    "#                  color='k', alpha=.15)\n",
    "\n",
    "# plt.legend()\n",
    "# plt.title(\"Covid Forecasting - Deaths\")\n",
    "# plt.show()"
   ]
  },
  {
   "cell_type": "code",
   "execution_count": null,
   "metadata": {
    "ExecuteTime": {
     "end_time": "2021-10-18T22:36:17.026822Z",
     "start_time": "2021-10-18T22:36:17.013857Z"
    },
    "run_control": {
     "marked": false
    }
   },
   "outputs": [],
   "source": [
    "dados_teste = df_sp.loc[df_sp['data']>='2020-05-01']"
   ]
  },
  {
   "cell_type": "code",
   "execution_count": null,
   "metadata": {
    "ExecuteTime": {
     "end_time": "2021-10-18T22:36:17.042781Z",
     "start_time": "2021-10-18T22:36:17.028818Z"
    },
    "run_control": {
     "marked": false
    }
   },
   "outputs": [],
   "source": [
    "dados_teste.shape"
   ]
  },
  {
   "cell_type": "code",
   "execution_count": null,
   "metadata": {
    "ExecuteTime": {
     "end_time": "2021-10-18T22:36:17.057740Z",
     "start_time": "2021-10-18T22:36:17.046770Z"
    },
    "run_control": {
     "marked": false
    }
   },
   "outputs": [],
   "source": [
    "confidence_intervals.shape"
   ]
  },
  {
   "cell_type": "code",
   "execution_count": null,
   "metadata": {
    "ExecuteTime": {
     "end_time": "2021-10-18T22:36:17.349959Z",
     "start_time": "2021-10-18T22:36:17.059735Z"
    },
    "run_control": {
     "marked": false
    }
   },
   "outputs": [],
   "source": [
    "# make series for plotting purpose\n",
    "lower_series = pd.Series(confidence_intervals[:, 0], index=dados_teste.index)\n",
    "upper_series = pd.Series(confidence_intervals[:, 1], index=dados_teste.index)\n",
    "df_predictions = pd.Series(predictions, index=dados_teste.index)\n",
    "\n",
    "# Plot\n",
    "plt.figure(figsize=(15,6))\n",
    "plt.plot(dados_teste[300:400]['obitosNovos'], color='orange', label=\"Test Real\")\n",
    "plt.plot(df_predictions[300:400], color='darkgreen', label=\"Test Forecast\")\n",
    "plt.fill_between(lower_series[300:400].index, \n",
    "                 lower_series[300:400], \n",
    "                 upper_series[300:400], \n",
    "                 color='k', alpha=.15)\n",
    "\n",
    "plt.legend()\n",
    "plt.title(\"Covid Forecasting - Deaths\")\n",
    "plt.show()"
   ]
  },
  {
   "cell_type": "markdown",
   "metadata": {},
   "source": [
    "## Predição semanal"
   ]
  },
  {
   "cell_type": "code",
   "execution_count": null,
   "metadata": {
    "ExecuteTime": {
     "end_time": "2021-10-15T01:33:00.606542Z",
     "start_time": "2021-10-15T01:33:00.606542Z"
    },
    "run_control": {
     "marked": false
    }
   },
   "outputs": [],
   "source": [
    "df_sp_wk = df_sp.groupby(['week_number'])['obitosNovos'].sum().reset_index()"
   ]
  },
  {
   "cell_type": "code",
   "execution_count": null,
   "metadata": {
    "ExecuteTime": {
     "end_time": "2021-10-15T01:33:00.608539Z",
     "start_time": "2021-10-15T01:33:00.608539Z"
    },
    "run_control": {
     "marked": false
    }
   },
   "outputs": [],
   "source": [
    "plt.figure(figsize=(15,6))\n",
    "sns.lineplot(data=df_sp_wk, x='week_number', y='obitosNovos')\n",
    "plt.show();"
   ]
  },
  {
   "cell_type": "code",
   "execution_count": null,
   "metadata": {
    "ExecuteTime": {
     "end_time": "2021-10-15T01:33:00.610534Z",
     "start_time": "2021-10-15T01:33:00.610534Z"
    },
    "run_control": {
     "marked": false
    }
   },
   "outputs": [],
   "source": [
    "plot_acf(df_sp_wk['obitosNovos']); #entendendo autocorrelação"
   ]
  },
  {
   "cell_type": "code",
   "execution_count": null,
   "metadata": {
    "ExecuteTime": {
     "end_time": "2021-10-15T01:33:00.612526Z",
     "start_time": "2021-10-15T01:33:00.612526Z"
    },
    "run_control": {
     "marked": false
    }
   },
   "outputs": [],
   "source": [
    "plot_pacf(df_sp_wk['obitosNovos']); #entendendo autocorrelação"
   ]
  },
  {
   "cell_type": "code",
   "execution_count": null,
   "metadata": {
    "ExecuteTime": {
     "end_time": "2021-10-15T01:33:00.614524Z",
     "start_time": "2021-10-15T01:33:00.614524Z"
    },
    "run_control": {
     "marked": false
    }
   },
   "outputs": [],
   "source": [
    "dados_treino = df_sp_wk.loc[df_sp_wk['week_number']<75]\n",
    "dados_teste = df_sp_wk.loc[df_sp_wk['week_number']>=75]"
   ]
  },
  {
   "cell_type": "code",
   "execution_count": null,
   "metadata": {
    "ExecuteTime": {
     "end_time": "2021-10-15T01:33:00.636463Z",
     "start_time": "2021-10-15T01:33:00.636463Z"
    },
    "run_control": {
     "marked": false
    }
   },
   "outputs": [],
   "source": [
    "p = d = q = range(0, 5)\n",
    "pdq = list(itertools.product(p, d, q))\n",
    "seasonal_pdq = [(x[0], x[1], x[2], 7) for x in list(itertools.product(p, d, q))]\n",
    "print('Examples of parameter for SARIMA...')\n",
    "print('SARIMAX: {} x {}'.format(pdq[1], seasonal_pdq[1]))\n",
    "print('SARIMAX: {} x {}'.format(pdq[1], seasonal_pdq[2]))\n",
    "print('SARIMAX: {} x {}'.format(pdq[2], seasonal_pdq[3]))\n",
    "print('SARIMAX: {} x {}'.format(pdq[2], seasonal_pdq[4]))"
   ]
  },
  {
   "cell_type": "code",
   "execution_count": null,
   "metadata": {
    "ExecuteTime": {
     "end_time": "2021-10-15T01:33:00.637460Z",
     "start_time": "2021-10-15T01:33:00.637460Z"
    },
    "run_control": {
     "marked": false
    }
   },
   "outputs": [],
   "source": [
    "dict_metrics = {\n",
    "    'param':[],\n",
    "    'param_seasonal':[],\n",
    "    'mape':[],\n",
    "    'me':[],\n",
    "    'mae':[],\n",
    "    'mpe':[],\n",
    "    'rmse':[],\n",
    "    'acf1':[],\n",
    "    'corr':[],\n",
    "    'minmax':[],\n",
    "    'aic':[]\n",
    "}\n",
    "\n",
    "for param in tqdm(pdq):\n",
    "    for param_seasonal in seasonal_pdq:\n",
    "        try:\n",
    "            model = sm.tsa.statespace.SARIMAX(dados_treino['obitosNovos'].values,order=param,seasonal_order=param_seasonal,enforce_stationarity=False,enforce_invertibility=False)\n",
    "            results = model.fit()\n",
    "\n",
    "            # Forecast\n",
    "            fc = results.forecast(dados_teste.shape[0], alpha=0.05)  # 95% conf\n",
    "            fc = pd.Series(fc, index =dados_teste.index)\n",
    "            metrics = forecast_accuracy(fc, dados_teste['obitosNovos'])\n",
    "\n",
    "            dict_metrics['param'].append(param)\n",
    "            dict_metrics['param_seasonal'].append(param_seasonal)\n",
    "            dict_metrics['mape'].append(metrics['mape'])\n",
    "            dict_metrics['me'].append(metrics['me'])\n",
    "            dict_metrics['mae'].append(metrics['mae'])\n",
    "            dict_metrics['mpe'].append(metrics['mpe'])\n",
    "            dict_metrics['rmse'].append(metrics['rmse'])\n",
    "            dict_metrics['acf1'].append(metrics['acf1'])\n",
    "            dict_metrics['corr'].append(metrics['corr'])\n",
    "            dict_metrics['minmax'].append(metrics['minmax'])\n",
    "            dict_metrics['aic'].append(results.aic)\n",
    "\n",
    "        except Exception as e:\n",
    "            print('Error:', e, 'param:', param, 'param_seasonal:', param_seasonal)"
   ]
  },
  {
   "cell_type": "code",
   "execution_count": null,
   "metadata": {
    "ExecuteTime": {
     "end_time": "2021-10-15T01:33:00.639455Z",
     "start_time": "2021-10-15T01:33:00.639455Z"
    },
    "run_control": {
     "marked": false
    }
   },
   "outputs": [],
   "source": [
    "correls = np.array(dict_metrics['corr'])\n",
    "mapes = np.array(dict_metrics['mape'])\n",
    "rmses = np.array(dict_metrics['rmse'])\n",
    "maes = np.array(dict_metrics['mae'])\n",
    "list_param = np.array(dict_metrics['param'])\n",
    "list_param_seasonal = np.array(dict_metrics['param_seasonal'])\n",
    "list_aics = np.array(dict_metrics['aic'])\n",
    "\n",
    "nan_indexes = np.argwhere(np.isnan(correls))\n",
    "correls = np.delete(correls, nan_indexes, axis=0)\n",
    "mapes = np.delete(mapes, nan_indexes, axis=0)\n",
    "rmses = np.delete(rmses, nan_indexes, axis=0)\n",
    "maes = np.delete(maes, nan_indexes, axis=0)\n",
    "list_param = np.delete(list_param, nan_indexes, axis=0)\n",
    "list_param_seasonal = np.delete(list_param_seasonal, nan_indexes, axis=0)\n",
    "list_aics = np.delete(list_aics, nan_indexes, axis=0)\n",
    "\n",
    "inv_mapes = np.reciprocal(mapes)\n",
    "inv_rmses = np.reciprocal(rmses)\n",
    "inv_maes = np.reciprocal(maes)\n",
    "inv_aics = np.reciprocal(list_aics)\n",
    "\n",
    "result = np.multiply(np.multiply(np.multiply(np.multiply(inv_mapes,correls), inv_rmses), inv_maes),inv_aics)"
   ]
  },
  {
   "cell_type": "code",
   "execution_count": null,
   "metadata": {
    "ExecuteTime": {
     "end_time": "2021-10-15T01:33:00.641449Z",
     "start_time": "2021-10-15T01:33:00.641449Z"
    },
    "run_control": {
     "marked": false
    }
   },
   "outputs": [],
   "source": [
    "max_arg = result.argmax(axis=0)\n",
    "max_arg"
   ]
  },
  {
   "cell_type": "code",
   "execution_count": null,
   "metadata": {
    "ExecuteTime": {
     "end_time": "2021-10-15T01:33:00.642447Z",
     "start_time": "2021-10-15T01:33:00.642447Z"
    },
    "run_control": {
     "marked": false
    }
   },
   "outputs": [],
   "source": [
    "dict_metrics.keys()"
   ]
  },
  {
   "cell_type": "code",
   "execution_count": null,
   "metadata": {
    "ExecuteTime": {
     "end_time": "2021-10-15T01:33:00.645440Z",
     "start_time": "2021-10-15T01:33:00.645440Z"
    },
    "run_control": {
     "marked": false
    }
   },
   "outputs": [],
   "source": [
    "param_max = list_param[max_arg]\n",
    "param_seasonal_max = list_param_seasonal[max_arg]"
   ]
  },
  {
   "cell_type": "code",
   "execution_count": null,
   "metadata": {
    "ExecuteTime": {
     "end_time": "2021-10-15T01:33:00.646435Z",
     "start_time": "2021-10-15T01:33:00.646435Z"
    },
    "run_control": {
     "marked": false
    }
   },
   "outputs": [],
   "source": [
    "param_max"
   ]
  },
  {
   "cell_type": "code",
   "execution_count": null,
   "metadata": {
    "ExecuteTime": {
     "end_time": "2021-10-15T01:33:00.649428Z",
     "start_time": "2021-10-15T01:33:00.649428Z"
    },
    "run_control": {
     "marked": false
    }
   },
   "outputs": [],
   "source": [
    "param_seasonal_max"
   ]
  },
  {
   "cell_type": "code",
   "execution_count": null,
   "metadata": {
    "ExecuteTime": {
     "end_time": "2021-10-15T01:33:00.652421Z",
     "start_time": "2021-10-15T01:33:00.652421Z"
    },
    "run_control": {
     "marked": false
    }
   },
   "outputs": [],
   "source": [
    "# modelo_arima = ARIMA(dados_treino['obitosNovos'].values.astype('float32'), order=[p_max,d_max,q_max])\n",
    "model = sm.tsa.statespace.SARIMAX(dados_treino['obitosNovos'].values,order=param_max,seasonal_order=param_seasonal_max,enforce_stationarity=False,enforce_invertibility=False)\n",
    "results = model.fit()\n",
    "forecast = results.get_forecast(dados_teste.shape[0])\n",
    "\n",
    "fc = results.forecast(dados_teste.shape[0], alpha=0.05)\n",
    "dados_teste['Previsao'] = fc\n",
    "# dados_teste['Previsao'] = forecast.predicted_mean\n",
    "\n",
    "# Get confidence intervals of forecasts\n",
    "confidence_intervals = forecast.conf_int()\n",
    "\n",
    "# make series for plotting purpose\n",
    "lower_series = pd.Series(confidence_intervals[:, 0], index=dados_teste.index)\n",
    "upper_series = pd.Series(confidence_intervals[:, 1], index=dados_teste.index)\n",
    "\n",
    "# Plot\n",
    "plt.figure(figsize=(15,6))\n",
    "plt.plot(dados_treino.loc[dados_treino['week_number']>=50, 'obitosNovos'], label=\"Train\")\n",
    "plt.plot(dados_teste['obitosNovos'], color='orange', label=\"Test Real\")\n",
    "plt.plot(dados_teste['Previsao'], color='darkgreen', label=\"Test Forecast\")\n",
    "plt.fill_between(lower_series.index, \n",
    "                 lower_series, \n",
    "                 upper_series, \n",
    "                 color='k', alpha=.15)\n",
    "\n",
    "plt.legend()\n",
    "plt.title(\"Covid Forecasting - Deaths\")\n",
    "plt.show()\n",
    "\n",
    "# plt.figure(figsize=(12,6))\n",
    "# sns.lineplot(data=dados_treino[250:], x='data', y='obitosNovos')\n",
    "# sns.lineplot(data=dados_teste, x='data', y='obitosNovos')\n",
    "# sns.lineplot(data=dados_teste, x='data', y='Previsao')"
   ]
  },
  {
   "cell_type": "code",
   "execution_count": null,
   "metadata": {
    "ExecuteTime": {
     "end_time": "2021-10-15T01:33:00.654415Z",
     "start_time": "2021-10-15T01:33:00.654415Z"
    },
    "run_control": {
     "marked": false
    }
   },
   "outputs": [],
   "source": [
    "forecast_accuracy(dados_teste['Previsao'], dados_teste['obitosNovos'])"
   ]
  },
  {
   "cell_type": "markdown",
   "metadata": {},
   "source": [
    "## Média móvel - diário"
   ]
  },
  {
   "cell_type": "code",
   "execution_count": null,
   "metadata": {
    "ExecuteTime": {
     "end_time": "2021-10-15T01:33:00.632474Z",
     "start_time": "2021-10-15T01:33:00.632474Z"
    },
    "run_control": {
     "marked": false
    }
   },
   "outputs": [],
   "source": [
    "dados_treino = df_sp.loc[df_sp['week_number']<75]\n",
    "dados_teste = df_sp.loc[df_sp['week_number']>=75]"
   ]
  },
  {
   "cell_type": "code",
   "execution_count": null,
   "metadata": {
    "ExecuteTime": {
     "end_time": "2021-10-15T01:33:00.634467Z",
     "start_time": "2021-10-15T01:33:00.634467Z"
    },
    "run_control": {
     "marked": false
    }
   },
   "outputs": [],
   "source": [
    "plt.figure(figsize=(15,6))\n",
    "sns.lineplot(data=df_sp, x='data', y='obitosNovosMA')\n",
    "plt.show();"
   ]
  },
  {
   "cell_type": "code",
   "execution_count": null,
   "metadata": {
    "ExecuteTime": {
     "end_time": "2021-10-15T01:33:00.636463Z",
     "start_time": "2021-10-15T01:33:00.636463Z"
    },
    "run_control": {
     "marked": false
    }
   },
   "outputs": [],
   "source": [
    "p = d = q = range(0, 5)\n",
    "pdq = list(itertools.product(p, d, q))\n",
    "seasonal_pdq = [(x[0], x[1], x[2], 7) for x in list(itertools.product(p, d, q))]\n",
    "print('Examples of parameter for SARIMA...')\n",
    "print('SARIMAX: {} x {}'.format(pdq[1], seasonal_pdq[1]))\n",
    "print('SARIMAX: {} x {}'.format(pdq[1], seasonal_pdq[2]))\n",
    "print('SARIMAX: {} x {}'.format(pdq[2], seasonal_pdq[3]))\n",
    "print('SARIMAX: {} x {}'.format(pdq[2], seasonal_pdq[4]))"
   ]
  },
  {
   "cell_type": "code",
   "execution_count": null,
   "metadata": {
    "ExecuteTime": {
     "end_time": "2021-10-15T01:33:00.637460Z",
     "start_time": "2021-10-15T01:33:00.637460Z"
    },
    "run_control": {
     "marked": false
    }
   },
   "outputs": [],
   "source": [
    "dict_metrics = {\n",
    "    'param':[],\n",
    "    'param_seasonal':[],\n",
    "    'mape':[],\n",
    "    'me':[],\n",
    "    'mae':[],\n",
    "    'mpe':[],\n",
    "    'rmse':[],\n",
    "    'acf1':[],\n",
    "    'corr':[],\n",
    "    'minmax':[],\n",
    "    'aic':[]\n",
    "}\n",
    "\n",
    "i = 0\n",
    "\n",
    "for param in tqdm(pdq):\n",
    "    for param_seasonal in seasonal_pdq:\n",
    "        try:\n",
    "            model = sm.tsa.statespace.SARIMAX(dados_treino['obitosNovosMA'].values,order=param,seasonal_order=param_seasonal,enforce_stationarity=False,enforce_invertibility=False)\n",
    "            results = model.fit()\n",
    "\n",
    "            # Forecast\n",
    "            fc = results.forecast(dados_teste.shape[0], alpha=0.05)  # 95% conf\n",
    "            fc = pd.Series(fc, index =dados_teste.index)\n",
    "            metrics = forecast_accuracy(fc, dados_teste['obitosNovosMA'])\n",
    "\n",
    "            dict_metrics['param'].append(param)\n",
    "            dict_metrics['param_seasonal'].append(param_seasonal)\n",
    "            dict_metrics['mape'].append(metrics['mape'])\n",
    "            dict_metrics['me'].append(metrics['me'])\n",
    "            dict_metrics['mae'].append(metrics['mae'])\n",
    "            dict_metrics['mpe'].append(metrics['mpe'])\n",
    "            dict_metrics['rmse'].append(metrics['rmse'])\n",
    "            dict_metrics['acf1'].append(metrics['acf1'])\n",
    "            dict_metrics['corr'].append(metrics['corr'])\n",
    "            dict_metrics['minmax'].append(metrics['minmax'])\n",
    "            dict_metrics['aic'].append(results.aic)\n",
    "\n",
    "        except Exception as e:\n",
    "            print('Error:', e, 'param:', param, 'param_seasonal:', param_seasonal)"
   ]
  },
  {
   "cell_type": "code",
   "execution_count": null,
   "metadata": {
    "ExecuteTime": {
     "end_time": "2021-10-15T01:33:00.639455Z",
     "start_time": "2021-10-15T01:33:00.639455Z"
    },
    "run_control": {
     "marked": false
    }
   },
   "outputs": [],
   "source": [
    "correls = np.array(dict_metrics['corr'])\n",
    "mapes = np.array(dict_metrics['mape'])\n",
    "rmses = np.array(dict_metrics['rmse'])\n",
    "maes = np.array(dict_metrics['mae'])\n",
    "list_param = np.array(dict_metrics['param'])\n",
    "list_param_seasonal = np.array(dict_metrics['param_seasonal'])\n",
    "list_aics = np.array(dict_metrics['aic'])\n",
    "\n",
    "nan_indexes = np.argwhere(np.isnan(correls))\n",
    "correls = np.delete(correls, nan_indexes, axis=0)\n",
    "mapes = np.delete(mapes, nan_indexes, axis=0)\n",
    "rmses = np.delete(rmses, nan_indexes, axis=0)\n",
    "maes = np.delete(maes, nan_indexes, axis=0)\n",
    "list_param = np.delete(list_param, nan_indexes, axis=0)\n",
    "list_param_seasonal = np.delete(list_param_seasonal, nan_indexes, axis=0)\n",
    "list_aics = np.delete(list_aics, nan_indexes, axis=0)\n",
    "\n",
    "inv_mapes = np.reciprocal(mapes)\n",
    "inv_rmses = np.reciprocal(rmses)\n",
    "inv_maes = np.reciprocal(maes)\n",
    "inv_aics = np.reciprocal(list_aics)\n",
    "\n",
    "result = np.multiply(np.multiply(np.multiply(np.multiply(inv_mapes,correls), inv_rmses), inv_maes),inv_aics)"
   ]
  },
  {
   "cell_type": "code",
   "execution_count": null,
   "metadata": {
    "ExecuteTime": {
     "end_time": "2021-10-15T01:33:00.641449Z",
     "start_time": "2021-10-15T01:33:00.641449Z"
    },
    "run_control": {
     "marked": false
    }
   },
   "outputs": [],
   "source": [
    "max_arg = result.argmax(axis=0)\n",
    "max_arg"
   ]
  },
  {
   "cell_type": "code",
   "execution_count": null,
   "metadata": {
    "ExecuteTime": {
     "end_time": "2021-10-15T01:33:00.642447Z",
     "start_time": "2021-10-15T01:33:00.642447Z"
    },
    "run_control": {
     "marked": false
    }
   },
   "outputs": [],
   "source": [
    "dict_metrics.keys()"
   ]
  },
  {
   "cell_type": "code",
   "execution_count": null,
   "metadata": {
    "ExecuteTime": {
     "end_time": "2021-10-15T01:33:00.645440Z",
     "start_time": "2021-10-15T01:33:00.645440Z"
    },
    "run_control": {
     "marked": false
    }
   },
   "outputs": [],
   "source": [
    "param_max = list_param[max_arg]\n",
    "param_seasonal_max = list_param_seasonal[max_arg]"
   ]
  },
  {
   "cell_type": "code",
   "execution_count": null,
   "metadata": {
    "ExecuteTime": {
     "end_time": "2021-10-15T01:33:00.646435Z",
     "start_time": "2021-10-15T01:33:00.646435Z"
    },
    "run_control": {
     "marked": false
    }
   },
   "outputs": [],
   "source": [
    "param_max"
   ]
  },
  {
   "cell_type": "code",
   "execution_count": null,
   "metadata": {
    "ExecuteTime": {
     "end_time": "2021-10-15T01:33:00.649428Z",
     "start_time": "2021-10-15T01:33:00.649428Z"
    },
    "run_control": {
     "marked": false
    }
   },
   "outputs": [],
   "source": [
    "param_seasonal_max"
   ]
  },
  {
   "cell_type": "code",
   "execution_count": null,
   "metadata": {
    "ExecuteTime": {
     "end_time": "2021-10-15T01:33:00.652421Z",
     "start_time": "2021-10-15T01:33:00.652421Z"
    },
    "run_control": {
     "marked": false
    }
   },
   "outputs": [],
   "source": [
    "# modelo_arima = ARIMA(dados_treino['obitosNovosMA'].values.astype('float32'), order=[p_max,d_max,q_max])\n",
    "model = sm.tsa.statespace.SARIMAX(dados_treino['obitosNovosMA'].values,order=param_max,seasonal_order=param_seasonal_max,enforce_stationarity=False,enforce_invertibility=False)\n",
    "results = model.fit()\n",
    "forecast = results.get_forecast(dados_teste.shape[0])\n",
    "\n",
    "fc = results.forecast(dados_teste.shape[0], alpha=0.05)\n",
    "dados_teste['Previsao'] = fc\n",
    "# dados_teste['Previsao'] = forecast.predicted_mean\n",
    "\n",
    "# Get confidence intervals of forecasts\n",
    "confidence_intervals = forecast.conf_int()\n",
    "\n",
    "# make series for plotting purpose\n",
    "lower_series = pd.Series(confidence_intervals[:, 0], index=dados_teste.index)\n",
    "upper_series = pd.Series(confidence_intervals[:, 1], index=dados_teste.index)\n",
    "\n",
    "# Plot\n",
    "plt.figure(figsize=(15,6))\n",
    "plt.plot(dados_treino.loc[dados_treino['data']>='2021-06-01', 'obitosNovosMA'], label=\"Train\")\n",
    "plt.plot(dados_teste['obitosNovosMA'], color='orange', label=\"Test Real\")\n",
    "plt.plot(dados_teste['Previsao'], color='darkgreen', label=\"Test Forecast\")\n",
    "plt.fill_between(lower_series.index, \n",
    "                 lower_series, \n",
    "                 upper_series, \n",
    "                 color='k', alpha=.15)\n",
    "\n",
    "plt.legend()\n",
    "plt.title(\"Covid Forecasting - Deaths\")\n",
    "plt.show()\n",
    "\n",
    "# plt.figure(figsize=(12,6))\n",
    "# sns.lineplot(data=dados_treino[250:], x='data', y='obitosNovosMA')\n",
    "# sns.lineplot(data=dados_teste, x='data', y='obitosNovosMA')\n",
    "# sns.lineplot(data=dados_teste, x='data', y='Previsao')"
   ]
  },
  {
   "cell_type": "code",
   "execution_count": null,
   "metadata": {
    "ExecuteTime": {
     "end_time": "2021-10-15T01:33:00.654415Z",
     "start_time": "2021-10-15T01:33:00.654415Z"
    },
    "run_control": {
     "marked": false
    }
   },
   "outputs": [],
   "source": [
    "forecast_accuracy(dados_teste['Previsao'], dados_teste['obitosNovosMA'])"
   ]
  },
  {
   "cell_type": "markdown",
   "metadata": {},
   "source": [
    "# Arimax"
   ]
  },
  {
   "cell_type": "markdown",
   "metadata": {},
   "source": [
    "## Predição diária"
   ]
  },
  {
   "cell_type": "code",
   "execution_count": null,
   "metadata": {
    "ExecuteTime": {
     "end_time": "2021-10-15T01:46:44.046524Z",
     "start_time": "2021-10-15T01:46:44.030568Z"
    },
    "run_control": {
     "marked": false
    }
   },
   "outputs": [],
   "source": [
    "df_vacinacao_first.rename(columns={'qtde_vacinas':'nb_vac_first', 'vacina_dataaplicacao':'data'}, inplace=True)\n",
    "df_vacinacao_second.rename(columns={'qtde_vacinas':'nb_vac_second', 'vacina_dataaplicacao':'data'}, inplace=True)"
   ]
  },
  {
   "cell_type": "code",
   "execution_count": null,
   "metadata": {
    "ExecuteTime": {
     "end_time": "2021-10-15T01:47:11.312164Z",
     "start_time": "2021-10-15T01:47:11.297205Z"
    },
    "run_control": {
     "marked": false
    }
   },
   "outputs": [],
   "source": [
    "df_vacinacao_first['data'] = pd.to_datetime(df_vacinacao_first['data'])\n",
    "df_vacinacao_second['data'] = pd.to_datetime(df_vacinacao_second['data'])"
   ]
  },
  {
   "cell_type": "code",
   "execution_count": null,
   "metadata": {
    "ExecuteTime": {
     "end_time": "2021-10-15T01:47:45.462459Z",
     "start_time": "2021-10-15T01:47:45.445505Z"
    },
    "run_control": {
     "marked": false
    }
   },
   "outputs": [],
   "source": [
    "df_sp = df_sp.merge(df_vacinacao_first[['data', 'nb_vac_first']], how='left', on='data')\n",
    "df_sp = df_sp.merge(df_vacinacao_second[['data', 'nb_vac_second']], how='left', on='data')"
   ]
  },
  {
   "cell_type": "code",
   "execution_count": null,
   "metadata": {
    "ExecuteTime": {
     "end_time": "2021-10-15T01:48:41.758985Z",
     "start_time": "2021-10-15T01:48:41.737044Z"
    },
    "run_control": {
     "marked": false
    }
   },
   "outputs": [],
   "source": [
    "df_sp[['nb_vac_first', 'nb_vac_second']] = df_sp[['nb_vac_first', 'nb_vac_second']].fillna(0)"
   ]
  },
  {
   "cell_type": "code",
   "execution_count": null,
   "metadata": {
    "ExecuteTime": {
     "end_time": "2021-10-15T02:06:25.704410Z",
     "start_time": "2021-10-15T02:06:25.496966Z"
    },
    "run_control": {
     "marked": false
    }
   },
   "outputs": [],
   "source": [
    "def crosscorr(datax, datay, lag=0, wrap=False):\n",
    "    \"\"\" Lag-N cross correlation. \n",
    "    Shifted data filled with NaNs \n",
    "    \n",
    "    Parameters\n",
    "    ----------\n",
    "    lag : int, default 0\n",
    "    datax, datay : pandas.Series objects of equal length\n",
    "    Returns\n",
    "    ----------\n",
    "    crosscorr : float\n",
    "    \"\"\"\n",
    "    if wrap:\n",
    "        shiftedy = datay.shift(lag)\n",
    "        shiftedy.iloc[:lag] = datay.iloc[-lag:].values\n",
    "        return datax.corr(shiftedy)\n",
    "    else: \n",
    "        return datax.corr(datay.shift(lag))\n",
    "    \n",
    "d1 = df_sp['nb_vac_first_MA']\n",
    "d2 = df_sp['obitosNovosMA']\n",
    "seconds = 5\n",
    "fps = 30\n",
    "rs = [crosscorr(d1,d2, lag) for lag in range(-int(seconds*fps),int(seconds*fps+1))]\n",
    "offset = np.floor(len(rs)/2)-np.argmax(rs)\n",
    "f,ax=plt.subplots(figsize=(14,3))\n",
    "ax.plot(rs)\n",
    "ax.axvline(np.ceil(len(rs)/2),color='k',linestyle='--',label='Center')\n",
    "ax.axvline(np.argmax(rs),color='r',linestyle='--',label='Peak synchrony')\n",
    "ax.set(title=f'Offset = {offset} frames\\nS1 leads <> S2 leads',ylim=[-.61,.61],xlim=[0,301], xlabel='Offset',ylabel='Pearson r')\n",
    "ax.set_xticks([0, 50, 100, 151, 201, 251, 301])\n",
    "ax.set_xticklabels([-150, -100, -50, 0, 50, 100, 150]);\n",
    "plt.legend()"
   ]
  },
  {
   "cell_type": "code",
   "execution_count": null,
   "metadata": {
    "ExecuteTime": {
     "end_time": "2021-10-15T02:03:54.810550Z",
     "start_time": "2021-10-15T02:03:54.540275Z"
    },
    "run_control": {
     "marked": false
    }
   },
   "outputs": [],
   "source": [
    "plt.figure(figsize=(15,6))\n",
    "sns.lineplot(data=df_sp, x='data', y='nb_vac_first_MA_shift')\n",
    "sns.lineplot(data=df_sp, x='data', y='nb_vac_second_MA')\n",
    "df_sp['obitosNovosMAx'] = df_sp['obitosNovosMA']*800\n",
    "sns.lineplot(data=df_sp, x='data', y='obitosNovosMAx')\n",
    "plt.show();"
   ]
  },
  {
   "cell_type": "code",
   "execution_count": null,
   "metadata": {
    "ExecuteTime": {
     "end_time": "2021-10-15T01:55:20.721419Z",
     "start_time": "2021-10-15T01:55:20.704464Z"
    },
    "run_control": {
     "marked": false
    }
   },
   "outputs": [],
   "source": [
    "dias_media_movel = 7\n",
    "\n",
    "df_sp['obitosNovosMA'] = df_sp['obitosNovos'].transform(lambda x: x.rolling(dias_media_movel, 1).mean())\n",
    "df_sp['nb_vac_first_MA'] = df_sp['nb_vac_first'].transform(lambda x: x.rolling(dias_media_movel, 1).mean())\n",
    "df_sp['nb_vac_second_MA'] = df_sp['nb_vac_second'].transform(lambda x: x.rolling(dias_media_movel, 1).mean())"
   ]
  },
  {
   "cell_type": "code",
   "execution_count": null,
   "metadata": {
    "ExecuteTime": {
     "end_time": "2021-10-15T02:03:43.397380Z",
     "start_time": "2021-10-15T02:03:43.331554Z"
    },
    "run_control": {
     "marked": false
    }
   },
   "outputs": [],
   "source": [
    "corr_list = []\n",
    "\n",
    "for i in range(1,91):\n",
    "    df_sp['nb_vac_first_MA_shift'] = df_sp['nb_vac_first_MA'].shift(i)\n",
    "    corr_list.append(df_sp['nb_vac_first_MA_shift'].corr(df_sp['obitosNovosMA']))"
   ]
  },
  {
   "cell_type": "code",
   "execution_count": null,
   "metadata": {
    "ExecuteTime": {
     "end_time": "2021-10-15T02:07:39.517015Z",
     "start_time": "2021-10-15T02:07:39.498066Z"
    },
    "run_control": {
     "marked": false
    }
   },
   "outputs": [],
   "source": [
    "df_sp['nb_vac_first_shift'] = df_sp['nb_vac_first'].shift(30)\n",
    "df_sp['nb_vac_second_shift'] = df_sp['nb_vac_second'].shift(30)"
   ]
  },
  {
   "cell_type": "code",
   "execution_count": null,
   "metadata": {
    "ExecuteTime": {
     "end_time": "2021-10-15T02:09:16.122897Z",
     "start_time": "2021-10-15T02:09:16.108971Z"
    },
    "run_control": {
     "marked": false
    }
   },
   "outputs": [],
   "source": [
    "df_sp[['nb_vac_first_shift', 'nb_vac_second_shift']] = df_sp[['nb_vac_first_shift', 'nb_vac_second_shift']].fillna(0)"
   ]
  },
  {
   "cell_type": "code",
   "execution_count": null,
   "metadata": {
    "ExecuteTime": {
     "end_time": "2021-10-15T14:38:28.086304Z",
     "start_time": "2021-10-15T14:38:28.063367Z"
    },
    "run_control": {
     "marked": false
    }
   },
   "outputs": [],
   "source": [
    "dados_treino = df_sp.loc[df_sp['week_number']<75]\n",
    "dados_teste = df_sp.loc[df_sp['week_number']>=75]"
   ]
  },
  {
   "cell_type": "code",
   "execution_count": null,
   "metadata": {
    "ExecuteTime": {
     "end_time": "2021-10-16T12:01:09.315150Z",
     "start_time": "2021-10-16T12:01:09.302186Z"
    },
    "run_control": {
     "marked": false
    }
   },
   "outputs": [],
   "source": [
    "df_sp.columns"
   ]
  },
  {
   "cell_type": "code",
   "execution_count": null,
   "metadata": {
    "ExecuteTime": {
     "end_time": "2021-10-16T12:01:30.510143Z",
     "start_time": "2021-10-16T12:01:30.466261Z"
    },
    "run_control": {
     "marked": false
    }
   },
   "outputs": [],
   "source": [
    "df_sp.to_csv('../data/external/sao_paulo_obitos_vacina.csv', index=False)"
   ]
  },
  {
   "cell_type": "code",
   "execution_count": null,
   "metadata": {
    "ExecuteTime": {
     "end_time": "2021-10-15T11:36:31.303660Z",
     "start_time": "2021-10-15T02:20:19.269555Z"
    },
    "colab": {
     "base_uri": "https://localhost:8080/",
     "height": 547
    },
    "id": "zzENhnEFi18N",
    "outputId": "bda065f6-9e5e-4a0a-faf2-70f0a4d7b65a",
    "run_control": {
     "marked": false
    },
    "scrolled": true
   },
   "outputs": [],
   "source": [
    "dict_metrics = {\n",
    "    'p':[],\n",
    "    'd':[],\n",
    "    'q':[],\n",
    "    'mape':[],\n",
    "    'me':[],\n",
    "    'mae':[],\n",
    "    'mpe':[],\n",
    "    'rmse':[],\n",
    "    'acf1':[],\n",
    "    'corr':[],\n",
    "    'minmax':[]\n",
    "}\n",
    "\n",
    "i = 0\n",
    "\n",
    "for p in tqdm(range(10)):\n",
    "    for d in range(10):\n",
    "        for q in range(10):\n",
    "            try:\n",
    "                results = sm.tsa.statespace.SARIMAX(dados_treino['obitosNovos'],order=(p,d,q),seasonal_order=(0,0,0,0),exog=dados_treino[['nb_vac_first_shift', 'nb_vac_second_shift']],\n",
    "                                   enforce_stationarity=False, enforce_invertibility=False,).fit()\n",
    "\n",
    "                # Forecast\n",
    "                fc = results.forecast(dados_teste.shape[0], alpha=0.05, exog=dados_teste[['nb_vac_first_shift', 'nb_vac_second_shift']])  # 95% conf\n",
    "\n",
    "                metrics = forecast_accuracy(fc, dados_teste['obitosNovos'])\n",
    "\n",
    "                dict_metrics['p'].append(p)\n",
    "                dict_metrics['d'].append(d)\n",
    "                dict_metrics['q'].append(q)\n",
    "                dict_metrics['mape'].append(metrics['mape'])\n",
    "                dict_metrics['me'].append(metrics['me'])\n",
    "                dict_metrics['mae'].append(metrics['mae'])\n",
    "                dict_metrics['mpe'].append(metrics['mpe'])\n",
    "                dict_metrics['rmse'].append(metrics['rmse'])\n",
    "                dict_metrics['acf1'].append(metrics['acf1'])\n",
    "                dict_metrics['corr'].append(metrics['corr'])\n",
    "                dict_metrics['minmax'].append(metrics['minmax'])\n",
    "\n",
    "            except Exception as e:\n",
    "                print('Error:', e, 'p:', p, 'd:', d, 'q:', q)"
   ]
  },
  {
   "cell_type": "code",
   "execution_count": null,
   "metadata": {
    "ExecuteTime": {
     "end_time": "2021-10-15T11:36:31.338799Z",
     "start_time": "2021-10-15T11:36:31.309514Z"
    },
    "run_control": {
     "marked": false
    }
   },
   "outputs": [],
   "source": [
    "correls = np.array(dict_metrics['corr'])\n",
    "mapes = np.array(dict_metrics['mape'])\n",
    "rmses = np.array(dict_metrics['rmse'])\n",
    "maes = np.array(dict_metrics['mae'])\n",
    "list_p = np.array(dict_metrics['p'])\n",
    "list_d = np.array(dict_metrics['d'])\n",
    "list_q = np.array(dict_metrics['q'])\n",
    "\n",
    "nan_indexes = np.argwhere(np.isnan(correls))\n",
    "correls = np.delete(correls, nan_indexes, axis=0)\n",
    "mapes = np.delete(mapes, nan_indexes, axis=0)\n",
    "rmses = np.delete(rmses, nan_indexes, axis=0)\n",
    "maes = np.delete(maes, nan_indexes, axis=0)\n",
    "list_p = np.delete(list_p, nan_indexes, axis=0)\n",
    "list_d = np.delete(list_d, nan_indexes, axis=0)\n",
    "list_q = np.delete(list_q, nan_indexes, axis=0)\n",
    "\n",
    "inv_mapes = np.reciprocal(mapes)\n",
    "inv_rmses = np.reciprocal(rmses)\n",
    "inv_maes = np.reciprocal(maes)\n",
    "\n",
    "result = np.multiply(np.multiply(np.multiply(inv_mapes,correls), inv_rmses), inv_maes)"
   ]
  },
  {
   "cell_type": "code",
   "execution_count": null,
   "metadata": {
    "ExecuteTime": {
     "end_time": "2021-10-15T11:36:31.363343Z",
     "start_time": "2021-10-15T11:36:31.342296Z"
    },
    "run_control": {
     "marked": false
    }
   },
   "outputs": [],
   "source": [
    "max_arg = result.argmax(axis=0)\n",
    "max_arg"
   ]
  },
  {
   "cell_type": "code",
   "execution_count": null,
   "metadata": {
    "ExecuteTime": {
     "end_time": "2021-10-15T11:36:31.388007Z",
     "start_time": "2021-10-15T11:36:31.369605Z"
    },
    "run_control": {
     "marked": false
    }
   },
   "outputs": [],
   "source": [
    "dict_metrics.keys()"
   ]
  },
  {
   "cell_type": "code",
   "execution_count": null,
   "metadata": {
    "ExecuteTime": {
     "end_time": "2021-10-15T11:36:31.403798Z",
     "start_time": "2021-10-15T11:36:31.393378Z"
    },
    "run_control": {
     "marked": false
    }
   },
   "outputs": [],
   "source": [
    "p_max = list_p[max_arg]\n",
    "d_max = list_d[max_arg]\n",
    "q_max = list_q[max_arg]"
   ]
  },
  {
   "cell_type": "code",
   "execution_count": null,
   "metadata": {
    "ExecuteTime": {
     "end_time": "2021-10-15T11:36:31.419762Z",
     "start_time": "2021-10-15T11:36:31.407786Z"
    },
    "run_control": {
     "marked": false
    }
   },
   "outputs": [],
   "source": [
    "p_max # 5"
   ]
  },
  {
   "cell_type": "code",
   "execution_count": null,
   "metadata": {
    "ExecuteTime": {
     "end_time": "2021-10-15T11:36:31.434951Z",
     "start_time": "2021-10-15T11:36:31.422758Z"
    },
    "run_control": {
     "marked": false
    }
   },
   "outputs": [],
   "source": [
    "d_max # 1"
   ]
  },
  {
   "cell_type": "code",
   "execution_count": null,
   "metadata": {
    "ExecuteTime": {
     "end_time": "2021-10-15T11:36:31.463305Z",
     "start_time": "2021-10-15T11:36:31.439422Z"
    },
    "run_control": {
     "marked": false
    }
   },
   "outputs": [],
   "source": [
    "q_max # 4"
   ]
  },
  {
   "cell_type": "code",
   "execution_count": null,
   "metadata": {
    "ExecuteTime": {
     "end_time": "2021-10-15T14:38:59.109376Z",
     "start_time": "2021-10-15T14:38:57.864113Z"
    },
    "run_control": {
     "marked": false
    }
   },
   "outputs": [],
   "source": [
    "# modelo_arima = ARIMA(dados_treino['obitosNovosMA'].values.astype('float32'), order=[p_max,d_max,q_max])\n",
    "# results = sm.tsa.statespace.SARIMAX(dados_treino['obitosNovos'],order=(p_max,d_max,q_max),seasonal_order=(0,0,0,0),exog=dados_treino[['nb_vac_first_shift', 'nb_vac_second_shift']],\n",
    "#                                    enforce_stationarity=False, enforce_invertibility=False,).fit()\n",
    "results = sm.tsa.statespace.SARIMAX(dados_treino['obitosNovos'],order=(5,1,4),seasonal_order=(0,0,0,0),exog=dados_treino[['nb_vac_first_shift', 'nb_vac_second_shift']],\n",
    "                                   enforce_stationarity=False, enforce_invertibility=False,).fit()\n",
    "forecast = results.get_forecast(dados_teste.shape[0], exog = dados_teste[['nb_vac_first_shift', 'nb_vac_second_shift']])\n",
    "\n",
    "fc = results.forecast(dados_teste.shape[0], alpha=0.05, exog = dados_teste[['nb_vac_first_shift', 'nb_vac_second_shift']])\n",
    "dados_teste['Previsao'] = fc\n",
    "# dados_teste['Previsao'] = forecast.predicted_mean\n",
    "\n",
    "# Get confidence intervals of forecasts\n",
    "confidence_intervals = forecast.conf_int()\n",
    "\n",
    "# make series for plotting purpose\n",
    "lower_series = pd.Series(confidence_intervals['lower obitosNovos'], index=dados_teste.index)\n",
    "upper_series = pd.Series(confidence_intervals['upper obitosNovos'], index=dados_teste.index)\n",
    "\n",
    "# Plot\n",
    "plt.figure(figsize=(15,6))\n",
    "plt.plot(dados_treino.loc[dados_treino['data']>='2021-06-01', 'obitosNovos'], label=\"Train\")\n",
    "plt.plot(dados_teste['obitosNovos'], color='orange', label=\"Test Real\")\n",
    "plt.plot(dados_teste['Previsao'], color='darkgreen', label=\"Test Forecast\")\n",
    "plt.fill_between(lower_series.index, \n",
    "                 lower_series, \n",
    "                 upper_series, \n",
    "                 color='k', alpha=.15)\n",
    "\n",
    "plt.legend()\n",
    "plt.title(\"Covid Forecasting - Deaths\")\n",
    "plt.show()"
   ]
  },
  {
   "cell_type": "code",
   "execution_count": null,
   "metadata": {
    "ExecuteTime": {
     "end_time": "2021-10-15T11:36:34.774459Z",
     "start_time": "2021-10-15T11:36:34.736310Z"
    },
    "run_control": {
     "marked": false
    },
    "scrolled": true
   },
   "outputs": [],
   "source": [
    "forecast_accuracy(dados_teste['Previsao'], dados_teste['obitosNovos'])"
   ]
  },
  {
   "cell_type": "code",
   "execution_count": null,
   "metadata": {
    "ExecuteTime": {
     "end_time": "2021-10-15T12:22:21.060391Z",
     "start_time": "2021-10-15T12:05:58.712450Z"
    },
    "run_control": {
     "marked": false
    },
    "scrolled": true
   },
   "outputs": [],
   "source": [
    "confidence_intervals = np.empty((0,2), int)\n",
    "predictions = []\n",
    "\n",
    "for data in df_sp.loc[df_sp['data']>='2020-05-01', 'data'].sort_values():\n",
    "    print(data)\n",
    "    dados_treino = df_sp.loc[df_sp['data']<data]\n",
    "    dados_teste = df_sp.loc[df_sp['data']==data]\n",
    "    \n",
    "#     modelo_arima = ARIMA(dados_treino['obitosNovos'].values, order=[p_max,d_max,q_max])\n",
    "    results = sm.tsa.statespace.SARIMAX(dados_treino['obitosNovos'],order=(5,1,4),seasonal_order=(0,0,0,0),exog=dados_treino[['nb_vac_first_shift', 'nb_vac_second_shift']],\n",
    "                                   enforce_stationarity=False, enforce_invertibility=False,).fit()\n",
    "    forecast = results.get_forecast(dados_teste.shape[0], exog = dados_teste[['nb_vac_first_shift', 'nb_vac_second_shift']])\n",
    "\n",
    "    fc = results.forecast(dados_teste.shape[0], alpha=0.05, exog = dados_teste[['nb_vac_first_shift', 'nb_vac_second_shift']])\n",
    "    predictions.append(fc.iloc[0])\n",
    "    # dados_teste['Previsao'] = forecast.predicted_mean\n",
    "\n",
    "    conf_int = forecast.conf_int()\n",
    "    conf_int = conf_int.to_numpy()[0]\n",
    "    \n",
    "    # Get confidence intervals of forecasts\n",
    "    confidence_intervals = np.concatenate((confidence_intervals,[conf_int]))\n",
    "\n",
    "# # make series for plotting purpose\n",
    "# lower_series = pd.Series(confidence_intervals[:, 0], index=dados_teste.index)\n",
    "# upper_series = pd.Series(confidence_intervals[:, 1], index=dados_teste.index)\n",
    "\n",
    "# # Plot\n",
    "# plt.figure(figsize=(15,6))\n",
    "# plt.plot(dados_treino['obitosNovos'], label=\"Train\")\n",
    "# plt.plot(dados_teste['obitosNovos'], color='orange', label=\"Test Real\")\n",
    "# plt.plot(dados_teste['Previsao'], color='darkgreen', label=\"Test Forecast\")\n",
    "# plt.fill_between(lower_series.index, \n",
    "#                  lower_series, \n",
    "#                  upper_series, \n",
    "#                  color='k', alpha=.15)\n",
    "\n",
    "# plt.legend()\n",
    "# plt.title(\"Covid Forecasting - Deaths\")\n",
    "# plt.show()"
   ]
  },
  {
   "cell_type": "code",
   "execution_count": null,
   "metadata": {
    "ExecuteTime": {
     "end_time": "2021-10-15T12:22:21.076348Z",
     "start_time": "2021-10-15T12:22:21.063383Z"
    },
    "run_control": {
     "marked": false
    }
   },
   "outputs": [],
   "source": [
    "dados_teste = df_sp.loc[df_sp['data']>='2020-05-01']"
   ]
  },
  {
   "cell_type": "code",
   "execution_count": null,
   "metadata": {
    "ExecuteTime": {
     "end_time": "2021-10-15T12:22:21.092306Z",
     "start_time": "2021-10-15T12:22:21.078345Z"
    },
    "run_control": {
     "marked": false
    }
   },
   "outputs": [],
   "source": [
    "dados_teste.shape"
   ]
  },
  {
   "cell_type": "code",
   "execution_count": null,
   "metadata": {
    "ExecuteTime": {
     "end_time": "2021-10-15T12:22:21.108266Z",
     "start_time": "2021-10-15T12:22:21.095301Z"
    },
    "run_control": {
     "marked": false
    }
   },
   "outputs": [],
   "source": [
    "confidence_intervals.shape"
   ]
  },
  {
   "cell_type": "code",
   "execution_count": null,
   "metadata": {
    "ExecuteTime": {
     "end_time": "2021-10-15T12:24:20.833190Z",
     "start_time": "2021-10-15T12:24:20.682223Z"
    },
    "run_control": {
     "marked": false
    }
   },
   "outputs": [],
   "source": [
    "# make series for plotting purpose\n",
    "lower_series = pd.Series(confidence_intervals[:, 0], index=dados_teste.index)\n",
    "upper_series = pd.Series(confidence_intervals[:, 1], index=dados_teste.index)\n",
    "df_predictions = pd.Series(predictions, index=dados_teste.index)\n",
    "\n",
    "# Plot\n",
    "plt.figure(figsize=(15,6))\n",
    "plt.plot(dados_teste[300:400]['obitosNovos'], color='orange', label=\"Test Real\")\n",
    "plt.plot(df_predictions[300:400], color='darkgreen', label=\"Test Forecast\")\n",
    "plt.fill_between(lower_series[300:400].index, \n",
    "                 lower_series[300:400], \n",
    "                 upper_series[300:400], \n",
    "                 color='k', alpha=.15)\n",
    "\n",
    "plt.legend()\n",
    "plt.title(\"Covid Forecasting - Deaths\")\n",
    "plt.show()"
   ]
  },
  {
   "cell_type": "code",
   "execution_count": null,
   "metadata": {
    "run_control": {
     "marked": false
    }
   },
   "outputs": [],
   "source": []
  }
 ],
 "metadata": {
  "colab": {
   "name": "Rafael_Bandoni.ipynb",
   "provenance": []
  },
  "kernelspec": {
   "display_name": "Python 3 (ipykernel)",
   "language": "python",
   "name": "python3"
  },
  "language_info": {
   "codemirror_mode": {
    "name": "ipython",
    "version": 3
   },
   "file_extension": ".py",
   "mimetype": "text/x-python",
   "name": "python",
   "nbconvert_exporter": "python",
   "pygments_lexer": "ipython3",
   "version": "3.8.11"
  },
  "toc": {
   "nav_menu": {},
   "number_sections": true,
   "sideBar": true,
   "skip_h1_title": false,
   "title_cell": "Table of Contents",
   "title_sidebar": "Contents",
   "toc_cell": false,
   "toc_position": {},
   "toc_section_display": true,
   "toc_window_display": false
  }
 },
 "nbformat": 4,
 "nbformat_minor": 1
}
