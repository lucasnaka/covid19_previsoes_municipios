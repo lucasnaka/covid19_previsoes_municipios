{
 "cells": [
  {
   "cell_type": "code",
   "execution_count": null,
   "metadata": {
    "ExecuteTime": {
     "end_time": "2021-10-13T22:36:02.902508Z",
     "start_time": "2021-10-13T22:36:01.429786Z"
    },
    "colab": {
     "base_uri": "https://localhost:8080/"
    },
    "id": "3m60uNmH0Igs",
    "outputId": "924884ee-975f-4d7b-9df0-b3b87a8f43d7"
   },
   "outputs": [],
   "source": [
    "import pandas as pd\n",
    "import numpy as np\n",
    "import matplotlib.pyplot as plt\n",
    "from tqdm import tqdm\n",
    "\n",
    "import warnings\n",
    "warnings.filterwarnings(\"ignore\")"
   ]
  },
  {
   "cell_type": "code",
   "execution_count": null,
   "metadata": {
    "ExecuteTime": {
     "end_time": "2021-10-14T22:34:13.301021Z",
     "start_time": "2021-10-14T22:34:13.268109Z"
    }
   },
   "outputs": [],
   "source": [
    "def download_file(url, local_filename):\n",
    "    # NOTE the stream=True parameter below\n",
    "    with requests.get(url, stream=True) as r:\n",
    "        r.raise_for_status()\n",
    "        with open(local_filename, 'wb') as f:\n",
    "            for chunk in r.iter_content(chunk_size=8192): \n",
    "                # If you have chunk encoded response uncomment if\n",
    "                # and set chunk_size parameter to None.\n",
    "                #if chunk: \n",
    "                f.write(chunk)\n",
    "    return local_filename"
   ]
  },
  {
   "cell_type": "code",
   "execution_count": null,
   "metadata": {
    "ExecuteTime": {
     "end_time": "2021-10-14T22:38:58.742129Z",
     "start_time": "2021-10-14T22:36:16.328402Z"
    }
   },
   "outputs": [],
   "source": [
    "import pandas as pd \n",
    "import io\n",
    "import requests\n",
    "import numpy as np\n",
    "\n",
    "results_caract = [] # guardar os resultados\n",
    "\n",
    "seq_url = ['AC','AL','AM','AP','BA','CE','DF','ES','GO','MA','MG','MS','MT','PA','PB','PE','PI','PR','RJ','RN','RO','RR','RS','SC','SE','SP','TO'] # ufs brasileiras\n",
    "for i in seq_url:\n",
    "    i = str(i)\n",
    "    url = \"https://s3-sa-east-1.amazonaws.com/ckan.saude.gov.br/PNI/vacina/uf/2021-10-11/uf%3D\"+ i + \"/part-00000-8e1a510a-89dd-43c0-a75d-42841b7349be.c000.csv\" # inspecionei o codigo e vi que estao nesse link\n",
    "    print('Estado sendo extraído: '+ i) # printo o estado que esta sendo extraido\n",
    "    file_path = download_file(url, local_filename='teste.csv')\n",
    "    \n",
    "#     s=requests.get(url).content # requiro as informações\n",
    "#     c=pd.read_csv(io.StringIO(s.decode('utf-8')), sep = ';') # coloco as informaçõe em data frame e arrumo o encoding\n",
    "#     c['UF'] = i # trago a informação da UF\n",
    "#     c['indicador'] = 1 # crio indicador para auxiliar contagem\n",
    "\n",
    "#     caract = c.groupby(['UF', 'paciente_endereco_nmmunicipio', 'paciente_endereco_coibgemunicipio', 'vacina_dataaplicacao', 'vacina_descricao_dose'])['paciente_id'].nunique().reset_index(name='qtde_vacinas')\n",
    "\n",
    "#     results_caract.append(caract) # append de todos os estados no  meu output\n",
    "    \n",
    "    break"
   ]
  },
  {
   "cell_type": "code",
   "execution_count": null,
   "metadata": {
    "ExecuteTime": {
     "end_time": "2021-10-15T00:43:37.192150Z",
     "start_time": "2021-10-15T00:42:57.249099Z"
    }
   },
   "outputs": [],
   "source": [
    "# df = pd.read_csv('../data/raw/to.csv', sep=';', usecols=['paciente_id', 'paciente_endereco_coibgemunicipio', 'paciente_endereco_nmmunicipio', 'paciente_endereco_uf', 'vacina_dataaplicacao', 'vacina_descricao_dose'])"
   ]
  },
  {
   "cell_type": "code",
   "execution_count": null,
   "metadata": {
    "ExecuteTime": {
     "end_time": "2021-10-15T00:43:39.102703Z",
     "start_time": "2021-10-15T00:43:37.195118Z"
    },
    "scrolled": true
   },
   "outputs": [],
   "source": [
    "# df.to_parquet('../data/raw/vacinacao_TO.parquet', index=False)"
   ]
  },
  {
   "cell_type": "code",
   "execution_count": null,
   "metadata": {
    "ExecuteTime": {
     "end_time": "2021-10-15T00:56:49.905183Z",
     "start_time": "2021-10-15T00:49:53.003879Z"
    }
   },
   "outputs": [],
   "source": [
    "df = pd.read_parquet('../data/raw/vacinacao_SP.parquet')"
   ]
  },
  {
   "cell_type": "code",
   "execution_count": null,
   "metadata": {
    "ExecuteTime": {
     "end_time": "2021-10-15T01:03:04.681160Z",
     "start_time": "2021-10-15T00:58:12.002209Z"
    }
   },
   "outputs": [],
   "source": [
    "df_grouped = df.groupby(['paciente_endereco_uf', 'paciente_endereco_nmmunicipio', 'paciente_endereco_coibgemunicipio', 'vacina_dataaplicacao', 'vacina_descricao_dose'])['paciente_id'].nunique().reset_index(name='qtde_vacinas')"
   ]
  },
  {
   "cell_type": "code",
   "execution_count": null,
   "metadata": {
    "ExecuteTime": {
     "end_time": "2021-10-15T01:08:41.091423Z",
     "start_time": "2021-10-15T01:08:39.259324Z"
    }
   },
   "outputs": [],
   "source": [
    "df_grouped.to_parquet('../data/processed/vacinacao_diaria_SP.parquet', index=False)"
   ]
  }
 ],
 "metadata": {
  "colab": {
   "name": "Rafael_Bandoni.ipynb",
   "provenance": []
  },
  "kernelspec": {
   "display_name": "Python 3 (ipykernel)",
   "language": "python",
   "name": "python3"
  },
  "language_info": {
   "codemirror_mode": {
    "name": "ipython",
    "version": 3
   },
   "file_extension": ".py",
   "mimetype": "text/x-python",
   "name": "python",
   "nbconvert_exporter": "python",
   "pygments_lexer": "ipython3",
   "version": "3.8.11"
  },
  "toc": {
   "nav_menu": {},
   "number_sections": true,
   "sideBar": true,
   "skip_h1_title": false,
   "title_cell": "Table of Contents",
   "title_sidebar": "Contents",
   "toc_cell": false,
   "toc_position": {},
   "toc_section_display": true,
   "toc_window_display": false
  }
 },
 "nbformat": 4,
 "nbformat_minor": 1
}
