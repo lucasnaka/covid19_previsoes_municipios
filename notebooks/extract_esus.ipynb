{
 "cells": [
  {
   "cell_type": "code",
   "execution_count": 1,
   "source": [
    "import pandas as pd \r\n",
    "import io\r\n",
    "import requests\r\n",
    "import numpy as np"
   ],
   "outputs": [],
   "metadata": {}
  },
  {
   "cell_type": "code",
   "execution_count": 3,
   "source": [
    "results_caract = [] # guardar os resultados\r\n",
    "results_series = [] # guardar os resultados\r\n",
    "\r\n",
    "seq_url = ['AC','AL','AM','AP','BA','CE','DF','PR','RJ','RN','RO','RR','RS','SC','SE','SP', 'TO','ES','GO','MA','MG','MS','MT','PA','PB','PE','PI']\r\n",
    "\r\n",
    "for i in range(len(seq_url)):\r\n",
    "    seq_url[i] = seq_url[i].lower()\r\n",
    "\r\n",
    "\r\n",
    "\r\n",
    "for i in seq_url:\r\n",
    "    i = str(i)\r\n",
    "    url = \"https://s3-sa-east-1.amazonaws.com/ckan.saude.gov.br/dados-\"+i+\".csv\"  # inspecionei o codigo e vi que estao nesse link\r\n",
    "    print('Estado sendo extraído: '+ i) # printo o estado que esta sendo extraido\r\n",
    "    s=requests.get(url).content # requiro as informações\r\n",
    "    c=pd.read_csv(io.StringIO(s.decode('utf-8', errors='ignore')), sep = ';', error_bad_lines=False) \r\n",
    "    c.head()\r\n",
    "    c['UF'] = i # trago a informação da UF\r\n",
    "    \r\n",
    "    #c.dataNotificacao = pd.to_datetime(c.dataNotificacao)\r\n",
    "    #desc = c.groupby(['municipioIBGE','UF']).agg({'dataNotificacao':['count', 'max', 'min'], 'id':['count']})\r\n",
    "    #NA_df = c.isna().sum()\r\n",
    "\r\n",
    "\r\n",
    "    results_caract.append(c) # append de todos os estados no  meu output\r\n"
   ],
   "outputs": [
    {
     "output_type": "stream",
     "name": "stdout",
     "text": [
      "Estado sendo extraído: ac\n",
      "Estado sendo extraído: al\n",
      "Estado sendo extraído: am\n",
      "Estado sendo extraído: ap\n",
      "Estado sendo extraído: ba\n"
     ]
    },
    {
     "output_type": "stream",
     "name": "stderr",
     "text": [
      "b'Skipping line 82862: expected 28 fields, saw 29\\n'\n",
      "b'Skipping line 158353: expected 28 fields, saw 29\\nSkipping line 163603: expected 28 fields, saw 29\\n'\n",
      "b'Skipping line 223956: expected 28 fields, saw 29\\n'\n",
      "b'Skipping line 237197: expected 28 fields, saw 29\\n'\n",
      "b'Skipping line 395360: expected 28 fields, saw 29\\n'\n",
      "b'Skipping line 618653: expected 28 fields, saw 29\\n'\n",
      "b'Skipping line 1231948: expected 28 fields, saw 29\\n'\n",
      "b'Skipping line 1267614: expected 28 fields, saw 29\\n'\n",
      "b'Skipping line 1378315: expected 28 fields, saw 29\\n'\n",
      "b'Skipping line 1589771: expected 28 fields, saw 29\\n'\n"
     ]
    },
    {
     "output_type": "stream",
     "name": "stdout",
     "text": [
      "Estado sendo extraído: ce\n"
     ]
    },
    {
     "output_type": "stream",
     "name": "stderr",
     "text": [
      "C:\\Users\\mscamargo\\Miniconda\\lib\\site-packages\\IPython\\core\\interactiveshell.py:3165: DtypeWarning: Columns (26) have mixed types.Specify dtype option on import or set low_memory=False.\n",
      "  has_raised = await self.run_ast_nodes(code_ast.body, cell_name,\n"
     ]
    },
    {
     "output_type": "stream",
     "name": "stdout",
     "text": [
      "Estado sendo extraído: df\n",
      "Estado sendo extraído: pr\n",
      "Estado sendo extraído: rj\n"
     ]
    },
    {
     "output_type": "stream",
     "name": "stderr",
     "text": [
      "b'Skipping line 593965: expected 30 fields, saw 32\\n'\n",
      "C:\\Users\\mscamargo\\Miniconda\\lib\\site-packages\\IPython\\core\\interactiveshell.py:3165: DtypeWarning: Columns (15,17,21,26) have mixed types.Specify dtype option on import or set low_memory=False.\n",
      "  has_raised = await self.run_ast_nodes(code_ast.body, cell_name,\n"
     ]
    },
    {
     "output_type": "stream",
     "name": "stdout",
     "text": [
      "Estado sendo extraído: rn\n",
      "Estado sendo extraído: ro\n",
      "Estado sendo extraído: rr\n",
      "Estado sendo extraído: rs\n"
     ]
    },
    {
     "output_type": "stream",
     "name": "stderr",
     "text": [
      "C:\\Users\\mscamargo\\Miniconda\\lib\\site-packages\\IPython\\core\\interactiveshell.py:3165: DtypeWarning: Columns (15,17,21,23,26) have mixed types.Specify dtype option on import or set low_memory=False.\n",
      "  has_raised = await self.run_ast_nodes(code_ast.body, cell_name,\n"
     ]
    },
    {
     "output_type": "stream",
     "name": "stdout",
     "text": [
      "Estado sendo extraído: sc\n"
     ]
    },
    {
     "output_type": "stream",
     "name": "stderr",
     "text": [
      "C:\\Users\\mscamargo\\Miniconda\\lib\\site-packages\\IPython\\core\\interactiveshell.py:3165: DtypeWarning: Columns (6,15,17,21,23,26,28) have mixed types.Specify dtype option on import or set low_memory=False.\n",
      "  has_raised = await self.run_ast_nodes(code_ast.body, cell_name,\n"
     ]
    },
    {
     "output_type": "stream",
     "name": "stdout",
     "text": [
      "Estado sendo extraído: se\n",
      "Estado sendo extraído: sp\n"
     ]
    },
    {
     "output_type": "stream",
     "name": "stderr",
     "text": [
      "C:\\Users\\mscamargo\\Miniconda\\lib\\site-packages\\IPython\\core\\interactiveshell.py:3165: DtypeWarning: Columns (15,21,23) have mixed types.Specify dtype option on import or set low_memory=False.\n",
      "  has_raised = await self.run_ast_nodes(code_ast.body, cell_name,\n"
     ]
    },
    {
     "output_type": "stream",
     "name": "stdout",
     "text": [
      "Estado sendo extraído: to\n",
      "Estado sendo extraído: es\n",
      "Estado sendo extraído: go\n",
      "Estado sendo extraído: ma\n",
      "Estado sendo extraído: mg\n",
      "Estado sendo extraído: ms\n",
      "Estado sendo extraído: mt\n",
      "Estado sendo extraído: pa\n",
      "Estado sendo extraído: pb\n",
      "Estado sendo extraído: pe\n",
      "Estado sendo extraído: pi\n"
     ]
    }
   ],
   "metadata": {}
  },
  {
   "cell_type": "code",
   "execution_count": 5,
   "source": [
    "results_caract = pd.concat(results_caract)\r\n",
    "results_caract.columns"
   ],
   "outputs": [
    {
     "output_type": "execute_result",
     "data": {
      "text/plain": [
       "Index(['id', 'dataNotificacao', 'dataInicioSintomas', 'dataNascimento',\n",
       "       'sintomas', 'profissionalSaude', 'cbo', 'condicoes', 'estadoTeste',\n",
       "       'dataTeste', 'tipoTeste', 'resultadoTeste', 'paisOrigem', 'sexo',\n",
       "       'estado', 'estadoIBGE', 'municipio', 'municipioIBGE', 'origem',\n",
       "       'estadoNotificacao', 'estadoNotificacaoIBGE', 'municipioNotificacao',\n",
       "       'municipioNotificacaoIBGE', 'excluido', 'validado', 'idade',\n",
       "       'dataEncerramento', 'evolucaoCaso', 'classificacaoFinal', 'UF',\n",
       "       'bairro', 'cnes', 'numeroNotificacao'],\n",
       "      dtype='object')"
      ]
     },
     "metadata": {},
     "execution_count": 5
    }
   ],
   "metadata": {}
  },
  {
   "cell_type": "code",
   "execution_count": 6,
   "source": [
    "results_caract = results_caract[['municipioIBGE', 'municipio', 'UF']]\r\n",
    "results_caract = results_caract.drop_duplicates()\r\n"
   ],
   "outputs": [],
   "metadata": {}
  },
  {
   "cell_type": "code",
   "execution_count": 10,
   "source": [
    "results_caract.to_csv(r\"info_ibge_munic.csv\")"
   ],
   "outputs": [],
   "metadata": {}
  },
  {
   "cell_type": "markdown",
   "source": [
    "###############################################################################################################################################################\r\n",
    "                                                                RODAR PT A PT\r\n"
   ],
   "metadata": {}
  },
  {
   "cell_type": "code",
   "execution_count": 2,
   "source": [
    "results_caract = [] # guardar os resultados\r\n",
    "results_series = [] # guardar os resultados\r\n",
    "\r\n",
    "seq_url = ['AC','AL','AM','AP','BA','CE','DF']\r\n",
    "\r\n",
    "#seq_url = ['AC', 'TO']\r\n",
    "for i in range(len(seq_url)):\r\n",
    "    seq_url[i] = seq_url[i].lower()\r\n",
    "\r\n",
    "\r\n",
    "\r\n",
    "for i in seq_url:\r\n",
    "    i = str(i)\r\n",
    "    url = \"https://s3-sa-east-1.amazonaws.com/ckan.saude.gov.br/dados-\"+i+\".csv\"  # inspecionei o codigo e vi que estao nesse link\r\n",
    "    print('Estado sendo extraído: '+ i) # printo o estado que esta sendo extraido\r\n",
    "    s=requests.get(url).content # requiro as informações\r\n",
    "    c=pd.read_csv(io.StringIO(s.decode('utf-8', errors='ignore')), sep = ';', error_bad_lines=False) \r\n",
    "    c.head()\r\n",
    "    c['UF'] = i # trago a informação da UF\r\n",
    "    c['indicador'] = 1 # crio indicador para auxiliar contagem\r\n",
    "    \r\n",
    "    #c.dataNotificacao = pd.to_datetime(c.dataNotificacao)\r\n",
    "    #desc = c.groupby(['municipioIBGE','UF']).agg({'dataNotificacao':['count', 'max', 'min'], 'id':['count']})\r\n",
    "    #NA_df = c.isna().sum()\r\n",
    "\r\n",
    "\r\n",
    "    results_caract.append(c) # append de todos os estados no  meu output\r\n"
   ],
   "outputs": [
    {
     "output_type": "stream",
     "name": "stdout",
     "text": [
      "Estado sendo extraído: ac\n",
      "Estado sendo extraído: al\n",
      "Estado sendo extraído: am\n",
      "Estado sendo extraído: ap\n"
     ]
    },
    {
     "output_type": "stream",
     "name": "stderr",
     "text": [
      "C:\\Users\\mscamargo\\Miniconda\\lib\\site-packages\\IPython\\core\\interactiveshell.py:3165: DtypeWarning: Columns (12) have mixed types.Specify dtype option on import or set low_memory=False.\n",
      "  has_raised = await self.run_ast_nodes(code_ast.body, cell_name,\n"
     ]
    },
    {
     "output_type": "stream",
     "name": "stdout",
     "text": [
      "Estado sendo extraído: ba\n"
     ]
    },
    {
     "output_type": "stream",
     "name": "stderr",
     "text": [
      "b'Skipping line 82862: expected 28 fields, saw 29\\n'\n",
      "b'Skipping line 158353: expected 28 fields, saw 29\\nSkipping line 163603: expected 28 fields, saw 29\\n'\n",
      "b'Skipping line 223956: expected 28 fields, saw 29\\n'\n",
      "b'Skipping line 237197: expected 28 fields, saw 29\\n'\n",
      "b'Skipping line 395360: expected 28 fields, saw 29\\n'\n",
      "b'Skipping line 618653: expected 28 fields, saw 29\\n'\n",
      "b'Skipping line 1231948: expected 28 fields, saw 29\\n'\n",
      "b'Skipping line 1267614: expected 28 fields, saw 29\\n'\n",
      "b'Skipping line 1378315: expected 28 fields, saw 29\\n'\n",
      "b'Skipping line 1589771: expected 28 fields, saw 29\\n'\n",
      "C:\\Users\\mscamargo\\Miniconda\\lib\\site-packages\\IPython\\core\\interactiveshell.py:3165: DtypeWarning: Columns (21,24) have mixed types.Specify dtype option on import or set low_memory=False.\n",
      "  has_raised = await self.run_ast_nodes(code_ast.body, cell_name,\n"
     ]
    },
    {
     "output_type": "stream",
     "name": "stdout",
     "text": [
      "Estado sendo extraído: ce\n"
     ]
    },
    {
     "output_type": "stream",
     "name": "stderr",
     "text": [
      "C:\\Users\\mscamargo\\Miniconda\\lib\\site-packages\\IPython\\core\\interactiveshell.py:3165: DtypeWarning: Columns (26) have mixed types.Specify dtype option on import or set low_memory=False.\n",
      "  has_raised = await self.run_ast_nodes(code_ast.body, cell_name,\n"
     ]
    },
    {
     "output_type": "stream",
     "name": "stdout",
     "text": [
      "Estado sendo extraído: df\n"
     ]
    }
   ],
   "metadata": {}
  },
  {
   "cell_type": "code",
   "execution_count": 3,
   "source": [
    "results_caract = pd.concat(results_caract)\r\n",
    "results_caract.head()"
   ],
   "outputs": [
    {
     "output_type": "execute_result",
     "data": {
      "text/html": [
       "<div>\n",
       "<style scoped>\n",
       "    .dataframe tbody tr th:only-of-type {\n",
       "        vertical-align: middle;\n",
       "    }\n",
       "\n",
       "    .dataframe tbody tr th {\n",
       "        vertical-align: top;\n",
       "    }\n",
       "\n",
       "    .dataframe thead th {\n",
       "        text-align: right;\n",
       "    }\n",
       "</style>\n",
       "<table border=\"1\" class=\"dataframe\">\n",
       "  <thead>\n",
       "    <tr style=\"text-align: right;\">\n",
       "      <th></th>\n",
       "      <th>id</th>\n",
       "      <th>dataNotificacao</th>\n",
       "      <th>dataInicioSintomas</th>\n",
       "      <th>dataNascimento</th>\n",
       "      <th>sintomas</th>\n",
       "      <th>profissionalSaude</th>\n",
       "      <th>cbo</th>\n",
       "      <th>condicoes</th>\n",
       "      <th>estadoTeste</th>\n",
       "      <th>dataTeste</th>\n",
       "      <th>...</th>\n",
       "      <th>validado</th>\n",
       "      <th>idade</th>\n",
       "      <th>dataEncerramento</th>\n",
       "      <th>evolucaoCaso</th>\n",
       "      <th>classificacaoFinal</th>\n",
       "      <th>UF</th>\n",
       "      <th>indicador</th>\n",
       "      <th>bairro</th>\n",
       "      <th>cnes</th>\n",
       "      <th>numeroNotificacao</th>\n",
       "    </tr>\n",
       "  </thead>\n",
       "  <tbody>\n",
       "    <tr>\n",
       "      <th>0</th>\n",
       "      <td>gINnMy6CdU</td>\n",
       "      <td>2020-06-17T20:08:30.197Z</td>\n",
       "      <td>2020-06-08T03:00:00.000Z</td>\n",
       "      <td>1989-12-26T02:00:00.000Z</td>\n",
       "      <td>Dor de Garganta, Febre, Outros</td>\n",
       "      <td>No</td>\n",
       "      <td>NaN</td>\n",
       "      <td>NaN</td>\n",
       "      <td>Concludo</td>\n",
       "      <td>2020-06-16T03:00:00.000Z</td>\n",
       "      <td>...</td>\n",
       "      <td>undefined</td>\n",
       "      <td>31.0</td>\n",
       "      <td>2020-06-17T03:00:00.000Z</td>\n",
       "      <td>Em tratamento domiciliar</td>\n",
       "      <td>Confirmado Laboratorial</td>\n",
       "      <td>ac</td>\n",
       "      <td>1</td>\n",
       "      <td>NaN</td>\n",
       "      <td>NaN</td>\n",
       "      <td>NaN</td>\n",
       "    </tr>\n",
       "    <tr>\n",
       "      <th>1</th>\n",
       "      <td>TiABR1GOmb</td>\n",
       "      <td>2020-06-13T03:00:00.000Z</td>\n",
       "      <td>2020-06-07T03:00:00.000Z</td>\n",
       "      <td>1998-11-14T02:00:00.000Z</td>\n",
       "      <td>Dispneia, Dor de Garganta</td>\n",
       "      <td>No</td>\n",
       "      <td>NaN</td>\n",
       "      <td>NaN</td>\n",
       "      <td>Concludo</td>\n",
       "      <td>2020-06-13T03:00:00.000Z</td>\n",
       "      <td>...</td>\n",
       "      <td>undefined</td>\n",
       "      <td>22.0</td>\n",
       "      <td>NaN</td>\n",
       "      <td>NaN</td>\n",
       "      <td>NaN</td>\n",
       "      <td>ac</td>\n",
       "      <td>1</td>\n",
       "      <td>NaN</td>\n",
       "      <td>NaN</td>\n",
       "      <td>NaN</td>\n",
       "    </tr>\n",
       "    <tr>\n",
       "      <th>2</th>\n",
       "      <td>RG9f49BW1b</td>\n",
       "      <td>2020-06-12T05:00:00.000Z</td>\n",
       "      <td>2020-05-29T05:00:00.000Z</td>\n",
       "      <td>1954-01-28T05:00:00.000Z</td>\n",
       "      <td>Febre, Outros</td>\n",
       "      <td>No</td>\n",
       "      <td>NaN</td>\n",
       "      <td>Doenas cardacas crnicas</td>\n",
       "      <td>Concludo</td>\n",
       "      <td>2020-06-12T05:00:00.000Z</td>\n",
       "      <td>...</td>\n",
       "      <td>undefined</td>\n",
       "      <td>67.0</td>\n",
       "      <td>NaN</td>\n",
       "      <td>NaN</td>\n",
       "      <td>NaN</td>\n",
       "      <td>ac</td>\n",
       "      <td>1</td>\n",
       "      <td>NaN</td>\n",
       "      <td>NaN</td>\n",
       "      <td>NaN</td>\n",
       "    </tr>\n",
       "    <tr>\n",
       "      <th>3</th>\n",
       "      <td>F66wawHqyP</td>\n",
       "      <td>2020-05-09T05:00:00.000Z</td>\n",
       "      <td>2020-05-02T05:00:00.000Z</td>\n",
       "      <td>1984-07-16T05:00:00.000Z</td>\n",
       "      <td>Febre, Tosse</td>\n",
       "      <td>No</td>\n",
       "      <td>NaN</td>\n",
       "      <td>NaN</td>\n",
       "      <td>Concludo</td>\n",
       "      <td>2020-05-09T05:00:00.000Z</td>\n",
       "      <td>...</td>\n",
       "      <td>undefined</td>\n",
       "      <td>37.0</td>\n",
       "      <td>2020-05-27T05:00:00.000Z</td>\n",
       "      <td>Cura</td>\n",
       "      <td>Confirmado Laboratorial</td>\n",
       "      <td>ac</td>\n",
       "      <td>1</td>\n",
       "      <td>NaN</td>\n",
       "      <td>NaN</td>\n",
       "      <td>NaN</td>\n",
       "    </tr>\n",
       "    <tr>\n",
       "      <th>4</th>\n",
       "      <td>Gq5GXKSRZY</td>\n",
       "      <td>2020-05-23T03:00:00.000Z</td>\n",
       "      <td>2020-05-10T03:00:00.000Z</td>\n",
       "      <td>1991-09-21T03:00:00.000Z</td>\n",
       "      <td>Outros</td>\n",
       "      <td>Sim</td>\n",
       "      <td>1312 - Gestores e especialistas de operaes em ...</td>\n",
       "      <td>NaN</td>\n",
       "      <td>Concludo</td>\n",
       "      <td>2020-05-23T04:00:00.000Z</td>\n",
       "      <td>...</td>\n",
       "      <td>undefined</td>\n",
       "      <td>29.0</td>\n",
       "      <td>NaN</td>\n",
       "      <td>NaN</td>\n",
       "      <td>Descartado</td>\n",
       "      <td>ac</td>\n",
       "      <td>1</td>\n",
       "      <td>NaN</td>\n",
       "      <td>NaN</td>\n",
       "      <td>NaN</td>\n",
       "    </tr>\n",
       "  </tbody>\n",
       "</table>\n",
       "<p>5 rows × 34 columns</p>\n",
       "</div>"
      ],
      "text/plain": [
       "           id           dataNotificacao        dataInicioSintomas  \\\n",
       "0  gINnMy6CdU  2020-06-17T20:08:30.197Z  2020-06-08T03:00:00.000Z   \n",
       "1  TiABR1GOmb  2020-06-13T03:00:00.000Z  2020-06-07T03:00:00.000Z   \n",
       "2  RG9f49BW1b  2020-06-12T05:00:00.000Z  2020-05-29T05:00:00.000Z   \n",
       "3  F66wawHqyP  2020-05-09T05:00:00.000Z  2020-05-02T05:00:00.000Z   \n",
       "4  Gq5GXKSRZY  2020-05-23T03:00:00.000Z  2020-05-10T03:00:00.000Z   \n",
       "\n",
       "             dataNascimento                        sintomas profissionalSaude  \\\n",
       "0  1989-12-26T02:00:00.000Z  Dor de Garganta, Febre, Outros                No   \n",
       "1  1998-11-14T02:00:00.000Z       Dispneia, Dor de Garganta                No   \n",
       "2  1954-01-28T05:00:00.000Z                   Febre, Outros                No   \n",
       "3  1984-07-16T05:00:00.000Z                    Febre, Tosse                No   \n",
       "4  1991-09-21T03:00:00.000Z                          Outros               Sim   \n",
       "\n",
       "                                                 cbo                condicoes  \\\n",
       "0                                                NaN                      NaN   \n",
       "1                                                NaN                      NaN   \n",
       "2                                                NaN  Doenas cardacas crnicas   \n",
       "3                                                NaN                      NaN   \n",
       "4  1312 - Gestores e especialistas de operaes em ...                      NaN   \n",
       "\n",
       "  estadoTeste                 dataTeste  ...   validado idade  \\\n",
       "0    Concludo  2020-06-16T03:00:00.000Z  ...  undefined  31.0   \n",
       "1    Concludo  2020-06-13T03:00:00.000Z  ...  undefined  22.0   \n",
       "2    Concludo  2020-06-12T05:00:00.000Z  ...  undefined  67.0   \n",
       "3    Concludo  2020-05-09T05:00:00.000Z  ...  undefined  37.0   \n",
       "4    Concludo  2020-05-23T04:00:00.000Z  ...  undefined  29.0   \n",
       "\n",
       "           dataEncerramento              evolucaoCaso  \\\n",
       "0  2020-06-17T03:00:00.000Z  Em tratamento domiciliar   \n",
       "1                       NaN                       NaN   \n",
       "2                       NaN                       NaN   \n",
       "3  2020-05-27T05:00:00.000Z                      Cura   \n",
       "4                       NaN                       NaN   \n",
       "\n",
       "        classificacaoFinal  UF indicador bairro cnes numeroNotificacao  \n",
       "0  Confirmado Laboratorial  ac         1    NaN  NaN               NaN  \n",
       "1                      NaN  ac         1    NaN  NaN               NaN  \n",
       "2                      NaN  ac         1    NaN  NaN               NaN  \n",
       "3  Confirmado Laboratorial  ac         1    NaN  NaN               NaN  \n",
       "4               Descartado  ac         1    NaN  NaN               NaN  \n",
       "\n",
       "[5 rows x 34 columns]"
      ]
     },
     "metadata": {},
     "execution_count": 3
    }
   ],
   "metadata": {}
  },
  {
   "cell_type": "code",
   "execution_count": 7,
   "source": [
    "results_caract[[ 'dataNotificacao', 'dataInicioSintomas', 'dataNascimento',\r\n",
    "       'sintomas', 'profissionalSaude', 'cbo', 'condicoes', 'estadoTeste',\r\n",
    "       'dataTeste', 'tipoTeste', 'resultadoTeste', 'paisOrigem', 'sexo',\r\n",
    "       'estado', 'municipio', 'origem','excluido', 'validado',\r\n",
    "       'dataEncerramento', 'evolucaoCaso', 'classificacaoFinal', 'UF',\r\n",
    "       'indicador', 'bairro', 'cnes']].to_parquet(r\"extract_eSUSdatap1.parquet\", engine = 'pyarrow')"
   ],
   "outputs": [],
   "metadata": {}
  },
  {
   "cell_type": "code",
   "execution_count": 8,
   "source": [
    "results_caract = [] # guardar os resultados\r\n",
    "results_series = [] # guardar os resultados\r\n",
    "\r\n",
    "seq_url = ['ES','GO','MA','MG','MS','MT','PA','PB','PE','PI'] # ufs brasileiras\r\n",
    "\r\n",
    "#seq_url = ['AC', 'TO']\r\n",
    "for i in range(len(seq_url)):\r\n",
    "    seq_url[i] = seq_url[i].lower()\r\n",
    "\r\n",
    "\r\n",
    "\r\n",
    "for i in seq_url:\r\n",
    "    i = str(i)\r\n",
    "    url = \"https://s3-sa-east-1.amazonaws.com/ckan.saude.gov.br/dados-\"+i+\".csv\"  # inspecionei o codigo e vi que estao nesse link\r\n",
    "    print('Estado sendo extraído: '+ i) # printo o estado que esta sendo extraido\r\n",
    "    s=requests.get(url).content # requiro as informações\r\n",
    "    c=pd.read_csv(io.StringIO(s.decode('utf-8', errors='ignore')), sep = ';', error_bad_lines=False) \r\n",
    "    c.head()\r\n",
    "    c['UF'] = i # trago a informação da UF\r\n",
    "    c['indicador'] = 1 # crio indicador para auxiliar contagem\r\n",
    "    \r\n",
    "    #c.dataNotificacao = pd.to_datetime(c.dataNotificacao)\r\n",
    "    #desc = c.groupby(['municipioIBGE','UF']).agg({'dataNotificacao':['count', 'max', 'min'], 'id':['count']})\r\n",
    "    #NA_df = c.isna().sum()\r\n",
    "\r\n",
    "\r\n",
    "    results_caract.append(c) # append de todos os estados no  meu output\r\n"
   ],
   "outputs": [
    {
     "output_type": "stream",
     "name": "stdout",
     "text": [
      "Estado sendo extraído: es\n",
      "Estado sendo extraído: go\n"
     ]
    },
    {
     "output_type": "stream",
     "name": "stderr",
     "text": [
      "C:\\Users\\mscamargo\\Miniconda\\lib\\site-packages\\IPython\\core\\interactiveshell.py:3165: DtypeWarning: Columns (15,17,21,23,26) have mixed types.Specify dtype option on import or set low_memory=False.\n",
      "  has_raised = await self.run_ast_nodes(code_ast.body, cell_name,\n"
     ]
    },
    {
     "output_type": "stream",
     "name": "stdout",
     "text": [
      "Estado sendo extraído: ma\n",
      "Estado sendo extraído: mg\n",
      "Estado sendo extraído: ms\n",
      "Estado sendo extraído: mt\n",
      "Estado sendo extraído: pa\n",
      "Estado sendo extraído: pb\n",
      "Estado sendo extraído: pe\n"
     ]
    },
    {
     "output_type": "stream",
     "name": "stderr",
     "text": [
      "C:\\Users\\mscamargo\\Miniconda\\lib\\site-packages\\IPython\\core\\interactiveshell.py:3165: DtypeWarning: Columns (26) have mixed types.Specify dtype option on import or set low_memory=False.\n",
      "  has_raised = await self.run_ast_nodes(code_ast.body, cell_name,\n"
     ]
    },
    {
     "output_type": "stream",
     "name": "stdout",
     "text": [
      "Estado sendo extraído: pi\n"
     ]
    }
   ],
   "metadata": {}
  },
  {
   "cell_type": "code",
   "execution_count": 9,
   "source": [
    "results_caract = pd.concat(results_caract)\r\n",
    "results_caract.head()"
   ],
   "outputs": [
    {
     "output_type": "execute_result",
     "data": {
      "text/html": [
       "<div>\n",
       "<style scoped>\n",
       "    .dataframe tbody tr th:only-of-type {\n",
       "        vertical-align: middle;\n",
       "    }\n",
       "\n",
       "    .dataframe tbody tr th {\n",
       "        vertical-align: top;\n",
       "    }\n",
       "\n",
       "    .dataframe thead th {\n",
       "        text-align: right;\n",
       "    }\n",
       "</style>\n",
       "<table border=\"1\" class=\"dataframe\">\n",
       "  <thead>\n",
       "    <tr style=\"text-align: right;\">\n",
       "      <th></th>\n",
       "      <th>id</th>\n",
       "      <th>dataNotificacao</th>\n",
       "      <th>dataInicioSintomas</th>\n",
       "      <th>dataNascimento</th>\n",
       "      <th>sintomas</th>\n",
       "      <th>profissionalSaude</th>\n",
       "      <th>cbo</th>\n",
       "      <th>condicoes</th>\n",
       "      <th>estadoTeste</th>\n",
       "      <th>dataTeste</th>\n",
       "      <th>...</th>\n",
       "      <th>municipioNotificacaoIBGE</th>\n",
       "      <th>excluido</th>\n",
       "      <th>validado</th>\n",
       "      <th>idade</th>\n",
       "      <th>dataEncerramento</th>\n",
       "      <th>evolucaoCaso</th>\n",
       "      <th>classificacaoFinal</th>\n",
       "      <th>UF</th>\n",
       "      <th>indicador</th>\n",
       "      <th>cnes</th>\n",
       "    </tr>\n",
       "  </thead>\n",
       "  <tbody>\n",
       "    <tr>\n",
       "      <th>0</th>\n",
       "      <td>7aL0ItIKAN</td>\n",
       "      <td>2020-06-18T11:46:59.422Z</td>\n",
       "      <td>2020-06-14T03:00:00.000Z</td>\n",
       "      <td>1961-06-13T03:00:00.000Z</td>\n",
       "      <td>Tosse, Febre, Dor de Garganta</td>\n",
       "      <td>No</td>\n",
       "      <td>NaN</td>\n",
       "      <td>NaN</td>\n",
       "      <td>Concludo</td>\n",
       "      <td>2020-06-16T03:00:00.000Z</td>\n",
       "      <td>...</td>\n",
       "      <td>3205309.0</td>\n",
       "      <td>undefined</td>\n",
       "      <td>undefined</td>\n",
       "      <td>60.0</td>\n",
       "      <td>NaN</td>\n",
       "      <td>NaN</td>\n",
       "      <td>NaN</td>\n",
       "      <td>es</td>\n",
       "      <td>1</td>\n",
       "      <td>NaN</td>\n",
       "    </tr>\n",
       "    <tr>\n",
       "      <th>1</th>\n",
       "      <td>kN8rPi89NO</td>\n",
       "      <td>2020-06-18T12:10:50.306Z</td>\n",
       "      <td>2020-06-01T03:00:00.000Z</td>\n",
       "      <td>1984-04-17T03:00:00.000Z</td>\n",
       "      <td>Outros</td>\n",
       "      <td>No</td>\n",
       "      <td>NaN</td>\n",
       "      <td>NaN</td>\n",
       "      <td>Concludo</td>\n",
       "      <td>2020-06-10T03:00:00.000Z</td>\n",
       "      <td>...</td>\n",
       "      <td>3205309.0</td>\n",
       "      <td>undefined</td>\n",
       "      <td>undefined</td>\n",
       "      <td>37.0</td>\n",
       "      <td>NaN</td>\n",
       "      <td>NaN</td>\n",
       "      <td>NaN</td>\n",
       "      <td>es</td>\n",
       "      <td>1</td>\n",
       "      <td>NaN</td>\n",
       "    </tr>\n",
       "    <tr>\n",
       "      <th>2</th>\n",
       "      <td>rFFRcXt3Hn</td>\n",
       "      <td>2020-05-27T03:00:00.000Z</td>\n",
       "      <td>2020-05-22T03:00:00.000Z</td>\n",
       "      <td>1985-03-31T03:00:00.000Z</td>\n",
       "      <td>Outros</td>\n",
       "      <td>No</td>\n",
       "      <td>NaN</td>\n",
       "      <td>NaN</td>\n",
       "      <td>Concludo</td>\n",
       "      <td>2020-05-22T03:00:00.000Z</td>\n",
       "      <td>...</td>\n",
       "      <td>3300308.0</td>\n",
       "      <td>undefined</td>\n",
       "      <td>undefined</td>\n",
       "      <td>36.0</td>\n",
       "      <td>NaN</td>\n",
       "      <td>NaN</td>\n",
       "      <td>NaN</td>\n",
       "      <td>es</td>\n",
       "      <td>1</td>\n",
       "      <td>NaN</td>\n",
       "    </tr>\n",
       "    <tr>\n",
       "      <th>3</th>\n",
       "      <td>PAWGymTnfT</td>\n",
       "      <td>2020-06-16T03:00:00.000Z</td>\n",
       "      <td>2020-06-15T03:00:00.000Z</td>\n",
       "      <td>1984-07-20T03:00:00.000Z</td>\n",
       "      <td>Outros</td>\n",
       "      <td>No</td>\n",
       "      <td>NaN</td>\n",
       "      <td>NaN</td>\n",
       "      <td>Concludo</td>\n",
       "      <td>2020-06-16T03:00:00.000Z</td>\n",
       "      <td>...</td>\n",
       "      <td>3301900.0</td>\n",
       "      <td>undefined</td>\n",
       "      <td>undefined</td>\n",
       "      <td>37.0</td>\n",
       "      <td>NaN</td>\n",
       "      <td>NaN</td>\n",
       "      <td>NaN</td>\n",
       "      <td>es</td>\n",
       "      <td>1</td>\n",
       "      <td>NaN</td>\n",
       "    </tr>\n",
       "    <tr>\n",
       "      <th>4</th>\n",
       "      <td>N1rniVyqVJ</td>\n",
       "      <td>2020-06-18T03:00:00.000Z</td>\n",
       "      <td>2020-06-05T03:00:00.000Z</td>\n",
       "      <td>1999-06-07T03:00:00.000Z</td>\n",
       "      <td>Febre, Tosse, Outros, Dor de Garganta, Dispneia</td>\n",
       "      <td>No</td>\n",
       "      <td>NaN</td>\n",
       "      <td>NaN</td>\n",
       "      <td>Concludo</td>\n",
       "      <td>2020-06-17T03:00:00.000Z</td>\n",
       "      <td>...</td>\n",
       "      <td>3144300.0</td>\n",
       "      <td>undefined</td>\n",
       "      <td>undefined</td>\n",
       "      <td>22.0</td>\n",
       "      <td>NaN</td>\n",
       "      <td>NaN</td>\n",
       "      <td>NaN</td>\n",
       "      <td>es</td>\n",
       "      <td>1</td>\n",
       "      <td>NaN</td>\n",
       "    </tr>\n",
       "  </tbody>\n",
       "</table>\n",
       "<p>5 rows × 32 columns</p>\n",
       "</div>"
      ],
      "text/plain": [
       "           id           dataNotificacao        dataInicioSintomas  \\\n",
       "0  7aL0ItIKAN  2020-06-18T11:46:59.422Z  2020-06-14T03:00:00.000Z   \n",
       "1  kN8rPi89NO  2020-06-18T12:10:50.306Z  2020-06-01T03:00:00.000Z   \n",
       "2  rFFRcXt3Hn  2020-05-27T03:00:00.000Z  2020-05-22T03:00:00.000Z   \n",
       "3  PAWGymTnfT  2020-06-16T03:00:00.000Z  2020-06-15T03:00:00.000Z   \n",
       "4  N1rniVyqVJ  2020-06-18T03:00:00.000Z  2020-06-05T03:00:00.000Z   \n",
       "\n",
       "             dataNascimento                                         sintomas  \\\n",
       "0  1961-06-13T03:00:00.000Z                    Tosse, Febre, Dor de Garganta   \n",
       "1  1984-04-17T03:00:00.000Z                                           Outros   \n",
       "2  1985-03-31T03:00:00.000Z                                           Outros   \n",
       "3  1984-07-20T03:00:00.000Z                                           Outros   \n",
       "4  1999-06-07T03:00:00.000Z  Febre, Tosse, Outros, Dor de Garganta, Dispneia   \n",
       "\n",
       "  profissionalSaude  cbo condicoes estadoTeste                 dataTeste  ...  \\\n",
       "0                No  NaN       NaN    Concludo  2020-06-16T03:00:00.000Z  ...   \n",
       "1                No  NaN       NaN    Concludo  2020-06-10T03:00:00.000Z  ...   \n",
       "2                No  NaN       NaN    Concludo  2020-05-22T03:00:00.000Z  ...   \n",
       "3                No  NaN       NaN    Concludo  2020-06-16T03:00:00.000Z  ...   \n",
       "4                No  NaN       NaN    Concludo  2020-06-17T03:00:00.000Z  ...   \n",
       "\n",
       "  municipioNotificacaoIBGE   excluido   validado idade dataEncerramento  \\\n",
       "0                3205309.0  undefined  undefined  60.0              NaN   \n",
       "1                3205309.0  undefined  undefined  37.0              NaN   \n",
       "2                3300308.0  undefined  undefined  36.0              NaN   \n",
       "3                3301900.0  undefined  undefined  37.0              NaN   \n",
       "4                3144300.0  undefined  undefined  22.0              NaN   \n",
       "\n",
       "  evolucaoCaso classificacaoFinal  UF indicador cnes  \n",
       "0          NaN                NaN  es         1  NaN  \n",
       "1          NaN                NaN  es         1  NaN  \n",
       "2          NaN                NaN  es         1  NaN  \n",
       "3          NaN                NaN  es         1  NaN  \n",
       "4          NaN                NaN  es         1  NaN  \n",
       "\n",
       "[5 rows x 32 columns]"
      ]
     },
     "metadata": {},
     "execution_count": 9
    }
   ],
   "metadata": {}
  },
  {
   "cell_type": "code",
   "execution_count": 12,
   "source": [
    "results_caract[[ 'dataNotificacao', 'dataInicioSintomas', 'dataNascimento',\r\n",
    "       'sintomas', 'profissionalSaude', 'cbo', 'condicoes', 'estadoTeste',\r\n",
    "       'dataTeste', 'tipoTeste', 'resultadoTeste', 'paisOrigem', 'sexo',\r\n",
    "       'estado', 'municipio', 'origem','excluido', 'validado',\r\n",
    "       'dataEncerramento', 'evolucaoCaso', 'classificacaoFinal', 'UF',\r\n",
    "       'indicador',  'cnes']].to_parquet(r\"extract_eSUSdatap2.parquet\", engine = 'pyarrow')"
   ],
   "outputs": [],
   "metadata": {}
  },
  {
   "cell_type": "code",
   "execution_count": 13,
   "source": [
    "results_caract = [] # guardar os resultados\r\n",
    "results_series = [] # guardar os resultados\r\n",
    "\r\n",
    "seq_url = ['PR','RJ','RN','RO','RR','RS','SC','SE','SP', 'TO']\r\n",
    "\r\n",
    "#seq_url = ['AC', 'TO']\r\n",
    "for i in range(len(seq_url)):\r\n",
    "    seq_url[i] = seq_url[i].lower()\r\n",
    "\r\n",
    "\r\n",
    "\r\n",
    "for i in seq_url:\r\n",
    "    i = str(i)\r\n",
    "    url = \"https://s3-sa-east-1.amazonaws.com/ckan.saude.gov.br/dados-\"+i+\".csv\"  # inspecionei o codigo e vi que estao nesse link\r\n",
    "    print('Estado sendo extraído: '+ i) # printo o estado que esta sendo extraido\r\n",
    "    s=requests.get(url).content # requiro as informações\r\n",
    "    c=pd.read_csv(io.StringIO(s.decode('utf-8', errors='ignore')), sep = ';', error_bad_lines=False) \r\n",
    "    c.head()\r\n",
    "    c['UF'] = i # trago a informação da UF\r\n",
    "    c['indicador'] = 1 # crio indicador para auxiliar contagem\r\n",
    "    \r\n",
    "    #c.dataNotificacao = pd.to_datetime(c.dataNotificacao)\r\n",
    "    #desc = c.groupby(['municipioIBGE','UF']).agg({'dataNotificacao':['count', 'max', 'min'], 'id':['count']})\r\n",
    "    #NA_df = c.isna().sum()\r\n",
    "\r\n",
    "\r\n",
    "    results_caract.append(c) # append de todos os estados no  meu output\r\n"
   ],
   "outputs": [
    {
     "output_type": "stream",
     "name": "stdout",
     "text": [
      "Estado sendo extraído: pr\n",
      "Estado sendo extraído: rj\n"
     ]
    },
    {
     "output_type": "stream",
     "name": "stderr",
     "text": [
      "b'Skipping line 593965: expected 30 fields, saw 32\\n'\n",
      "C:\\Users\\mscamargo\\Miniconda\\lib\\site-packages\\IPython\\core\\interactiveshell.py:3165: DtypeWarning: Columns (15,17,21,26) have mixed types.Specify dtype option on import or set low_memory=False.\n",
      "  has_raised = await self.run_ast_nodes(code_ast.body, cell_name,\n"
     ]
    },
    {
     "output_type": "stream",
     "name": "stdout",
     "text": [
      "Estado sendo extraído: rn\n",
      "Estado sendo extraído: ro\n",
      "Estado sendo extraído: rr\n",
      "Estado sendo extraído: rs\n"
     ]
    },
    {
     "output_type": "stream",
     "name": "stderr",
     "text": [
      "C:\\Users\\mscamargo\\Miniconda\\lib\\site-packages\\IPython\\core\\interactiveshell.py:3165: DtypeWarning: Columns (15,17,21,23,26) have mixed types.Specify dtype option on import or set low_memory=False.\n",
      "  has_raised = await self.run_ast_nodes(code_ast.body, cell_name,\n"
     ]
    },
    {
     "output_type": "stream",
     "name": "stdout",
     "text": [
      "Estado sendo extraído: sc\n"
     ]
    },
    {
     "output_type": "stream",
     "name": "stderr",
     "text": [
      "C:\\Users\\mscamargo\\Miniconda\\lib\\site-packages\\IPython\\core\\interactiveshell.py:3165: DtypeWarning: Columns (6,15,17,21,23,26,28) have mixed types.Specify dtype option on import or set low_memory=False.\n",
      "  has_raised = await self.run_ast_nodes(code_ast.body, cell_name,\n"
     ]
    },
    {
     "output_type": "stream",
     "name": "stdout",
     "text": [
      "Estado sendo extraído: se\n",
      "Estado sendo extraído: sp\n"
     ]
    },
    {
     "output_type": "stream",
     "name": "stderr",
     "text": [
      "C:\\Users\\mscamargo\\Miniconda\\lib\\site-packages\\IPython\\core\\interactiveshell.py:3165: DtypeWarning: Columns (15,21,23) have mixed types.Specify dtype option on import or set low_memory=False.\n",
      "  has_raised = await self.run_ast_nodes(code_ast.body, cell_name,\n"
     ]
    },
    {
     "output_type": "stream",
     "name": "stdout",
     "text": [
      "Estado sendo extraído: to\n"
     ]
    }
   ],
   "metadata": {}
  },
  {
   "cell_type": "code",
   "execution_count": 14,
   "source": [
    "results_caract = pd.concat(results_caract)\r\n",
    "results_caract.head()"
   ],
   "outputs": [
    {
     "output_type": "execute_result",
     "data": {
      "text/html": [
       "<div>\n",
       "<style scoped>\n",
       "    .dataframe tbody tr th:only-of-type {\n",
       "        vertical-align: middle;\n",
       "    }\n",
       "\n",
       "    .dataframe tbody tr th {\n",
       "        vertical-align: top;\n",
       "    }\n",
       "\n",
       "    .dataframe thead th {\n",
       "        text-align: right;\n",
       "    }\n",
       "</style>\n",
       "<table border=\"1\" class=\"dataframe\">\n",
       "  <thead>\n",
       "    <tr style=\"text-align: right;\">\n",
       "      <th></th>\n",
       "      <th>id</th>\n",
       "      <th>dataNotificacao</th>\n",
       "      <th>dataInicioSintomas</th>\n",
       "      <th>dataNascimento</th>\n",
       "      <th>sintomas</th>\n",
       "      <th>profissionalSaude</th>\n",
       "      <th>cbo</th>\n",
       "      <th>condicoes</th>\n",
       "      <th>estadoTeste</th>\n",
       "      <th>dataTeste</th>\n",
       "      <th>...</th>\n",
       "      <th>municipioNotificacaoIBGE</th>\n",
       "      <th>excluido</th>\n",
       "      <th>validado</th>\n",
       "      <th>idade</th>\n",
       "      <th>dataEncerramento</th>\n",
       "      <th>evolucaoCaso</th>\n",
       "      <th>classificacaoFinal</th>\n",
       "      <th>UF</th>\n",
       "      <th>indicador</th>\n",
       "      <th>cnes</th>\n",
       "    </tr>\n",
       "  </thead>\n",
       "  <tbody>\n",
       "    <tr>\n",
       "      <th>0</th>\n",
       "      <td>j50zPsM845</td>\n",
       "      <td>2020-03-31T03:00:00.000Z</td>\n",
       "      <td>2020-03-20T03:00:00.000Z</td>\n",
       "      <td>undefined</td>\n",
       "      <td>Tosse</td>\n",
       "      <td>No</td>\n",
       "      <td>NaN</td>\n",
       "      <td>NaN</td>\n",
       "      <td>Solicitado</td>\n",
       "      <td>NaN</td>\n",
       "      <td>...</td>\n",
       "      <td>4113700.0</td>\n",
       "      <td>undefined</td>\n",
       "      <td>undefined</td>\n",
       "      <td>54.0</td>\n",
       "      <td>NaN</td>\n",
       "      <td>NaN</td>\n",
       "      <td>NaN</td>\n",
       "      <td>pr</td>\n",
       "      <td>1</td>\n",
       "      <td>NaN</td>\n",
       "    </tr>\n",
       "    <tr>\n",
       "      <th>1</th>\n",
       "      <td>uhzrgpcwRN</td>\n",
       "      <td>2020-03-31T03:00:00.000Z</td>\n",
       "      <td>2020-03-26T03:00:00.000Z</td>\n",
       "      <td>undefined</td>\n",
       "      <td>Dispneia</td>\n",
       "      <td>No</td>\n",
       "      <td>NaN</td>\n",
       "      <td>NaN</td>\n",
       "      <td>Solicitado</td>\n",
       "      <td>NaN</td>\n",
       "      <td>...</td>\n",
       "      <td>4113700.0</td>\n",
       "      <td>undefined</td>\n",
       "      <td>undefined</td>\n",
       "      <td>16.0</td>\n",
       "      <td>NaN</td>\n",
       "      <td>NaN</td>\n",
       "      <td>NaN</td>\n",
       "      <td>pr</td>\n",
       "      <td>1</td>\n",
       "      <td>NaN</td>\n",
       "    </tr>\n",
       "    <tr>\n",
       "      <th>2</th>\n",
       "      <td>aubz8o8kuK</td>\n",
       "      <td>2020-03-31T03:00:00.000Z</td>\n",
       "      <td>2020-03-24T03:00:00.000Z</td>\n",
       "      <td>undefined</td>\n",
       "      <td>Febre,Tosse</td>\n",
       "      <td>No</td>\n",
       "      <td>NaN</td>\n",
       "      <td>Doenas cardacas crnicas</td>\n",
       "      <td>Solicitado</td>\n",
       "      <td>NaN</td>\n",
       "      <td>...</td>\n",
       "      <td>4113700.0</td>\n",
       "      <td>undefined</td>\n",
       "      <td>undefined</td>\n",
       "      <td>53.0</td>\n",
       "      <td>NaN</td>\n",
       "      <td>NaN</td>\n",
       "      <td>NaN</td>\n",
       "      <td>pr</td>\n",
       "      <td>1</td>\n",
       "      <td>NaN</td>\n",
       "    </tr>\n",
       "    <tr>\n",
       "      <th>3</th>\n",
       "      <td>oaEYZpN45U</td>\n",
       "      <td>2020-04-01T00:27:20.167Z</td>\n",
       "      <td>2020-03-22T03:00:00.000Z</td>\n",
       "      <td>undefined</td>\n",
       "      <td>Dor de Garganta,Febre,Tosse</td>\n",
       "      <td>No</td>\n",
       "      <td>NaN</td>\n",
       "      <td>NaN</td>\n",
       "      <td>Solicitado</td>\n",
       "      <td>NaN</td>\n",
       "      <td>...</td>\n",
       "      <td>4113700.0</td>\n",
       "      <td>undefined</td>\n",
       "      <td>undefined</td>\n",
       "      <td>26.0</td>\n",
       "      <td>NaN</td>\n",
       "      <td>NaN</td>\n",
       "      <td>NaN</td>\n",
       "      <td>pr</td>\n",
       "      <td>1</td>\n",
       "      <td>NaN</td>\n",
       "    </tr>\n",
       "    <tr>\n",
       "      <th>4</th>\n",
       "      <td>kxNKQ9bJvl</td>\n",
       "      <td>2020-03-31T03:00:00.000Z</td>\n",
       "      <td>2020-02-29T03:00:00.000Z</td>\n",
       "      <td>undefined</td>\n",
       "      <td>Dispneia,Tosse</td>\n",
       "      <td>No</td>\n",
       "      <td>NaN</td>\n",
       "      <td>Doenas respiratrias crnicas descompensadas,Doe...</td>\n",
       "      <td>Solicitado</td>\n",
       "      <td>NaN</td>\n",
       "      <td>...</td>\n",
       "      <td>4113700.0</td>\n",
       "      <td>undefined</td>\n",
       "      <td>undefined</td>\n",
       "      <td>63.0</td>\n",
       "      <td>NaN</td>\n",
       "      <td>NaN</td>\n",
       "      <td>NaN</td>\n",
       "      <td>pr</td>\n",
       "      <td>1</td>\n",
       "      <td>NaN</td>\n",
       "    </tr>\n",
       "  </tbody>\n",
       "</table>\n",
       "<p>5 rows × 32 columns</p>\n",
       "</div>"
      ],
      "text/plain": [
       "           id           dataNotificacao        dataInicioSintomas  \\\n",
       "0  j50zPsM845  2020-03-31T03:00:00.000Z  2020-03-20T03:00:00.000Z   \n",
       "1  uhzrgpcwRN  2020-03-31T03:00:00.000Z  2020-03-26T03:00:00.000Z   \n",
       "2  aubz8o8kuK  2020-03-31T03:00:00.000Z  2020-03-24T03:00:00.000Z   \n",
       "3  oaEYZpN45U  2020-04-01T00:27:20.167Z  2020-03-22T03:00:00.000Z   \n",
       "4  kxNKQ9bJvl  2020-03-31T03:00:00.000Z  2020-02-29T03:00:00.000Z   \n",
       "\n",
       "  dataNascimento                     sintomas profissionalSaude  cbo  \\\n",
       "0      undefined                        Tosse                No  NaN   \n",
       "1      undefined                     Dispneia                No  NaN   \n",
       "2      undefined                  Febre,Tosse                No  NaN   \n",
       "3      undefined  Dor de Garganta,Febre,Tosse                No  NaN   \n",
       "4      undefined               Dispneia,Tosse                No  NaN   \n",
       "\n",
       "                                           condicoes estadoTeste dataTeste  \\\n",
       "0                                                NaN  Solicitado       NaN   \n",
       "1                                                NaN  Solicitado       NaN   \n",
       "2                            Doenas cardacas crnicas  Solicitado       NaN   \n",
       "3                                                NaN  Solicitado       NaN   \n",
       "4  Doenas respiratrias crnicas descompensadas,Doe...  Solicitado       NaN   \n",
       "\n",
       "   ... municipioNotificacaoIBGE   excluido   validado idade dataEncerramento  \\\n",
       "0  ...                4113700.0  undefined  undefined  54.0              NaN   \n",
       "1  ...                4113700.0  undefined  undefined  16.0              NaN   \n",
       "2  ...                4113700.0  undefined  undefined  53.0              NaN   \n",
       "3  ...                4113700.0  undefined  undefined  26.0              NaN   \n",
       "4  ...                4113700.0  undefined  undefined  63.0              NaN   \n",
       "\n",
       "  evolucaoCaso classificacaoFinal  UF indicador cnes  \n",
       "0          NaN                NaN  pr         1  NaN  \n",
       "1          NaN                NaN  pr         1  NaN  \n",
       "2          NaN                NaN  pr         1  NaN  \n",
       "3          NaN                NaN  pr         1  NaN  \n",
       "4          NaN                NaN  pr         1  NaN  \n",
       "\n",
       "[5 rows x 32 columns]"
      ]
     },
     "metadata": {},
     "execution_count": 14
    }
   ],
   "metadata": {}
  },
  {
   "cell_type": "code",
   "execution_count": 15,
   "source": [
    "results_caract[[ 'dataNotificacao', 'dataInicioSintomas', 'dataNascimento',\r\n",
    "       'sintomas', 'profissionalSaude', 'cbo', 'condicoes', 'estadoTeste',\r\n",
    "       'dataTeste', 'tipoTeste', 'resultadoTeste', 'paisOrigem', 'sexo',\r\n",
    "       'estado', 'municipio', 'origem','excluido', 'validado',\r\n",
    "       'dataEncerramento', 'evolucaoCaso', 'classificacaoFinal', 'UF',\r\n",
    "       'indicador',  'cnes']].to_parquet(r\"extract_eSUSdatap3.parquet\", engine = 'pyarrow')"
   ],
   "outputs": [],
   "metadata": {}
  },
  {
   "cell_type": "code",
   "execution_count": null,
   "source": [
    "municipio', 'municipioIBGE'"
   ],
   "outputs": [],
   "metadata": {}
  }
 ],
 "metadata": {
  "kernelspec": {
   "name": "python3",
   "display_name": "Python 3.8.5 64-bit ('base': conda)"
  },
  "language_info": {
   "codemirror_mode": {
    "name": "ipython",
    "version": 3
   },
   "file_extension": ".py",
   "mimetype": "text/x-python",
   "name": "python",
   "nbconvert_exporter": "python",
   "pygments_lexer": "ipython3",
   "version": "3.8.5"
  },
  "orig_nbformat": 2,
  "interpreter": {
   "hash": "934020936730698c014638e4b75149792c7a6427548645ef43bc066d5a0a6a34"
  }
 },
 "nbformat": 4,
 "nbformat_minor": 2
}