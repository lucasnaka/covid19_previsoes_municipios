{
 "cells": [
  {
   "cell_type": "code",
   "execution_count": null,
   "id": "f91fb45f",
   "metadata": {
    "ExecuteTime": {
     "end_time": "2021-11-16T22:28:51.949805Z",
     "start_time": "2021-11-16T22:28:50.080802Z"
    },
    "run_control": {
     "marked": false
    }
   },
   "outputs": [],
   "source": [
    "import streamlit as st \n",
    "from PIL import Image\n",
    "\n",
    "import matplotlib.pyplot as plt \n",
    "import matplotlib\n",
    "matplotlib.use(\"Agg\")\n",
    "import seaborn as sns\n",
    "import pandas as pd \n",
    "import numpy as np\n",
    "import datetime as dt"
   ]
  },
  {
   "cell_type": "code",
   "execution_count": null,
   "id": "051de9dc",
   "metadata": {
    "ExecuteTime": {
     "end_time": "2021-09-12T15:43:33.239859Z",
     "start_time": "2021-09-12T15:43:33.090260Z"
    }
   },
   "outputs": [],
   "source": [
    "st.markdown(\"# COVID-19\")"
   ]
  },
  {
   "cell_type": "code",
   "execution_count": null,
   "id": "709c1909",
   "metadata": {
    "ExecuteTime": {
     "end_time": "2021-09-17T13:35:11.699314Z",
     "start_time": "2021-09-17T13:35:11.356232Z"
    }
   },
   "outputs": [],
   "source": [
    "df_covid_saude_obitos = pd.read_parquet('../data/app/covid_saude_obito_municipio.parquet')"
   ]
  },
  {
   "cell_type": "code",
   "execution_count": null,
   "id": "5d6ba113",
   "metadata": {
    "ExecuteTime": {
     "end_time": "2021-09-17T13:35:12.977503Z",
     "start_time": "2021-09-17T13:35:12.657340Z"
    }
   },
   "outputs": [],
   "source": [
    "df_covid_saude_obitos['data'] = pd.to_datetime(df_covid_saude_obitos['data'])"
   ]
  },
  {
   "cell_type": "code",
   "execution_count": null,
   "id": "3c048946",
   "metadata": {
    "ExecuteTime": {
     "end_time": "2021-09-17T13:35:33.634933Z",
     "start_time": "2021-09-17T13:35:33.617954Z"
    }
   },
   "outputs": [],
   "source": [
    "import datetime as dt"
   ]
  },
  {
   "cell_type": "code",
   "execution_count": null,
   "id": "2a02ce11",
   "metadata": {
    "ExecuteTime": {
     "end_time": "2021-09-17T13:35:37.897273Z",
     "start_time": "2021-09-17T13:35:37.881317Z"
    }
   },
   "outputs": [],
   "source": [
    "date_range"
   ]
  },
  {
   "cell_type": "code",
   "execution_count": null,
   "id": "c5dd81f1",
   "metadata": {
    "ExecuteTime": {
     "end_time": "2021-09-17T13:35:34.335776Z",
     "start_time": "2021-09-17T13:35:34.291518Z"
    }
   },
   "outputs": [],
   "source": [
    "min_date = df_covid_saude_obitos['data'].min()\n",
    "max_date = df_covid_saude_obitos['data'].max()\n",
    "date_range = (dt.date(min_date.year, min_date.month, min_date.day), dt.date(max_date.year, max_date.month, max_date.day))"
   ]
  },
  {
   "cell_type": "code",
   "execution_count": null,
   "id": "abca8472",
   "metadata": {
    "ExecuteTime": {
     "end_time": "2021-09-12T17:44:22.240278Z",
     "start_time": "2021-09-12T17:44:22.222331Z"
    }
   },
   "outputs": [],
   "source": [
    "def filter_slider_dates(message, df):\n",
    "    '''\n",
    "    Filtrar datas de acordo com os valores do slider escolhido pelo usuário\n",
    "    '''\n",
    "    date_array = np.array(df['data'].unique())\n",
    "    date_len = df['data'].nunique()\n",
    "    \n",
    "    slider_1, slider_2 = st.slider('%s' % (message), 0, date_len-1, [0,date_len-1], 1)\n",
    "\n",
    "    # Ordenar array para buscarmos valor pelos index slider_1 e slider_2\n",
    "    date_array.sort()\n",
    "    \n",
    "    start_date = dt.datetime.strptime(str(date_array[slider_1]),'%Y-%m-%d')\n",
    "    start_date = start_date.strftime('%d %b %Y')\n",
    "\n",
    "    end_date = dt.datetime.strptime(str(date_array[slider_2]),'%Y-%m-%d')\n",
    "    end_date = end_date.strftime('%d %b %Y')\n",
    "\n",
    "    st.info('Início: **%s** Fim: **%s**' % (start_date,end_date))\n",
    "\n",
    "    filtered_df = df.loc[(df['data']>=date_array[slider_1]) & (df['data']<=date_array[slider_2])]\n",
    "\n",
    "    return filtered_df"
   ]
  },
  {
   "cell_type": "code",
   "execution_count": null,
   "id": "db0893e5",
   "metadata": {
    "ExecuteTime": {
     "end_time": "2021-09-12T17:44:22.410823Z",
     "start_time": "2021-09-12T17:44:22.399853Z"
    }
   },
   "outputs": [],
   "source": [
    "def filter_slider_city(message, df):\n",
    "    '''\n",
    "    Filtrar cidade de acordo com o valor do dropdown escolhido pelo usuário\n",
    "    '''\n",
    "    cities_list = list(df['municipio'].unique())\n",
    "    \n",
    "    city = st.selectbox('%s' % (message), options=tuple(cities_list), index=cities_list.index(\"São Paulo\"))\n",
    "    \n",
    "    filtered_df = df.loc[df['municipio']==city]\n",
    "\n",
    "    return filtered_df"
   ]
  },
  {
   "cell_type": "code",
   "execution_count": null,
   "id": "9390bb2c",
   "metadata": {},
   "outputs": [],
   "source": [
    "# Dividir página em 2 colunas\n",
    "column_1, column_2 = st.beta_columns(2)"
   ]
  },
  {
   "cell_type": "code",
   "execution_count": null,
   "id": "67d5106c",
   "metadata": {
    "ExecuteTime": {
     "end_time": "2021-09-12T17:44:24.101913Z",
     "start_time": "2021-09-12T17:44:22.958054Z"
    }
   },
   "outputs": [],
   "source": [
    "with column_1:\n",
    "    st.title('Filtro de datas')\n",
    "    df_filtered = filter_slider_dates('Move sliders to filter dataframe', df_covid_saude_obitos)"
   ]
  },
  {
   "cell_type": "code",
   "execution_count": null,
   "id": "4a93cdcf",
   "metadata": {
    "ExecuteTime": {
     "end_time": "2021-09-12T17:44:25.020341Z",
     "start_time": "2021-09-12T17:44:24.368144Z"
    }
   },
   "outputs": [],
   "source": [
    "with column_2:\n",
    "    st.title('Filtro de Municípios')\n",
    "    df_filtered = filter_slider_city('Move sliders to filter dataframe', df_filtered)"
   ]
  },
  {
   "cell_type": "code",
   "execution_count": null,
   "id": "30b9f7e0",
   "metadata": {
    "ExecuteTime": {
     "end_time": "2021-09-12T17:44:39.965159Z",
     "start_time": "2021-09-12T17:44:26.828825Z"
    }
   },
   "outputs": [],
   "source": [
    "st.title('Número de óbitos por dia')\n",
    "st.line_chart(df_filtered[['data', 'obitosNovos']].set_index('data'))"
   ]
  },
  {
   "cell_type": "code",
   "execution_count": null,
   "id": "d3d82e87",
   "metadata": {
    "ExecuteTime": {
     "end_time": "2021-11-08T21:13:21.481827Z",
     "start_time": "2021-11-08T21:13:20.788390Z"
    }
   },
   "outputs": [],
   "source": [
    "df_casos = pd.read_parquet('../data/processed/covid_saude.parquet')"
   ]
  },
  {
   "cell_type": "code",
   "execution_count": null,
   "id": "b2592511",
   "metadata": {
    "ExecuteTime": {
     "end_time": "2021-11-08T21:14:01.224846Z",
     "start_time": "2021-11-08T21:14:00.549075Z"
    }
   },
   "outputs": [],
   "source": [
    "df_casos[['estado', 'municipio']].to_parquet('../data/app/est_cidade.parquet', index=False)"
   ]
  }
 ],
 "metadata": {
  "kernelspec": {
   "display_name": "Python 3 (ipykernel)",
   "language": "python",
   "name": "python3"
  },
  "language_info": {
   "codemirror_mode": {
    "name": "ipython",
    "version": 3
   },
   "file_extension": ".py",
   "mimetype": "text/x-python",
   "name": "python",
   "nbconvert_exporter": "python",
   "pygments_lexer": "ipython3",
   "version": "3.8.11"
  },
  "toc": {
   "nav_menu": {},
   "number_sections": true,
   "sideBar": true,
   "skip_h1_title": false,
   "title_cell": "Table of Contents",
   "title_sidebar": "Contents",
   "toc_cell": false,
   "toc_position": {},
   "toc_section_display": true,
   "toc_window_display": false
  }
 },
 "nbformat": 4,
 "nbformat_minor": 5
}
